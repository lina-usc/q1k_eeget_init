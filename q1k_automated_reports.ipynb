{
 "cells": [
  {
   "cell_type": "markdown",
   "metadata": {},
   "source": [
    "# Generate automated session reports for all participants"
   ]
  },
  {
   "cell_type": "code",
   "execution_count": 5,
   "metadata": {},
   "outputs": [],
   "source": [
    "# import packages\n",
    "import pandas as pd\n",
    "import numpy as np\n",
    "import mne\n",
    "import mne_bids\n",
    "from matplotlib import pyplot as plt\n",
    "import plotly.express as px\n",
    "import plotly.graph_objects as go\n",
    "import plotly.offline as py\n",
    "import plotly.io as pio\n",
    "pio.renderers.default = \"plotly_mimetype+notebook\"\n",
    "import q1k_init_tools as qit\n",
    "import glob\n",
    "import warnings\n",
    "from nbconvert import HTMLExporter\n",
    "from nbconvert.preprocessors import ExecutePreprocessor\n",
    "from nbformat import read\n",
    "import os\n",
    "import papermill as pm\n",
    "warnings.filterwarnings('ignore')"
   ]
  },
  {
   "cell_type": "markdown",
   "metadata": {
    "tags": []
   },
   "source": [
    "### Select task parameters and file paths"
   ]
  },
  {
   "cell_type": "code",
   "execution_count": 6,
   "metadata": {},
   "outputs": [],
   "source": [
    "# Select kind of data experimental or control group\n",
    "\n",
    "dataset_group = \"experimental\"\n",
    "\n",
    "#if dataset_group == \"control\":\n",
    "#    # Control group data\n",
    "#    project_path = \"/home/james/q1k/pilot/q1k-external-pilot/\"\n",
    "#    task_id_in = \"ap\"\n",
    "#    task_id_in_et = \"ap\"\n",
    "#    task_id_out = \"ap\"\n",
    "#    #subject_id = '002'\n",
    "#    session_id = '01'\n",
    "#    run_id = '1'\n",
    "\n",
    "#elif dataset_group == \"experimental\":\n",
    "# Experimental group data\n",
    "\n",
    "project_path = \"/project/def-emayada/q1k/experimental/HSJ/\"\n",
    "init_path = \"code/q1k_eeget_init/\"\n",
    "task_id_in = \"RS\"\n",
    "task_id_in_et = \"RS\"\n",
    "task_id_out = \"RS\"\n",
    "#subject_id = 'Q1K_HSJ_100123_F1'\n",
    "run_id = '1'\n",
    "session_id = '01'\n",
    "site_code = 'HSJ' #'MHC' or 'HSJ'\n",
    "sourcedata_path = \"sourcedata/\" \n",
    "html_reports_path = \"session_reports/\" + task_id_in  + '/'\n",
    "et_sync = True\n"
   ]
  },
  {
   "cell_type": "code",
   "execution_count": 7,
   "metadata": {},
   "outputs": [
    {
     "name": "stdout",
     "output_type": "stream",
     "text": [
      "RS\n"
     ]
    },
    {
     "data": {
      "text/plain": [
       "True"
      ]
     },
     "execution_count": 7,
     "metadata": {},
     "output_type": "execute_result"
    }
   ],
   "source": [
    "# Sanity check to see which task you would like to make reports for \n",
    "print(task_id_in)\n",
    "et_sync"
   ]
  },
  {
   "cell_type": "code",
   "execution_count": 8,
   "metadata": {
    "tags": []
   },
   "outputs": [
    {
     "name": "stdout",
     "output_type": "stream",
     "text": [
      "Existing session reports:\n"
     ]
    },
    {
     "data": {
      "text/plain": [
       "[]"
      ]
     },
     "execution_count": 8,
     "metadata": {},
     "output_type": "execute_result"
    }
   ],
   "source": [
    "# Generate list of session reports already processed so they are not processed again in next step\n",
    "processed_sessions = []\n",
    "\n",
    "for subject in glob.glob(project_path + init_path + \"session_reports/\" + task_id_in + \"/Q1k*.html\"): \n",
    "    processed_sessions.append(subject.split('\\\\')[1][:-5])\n",
    "\n",
    "print('Existing session reports:')\n",
    "processed_sessions"
   ]
  },
  {
   "cell_type": "markdown",
   "metadata": {},
   "source": [
    "## Generate html session reports for all participants"
   ]
  },
  {
   "cell_type": "code",
   "execution_count": 9,
   "metadata": {},
   "outputs": [
    {
     "data": {
      "text/plain": [
       "['/project/def-emayada/q1k/experimental/HSJ/sourcedata/eeg/Q1K_HSJ_100134_F1/Q1K_HSJ_100134_F1_RS_20240417_111808.mff',\n",
       " '/project/def-emayada/q1k/experimental/HSJ/sourcedata/eeg/Q1K_HSJ_100147_P/Q1K_HSJ_100147_P_RS_20240501_105202.mff',\n",
       " '/project/def-emayada/q1k/experimental/HSJ/sourcedata/eeg/Q1K_HSJ_1525-1045_P/Q1K_HSJ_1525-1045_P_RS_20240805_120946.mff',\n",
       " '/project/def-emayada/q1k/experimental/HSJ/sourcedata/eeg/Q1K_HSJ_1525-1001_F1/Q1K_HSJ_1525-1001_F1_RS_20240524_100502.mff',\n",
       " '/project/def-emayada/q1k/experimental/HSJ/sourcedata/eeg/Q1K_HSJ_1525-1026_P/Q1K_HSJ_1525-1026_P_RS_20240613_023013.mff',\n",
       " '/project/def-emayada/q1k/experimental/HSJ/sourcedata/eeg/Q1K_HSJ_1525_1052_P/Q1K_HSJ_1525_1052_P_RS_20240712_022009.mff',\n",
       " '/project/def-emayada/q1k/experimental/HSJ/sourcedata/eeg/Q1K_HSJ_100105_P/Q1K_HSJ_100105_P_RS_20240422_101342.mff',\n",
       " '/project/def-emayada/q1k/experimental/HSJ/sourcedata/eeg/Q1K_HSJ_1525-1026_M1/Q1K_HSJ_1525-1026_M1_RS_20240613_111502.mff',\n",
       " '/project/def-emayada/q1k/experimental/HSJ/sourcedata/eeg/Q1K_HSJ_100123_F1/Q1K_HSJ_100123_F1_RS_20240308_124213.mff',\n",
       " '/project/def-emayada/q1k/experimental/HSJ/sourcedata/eeg/Q1K_HSJ_100114_S1/Q1K_HSJ_100114_S1__RS_20240307_020939.mff',\n",
       " '/project/def-emayada/q1k/experimental/HSJ/sourcedata/eeg/Q1K_HSJ_1025-1042_M1/Q1K_HSJ_1025-1042_M1_RS_20240715_114724.mff',\n",
       " '/project/def-emayada/q1k/experimental/HSJ/sourcedata/eeg/Q1K_HSJ_1025-1061_M/Q1K_HSJ_1025-1061_M_RS_20240718_023226.mff',\n",
       " '/project/def-emayada/q1k/experimental/HSJ/sourcedata/eeg/Q1K_HSJ_10050_M1/Q1K_HSJ_10050_M1_RS_20240527_111633.mff',\n",
       " '/project/def-emayada/q1k/experimental/HSJ/sourcedata/eeg/Q1K_HSJ_100134_P/Q1K_HSJ_100134_P_RS_20240417_104006.mff',\n",
       " '/project/def-emayada/q1k/experimental/HSJ/sourcedata/eeg/Q1K_HSJ_100105_M1/Q1K_HSJ_100105_M1_RS_20240226_093758.mff',\n",
       " '/project/def-emayada/q1k/experimental/HSJ/sourcedata/eeg/Q1K_HSJ_1525-1057_M1/Q1K_HSJ_1525-1057_M1_RS_20240722_020920.mff',\n",
       " '/project/def-emayada/q1k/experimental/HSJ/sourcedata/eeg/Q1K_HSJ_100157_P/Q1K_HSJ_100157_P_RS_20240521_123152.mff',\n",
       " '/project/def-emayada/q1k/experimental/HSJ/sourcedata/eeg/Q1K_HSJ_1525_1009_S1/Q1K_HSJ_1525_1009_S1_RS_20240806_112051.mff',\n",
       " '/project/def-emayada/q1k/experimental/HSJ/sourcedata/eeg/Q1K_HSJ_100162_M1/Q1K_HSJ_100162_M1_RS_20240530_011817.mff',\n",
       " '/project/def-emayada/q1k/experimental/HSJ/sourcedata/eeg/Q1K_HSJ_100100_S1/Q1K_HSJ_100100_S1_RS_20240223_114912.mff',\n",
       " '/project/def-emayada/q1k/experimental/HSJ/sourcedata/eeg/Q1K_HSJ_1525-1045_S1/Q1K_HSJ_1525-1045_S1_RS_20240805_110059.mff',\n",
       " '/project/def-emayada/q1k/experimental/HSJ/sourcedata/eeg/Q1K_HSJ_100114_P/Q1K_HSJ_100114_P_RS_20240307_114603.mff',\n",
       " '/project/def-emayada/q1k/experimental/HSJ/sourcedata/eeg/Q1K_HSJ_10093_O1/Q1K_HSJ_10093_O1_RS_20240423_103528.mff',\n",
       " '/project/def-emayada/q1k/experimental/HSJ/sourcedata/eeg/Q1K_HSJ_10050_P/Q1K_HSJ_10050_P_RS_20240527_095703.mff',\n",
       " '/project/def-emayada/q1k/experimental/HSJ/sourcedata/eeg/Q1K_HSJ_1525_1052_M1/Q1K_HSJ_1525_1052_M1_RS_20240712_102518.mff',\n",
       " '/project/def-emayada/q1k/experimental/HSJ/sourcedata/eeg/Q1K_HSJ_100159_M1/Q1K_HSJ_100159_M1_RS_20240517_113713.mff',\n",
       " '/project/def-emayada/q1k/experimental/HSJ/sourcedata/eeg/Q1K_HSJ_1525-1006_P/Q1K_HSJ_1525-1006_P_RS_20240523_114556.mff',\n",
       " '/project/def-emayada/q1k/experimental/HSJ/sourcedata/eeg/Q1K_HSJ_10083_F1/Q1K_HSJ_10083_F1_RS_20240306_100315.mff',\n",
       " '/project/def-emayada/q1k/experimental/HSJ/sourcedata/eeg/Q1K_HSJ_100129_M1/Q1K_HSJ_100129_M1_RS_20240426_094925.mff',\n",
       " '/project/def-emayada/q1k/experimental/HSJ/sourcedata/eeg/Q1K_HSJ_100104_P/Q1K_HSJ_100104_P_RS_20240702_101326.mff',\n",
       " '/project/def-emayada/q1k/experimental/HSJ/sourcedata/eeg/Q1K_HSJ_1025-1042_P/Q1K_HSJ_1025-1042_P_RS_20240715_103721.mff',\n",
       " '/project/def-emayada/q1k/experimental/HSJ/sourcedata/eeg/Q1K_HSJ_10053_M1/Q1K_HSJ_10053_M1_RS_20240419_111250.mff',\n",
       " '/project/def-emayada/q1k/experimental/HSJ/sourcedata/eeg/Q1K_HSJ_1525-1024_M1/Q1K_HSJ_1525-1024_M1_RS_20240625_015903.mff',\n",
       " '/project/def-emayada/q1k/experimental/HSJ/sourcedata/eeg/Q1K_HSJ_1525-1033_M1/Q1K_HSJ_1525-1033_M1_RS_20240708_100304.mff',\n",
       " '/project/def-emayada/q1k/experimental/HSJ/sourcedata/eeg/Q1K_HSJ_1025-1061_S3/Q1K_HSJ_1025-1061_S3_RS_20240718_102358.mff',\n",
       " '/project/def-emayada/q1k/experimental/HSJ/sourcedata/eeg/Q1K_HSJ_100146_P/Q1K_HSJ_100146_P_RS_20240503_103036.mff',\n",
       " '/project/def-emayada/q1k/experimental/HSJ/sourcedata/eeg/Q1K_HSJ_100119_F1/Q1K_HSJ_100119_F1_RS_20240304_113529.mff',\n",
       " '/project/def-emayada/q1k/experimental/HSJ/sourcedata/eeg/Q1K_HSJ_100111_M1/Q1K_HSJ_100111_M1_RS_20240412_015342.mff',\n",
       " '/project/def-emayada/q1k/experimental/HSJ/sourcedata/eeg/Q1K_HSJ_1525-1067_P/Q1K_HSJ_1525-1067_P_RS_20240816_120910.mff',\n",
       " '/project/def-emayada/q1k/experimental/HSJ/sourcedata/eeg/Q1K_HSJ_1525-1080_F1/Q1K_HSJ_1525-1080_F1_RS_20240823_125039.mff',\n",
       " '/project/def-emayada/q1k/experimental/HSJ/sourcedata/eeg/Q1K_HSJ_100162_S1/Q1K_HSJ_100162_S1_RS_20240530_101720.mff',\n",
       " '/project/def-emayada/q1k/experimental/HSJ/sourcedata/eeg/Q1K_HSJ_1525_1009_M1/Q1K_HSJ_1525_1009_M1_RS_20240806_125720.mff',\n",
       " '/project/def-emayada/q1k/experimental/HSJ/sourcedata/eeg/Q1K_HSJ_1525_1009_P/Q1K_HSJ_1525_1009_P_RS_20240806_034146.mff',\n",
       " '/project/def-emayada/q1k/experimental/HSJ/sourcedata/eeg/Q1K_HSJ_100114_S2/Q1K_HSJ_100114_S2_RS_20240307_012445.mff',\n",
       " '/project/def-emayada/q1k/experimental/HSJ/sourcedata/eeg/Q1K_HSJ_100114_M1/Q1K_HSJ_100114_M1_RS_20240307_030006.mff',\n",
       " '/project/def-emayada/q1k/experimental/HSJ/sourcedata/eeg/Q1K_HSJ_10086_F1/Q1K_HSJ_10086_F1_RS_20240207_013720.mff',\n",
       " '/project/def-emayada/q1k/experimental/HSJ/sourcedata/eeg/Q1K_HSJ_1525-1080_P/Q1K_HSJ_1525-1080_P_RS_20240823_020457.mff',\n",
       " '/project/def-emayada/q1k/experimental/HSJ/sourcedata/eeg/Q1K_HSJ_100154_P/Q1K_HSJ_100154_P_RS_20240604_111213.mff',\n",
       " '/project/def-emayada/q1k/experimental/HSJ/sourcedata/eeg/Q1K_HSJ_1525-1033_S1/Q1K_HSJ_1525-1033_S1_RS_20240708_114147.mff',\n",
       " '/project/def-emayada/q1k/experimental/HSJ/sourcedata/eeg/Q1K_HSJ_1525-1057_P/Q1K_HSJ_1525-1057_P_RS_20240722_120201.mff',\n",
       " '/project/def-emayada/q1k/experimental/HSJ/sourcedata/eeg/Q1K_HSJ_100147_F2/Q1K_HSJ_100147_F2_RS_20240501_095622.mff',\n",
       " '/project/def-emayada/q1k/experimental/HSJ/sourcedata/eeg/Q1K_HSJ_1525_1052_S1/Q1K_HSJ_1525_1052_S1_RS_20240712_114040.mff',\n",
       " '/project/def-emayada/q1k/experimental/HSJ/sourcedata/eeg/Q1K_HSJ_1525_1018_P/Q1K_HSJ_1525_1018_P_RS_20240809_110113.mff',\n",
       " '/project/def-emayada/q1k/experimental/HSJ/sourcedata/eeg/Q1K_HSJ_100126_P/Q1K_HSJ_100126_P_RS_20240314_025247.mff',\n",
       " '/project/def-emayada/q1k/experimental/HSJ/sourcedata/eeg/Q1K_HSJ_100104_C1/Q1K_HSJ_100104_C1_RS_20240702_113024.mff',\n",
       " '/project/def-emayada/q1k/experimental/HSJ/sourcedata/eeg/Q1K_HSJ_10043_P/Q1K_HSJ_10043_P_RS_20240328_114417.mff',\n",
       " '/project/def-emayada/q1k/experimental/HSJ/sourcedata/eeg/Q1K_HSJ_10062_P/Q1K_HSJ_10062_P_RS_20240419_030430.mff',\n",
       " '/project/def-emayada/q1k/experimental/HSJ/sourcedata/eeg/Q1K_HSJ_1525-1024_P/Q1K_HSJ_1525-1024_P_RS_20240625_125733.mff',\n",
       " '/project/def-emayada/q1k/experimental/HSJ/sourcedata/eeg/Q1K_HSJ_1525-1024_P/Q1K_HSJ_1525-1024_P_RS_20240625_125100.mff',\n",
       " '/project/def-emayada/q1k/experimental/HSJ/sourcedata/eeg/Q1K_HSJ_100108_F1/Q1K_HSJ_100108_F1_RS_20240312_124021.mff',\n",
       " '/project/def-emayada/q1k/experimental/HSJ/sourcedata/eeg/Q1K_HSJ_1025-1061_F1/Q1K_HSJ_1025-1061_F1_RS_20240718_113923.mff',\n",
       " '/project/def-emayada/q1k/experimental/HSJ/sourcedata/eeg/Q1K_HSJ_1525_1042_F1/Q1K_HSJ_1025-1042_F1_RS_20240715_092109.mff',\n",
       " '/project/def-emayada/q1k/experimental/HSJ/sourcedata/eeg/Q1K_HSJ_10064_M1/Q1K_HSJ_10064_M1_RS_20240620_093924.mff',\n",
       " '/project/def-emayada/q1k/experimental/HSJ/sourcedata/eeg/Q1K_HSJ_1525_1037_P/Q1K_HSJ_1525_1037_P_RS_20240619_111632.mff',\n",
       " '/project/def-emayada/q1k/experimental/HSJ/sourcedata/eeg/Q1K_HSJ_1525_1037_P/Q1K_HSJ_1525_1037_P_RS_20240619_111829.mff',\n",
       " '/project/def-emayada/q1k/experimental/HSJ/sourcedata/eeg/Q1K_HSJ_100131_M1/Q1K_HSJ_100131_M1_RS_20240416_124739.mff',\n",
       " '/project/def-emayada/q1k/experimental/HSJ/sourcedata/eeg/Q1K_HSJ_10043_F1/Q1K_HSJ_10043_F1_RS_20240531_012956.mff',\n",
       " '/project/def-emayada/q1k/experimental/HSJ/sourcedata/eeg/Q1K_HSJ_100119_S1/Q1K_HSJ_100119_S1_RS_20240304_015344.mff',\n",
       " '/project/def-emayada/q1k/experimental/HSJ/sourcedata/eeg/Q1K_HSJ_1525-1001_P/Q1K_HSJ_1525-1001_P_RS_20240524_015707.mff',\n",
       " '/project/def-emayada/q1k/experimental/HSJ/sourcedata/eeg/Q1K_HSJ_1525-1001_P/Q1K_HSJ_1525-1001_P_RioRS_20240524_014933.mff',\n",
       " '/project/def-emayada/q1k/experimental/HSJ/sourcedata/eeg/Q1K_HSJ_100157_M1/Q1K_HSJ_100157_M1_RS_20240521_101112.mff',\n",
       " '/project/def-emayada/q1k/experimental/HSJ/sourcedata/eeg/Q1K_HSJ_100100_F1/Q1K_HSJ_100100_F1_RS_20240223_104952.mff',\n",
       " '/project/def-emayada/q1k/experimental/HSJ/sourcedata/eeg/Q1K_HSJ_100128_P/Q1K_HSJ_100128_P_RS_20240705_112203.mff',\n",
       " '/project/def-emayada/q1k/experimental/HSJ/sourcedata/eeg/Q1K_HSJ_1525-1045_F1/Q1K_HSJ_1525-1045_F1_RS_20240805_100722.mff',\n",
       " '/project/def-emayada/q1k/experimental/HSJ/sourcedata/eeg/Q1K_HSJ_1525-1073_P/Q1K_HSJ_1525-1073_P_RS_20240801_125219.mff',\n",
       " '/project/def-emayada/q1k/experimental/HSJ/sourcedata/eeg/Q1K_HSJ_100150_P/Q1K_HSJ_100150_P_RS_20240507_030724.mff',\n",
       " '/project/def-emayada/q1k/experimental/HSJ/sourcedata/eeg/Q1K_HSJ_100129_P/Q1K_HSJ_100129_P_RS_20240426_104656.mff',\n",
       " '/project/def-emayada/q1k/experimental/HSJ/sourcedata/eeg/Q1K_HSJ_1525-1067_S1/Q1K_HSJ_1525-1067_S1_RS_20240816_110733.mff',\n",
       " '/project/def-emayada/q1k/experimental/HSJ/sourcedata/eeg/Q1K_HSJ_1525-1080_M1/Q1K_HSJ_1525-1080_M1_RS_20240823_104258.mff',\n",
       " '/project/def-emayada/q1k/experimental/HSJ/sourcedata/eeg/Q1K_HSJ_1525-1021_F1/Q1K_HSJ_1525-1021_F1_RS_20240827_110215.mff',\n",
       " '/project/def-emayada/q1k/experimental/HSJ/sourcedata/eeg/Q1K_HSJ_1525-1028_S2/Q1K_HSJ_1525-1028_S2_RS_20240704_111819.mff',\n",
       " '/project/def-emayada/q1k/experimental/HSJ/sourcedata/eeg/Q1K_HSJ_100123_P/Q1K_HSJ_100123_P_RS_20240308_102627.mff',\n",
       " '/project/def-emayada/q1k/experimental/HSJ/sourcedata/eeg/Q1K_HSJ_1525-1006_M1/Q1K_HSJ_1525-1006_M1_RS_20240523_094712.mff',\n",
       " '/project/def-emayada/q1k/experimental/HSJ/sourcedata/eeg/Q1K_HSJ_10086_M1/Q1K_HSJ_10086_M1_RS_20240215_100212.mff',\n",
       " '/project/def-emayada/q1k/experimental/HSJ/sourcedata/eeg/Q1K_HSJ_100134_S1/Q1K_HSJ_100134_S1_RS_20240417_093837.mff',\n",
       " '/project/def-emayada/q1k/experimental/HSJ/sourcedata/eeg/Q1K_HSJ_1525-1021_P/Q1K_HSJ_1525-1021_P_RS_20240827_120957.mff',\n",
       " '/project/def-emayada/q1k/experimental/HSJ/sourcedata/eeg/Q1K_HSJ_100114_F1/Q1K_HSJ_100114_F1_RS_20240307_034720.mff',\n",
       " '/project/def-emayada/q1k/experimental/HSJ/sourcedata/eeg/Q1K_HSJ_1525-1001_S1/Q1K_HSJ_1525-1001_S1_RS_20240524_093425.mff',\n",
       " '/project/def-emayada/q1k/experimental/HSJ/sourcedata/eeg/Q1K_HSJ_100150_M1/Q1K_HSJ_100150_M1_RS_20240507_111301.mff',\n",
       " '/project/def-emayada/q1k/experimental/HSJ/sourcedata/eeg/Q1K_HSJ_1525-1061_P/Q1K_HSJ_1025-1061_P_RS_20240718_015538.mff',\n",
       " '/project/def-emayada/q1k/experimental/HSJ/sourcedata/eeg/Q1K_HSJ_100100_P/Q1K_HSJ_100100_P_RS_20240223_121442.mff',\n",
       " '/project/def-emayada/q1k/experimental/HSJ/sourcedata/eeg/Q1K_HSJ_100147_M1/Q1K_HSJ_100147_M1_RS_20240501_114938.mff',\n",
       " '/project/def-emayada/q1k/experimental/HSJ/sourcedata/eeg/Q1K_HSJ_100131_P/Q1K_HSJ_100131_P_RS_20240416_114544.mff',\n",
       " '/project/def-emayada/q1k/experimental/HSJ/sourcedata/eeg/Q1K_HSJ_100131_P/Q1K_HSJ_100131_P_RS_20240416_115140.mff',\n",
       " '/project/def-emayada/q1k/experimental/HSJ/sourcedata/eeg/Q1K_HSJ_100119_M1/Q1K_HSJ_100119_M1_RS_20240524_111404.mff',\n",
       " '/project/def-emayada/q1k/experimental/HSJ/sourcedata/eeg/Q1K_HSJ_100111_F1/Q1K_HSJ_100111_F1_RS_20240412_100053.mff',\n",
       " '/project/def-emayada/q1k/experimental/HSJ/sourcedata/eeg/Q1K_HSJ_1525-1033_P/Q1K_HSJ_1525-1033_P_RS_20240708_124358.mff',\n",
       " '/project/def-emayada/q1k/experimental/HSJ/sourcedata/eeg/Q1K_HSJ_1525-1073_M1/Q1K_HSJ_1525-1073_M1_RS_20240801_113002.mff',\n",
       " '/project/def-emayada/q1k/experimental/HSJ/sourcedata/eeg/Q1K_HSJ_10064_S1/Q1K_HSJ_10064_S1_RS_20240620_114943.mff',\n",
       " '/project/def-emayada/q1k/experimental/HSJ/sourcedata/eeg/Q1K_HSJ_100152_P/Q1K_HSJ_100152_P_RS_20240510_010111.mff',\n",
       " '/project/def-emayada/q1k/experimental/HSJ/sourcedata/eeg/Q1K_HSJ_1525_1052_F1/Q1K_HSJ_1525_1052_F1_RS_20240712_010442.mff',\n",
       " '/project/def-emayada/q1k/experimental/HSJ/sourcedata/eeg/Q1K_HSJ_10083_M1/Q1K_HSJ_10083_M1_RS_20240306_010403.mff',\n",
       " '/project/def-emayada/q1k/experimental/HSJ/sourcedata/eeg/Q1K_HSJ_100131_S1/Q1K_HSJ_100131_S1_RS_20240416_102202.mff',\n",
       " '/project/def-emayada/q1k/experimental/HSJ/sourcedata/eeg/Q1K_HSJ_1525-1028_P/Q1K_HSJ_1525-1028_P_RS_20240704_124219.mff',\n",
       " '/project/def-emayada/q1k/experimental/HSJ/sourcedata/eeg/Q1K_HSJ_100123_M1/Q1K_HSJ_100123_M1_RS_20240308_113149.mff',\n",
       " '/project/def-emayada/q1k/experimental/HSJ/sourcedata/eeg/Q1K_HSJ_1525-1001_M1/Q1K_HSJ_1525-1001_M1_RS_20240524_105411.mff',\n",
       " '/project/def-emayada/q1k/experimental/HSJ/sourcedata/eeg/Q1K_HSJ_10083_P/Q1K_HSJ_10083_P_RS_20240306_111140.mff',\n",
       " '/project/def-emayada/q1k/experimental/HSJ/sourcedata/eeg/Q1K_HSJ_100111_P/Q1K_HSJ_100111_P_RS_20240412_105623.mff',\n",
       " '/project/def-emayada/q1k/experimental/HSJ/sourcedata/eeg/Q1K_HSJ_1525_1037_F1/Q1K_HSJ_1525_1037_F1_RS_20240619_100109.mff',\n",
       " '/project/def-emayada/q1k/experimental/HSJ/sourcedata/eeg/Q1K_HSJ_100134_M1/Q1K_HSJ_100134_M1_RS_20240417_020341.mff',\n",
       " '/project/def-emayada/q1k/experimental/HSJ/sourcedata/eeg/Q1K_HSJ_1525-1067_M1/Q1K_HSJ_1525-1067_M1_RS_20240816_095039.mff',\n",
       " '/project/def-emayada/q1k/experimental/HSJ/sourcedata/eeg/Q1K_HSJ_1525-1028_S1/Q1K_HSJ_1525-1028_S1_RS_20240704_092930.mff',\n",
       " '/project/def-emayada/q1k/experimental/HSJ/sourcedata/eeg/Q1K_HSJ_10064_P/Q1K_HSJ_10064_P__RS_20240620_104742.mff',\n",
       " '/project/def-emayada/q1k/experimental/HSJ/sourcedata/eeg/Q1K_HSJ_100105_F1/Q1K_HSJ_100105_F1_RS_20240229_034111.mff',\n",
       " '/project/def-emayada/q1k/experimental/HSJ/sourcedata/eeg/Q1K_HSJ_1525-1057_F1/Q1K_HSJ_1525-1057_F1_RS_20240722_105014.mff',\n",
       " '/project/def-emayada/q1k/experimental/HSJ/sourcedata/eeg/Q1K_HSJ_100162_P/Q1K_HSJ_100162_P_RS_20240530_114409.mff',\n",
       " '/project/def-emayada/q1k/experimental/HSJ/sourcedata/eeg/Q1K_HSJ_100152_M1/Q1K_HSJ_100152_M1_RS_20240510_103646.mff']"
      ]
     },
     "execution_count": 9,
     "metadata": {},
     "output_type": "execute_result"
    }
   ],
   "source": [
    "glob.glob(project_path + sourcedata_path + \"eeg/Q1K*/Q1K*\" + task_id_in + '_*.mff')"
   ]
  },
  {
   "cell_type": "code",
   "execution_count": 10,
   "metadata": {},
   "outputs": [
    {
     "name": "stdout",
     "output_type": "stream",
     "text": [
      "Current data file: /project/def-emayada/q1k/experimental/HSJ/sourcedata/eeg/Q1K_HSJ_100134_F1/Q1K_HSJ_100134_F1_RS_20240417_111808.mff\n",
      "Participant number: 100134\n",
      "Participant relation: F1\n",
      "Participant ID input: 100134_F1\n",
      "Participant ID output: 100134F1\n",
      "100134_F1\n",
      "Input notebook: /project/def-emayada/q1k/experimental/HSJ/code/q1k_eeget_init/q1k_generate_individual_reports.ipynb\n",
      "Output notebook file: /project/def-emayada/q1k/experimental/HSJ/code/q1k_eeget_init/session_reports/RS/executed_notebooks/100134_F1_RS_executed.ipynb\n",
      "Output HTML file: /project/def-emayada/q1k/experimental/HSJ/code/q1k_eeget_init/session_reports/RS/100134_F1_RS.html\n"
     ]
    },
    {
     "data": {
      "application/vnd.jupyter.widget-view+json": {
       "model_id": "626559d16b934572b5d0073401c75512",
       "version_major": 2,
       "version_minor": 0
      },
      "text/plain": [
       "Executing:   0%|          | 0/37 [00:00<?, ?cell/s]"
      ]
     },
     "metadata": {},
     "output_type": "display_data"
    },
    {
     "name": "stdout",
     "output_type": "stream",
     "text": [
      "HTML report saved for 100134_F1.\n",
      "Current data file: /project/def-emayada/q1k/experimental/HSJ/sourcedata/eeg/Q1K_HSJ_100147_P/Q1K_HSJ_100147_P_RS_20240501_105202.mff\n",
      "Participant number: 100147\n",
      "Participant relation: P\n",
      "Participant ID input: 100147_P\n",
      "Participant ID output: 100147P\n",
      "100147_P\n",
      "Input notebook: /project/def-emayada/q1k/experimental/HSJ/code/q1k_eeget_init/q1k_generate_individual_reports.ipynb\n",
      "Output notebook file: /project/def-emayada/q1k/experimental/HSJ/code/q1k_eeget_init/session_reports/RS/executed_notebooks/100147_P_RS_executed.ipynb\n",
      "Output HTML file: /project/def-emayada/q1k/experimental/HSJ/code/q1k_eeget_init/session_reports/RS/100147_P_RS.html\n"
     ]
    },
    {
     "data": {
      "application/vnd.jupyter.widget-view+json": {
       "model_id": "5ad27237480c416a8dcfa5e11971531c",
       "version_major": 2,
       "version_minor": 0
      },
      "text/plain": [
       "Executing:   0%|          | 0/37 [00:00<?, ?cell/s]"
      ]
     },
     "metadata": {},
     "output_type": "display_data"
    },
    {
     "name": "stdout",
     "output_type": "stream",
     "text": [
      "Error while processing 100147_P: \n",
      "---------------------------------------------------------------------------\n",
      "Exception encountered at \"In [29]\":\n",
      "---------------------------------------------------------------------------\n",
      "ValueError                                Traceback (most recent call last)\n",
      "Cell In[29], line 3\n",
      "      1 if et_sync:\n",
      "      2     # peak... at the ET event scatter plot.. event time stamp by DIN index\n",
      "----> 3     fig=px.scatter(x=et_events['index'],y=et_events['DIN_diff'])\n",
      "      4 else:\n",
      "      5     print('et_sync = False: skipping ET stimulus DIN offset display')\n",
      "\n",
      "File /project/def-emayada/q1k/experimental/q1k_env/lib/python3.11/site-packages/plotly/express/_chart_types.py:66, in scatter(data_frame, x, y, color, symbol, size, hover_name, hover_data, custom_data, text, facet_row, facet_col, facet_col_wrap, facet_row_spacing, facet_col_spacing, error_x, error_x_minus, error_y, error_y_minus, animation_frame, animation_group, category_orders, labels, orientation, color_discrete_sequence, color_discrete_map, color_continuous_scale, range_color, color_continuous_midpoint, symbol_sequence, symbol_map, opacity, size_max, marginal_x, marginal_y, trendline, trendline_options, trendline_color_override, trendline_scope, log_x, log_y, range_x, range_y, render_mode, title, template, width, height)\n",
      "     12 def scatter(\n",
      "     13     data_frame=None,\n",
      "     14     x=None,\n",
      "   (...)\n",
      "     60     height=None,\n",
      "     61 ) -> go.Figure:\n",
      "     62     \"\"\"\n",
      "     63     In a scatter plot, each row of `data_frame` is represented by a symbol\n",
      "     64     mark in 2D space.\n",
      "     65     \"\"\"\n",
      "---> 66     return make_figure(args=locals(), constructor=go.Scatter)\n",
      "\n",
      "File /project/def-emayada/q1k/experimental/q1k_env/lib/python3.11/site-packages/plotly/express/_core.py:2117, in make_figure(args, constructor, trace_patch, layout_patch)\n",
      "   2114 layout_patch = layout_patch or {}\n",
      "   2115 apply_default_cascade(args)\n",
      "-> 2117 args = build_dataframe(args, constructor)\n",
      "   2118 if constructor in [go.Treemap, go.Sunburst, go.Icicle] and args[\"path\"] is not None:\n",
      "   2119     args = process_dataframe_hierarchy(args)\n",
      "\n",
      "File /project/def-emayada/q1k/experimental/q1k_env/lib/python3.11/site-packages/plotly/express/_core.py:1393, in build_dataframe(args, constructor)\n",
      "   1391 if constructor in cartesians:\n",
      "   1392     if wide_x and wide_y:\n",
      "-> 1393         raise ValueError(\n",
      "   1394             \"Cannot accept list of column references or list of columns for both `x` and `y`.\"\n",
      "   1395         )\n",
      "   1396     if df_provided and no_x and no_y:\n",
      "   1397         wide_mode = True\n",
      "\n",
      "ValueError: Cannot accept list of column references or list of columns for both `x` and `y`.\n",
      "\n",
      "Current data file: /project/def-emayada/q1k/experimental/HSJ/sourcedata/eeg/Q1K_HSJ_1525-1045_P/Q1K_HSJ_1525-1045_P_RS_20240805_120946.mff\n",
      "Participant number: 1525-1045\n",
      "Participant relation: P\n",
      "Participant ID input: 1525-1045_P\n",
      "Participant ID output: 15251045P\n",
      "1525-1045_P\n",
      "Input notebook: /project/def-emayada/q1k/experimental/HSJ/code/q1k_eeget_init/q1k_generate_individual_reports.ipynb\n",
      "Output notebook file: /project/def-emayada/q1k/experimental/HSJ/code/q1k_eeget_init/session_reports/RS/executed_notebooks/1525-1045_P_RS_executed.ipynb\n",
      "Output HTML file: /project/def-emayada/q1k/experimental/HSJ/code/q1k_eeget_init/session_reports/RS/1525-1045_P_RS.html\n"
     ]
    },
    {
     "data": {
      "application/vnd.jupyter.widget-view+json": {
       "model_id": "0eb937b2bf6a46568b936b7a89bed03c",
       "version_major": 2,
       "version_minor": 0
      },
      "text/plain": [
       "Executing:   0%|          | 0/37 [00:00<?, ?cell/s]"
      ]
     },
     "metadata": {},
     "output_type": "display_data"
    },
    {
     "name": "stdout",
     "output_type": "stream",
     "text": [
      "HTML report saved for 1525-1045_P.\n",
      "Current data file: /project/def-emayada/q1k/experimental/HSJ/sourcedata/eeg/Q1K_HSJ_1525-1001_F1/Q1K_HSJ_1525-1001_F1_RS_20240524_100502.mff\n",
      "Participant number: 1525-1001\n",
      "Participant relation: F1\n",
      "Participant ID input: 1525-1001_F1\n",
      "Participant ID output: 15251001F1\n",
      "1525-1001_F1\n",
      "Input notebook: /project/def-emayada/q1k/experimental/HSJ/code/q1k_eeget_init/q1k_generate_individual_reports.ipynb\n",
      "Output notebook file: /project/def-emayada/q1k/experimental/HSJ/code/q1k_eeget_init/session_reports/RS/executed_notebooks/1525-1001_F1_RS_executed.ipynb\n",
      "Output HTML file: /project/def-emayada/q1k/experimental/HSJ/code/q1k_eeget_init/session_reports/RS/1525-1001_F1_RS.html\n"
     ]
    },
    {
     "data": {
      "application/vnd.jupyter.widget-view+json": {
       "model_id": "7cbd6f24683d4f31abaa3c81394297f7",
       "version_major": 2,
       "version_minor": 0
      },
      "text/plain": [
       "Executing:   0%|          | 0/37 [00:00<?, ?cell/s]"
      ]
     },
     "metadata": {},
     "output_type": "display_data"
    },
    {
     "name": "stdout",
     "output_type": "stream",
     "text": [
      "Error while processing 1525-1001_F1: \n",
      "---------------------------------------------------------------------------\n",
      "Exception encountered at \"In [29]\":\n",
      "---------------------------------------------------------------------------\n",
      "ValueError                                Traceback (most recent call last)\n",
      "Cell In[29], line 3\n",
      "      1 if et_sync:\n",
      "      2     # peak... at the ET event scatter plot.. event time stamp by DIN index\n",
      "----> 3     fig=px.scatter(x=et_events['index'],y=et_events['DIN_diff'])\n",
      "      4 else:\n",
      "      5     print('et_sync = False: skipping ET stimulus DIN offset display')\n",
      "\n",
      "File /project/def-emayada/q1k/experimental/q1k_env/lib/python3.11/site-packages/plotly/express/_chart_types.py:66, in scatter(data_frame, x, y, color, symbol, size, hover_name, hover_data, custom_data, text, facet_row, facet_col, facet_col_wrap, facet_row_spacing, facet_col_spacing, error_x, error_x_minus, error_y, error_y_minus, animation_frame, animation_group, category_orders, labels, orientation, color_discrete_sequence, color_discrete_map, color_continuous_scale, range_color, color_continuous_midpoint, symbol_sequence, symbol_map, opacity, size_max, marginal_x, marginal_y, trendline, trendline_options, trendline_color_override, trendline_scope, log_x, log_y, range_x, range_y, render_mode, title, template, width, height)\n",
      "     12 def scatter(\n",
      "     13     data_frame=None,\n",
      "     14     x=None,\n",
      "   (...)\n",
      "     60     height=None,\n",
      "     61 ) -> go.Figure:\n",
      "     62     \"\"\"\n",
      "     63     In a scatter plot, each row of `data_frame` is represented by a symbol\n",
      "     64     mark in 2D space.\n",
      "     65     \"\"\"\n",
      "---> 66     return make_figure(args=locals(), constructor=go.Scatter)\n",
      "\n",
      "File /project/def-emayada/q1k/experimental/q1k_env/lib/python3.11/site-packages/plotly/express/_core.py:2117, in make_figure(args, constructor, trace_patch, layout_patch)\n",
      "   2114 layout_patch = layout_patch or {}\n",
      "   2115 apply_default_cascade(args)\n",
      "-> 2117 args = build_dataframe(args, constructor)\n",
      "   2118 if constructor in [go.Treemap, go.Sunburst, go.Icicle] and args[\"path\"] is not None:\n",
      "   2119     args = process_dataframe_hierarchy(args)\n",
      "\n",
      "File /project/def-emayada/q1k/experimental/q1k_env/lib/python3.11/site-packages/plotly/express/_core.py:1393, in build_dataframe(args, constructor)\n",
      "   1391 if constructor in cartesians:\n",
      "   1392     if wide_x and wide_y:\n",
      "-> 1393         raise ValueError(\n",
      "   1394             \"Cannot accept list of column references or list of columns for both `x` and `y`.\"\n",
      "   1395         )\n",
      "   1396     if df_provided and no_x and no_y:\n",
      "   1397         wide_mode = True\n",
      "\n",
      "ValueError: Cannot accept list of column references or list of columns for both `x` and `y`.\n",
      "\n",
      "Current data file: /project/def-emayada/q1k/experimental/HSJ/sourcedata/eeg/Q1K_HSJ_1525-1026_P/Q1K_HSJ_1525-1026_P_RS_20240613_023013.mff\n",
      "Participant number: 1525-1026\n",
      "Participant relation: P\n",
      "Participant ID input: 1525-1026_P\n",
      "Participant ID output: 15251026P\n",
      "1525-1026_P\n",
      "Input notebook: /project/def-emayada/q1k/experimental/HSJ/code/q1k_eeget_init/q1k_generate_individual_reports.ipynb\n",
      "Output notebook file: /project/def-emayada/q1k/experimental/HSJ/code/q1k_eeget_init/session_reports/RS/executed_notebooks/1525-1026_P_RS_executed.ipynb\n",
      "Output HTML file: /project/def-emayada/q1k/experimental/HSJ/code/q1k_eeget_init/session_reports/RS/1525-1026_P_RS.html\n"
     ]
    },
    {
     "data": {
      "application/vnd.jupyter.widget-view+json": {
       "model_id": "94fe33646238413ca490aa3b1b50e933",
       "version_major": 2,
       "version_minor": 0
      },
      "text/plain": [
       "Executing:   0%|          | 0/37 [00:00<?, ?cell/s]"
      ]
     },
     "metadata": {},
     "output_type": "display_data"
    },
    {
     "name": "stdout",
     "output_type": "stream",
     "text": [
      "Error while processing 1525-1026_P: \n",
      "---------------------------------------------------------------------------\n",
      "Exception encountered at \"In [29]\":\n",
      "---------------------------------------------------------------------------\n",
      "ValueError                                Traceback (most recent call last)\n",
      "Cell In[29], line 3\n",
      "      1 if et_sync:\n",
      "      2     # peak... at the ET event scatter plot.. event time stamp by DIN index\n",
      "----> 3     fig=px.scatter(x=et_events['index'],y=et_events['DIN_diff'])\n",
      "      4 else:\n",
      "      5     print('et_sync = False: skipping ET stimulus DIN offset display')\n",
      "\n",
      "File /project/def-emayada/q1k/experimental/q1k_env/lib/python3.11/site-packages/plotly/express/_chart_types.py:66, in scatter(data_frame, x, y, color, symbol, size, hover_name, hover_data, custom_data, text, facet_row, facet_col, facet_col_wrap, facet_row_spacing, facet_col_spacing, error_x, error_x_minus, error_y, error_y_minus, animation_frame, animation_group, category_orders, labels, orientation, color_discrete_sequence, color_discrete_map, color_continuous_scale, range_color, color_continuous_midpoint, symbol_sequence, symbol_map, opacity, size_max, marginal_x, marginal_y, trendline, trendline_options, trendline_color_override, trendline_scope, log_x, log_y, range_x, range_y, render_mode, title, template, width, height)\n",
      "     12 def scatter(\n",
      "     13     data_frame=None,\n",
      "     14     x=None,\n",
      "   (...)\n",
      "     60     height=None,\n",
      "     61 ) -> go.Figure:\n",
      "     62     \"\"\"\n",
      "     63     In a scatter plot, each row of `data_frame` is represented by a symbol\n",
      "     64     mark in 2D space.\n",
      "     65     \"\"\"\n",
      "---> 66     return make_figure(args=locals(), constructor=go.Scatter)\n",
      "\n",
      "File /project/def-emayada/q1k/experimental/q1k_env/lib/python3.11/site-packages/plotly/express/_core.py:2117, in make_figure(args, constructor, trace_patch, layout_patch)\n",
      "   2114 layout_patch = layout_patch or {}\n",
      "   2115 apply_default_cascade(args)\n",
      "-> 2117 args = build_dataframe(args, constructor)\n",
      "   2118 if constructor in [go.Treemap, go.Sunburst, go.Icicle] and args[\"path\"] is not None:\n",
      "   2119     args = process_dataframe_hierarchy(args)\n",
      "\n",
      "File /project/def-emayada/q1k/experimental/q1k_env/lib/python3.11/site-packages/plotly/express/_core.py:1393, in build_dataframe(args, constructor)\n",
      "   1391 if constructor in cartesians:\n",
      "   1392     if wide_x and wide_y:\n",
      "-> 1393         raise ValueError(\n",
      "   1394             \"Cannot accept list of column references or list of columns for both `x` and `y`.\"\n",
      "   1395         )\n",
      "   1396     if df_provided and no_x and no_y:\n",
      "   1397         wide_mode = True\n",
      "\n",
      "ValueError: Cannot accept list of column references or list of columns for both `x` and `y`.\n",
      "\n",
      "Current data file: /project/def-emayada/q1k/experimental/HSJ/sourcedata/eeg/Q1K_HSJ_1525_1052_P/Q1K_HSJ_1525_1052_P_RS_20240712_022009.mff\n",
      "Participant number: 1525\n",
      "Participant relation: 1052\n",
      "Participant ID input: 1525_1052\n",
      "Participant ID output: 15251052\n",
      "1525_1052\n",
      "Input notebook: /project/def-emayada/q1k/experimental/HSJ/code/q1k_eeget_init/q1k_generate_individual_reports.ipynb\n",
      "Output notebook file: /project/def-emayada/q1k/experimental/HSJ/code/q1k_eeget_init/session_reports/RS/executed_notebooks/1525_1052_RS_executed.ipynb\n",
      "Output HTML file: /project/def-emayada/q1k/experimental/HSJ/code/q1k_eeget_init/session_reports/RS/1525_1052_RS.html\n"
     ]
    },
    {
     "data": {
      "application/vnd.jupyter.widget-view+json": {
       "model_id": "f23969b6fb394a8cb0819fa39dac7c03",
       "version_major": 2,
       "version_minor": 0
      },
      "text/plain": [
       "Executing:   0%|          | 0/37 [00:00<?, ?cell/s]"
      ]
     },
     "metadata": {},
     "output_type": "display_data"
    },
    {
     "name": "stdout",
     "output_type": "stream",
     "text": [
      "Error while processing 1525_1052: \n",
      "---------------------------------------------------------------------------\n",
      "Exception encountered at \"In [8]\":\n",
      "---------------------------------------------------------------------------\n",
      "IndexError                                Traceback (most recent call last)\n",
      "Cell In[8], line 1\n",
      "----> 1 session_file_name_eeg[0]\n",
      "\n",
      "IndexError: list index out of range\n",
      "\n",
      "Current data file: /project/def-emayada/q1k/experimental/HSJ/sourcedata/eeg/Q1K_HSJ_100105_P/Q1K_HSJ_100105_P_RS_20240422_101342.mff\n",
      "Participant number: 100105\n",
      "Participant relation: P\n",
      "Participant ID input: 100105_P\n",
      "Participant ID output: 100105P\n",
      "100105_P\n",
      "Input notebook: /project/def-emayada/q1k/experimental/HSJ/code/q1k_eeget_init/q1k_generate_individual_reports.ipynb\n",
      "Output notebook file: /project/def-emayada/q1k/experimental/HSJ/code/q1k_eeget_init/session_reports/RS/executed_notebooks/100105_P_RS_executed.ipynb\n",
      "Output HTML file: /project/def-emayada/q1k/experimental/HSJ/code/q1k_eeget_init/session_reports/RS/100105_P_RS.html\n"
     ]
    },
    {
     "data": {
      "application/vnd.jupyter.widget-view+json": {
       "model_id": "eb48722be02b478b890fafe45d825489",
       "version_major": 2,
       "version_minor": 0
      },
      "text/plain": [
       "Executing:   0%|          | 0/37 [00:00<?, ?cell/s]"
      ]
     },
     "metadata": {},
     "output_type": "display_data"
    },
    {
     "name": "stdout",
     "output_type": "stream",
     "text": [
      "Error while processing 100105_P: \n",
      "---------------------------------------------------------------------------\n",
      "Exception encountered at \"In [29]\":\n",
      "---------------------------------------------------------------------------\n",
      "ValueError                                Traceback (most recent call last)\n",
      "Cell In[29], line 3\n",
      "      1 if et_sync:\n",
      "      2     # peak... at the ET event scatter plot.. event time stamp by DIN index\n",
      "----> 3     fig=px.scatter(x=et_events['index'],y=et_events['DIN_diff'])\n",
      "      4 else:\n",
      "      5     print('et_sync = False: skipping ET stimulus DIN offset display')\n",
      "\n",
      "File /project/def-emayada/q1k/experimental/q1k_env/lib/python3.11/site-packages/plotly/express/_chart_types.py:66, in scatter(data_frame, x, y, color, symbol, size, hover_name, hover_data, custom_data, text, facet_row, facet_col, facet_col_wrap, facet_row_spacing, facet_col_spacing, error_x, error_x_minus, error_y, error_y_minus, animation_frame, animation_group, category_orders, labels, orientation, color_discrete_sequence, color_discrete_map, color_continuous_scale, range_color, color_continuous_midpoint, symbol_sequence, symbol_map, opacity, size_max, marginal_x, marginal_y, trendline, trendline_options, trendline_color_override, trendline_scope, log_x, log_y, range_x, range_y, render_mode, title, template, width, height)\n",
      "     12 def scatter(\n",
      "     13     data_frame=None,\n",
      "     14     x=None,\n",
      "   (...)\n",
      "     60     height=None,\n",
      "     61 ) -> go.Figure:\n",
      "     62     \"\"\"\n",
      "     63     In a scatter plot, each row of `data_frame` is represented by a symbol\n",
      "     64     mark in 2D space.\n",
      "     65     \"\"\"\n",
      "---> 66     return make_figure(args=locals(), constructor=go.Scatter)\n",
      "\n",
      "File /project/def-emayada/q1k/experimental/q1k_env/lib/python3.11/site-packages/plotly/express/_core.py:2117, in make_figure(args, constructor, trace_patch, layout_patch)\n",
      "   2114 layout_patch = layout_patch or {}\n",
      "   2115 apply_default_cascade(args)\n",
      "-> 2117 args = build_dataframe(args, constructor)\n",
      "   2118 if constructor in [go.Treemap, go.Sunburst, go.Icicle] and args[\"path\"] is not None:\n",
      "   2119     args = process_dataframe_hierarchy(args)\n",
      "\n",
      "File /project/def-emayada/q1k/experimental/q1k_env/lib/python3.11/site-packages/plotly/express/_core.py:1393, in build_dataframe(args, constructor)\n",
      "   1391 if constructor in cartesians:\n",
      "   1392     if wide_x and wide_y:\n",
      "-> 1393         raise ValueError(\n",
      "   1394             \"Cannot accept list of column references or list of columns for both `x` and `y`.\"\n",
      "   1395         )\n",
      "   1396     if df_provided and no_x and no_y:\n",
      "   1397         wide_mode = True\n",
      "\n",
      "ValueError: Cannot accept list of column references or list of columns for both `x` and `y`.\n",
      "\n",
      "Current data file: /project/def-emayada/q1k/experimental/HSJ/sourcedata/eeg/Q1K_HSJ_1525-1026_M1/Q1K_HSJ_1525-1026_M1_RS_20240613_111502.mff\n",
      "Participant number: 1525-1026\n",
      "Participant relation: M1\n",
      "Participant ID input: 1525-1026_M1\n",
      "Participant ID output: 15251026M1\n",
      "1525-1026_M1\n",
      "Input notebook: /project/def-emayada/q1k/experimental/HSJ/code/q1k_eeget_init/q1k_generate_individual_reports.ipynb\n",
      "Output notebook file: /project/def-emayada/q1k/experimental/HSJ/code/q1k_eeget_init/session_reports/RS/executed_notebooks/1525-1026_M1_RS_executed.ipynb\n",
      "Output HTML file: /project/def-emayada/q1k/experimental/HSJ/code/q1k_eeget_init/session_reports/RS/1525-1026_M1_RS.html\n"
     ]
    },
    {
     "data": {
      "application/vnd.jupyter.widget-view+json": {
       "model_id": "2dd4f814d5414001893de8bfc13e1457",
       "version_major": 2,
       "version_minor": 0
      },
      "text/plain": [
       "Executing:   0%|          | 0/37 [00:00<?, ?cell/s]"
      ]
     },
     "metadata": {},
     "output_type": "display_data"
    },
    {
     "name": "stdout",
     "output_type": "stream",
     "text": [
      "Error while processing 1525-1026_M1: \n",
      "---------------------------------------------------------------------------\n",
      "Exception encountered at \"In [15]\":\n",
      "---------------------------------------------------------------------------\n",
      "ValueError                                Traceback (most recent call last)\n",
      "Cell In[15], line 5\n",
      "      2     print('Required EEG DIN events are missing... skipping EEG DIN distance display')\n",
      "      3 else:\n",
      "      4     # peak... at distances between DIN events of interest\n",
      "----> 5     fig=px.scatter(x=din_diffs_time, y=din_diffs)\n",
      "      6     fig.update_layout(title='Time between EEG DIN events')\n",
      "      7     fig.update_xaxes(title_text='Time of event(ms)')\n",
      "\n",
      "File /project/def-emayada/q1k/experimental/q1k_env/lib/python3.11/site-packages/plotly/express/_chart_types.py:66, in scatter(data_frame, x, y, color, symbol, size, hover_name, hover_data, custom_data, text, facet_row, facet_col, facet_col_wrap, facet_row_spacing, facet_col_spacing, error_x, error_x_minus, error_y, error_y_minus, animation_frame, animation_group, category_orders, labels, orientation, color_discrete_sequence, color_discrete_map, color_continuous_scale, range_color, color_continuous_midpoint, symbol_sequence, symbol_map, opacity, size_max, marginal_x, marginal_y, trendline, trendline_options, trendline_color_override, trendline_scope, log_x, log_y, range_x, range_y, render_mode, title, template, width, height)\n",
      "     12 def scatter(\n",
      "     13     data_frame=None,\n",
      "     14     x=None,\n",
      "   (...)\n",
      "     60     height=None,\n",
      "     61 ) -> go.Figure:\n",
      "     62     \"\"\"\n",
      "     63     In a scatter plot, each row of `data_frame` is represented by a symbol\n",
      "     64     mark in 2D space.\n",
      "     65     \"\"\"\n",
      "---> 66     return make_figure(args=locals(), constructor=go.Scatter)\n",
      "\n",
      "File /project/def-emayada/q1k/experimental/q1k_env/lib/python3.11/site-packages/plotly/express/_core.py:2117, in make_figure(args, constructor, trace_patch, layout_patch)\n",
      "   2114 layout_patch = layout_patch or {}\n",
      "   2115 apply_default_cascade(args)\n",
      "-> 2117 args = build_dataframe(args, constructor)\n",
      "   2118 if constructor in [go.Treemap, go.Sunburst, go.Icicle] and args[\"path\"] is not None:\n",
      "   2119     args = process_dataframe_hierarchy(args)\n",
      "\n",
      "File /project/def-emayada/q1k/experimental/q1k_env/lib/python3.11/site-packages/plotly/express/_core.py:1393, in build_dataframe(args, constructor)\n",
      "   1391 if constructor in cartesians:\n",
      "   1392     if wide_x and wide_y:\n",
      "-> 1393         raise ValueError(\n",
      "   1394             \"Cannot accept list of column references or list of columns for both `x` and `y`.\"\n",
      "   1395         )\n",
      "   1396     if df_provided and no_x and no_y:\n",
      "   1397         wide_mode = True\n",
      "\n",
      "ValueError: Cannot accept list of column references or list of columns for both `x` and `y`.\n",
      "\n",
      "Current data file: /project/def-emayada/q1k/experimental/HSJ/sourcedata/eeg/Q1K_HSJ_100123_F1/Q1K_HSJ_100123_F1_RS_20240308_124213.mff\n",
      "Participant number: 100123\n",
      "Participant relation: F1\n",
      "Participant ID input: 100123_F1\n",
      "Participant ID output: 100123F1\n",
      "100123_F1\n",
      "Input notebook: /project/def-emayada/q1k/experimental/HSJ/code/q1k_eeget_init/q1k_generate_individual_reports.ipynb\n",
      "Output notebook file: /project/def-emayada/q1k/experimental/HSJ/code/q1k_eeget_init/session_reports/RS/executed_notebooks/100123_F1_RS_executed.ipynb\n",
      "Output HTML file: /project/def-emayada/q1k/experimental/HSJ/code/q1k_eeget_init/session_reports/RS/100123_F1_RS.html\n"
     ]
    },
    {
     "data": {
      "application/vnd.jupyter.widget-view+json": {
       "model_id": "185eeb1ffcef4545ba2582ed7aceb919",
       "version_major": 2,
       "version_minor": 0
      },
      "text/plain": [
       "Executing:   0%|          | 0/37 [00:00<?, ?cell/s]"
      ]
     },
     "metadata": {},
     "output_type": "display_data"
    },
    {
     "name": "stdout",
     "output_type": "stream",
     "text": [
      "HTML report saved for 100123_F1.\n",
      "Current data file: /project/def-emayada/q1k/experimental/HSJ/sourcedata/eeg/Q1K_HSJ_100114_S1/Q1K_HSJ_100114_S1__RS_20240307_020939.mff\n",
      "Participant number: 100114\n",
      "Participant relation: S1\n",
      "Participant ID input: 100114_S1\n",
      "Participant ID output: 100114S1\n",
      "100114_S1\n",
      "Input notebook: /project/def-emayada/q1k/experimental/HSJ/code/q1k_eeget_init/q1k_generate_individual_reports.ipynb\n",
      "Output notebook file: /project/def-emayada/q1k/experimental/HSJ/code/q1k_eeget_init/session_reports/RS/executed_notebooks/100114_S1_RS_executed.ipynb\n",
      "Output HTML file: /project/def-emayada/q1k/experimental/HSJ/code/q1k_eeget_init/session_reports/RS/100114_S1_RS.html\n"
     ]
    },
    {
     "data": {
      "application/vnd.jupyter.widget-view+json": {
       "model_id": "7f794e764da848f380a8e2a6190b587f",
       "version_major": 2,
       "version_minor": 0
      },
      "text/plain": [
       "Executing:   0%|          | 0/37 [00:00<?, ?cell/s]"
      ]
     },
     "metadata": {},
     "output_type": "display_data"
    },
    {
     "name": "stdout",
     "output_type": "stream",
     "text": [
      "Error while processing 100114_S1: \n",
      "---------------------------------------------------------------------------\n",
      "Exception encountered at \"In [29]\":\n",
      "---------------------------------------------------------------------------\n",
      "ValueError                                Traceback (most recent call last)\n",
      "Cell In[29], line 3\n",
      "      1 if et_sync:\n",
      "      2     # peak... at the ET event scatter plot.. event time stamp by DIN index\n",
      "----> 3     fig=px.scatter(x=et_events['index'],y=et_events['DIN_diff'])\n",
      "      4 else:\n",
      "      5     print('et_sync = False: skipping ET stimulus DIN offset display')\n",
      "\n",
      "File /project/def-emayada/q1k/experimental/q1k_env/lib/python3.11/site-packages/plotly/express/_chart_types.py:66, in scatter(data_frame, x, y, color, symbol, size, hover_name, hover_data, custom_data, text, facet_row, facet_col, facet_col_wrap, facet_row_spacing, facet_col_spacing, error_x, error_x_minus, error_y, error_y_minus, animation_frame, animation_group, category_orders, labels, orientation, color_discrete_sequence, color_discrete_map, color_continuous_scale, range_color, color_continuous_midpoint, symbol_sequence, symbol_map, opacity, size_max, marginal_x, marginal_y, trendline, trendline_options, trendline_color_override, trendline_scope, log_x, log_y, range_x, range_y, render_mode, title, template, width, height)\n",
      "     12 def scatter(\n",
      "     13     data_frame=None,\n",
      "     14     x=None,\n",
      "   (...)\n",
      "     60     height=None,\n",
      "     61 ) -> go.Figure:\n",
      "     62     \"\"\"\n",
      "     63     In a scatter plot, each row of `data_frame` is represented by a symbol\n",
      "     64     mark in 2D space.\n",
      "     65     \"\"\"\n",
      "---> 66     return make_figure(args=locals(), constructor=go.Scatter)\n",
      "\n",
      "File /project/def-emayada/q1k/experimental/q1k_env/lib/python3.11/site-packages/plotly/express/_core.py:2117, in make_figure(args, constructor, trace_patch, layout_patch)\n",
      "   2114 layout_patch = layout_patch or {}\n",
      "   2115 apply_default_cascade(args)\n",
      "-> 2117 args = build_dataframe(args, constructor)\n",
      "   2118 if constructor in [go.Treemap, go.Sunburst, go.Icicle] and args[\"path\"] is not None:\n",
      "   2119     args = process_dataframe_hierarchy(args)\n",
      "\n",
      "File /project/def-emayada/q1k/experimental/q1k_env/lib/python3.11/site-packages/plotly/express/_core.py:1393, in build_dataframe(args, constructor)\n",
      "   1391 if constructor in cartesians:\n",
      "   1392     if wide_x and wide_y:\n",
      "-> 1393         raise ValueError(\n",
      "   1394             \"Cannot accept list of column references or list of columns for both `x` and `y`.\"\n",
      "   1395         )\n",
      "   1396     if df_provided and no_x and no_y:\n",
      "   1397         wide_mode = True\n",
      "\n",
      "ValueError: Cannot accept list of column references or list of columns for both `x` and `y`.\n",
      "\n",
      "Current data file: /project/def-emayada/q1k/experimental/HSJ/sourcedata/eeg/Q1K_HSJ_1025-1042_M1/Q1K_HSJ_1025-1042_M1_RS_20240715_114724.mff\n",
      "Participant number: 1025-1042\n",
      "Participant relation: M1\n",
      "Participant ID input: 1025-1042_M1\n",
      "Participant ID output: 10251042M1\n",
      "1025-1042_M1\n",
      "Input notebook: /project/def-emayada/q1k/experimental/HSJ/code/q1k_eeget_init/q1k_generate_individual_reports.ipynb\n",
      "Output notebook file: /project/def-emayada/q1k/experimental/HSJ/code/q1k_eeget_init/session_reports/RS/executed_notebooks/1025-1042_M1_RS_executed.ipynb\n",
      "Output HTML file: /project/def-emayada/q1k/experimental/HSJ/code/q1k_eeget_init/session_reports/RS/1025-1042_M1_RS.html\n"
     ]
    },
    {
     "data": {
      "application/vnd.jupyter.widget-view+json": {
       "model_id": "694d16b32c364632bc2e65a2259714f7",
       "version_major": 2,
       "version_minor": 0
      },
      "text/plain": [
       "Executing:   0%|          | 0/37 [00:00<?, ?cell/s]"
      ]
     },
     "metadata": {},
     "output_type": "display_data"
    },
    {
     "name": "stdout",
     "output_type": "stream",
     "text": [
      "HTML report saved for 1025-1042_M1.\n",
      "Current data file: /project/def-emayada/q1k/experimental/HSJ/sourcedata/eeg/Q1K_HSJ_1025-1061_M/Q1K_HSJ_1025-1061_M_RS_20240718_023226.mff\n",
      "Participant number: 1025-1061\n",
      "Participant relation: M\n",
      "Participant ID input: 1025-1061_M\n",
      "Participant ID output: 10251061M\n",
      "1025-1061_M\n",
      "Input notebook: /project/def-emayada/q1k/experimental/HSJ/code/q1k_eeget_init/q1k_generate_individual_reports.ipynb\n",
      "Output notebook file: /project/def-emayada/q1k/experimental/HSJ/code/q1k_eeget_init/session_reports/RS/executed_notebooks/1025-1061_M_RS_executed.ipynb\n",
      "Output HTML file: /project/def-emayada/q1k/experimental/HSJ/code/q1k_eeget_init/session_reports/RS/1025-1061_M_RS.html\n"
     ]
    },
    {
     "data": {
      "application/vnd.jupyter.widget-view+json": {
       "model_id": "36603a548a0c4a8eaeb38a23bf9ef18c",
       "version_major": 2,
       "version_minor": 0
      },
      "text/plain": [
       "Executing:   0%|          | 0/37 [00:00<?, ?cell/s]"
      ]
     },
     "metadata": {},
     "output_type": "display_data"
    },
    {
     "name": "stdout",
     "output_type": "stream",
     "text": [
      "HTML report saved for 1025-1061_M.\n",
      "Current data file: /project/def-emayada/q1k/experimental/HSJ/sourcedata/eeg/Q1K_HSJ_10050_M1/Q1K_HSJ_10050_M1_RS_20240527_111633.mff\n",
      "Participant number: 10050\n",
      "Participant relation: M1\n",
      "Participant ID input: 10050_M1\n",
      "Participant ID output: 10050M1\n",
      "10050_M1\n",
      "Input notebook: /project/def-emayada/q1k/experimental/HSJ/code/q1k_eeget_init/q1k_generate_individual_reports.ipynb\n",
      "Output notebook file: /project/def-emayada/q1k/experimental/HSJ/code/q1k_eeget_init/session_reports/RS/executed_notebooks/10050_M1_RS_executed.ipynb\n",
      "Output HTML file: /project/def-emayada/q1k/experimental/HSJ/code/q1k_eeget_init/session_reports/RS/10050_M1_RS.html\n"
     ]
    },
    {
     "data": {
      "application/vnd.jupyter.widget-view+json": {
       "model_id": "3c032bf9760d4c4fa5164d6cc934936e",
       "version_major": 2,
       "version_minor": 0
      },
      "text/plain": [
       "Executing:   0%|          | 0/37 [00:00<?, ?cell/s]"
      ]
     },
     "metadata": {},
     "output_type": "display_data"
    },
    {
     "name": "stdout",
     "output_type": "stream",
     "text": [
      "Error while processing 10050_M1: \n",
      "---------------------------------------------------------------------------\n",
      "Exception encountered at \"In [29]\":\n",
      "---------------------------------------------------------------------------\n",
      "ValueError                                Traceback (most recent call last)\n",
      "Cell In[29], line 3\n",
      "      1 if et_sync:\n",
      "      2     # peak... at the ET event scatter plot.. event time stamp by DIN index\n",
      "----> 3     fig=px.scatter(x=et_events['index'],y=et_events['DIN_diff'])\n",
      "      4 else:\n",
      "      5     print('et_sync = False: skipping ET stimulus DIN offset display')\n",
      "\n",
      "File /project/def-emayada/q1k/experimental/q1k_env/lib/python3.11/site-packages/plotly/express/_chart_types.py:66, in scatter(data_frame, x, y, color, symbol, size, hover_name, hover_data, custom_data, text, facet_row, facet_col, facet_col_wrap, facet_row_spacing, facet_col_spacing, error_x, error_x_minus, error_y, error_y_minus, animation_frame, animation_group, category_orders, labels, orientation, color_discrete_sequence, color_discrete_map, color_continuous_scale, range_color, color_continuous_midpoint, symbol_sequence, symbol_map, opacity, size_max, marginal_x, marginal_y, trendline, trendline_options, trendline_color_override, trendline_scope, log_x, log_y, range_x, range_y, render_mode, title, template, width, height)\n",
      "     12 def scatter(\n",
      "     13     data_frame=None,\n",
      "     14     x=None,\n",
      "   (...)\n",
      "     60     height=None,\n",
      "     61 ) -> go.Figure:\n",
      "     62     \"\"\"\n",
      "     63     In a scatter plot, each row of `data_frame` is represented by a symbol\n",
      "     64     mark in 2D space.\n",
      "     65     \"\"\"\n",
      "---> 66     return make_figure(args=locals(), constructor=go.Scatter)\n",
      "\n",
      "File /project/def-emayada/q1k/experimental/q1k_env/lib/python3.11/site-packages/plotly/express/_core.py:2117, in make_figure(args, constructor, trace_patch, layout_patch)\n",
      "   2114 layout_patch = layout_patch or {}\n",
      "   2115 apply_default_cascade(args)\n",
      "-> 2117 args = build_dataframe(args, constructor)\n",
      "   2118 if constructor in [go.Treemap, go.Sunburst, go.Icicle] and args[\"path\"] is not None:\n",
      "   2119     args = process_dataframe_hierarchy(args)\n",
      "\n",
      "File /project/def-emayada/q1k/experimental/q1k_env/lib/python3.11/site-packages/plotly/express/_core.py:1393, in build_dataframe(args, constructor)\n",
      "   1391 if constructor in cartesians:\n",
      "   1392     if wide_x and wide_y:\n",
      "-> 1393         raise ValueError(\n",
      "   1394             \"Cannot accept list of column references or list of columns for both `x` and `y`.\"\n",
      "   1395         )\n",
      "   1396     if df_provided and no_x and no_y:\n",
      "   1397         wide_mode = True\n",
      "\n",
      "ValueError: Cannot accept list of column references or list of columns for both `x` and `y`.\n",
      "\n",
      "Current data file: /project/def-emayada/q1k/experimental/HSJ/sourcedata/eeg/Q1K_HSJ_100134_P/Q1K_HSJ_100134_P_RS_20240417_104006.mff\n",
      "Participant number: 100134\n",
      "Participant relation: P\n",
      "Participant ID input: 100134_P\n",
      "Participant ID output: 100134P\n",
      "100134_P\n",
      "Input notebook: /project/def-emayada/q1k/experimental/HSJ/code/q1k_eeget_init/q1k_generate_individual_reports.ipynb\n",
      "Output notebook file: /project/def-emayada/q1k/experimental/HSJ/code/q1k_eeget_init/session_reports/RS/executed_notebooks/100134_P_RS_executed.ipynb\n",
      "Output HTML file: /project/def-emayada/q1k/experimental/HSJ/code/q1k_eeget_init/session_reports/RS/100134_P_RS.html\n"
     ]
    },
    {
     "data": {
      "application/vnd.jupyter.widget-view+json": {
       "model_id": "e6121c8b5d6945a696330c7c45ca8be5",
       "version_major": 2,
       "version_minor": 0
      },
      "text/plain": [
       "Executing:   0%|          | 0/37 [00:00<?, ?cell/s]"
      ]
     },
     "metadata": {},
     "output_type": "display_data"
    },
    {
     "name": "stdout",
     "output_type": "stream",
     "text": [
      "HTML report saved for 100134_P.\n",
      "Current data file: /project/def-emayada/q1k/experimental/HSJ/sourcedata/eeg/Q1K_HSJ_100105_M1/Q1K_HSJ_100105_M1_RS_20240226_093758.mff\n",
      "Participant number: 100105\n",
      "Participant relation: M1\n",
      "Participant ID input: 100105_M1\n",
      "Participant ID output: 100105M1\n",
      "100105_M1\n",
      "Input notebook: /project/def-emayada/q1k/experimental/HSJ/code/q1k_eeget_init/q1k_generate_individual_reports.ipynb\n",
      "Output notebook file: /project/def-emayada/q1k/experimental/HSJ/code/q1k_eeget_init/session_reports/RS/executed_notebooks/100105_M1_RS_executed.ipynb\n",
      "Output HTML file: /project/def-emayada/q1k/experimental/HSJ/code/q1k_eeget_init/session_reports/RS/100105_M1_RS.html\n"
     ]
    },
    {
     "data": {
      "application/vnd.jupyter.widget-view+json": {
       "model_id": "8ccf93d522564a08be8530ce159cfb91",
       "version_major": 2,
       "version_minor": 0
      },
      "text/plain": [
       "Executing:   0%|          | 0/37 [00:00<?, ?cell/s]"
      ]
     },
     "metadata": {},
     "output_type": "display_data"
    },
    {
     "name": "stdout",
     "output_type": "stream",
     "text": [
      "HTML report saved for 100105_M1.\n",
      "Current data file: /project/def-emayada/q1k/experimental/HSJ/sourcedata/eeg/Q1K_HSJ_1525-1057_M1/Q1K_HSJ_1525-1057_M1_RS_20240722_020920.mff\n",
      "Participant number: 1525-1057\n",
      "Participant relation: M1\n",
      "Participant ID input: 1525-1057_M1\n",
      "Participant ID output: 15251057M1\n",
      "1525-1057_M1\n",
      "Input notebook: /project/def-emayada/q1k/experimental/HSJ/code/q1k_eeget_init/q1k_generate_individual_reports.ipynb\n",
      "Output notebook file: /project/def-emayada/q1k/experimental/HSJ/code/q1k_eeget_init/session_reports/RS/executed_notebooks/1525-1057_M1_RS_executed.ipynb\n",
      "Output HTML file: /project/def-emayada/q1k/experimental/HSJ/code/q1k_eeget_init/session_reports/RS/1525-1057_M1_RS.html\n"
     ]
    },
    {
     "data": {
      "application/vnd.jupyter.widget-view+json": {
       "model_id": "38c9e5d8586147f0bd7f06d57babfce3",
       "version_major": 2,
       "version_minor": 0
      },
      "text/plain": [
       "Executing:   0%|          | 0/37 [00:00<?, ?cell/s]"
      ]
     },
     "metadata": {},
     "output_type": "display_data"
    },
    {
     "name": "stdout",
     "output_type": "stream",
     "text": [
      "HTML report saved for 1525-1057_M1.\n",
      "Current data file: /project/def-emayada/q1k/experimental/HSJ/sourcedata/eeg/Q1K_HSJ_100157_P/Q1K_HSJ_100157_P_RS_20240521_123152.mff\n",
      "Participant number: 100157\n",
      "Participant relation: P\n",
      "Participant ID input: 100157_P\n",
      "Participant ID output: 100157P\n",
      "100157_P\n",
      "Input notebook: /project/def-emayada/q1k/experimental/HSJ/code/q1k_eeget_init/q1k_generate_individual_reports.ipynb\n",
      "Output notebook file: /project/def-emayada/q1k/experimental/HSJ/code/q1k_eeget_init/session_reports/RS/executed_notebooks/100157_P_RS_executed.ipynb\n",
      "Output HTML file: /project/def-emayada/q1k/experimental/HSJ/code/q1k_eeget_init/session_reports/RS/100157_P_RS.html\n"
     ]
    },
    {
     "data": {
      "application/vnd.jupyter.widget-view+json": {
       "model_id": "c445346b8ab5453888b8c64154e5897c",
       "version_major": 2,
       "version_minor": 0
      },
      "text/plain": [
       "Executing:   0%|          | 0/37 [00:00<?, ?cell/s]"
      ]
     },
     "metadata": {},
     "output_type": "display_data"
    },
    {
     "name": "stdout",
     "output_type": "stream",
     "text": [
      "Error while processing 100157_P: \n",
      "---------------------------------------------------------------------------\n",
      "Exception encountered at \"In [29]\":\n",
      "---------------------------------------------------------------------------\n",
      "ValueError                                Traceback (most recent call last)\n",
      "Cell In[29], line 3\n",
      "      1 if et_sync:\n",
      "      2     # peak... at the ET event scatter plot.. event time stamp by DIN index\n",
      "----> 3     fig=px.scatter(x=et_events['index'],y=et_events['DIN_diff'])\n",
      "      4 else:\n",
      "      5     print('et_sync = False: skipping ET stimulus DIN offset display')\n",
      "\n",
      "File /project/def-emayada/q1k/experimental/q1k_env/lib/python3.11/site-packages/plotly/express/_chart_types.py:66, in scatter(data_frame, x, y, color, symbol, size, hover_name, hover_data, custom_data, text, facet_row, facet_col, facet_col_wrap, facet_row_spacing, facet_col_spacing, error_x, error_x_minus, error_y, error_y_minus, animation_frame, animation_group, category_orders, labels, orientation, color_discrete_sequence, color_discrete_map, color_continuous_scale, range_color, color_continuous_midpoint, symbol_sequence, symbol_map, opacity, size_max, marginal_x, marginal_y, trendline, trendline_options, trendline_color_override, trendline_scope, log_x, log_y, range_x, range_y, render_mode, title, template, width, height)\n",
      "     12 def scatter(\n",
      "     13     data_frame=None,\n",
      "     14     x=None,\n",
      "   (...)\n",
      "     60     height=None,\n",
      "     61 ) -> go.Figure:\n",
      "     62     \"\"\"\n",
      "     63     In a scatter plot, each row of `data_frame` is represented by a symbol\n",
      "     64     mark in 2D space.\n",
      "     65     \"\"\"\n",
      "---> 66     return make_figure(args=locals(), constructor=go.Scatter)\n",
      "\n",
      "File /project/def-emayada/q1k/experimental/q1k_env/lib/python3.11/site-packages/plotly/express/_core.py:2117, in make_figure(args, constructor, trace_patch, layout_patch)\n",
      "   2114 layout_patch = layout_patch or {}\n",
      "   2115 apply_default_cascade(args)\n",
      "-> 2117 args = build_dataframe(args, constructor)\n",
      "   2118 if constructor in [go.Treemap, go.Sunburst, go.Icicle] and args[\"path\"] is not None:\n",
      "   2119     args = process_dataframe_hierarchy(args)\n",
      "\n",
      "File /project/def-emayada/q1k/experimental/q1k_env/lib/python3.11/site-packages/plotly/express/_core.py:1393, in build_dataframe(args, constructor)\n",
      "   1391 if constructor in cartesians:\n",
      "   1392     if wide_x and wide_y:\n",
      "-> 1393         raise ValueError(\n",
      "   1394             \"Cannot accept list of column references or list of columns for both `x` and `y`.\"\n",
      "   1395         )\n",
      "   1396     if df_provided and no_x and no_y:\n",
      "   1397         wide_mode = True\n",
      "\n",
      "ValueError: Cannot accept list of column references or list of columns for both `x` and `y`.\n",
      "\n",
      "Current data file: /project/def-emayada/q1k/experimental/HSJ/sourcedata/eeg/Q1K_HSJ_1525_1009_S1/Q1K_HSJ_1525_1009_S1_RS_20240806_112051.mff\n",
      "Participant number: 1525\n",
      "Participant relation: 1009\n",
      "Participant ID input: 1525_1009\n",
      "Participant ID output: 15251009\n",
      "1525_1009\n",
      "Input notebook: /project/def-emayada/q1k/experimental/HSJ/code/q1k_eeget_init/q1k_generate_individual_reports.ipynb\n",
      "Output notebook file: /project/def-emayada/q1k/experimental/HSJ/code/q1k_eeget_init/session_reports/RS/executed_notebooks/1525_1009_RS_executed.ipynb\n",
      "Output HTML file: /project/def-emayada/q1k/experimental/HSJ/code/q1k_eeget_init/session_reports/RS/1525_1009_RS.html\n"
     ]
    },
    {
     "data": {
      "application/vnd.jupyter.widget-view+json": {
       "model_id": "b56aed18d8c2475481de3806ecb637be",
       "version_major": 2,
       "version_minor": 0
      },
      "text/plain": [
       "Executing:   0%|          | 0/37 [00:00<?, ?cell/s]"
      ]
     },
     "metadata": {},
     "output_type": "display_data"
    },
    {
     "name": "stdout",
     "output_type": "stream",
     "text": [
      "Error while processing 1525_1009: \n",
      "---------------------------------------------------------------------------\n",
      "Exception encountered at \"In [8]\":\n",
      "---------------------------------------------------------------------------\n",
      "IndexError                                Traceback (most recent call last)\n",
      "Cell In[8], line 1\n",
      "----> 1 session_file_name_eeg[0]\n",
      "\n",
      "IndexError: list index out of range\n",
      "\n",
      "Current data file: /project/def-emayada/q1k/experimental/HSJ/sourcedata/eeg/Q1K_HSJ_100162_M1/Q1K_HSJ_100162_M1_RS_20240530_011817.mff\n",
      "Participant number: 100162\n",
      "Participant relation: M1\n",
      "Participant ID input: 100162_M1\n",
      "Participant ID output: 100162M1\n",
      "100162_M1\n",
      "Input notebook: /project/def-emayada/q1k/experimental/HSJ/code/q1k_eeget_init/q1k_generate_individual_reports.ipynb\n",
      "Output notebook file: /project/def-emayada/q1k/experimental/HSJ/code/q1k_eeget_init/session_reports/RS/executed_notebooks/100162_M1_RS_executed.ipynb\n",
      "Output HTML file: /project/def-emayada/q1k/experimental/HSJ/code/q1k_eeget_init/session_reports/RS/100162_M1_RS.html\n"
     ]
    },
    {
     "data": {
      "application/vnd.jupyter.widget-view+json": {
       "model_id": "ca3a374332d54fb1a30a88b8f34d30bd",
       "version_major": 2,
       "version_minor": 0
      },
      "text/plain": [
       "Executing:   0%|          | 0/37 [00:00<?, ?cell/s]"
      ]
     },
     "metadata": {},
     "output_type": "display_data"
    },
    {
     "name": "stdout",
     "output_type": "stream",
     "text": [
      "Error while processing 100162_M1: \n",
      "---------------------------------------------------------------------------\n",
      "Exception encountered at \"In [29]\":\n",
      "---------------------------------------------------------------------------\n",
      "ValueError                                Traceback (most recent call last)\n",
      "Cell In[29], line 3\n",
      "      1 if et_sync:\n",
      "      2     # peak... at the ET event scatter plot.. event time stamp by DIN index\n",
      "----> 3     fig=px.scatter(x=et_events['index'],y=et_events['DIN_diff'])\n",
      "      4 else:\n",
      "      5     print('et_sync = False: skipping ET stimulus DIN offset display')\n",
      "\n",
      "File /project/def-emayada/q1k/experimental/q1k_env/lib/python3.11/site-packages/plotly/express/_chart_types.py:66, in scatter(data_frame, x, y, color, symbol, size, hover_name, hover_data, custom_data, text, facet_row, facet_col, facet_col_wrap, facet_row_spacing, facet_col_spacing, error_x, error_x_minus, error_y, error_y_minus, animation_frame, animation_group, category_orders, labels, orientation, color_discrete_sequence, color_discrete_map, color_continuous_scale, range_color, color_continuous_midpoint, symbol_sequence, symbol_map, opacity, size_max, marginal_x, marginal_y, trendline, trendline_options, trendline_color_override, trendline_scope, log_x, log_y, range_x, range_y, render_mode, title, template, width, height)\n",
      "     12 def scatter(\n",
      "     13     data_frame=None,\n",
      "     14     x=None,\n",
      "   (...)\n",
      "     60     height=None,\n",
      "     61 ) -> go.Figure:\n",
      "     62     \"\"\"\n",
      "     63     In a scatter plot, each row of `data_frame` is represented by a symbol\n",
      "     64     mark in 2D space.\n",
      "     65     \"\"\"\n",
      "---> 66     return make_figure(args=locals(), constructor=go.Scatter)\n",
      "\n",
      "File /project/def-emayada/q1k/experimental/q1k_env/lib/python3.11/site-packages/plotly/express/_core.py:2117, in make_figure(args, constructor, trace_patch, layout_patch)\n",
      "   2114 layout_patch = layout_patch or {}\n",
      "   2115 apply_default_cascade(args)\n",
      "-> 2117 args = build_dataframe(args, constructor)\n",
      "   2118 if constructor in [go.Treemap, go.Sunburst, go.Icicle] and args[\"path\"] is not None:\n",
      "   2119     args = process_dataframe_hierarchy(args)\n",
      "\n",
      "File /project/def-emayada/q1k/experimental/q1k_env/lib/python3.11/site-packages/plotly/express/_core.py:1393, in build_dataframe(args, constructor)\n",
      "   1391 if constructor in cartesians:\n",
      "   1392     if wide_x and wide_y:\n",
      "-> 1393         raise ValueError(\n",
      "   1394             \"Cannot accept list of column references or list of columns for both `x` and `y`.\"\n",
      "   1395         )\n",
      "   1396     if df_provided and no_x and no_y:\n",
      "   1397         wide_mode = True\n",
      "\n",
      "ValueError: Cannot accept list of column references or list of columns for both `x` and `y`.\n",
      "\n",
      "Current data file: /project/def-emayada/q1k/experimental/HSJ/sourcedata/eeg/Q1K_HSJ_100100_S1/Q1K_HSJ_100100_S1_RS_20240223_114912.mff\n",
      "Participant number: 100100\n",
      "Participant relation: S1\n",
      "Participant ID input: 100100_S1\n",
      "Participant ID output: 100100S1\n",
      "100100_S1\n",
      "Input notebook: /project/def-emayada/q1k/experimental/HSJ/code/q1k_eeget_init/q1k_generate_individual_reports.ipynb\n",
      "Output notebook file: /project/def-emayada/q1k/experimental/HSJ/code/q1k_eeget_init/session_reports/RS/executed_notebooks/100100_S1_RS_executed.ipynb\n",
      "Output HTML file: /project/def-emayada/q1k/experimental/HSJ/code/q1k_eeget_init/session_reports/RS/100100_S1_RS.html\n"
     ]
    },
    {
     "data": {
      "application/vnd.jupyter.widget-view+json": {
       "model_id": "2fd4d4486aa74b3682899c4296b61cb4",
       "version_major": 2,
       "version_minor": 0
      },
      "text/plain": [
       "Executing:   0%|          | 0/37 [00:00<?, ?cell/s]"
      ]
     },
     "metadata": {},
     "output_type": "display_data"
    },
    {
     "name": "stdout",
     "output_type": "stream",
     "text": [
      "Error while processing 100100_S1: \n",
      "---------------------------------------------------------------------------\n",
      "Exception encountered at \"In [34]\":\n",
      "---------------------------------------------------------------------------\n",
      "ValueError                                Traceback (most recent call last)\n",
      "Cell In[34], line 16\n",
      "     11 bids_path = mne_bids.BIDSPath(\n",
      "     12    subject=subject_id_out, session=session_id, task=task_id_out, run=\"1\", datatype=\"eeg\", root=project_path\n",
      "     13 )\n",
      "     15 print(bids_path)\n",
      "---> 16 mne_bids.write_raw_bids(\n",
      "     17    raw=eeg_raw,\n",
      "     18    bids_path=bids_path,\n",
      "     19    events=eeg_events,\n",
      "     20    event_id=eeg_event_dict,\n",
      "     21    format = \"EDF\",\n",
      "     22    overwrite=True,\n",
      "     23    allow_preload=True,\n",
      "     24 )\n",
      "\n",
      "File <decorator-gen-447>:12, in write_raw_bids(raw, bids_path, events, event_id, anonymize, format, symlink, empty_room, allow_preload, montage, acpc_aligned, overwrite, verbose)\n",
      "\n",
      "File /project/def-emayada/q1k/experimental/q1k_env/lib/python3.11/site-packages/mne_bids/write.py:2110, in write_raw_bids(***failed resolving arguments***)\n",
      "   2108 elif bids_path.datatype in [\"eeg\", \"ieeg\"] and format == \"EDF\":\n",
      "   2109     warn(\"Converting data files to EDF format\")\n",
      "-> 2110     _write_raw_edf(raw, bids_path.fpath, overwrite=overwrite)\n",
      "   2111 elif bids_path.datatype in [\"eeg\", \"ieeg\"] and format == \"EEGLAB\":\n",
      "   2112     warn(\"Converting data files to EEGLAB format\")\n",
      "\n",
      "File /project/def-emayada/q1k/experimental/q1k_env/lib/python3.11/site-packages/mne_bids/write.py:1175, in _write_raw_edf(raw, bids_fname, overwrite)\n",
      "   1163 \"\"\"Store data as EDF.\n",
      "   1164 \n",
      "   1165 Parameters\n",
      "   (...)\n",
      "   1172     Whether to overwrite an existing file or not.\n",
      "   1173 \"\"\"\n",
      "   1174 assert str(bids_fname).endswith(\".edf\")\n",
      "-> 1175 raw.export(bids_fname, overwrite=overwrite)\n",
      "\n",
      "File <decorator-gen-250>:12, in export(self, fname, fmt, physical_range, add_ch_type, overwrite, verbose)\n",
      "\n",
      "File /project/def-emayada/q1k/experimental/q1k_env/lib/python3.11/site-packages/mne/io/base.py:1784, in BaseRaw.export(self, fname, fmt, physical_range, add_ch_type, overwrite, verbose)\n",
      "   1757 \"\"\"Export Raw to external formats.\n",
      "   1758 \n",
      "   1759 %(export_fmt_support_raw)s\n",
      "   (...)\n",
      "   1780 %(export_edf_note)s\n",
      "   1781 \"\"\"\n",
      "   1782 from ..export import export_raw\n",
      "-> 1784 export_raw(\n",
      "   1785     fname,\n",
      "   1786     self,\n",
      "   1787     fmt,\n",
      "   1788     physical_range=physical_range,\n",
      "   1789     add_ch_type=add_ch_type,\n",
      "   1790     overwrite=overwrite,\n",
      "   1791     verbose=verbose,\n",
      "   1792 )\n",
      "\n",
      "File <decorator-gen-460>:12, in export_raw(fname, raw, fmt, physical_range, add_ch_type, overwrite, verbose)\n",
      "\n",
      "File /project/def-emayada/q1k/experimental/q1k_env/lib/python3.11/site-packages/mne/export/_export.py:75, in export_raw(fname, raw, fmt, physical_range, add_ch_type, overwrite, verbose)\n",
      "     72 elif fmt == \"edf\":\n",
      "     73     from ._edf import _export_raw\n",
      "---> 75     _export_raw(fname, raw, physical_range, add_ch_type)\n",
      "     76 elif fmt == \"brainvision\":\n",
      "     77     from ._brainvision import _export_raw\n",
      "\n",
      "File /project/def-emayada/q1k/experimental/q1k_env/lib/python3.11/site-packages/mne/export/_edf.py:144, in _export_raw(fname, raw, physical_range, add_ch_type)\n",
      "    140         pmax = ch_types_phys_max[ch_type]\n",
      "    141         prange = pmin, pmax\n",
      "    143     signals.append(\n",
      "--> 144         EdfSignal(\n",
      "    145             data[idx],\n",
      "    146             out_sfreq,\n",
      "    147             label=signal_label,\n",
      "    148             transducer_type=\"\",\n",
      "    149             physical_dimension=\"\" if ch_type == \"stim\" else \"uV\",\n",
      "    150             physical_range=prange,\n",
      "    151             digital_range=(digital_min, digital_max),\n",
      "    152             prefiltering=filter_str_info,\n",
      "    153         )\n",
      "    154     )\n",
      "    156 # set patient info\n",
      "    157 subj_info = raw.info.get(\"subject_info\")\n",
      "\n",
      "File /project/def-emayada/q1k/experimental/q1k_env/lib/python3.11/site-packages/edfio/edf_signal.py:125, in EdfSignal.__init__(self, data, sampling_frequency, label, transducer_type, physical_dimension, physical_range, digital_range, prefiltering)\n",
      "    123 if not np.all(np.isfinite(data)):\n",
      "    124     raise ValueError(\"Signal data must contain only finite values\")\n",
      "--> 125 self._set_physical_range(physical_range, data)\n",
      "    126 self._set_digital_range(digital_range)\n",
      "    127 self._set_data(data)\n",
      "\n",
      "File /project/def-emayada/q1k/experimental/q1k_env/lib/python3.11/site-packages/edfio/edf_signal.py:479, in EdfSignal._set_physical_range(self, physical_range, data)\n",
      "    477 physical_range = _FloatRange(*physical_range)\n",
      "    478 if physical_range.min == physical_range.max:\n",
      "--> 479     raise ValueError(\n",
      "    480         f\"Physical minimum ({physical_range.min}) must differ from physical maximum ({physical_range.max}).\"\n",
      "    481     )\n",
      "    482 data_min = data.min()\n",
      "    483 data_max = data.max()\n",
      "\n",
      "ValueError: Physical minimum (0.0) must differ from physical maximum (0.0).\n",
      "\n",
      "Current data file: /project/def-emayada/q1k/experimental/HSJ/sourcedata/eeg/Q1K_HSJ_1525-1045_S1/Q1K_HSJ_1525-1045_S1_RS_20240805_110059.mff\n",
      "Participant number: 1525-1045\n",
      "Participant relation: S1\n",
      "Participant ID input: 1525-1045_S1\n",
      "Participant ID output: 15251045S1\n",
      "1525-1045_S1\n",
      "Input notebook: /project/def-emayada/q1k/experimental/HSJ/code/q1k_eeget_init/q1k_generate_individual_reports.ipynb\n",
      "Output notebook file: /project/def-emayada/q1k/experimental/HSJ/code/q1k_eeget_init/session_reports/RS/executed_notebooks/1525-1045_S1_RS_executed.ipynb\n",
      "Output HTML file: /project/def-emayada/q1k/experimental/HSJ/code/q1k_eeget_init/session_reports/RS/1525-1045_S1_RS.html\n"
     ]
    },
    {
     "data": {
      "application/vnd.jupyter.widget-view+json": {
       "model_id": "20b341bd221644e8807ed99749823ced",
       "version_major": 2,
       "version_minor": 0
      },
      "text/plain": [
       "Executing:   0%|          | 0/37 [00:00<?, ?cell/s]"
      ]
     },
     "metadata": {},
     "output_type": "display_data"
    },
    {
     "name": "stdout",
     "output_type": "stream",
     "text": [
      "HTML report saved for 1525-1045_S1.\n",
      "Current data file: /project/def-emayada/q1k/experimental/HSJ/sourcedata/eeg/Q1K_HSJ_100114_P/Q1K_HSJ_100114_P_RS_20240307_114603.mff\n",
      "Participant number: 100114\n",
      "Participant relation: P\n",
      "Participant ID input: 100114_P\n",
      "Participant ID output: 100114P\n",
      "100114_P\n",
      "Input notebook: /project/def-emayada/q1k/experimental/HSJ/code/q1k_eeget_init/q1k_generate_individual_reports.ipynb\n",
      "Output notebook file: /project/def-emayada/q1k/experimental/HSJ/code/q1k_eeget_init/session_reports/RS/executed_notebooks/100114_P_RS_executed.ipynb\n",
      "Output HTML file: /project/def-emayada/q1k/experimental/HSJ/code/q1k_eeget_init/session_reports/RS/100114_P_RS.html\n"
     ]
    },
    {
     "data": {
      "application/vnd.jupyter.widget-view+json": {
       "model_id": "f2304d6c8bcc4ef0a80cca06292c88a1",
       "version_major": 2,
       "version_minor": 0
      },
      "text/plain": [
       "Executing:   0%|          | 0/37 [00:00<?, ?cell/s]"
      ]
     },
     "metadata": {},
     "output_type": "display_data"
    },
    {
     "name": "stdout",
     "output_type": "stream",
     "text": [
      "Error while processing 100114_P: \n",
      "---------------------------------------------------------------------------\n",
      "Exception encountered at \"In [29]\":\n",
      "---------------------------------------------------------------------------\n",
      "ValueError                                Traceback (most recent call last)\n",
      "Cell In[29], line 3\n",
      "      1 if et_sync:\n",
      "      2     # peak... at the ET event scatter plot.. event time stamp by DIN index\n",
      "----> 3     fig=px.scatter(x=et_events['index'],y=et_events['DIN_diff'])\n",
      "      4 else:\n",
      "      5     print('et_sync = False: skipping ET stimulus DIN offset display')\n",
      "\n",
      "File /project/def-emayada/q1k/experimental/q1k_env/lib/python3.11/site-packages/plotly/express/_chart_types.py:66, in scatter(data_frame, x, y, color, symbol, size, hover_name, hover_data, custom_data, text, facet_row, facet_col, facet_col_wrap, facet_row_spacing, facet_col_spacing, error_x, error_x_minus, error_y, error_y_minus, animation_frame, animation_group, category_orders, labels, orientation, color_discrete_sequence, color_discrete_map, color_continuous_scale, range_color, color_continuous_midpoint, symbol_sequence, symbol_map, opacity, size_max, marginal_x, marginal_y, trendline, trendline_options, trendline_color_override, trendline_scope, log_x, log_y, range_x, range_y, render_mode, title, template, width, height)\n",
      "     12 def scatter(\n",
      "     13     data_frame=None,\n",
      "     14     x=None,\n",
      "   (...)\n",
      "     60     height=None,\n",
      "     61 ) -> go.Figure:\n",
      "     62     \"\"\"\n",
      "     63     In a scatter plot, each row of `data_frame` is represented by a symbol\n",
      "     64     mark in 2D space.\n",
      "     65     \"\"\"\n",
      "---> 66     return make_figure(args=locals(), constructor=go.Scatter)\n",
      "\n",
      "File /project/def-emayada/q1k/experimental/q1k_env/lib/python3.11/site-packages/plotly/express/_core.py:2117, in make_figure(args, constructor, trace_patch, layout_patch)\n",
      "   2114 layout_patch = layout_patch or {}\n",
      "   2115 apply_default_cascade(args)\n",
      "-> 2117 args = build_dataframe(args, constructor)\n",
      "   2118 if constructor in [go.Treemap, go.Sunburst, go.Icicle] and args[\"path\"] is not None:\n",
      "   2119     args = process_dataframe_hierarchy(args)\n",
      "\n",
      "File /project/def-emayada/q1k/experimental/q1k_env/lib/python3.11/site-packages/plotly/express/_core.py:1393, in build_dataframe(args, constructor)\n",
      "   1391 if constructor in cartesians:\n",
      "   1392     if wide_x and wide_y:\n",
      "-> 1393         raise ValueError(\n",
      "   1394             \"Cannot accept list of column references or list of columns for both `x` and `y`.\"\n",
      "   1395         )\n",
      "   1396     if df_provided and no_x and no_y:\n",
      "   1397         wide_mode = True\n",
      "\n",
      "ValueError: Cannot accept list of column references or list of columns for both `x` and `y`.\n",
      "\n",
      "Current data file: /project/def-emayada/q1k/experimental/HSJ/sourcedata/eeg/Q1K_HSJ_10093_O1/Q1K_HSJ_10093_O1_RS_20240423_103528.mff\n",
      "Participant number: 10093\n",
      "Participant relation: O1\n",
      "Participant ID input: 10093_O1\n",
      "Participant ID output: 10093O1\n",
      "10093_O1\n",
      "Input notebook: /project/def-emayada/q1k/experimental/HSJ/code/q1k_eeget_init/q1k_generate_individual_reports.ipynb\n",
      "Output notebook file: /project/def-emayada/q1k/experimental/HSJ/code/q1k_eeget_init/session_reports/RS/executed_notebooks/10093_O1_RS_executed.ipynb\n",
      "Output HTML file: /project/def-emayada/q1k/experimental/HSJ/code/q1k_eeget_init/session_reports/RS/10093_O1_RS.html\n"
     ]
    },
    {
     "data": {
      "application/vnd.jupyter.widget-view+json": {
       "model_id": "ace22dd81c724a1eb40cc2eeff543b26",
       "version_major": 2,
       "version_minor": 0
      },
      "text/plain": [
       "Executing:   0%|          | 0/37 [00:00<?, ?cell/s]"
      ]
     },
     "metadata": {},
     "output_type": "display_data"
    },
    {
     "name": "stdout",
     "output_type": "stream",
     "text": [
      "Error while processing 10093_O1: \n",
      "---------------------------------------------------------------------------\n",
      "Exception encountered at \"In [29]\":\n",
      "---------------------------------------------------------------------------\n",
      "ValueError                                Traceback (most recent call last)\n",
      "Cell In[29], line 3\n",
      "      1 if et_sync:\n",
      "      2     # peak... at the ET event scatter plot.. event time stamp by DIN index\n",
      "----> 3     fig=px.scatter(x=et_events['index'],y=et_events['DIN_diff'])\n",
      "      4 else:\n",
      "      5     print('et_sync = False: skipping ET stimulus DIN offset display')\n",
      "\n",
      "File /project/def-emayada/q1k/experimental/q1k_env/lib/python3.11/site-packages/plotly/express/_chart_types.py:66, in scatter(data_frame, x, y, color, symbol, size, hover_name, hover_data, custom_data, text, facet_row, facet_col, facet_col_wrap, facet_row_spacing, facet_col_spacing, error_x, error_x_minus, error_y, error_y_minus, animation_frame, animation_group, category_orders, labels, orientation, color_discrete_sequence, color_discrete_map, color_continuous_scale, range_color, color_continuous_midpoint, symbol_sequence, symbol_map, opacity, size_max, marginal_x, marginal_y, trendline, trendline_options, trendline_color_override, trendline_scope, log_x, log_y, range_x, range_y, render_mode, title, template, width, height)\n",
      "     12 def scatter(\n",
      "     13     data_frame=None,\n",
      "     14     x=None,\n",
      "   (...)\n",
      "     60     height=None,\n",
      "     61 ) -> go.Figure:\n",
      "     62     \"\"\"\n",
      "     63     In a scatter plot, each row of `data_frame` is represented by a symbol\n",
      "     64     mark in 2D space.\n",
      "     65     \"\"\"\n",
      "---> 66     return make_figure(args=locals(), constructor=go.Scatter)\n",
      "\n",
      "File /project/def-emayada/q1k/experimental/q1k_env/lib/python3.11/site-packages/plotly/express/_core.py:2117, in make_figure(args, constructor, trace_patch, layout_patch)\n",
      "   2114 layout_patch = layout_patch or {}\n",
      "   2115 apply_default_cascade(args)\n",
      "-> 2117 args = build_dataframe(args, constructor)\n",
      "   2118 if constructor in [go.Treemap, go.Sunburst, go.Icicle] and args[\"path\"] is not None:\n",
      "   2119     args = process_dataframe_hierarchy(args)\n",
      "\n",
      "File /project/def-emayada/q1k/experimental/q1k_env/lib/python3.11/site-packages/plotly/express/_core.py:1393, in build_dataframe(args, constructor)\n",
      "   1391 if constructor in cartesians:\n",
      "   1392     if wide_x and wide_y:\n",
      "-> 1393         raise ValueError(\n",
      "   1394             \"Cannot accept list of column references or list of columns for both `x` and `y`.\"\n",
      "   1395         )\n",
      "   1396     if df_provided and no_x and no_y:\n",
      "   1397         wide_mode = True\n",
      "\n",
      "ValueError: Cannot accept list of column references or list of columns for both `x` and `y`.\n",
      "\n",
      "Current data file: /project/def-emayada/q1k/experimental/HSJ/sourcedata/eeg/Q1K_HSJ_10050_P/Q1K_HSJ_10050_P_RS_20240527_095703.mff\n",
      "Participant number: 10050\n",
      "Participant relation: P\n",
      "Participant ID input: 10050_P\n",
      "Participant ID output: 10050P\n",
      "10050_P\n",
      "Input notebook: /project/def-emayada/q1k/experimental/HSJ/code/q1k_eeget_init/q1k_generate_individual_reports.ipynb\n",
      "Output notebook file: /project/def-emayada/q1k/experimental/HSJ/code/q1k_eeget_init/session_reports/RS/executed_notebooks/10050_P_RS_executed.ipynb\n",
      "Output HTML file: /project/def-emayada/q1k/experimental/HSJ/code/q1k_eeget_init/session_reports/RS/10050_P_RS.html\n"
     ]
    },
    {
     "data": {
      "application/vnd.jupyter.widget-view+json": {
       "model_id": "62f2f9a5b9d24c609e96860f39ade649",
       "version_major": 2,
       "version_minor": 0
      },
      "text/plain": [
       "Executing:   0%|          | 0/37 [00:00<?, ?cell/s]"
      ]
     },
     "metadata": {},
     "output_type": "display_data"
    },
    {
     "name": "stdout",
     "output_type": "stream",
     "text": [
      "Error while processing 10050_P: \n",
      "---------------------------------------------------------------------------\n",
      "Exception encountered at \"In [29]\":\n",
      "---------------------------------------------------------------------------\n",
      "ValueError                                Traceback (most recent call last)\n",
      "Cell In[29], line 3\n",
      "      1 if et_sync:\n",
      "      2     # peak... at the ET event scatter plot.. event time stamp by DIN index\n",
      "----> 3     fig=px.scatter(x=et_events['index'],y=et_events['DIN_diff'])\n",
      "      4 else:\n",
      "      5     print('et_sync = False: skipping ET stimulus DIN offset display')\n",
      "\n",
      "File /project/def-emayada/q1k/experimental/q1k_env/lib/python3.11/site-packages/plotly/express/_chart_types.py:66, in scatter(data_frame, x, y, color, symbol, size, hover_name, hover_data, custom_data, text, facet_row, facet_col, facet_col_wrap, facet_row_spacing, facet_col_spacing, error_x, error_x_minus, error_y, error_y_minus, animation_frame, animation_group, category_orders, labels, orientation, color_discrete_sequence, color_discrete_map, color_continuous_scale, range_color, color_continuous_midpoint, symbol_sequence, symbol_map, opacity, size_max, marginal_x, marginal_y, trendline, trendline_options, trendline_color_override, trendline_scope, log_x, log_y, range_x, range_y, render_mode, title, template, width, height)\n",
      "     12 def scatter(\n",
      "     13     data_frame=None,\n",
      "     14     x=None,\n",
      "   (...)\n",
      "     60     height=None,\n",
      "     61 ) -> go.Figure:\n",
      "     62     \"\"\"\n",
      "     63     In a scatter plot, each row of `data_frame` is represented by a symbol\n",
      "     64     mark in 2D space.\n",
      "     65     \"\"\"\n",
      "---> 66     return make_figure(args=locals(), constructor=go.Scatter)\n",
      "\n",
      "File /project/def-emayada/q1k/experimental/q1k_env/lib/python3.11/site-packages/plotly/express/_core.py:2117, in make_figure(args, constructor, trace_patch, layout_patch)\n",
      "   2114 layout_patch = layout_patch or {}\n",
      "   2115 apply_default_cascade(args)\n",
      "-> 2117 args = build_dataframe(args, constructor)\n",
      "   2118 if constructor in [go.Treemap, go.Sunburst, go.Icicle] and args[\"path\"] is not None:\n",
      "   2119     args = process_dataframe_hierarchy(args)\n",
      "\n",
      "File /project/def-emayada/q1k/experimental/q1k_env/lib/python3.11/site-packages/plotly/express/_core.py:1393, in build_dataframe(args, constructor)\n",
      "   1391 if constructor in cartesians:\n",
      "   1392     if wide_x and wide_y:\n",
      "-> 1393         raise ValueError(\n",
      "   1394             \"Cannot accept list of column references or list of columns for both `x` and `y`.\"\n",
      "   1395         )\n",
      "   1396     if df_provided and no_x and no_y:\n",
      "   1397         wide_mode = True\n",
      "\n",
      "ValueError: Cannot accept list of column references or list of columns for both `x` and `y`.\n",
      "\n",
      "Current data file: /project/def-emayada/q1k/experimental/HSJ/sourcedata/eeg/Q1K_HSJ_1525_1052_M1/Q1K_HSJ_1525_1052_M1_RS_20240712_102518.mff\n",
      "Participant number: 1525\n",
      "Participant relation: 1052\n",
      "Participant ID input: 1525_1052\n",
      "Participant ID output: 15251052\n",
      "1525_1052\n",
      "Input notebook: /project/def-emayada/q1k/experimental/HSJ/code/q1k_eeget_init/q1k_generate_individual_reports.ipynb\n",
      "Output notebook file: /project/def-emayada/q1k/experimental/HSJ/code/q1k_eeget_init/session_reports/RS/executed_notebooks/1525_1052_RS_executed.ipynb\n",
      "Output HTML file: /project/def-emayada/q1k/experimental/HSJ/code/q1k_eeget_init/session_reports/RS/1525_1052_RS.html\n"
     ]
    },
    {
     "data": {
      "application/vnd.jupyter.widget-view+json": {
       "model_id": "3d2192852d4c4869923d0c5517bb0e7c",
       "version_major": 2,
       "version_minor": 0
      },
      "text/plain": [
       "Executing:   0%|          | 0/37 [00:00<?, ?cell/s]"
      ]
     },
     "metadata": {},
     "output_type": "display_data"
    },
    {
     "name": "stdout",
     "output_type": "stream",
     "text": [
      "Error while processing 1525_1052: \n",
      "---------------------------------------------------------------------------\n",
      "Exception encountered at \"In [8]\":\n",
      "---------------------------------------------------------------------------\n",
      "IndexError                                Traceback (most recent call last)\n",
      "Cell In[8], line 1\n",
      "----> 1 session_file_name_eeg[0]\n",
      "\n",
      "IndexError: list index out of range\n",
      "\n",
      "Current data file: /project/def-emayada/q1k/experimental/HSJ/sourcedata/eeg/Q1K_HSJ_100159_M1/Q1K_HSJ_100159_M1_RS_20240517_113713.mff\n",
      "Participant number: 100159\n",
      "Participant relation: M1\n",
      "Participant ID input: 100159_M1\n",
      "Participant ID output: 100159M1\n",
      "100159_M1\n",
      "Input notebook: /project/def-emayada/q1k/experimental/HSJ/code/q1k_eeget_init/q1k_generate_individual_reports.ipynb\n",
      "Output notebook file: /project/def-emayada/q1k/experimental/HSJ/code/q1k_eeget_init/session_reports/RS/executed_notebooks/100159_M1_RS_executed.ipynb\n",
      "Output HTML file: /project/def-emayada/q1k/experimental/HSJ/code/q1k_eeget_init/session_reports/RS/100159_M1_RS.html\n"
     ]
    },
    {
     "data": {
      "application/vnd.jupyter.widget-view+json": {
       "model_id": "970c76aa6c644ccebb9565c6199c7902",
       "version_major": 2,
       "version_minor": 0
      },
      "text/plain": [
       "Executing:   0%|          | 0/37 [00:00<?, ?cell/s]"
      ]
     },
     "metadata": {},
     "output_type": "display_data"
    },
    {
     "name": "stdout",
     "output_type": "stream",
     "text": [
      "Error while processing 100159_M1: \n",
      "---------------------------------------------------------------------------\n",
      "Exception encountered at \"In [29]\":\n",
      "---------------------------------------------------------------------------\n",
      "ValueError                                Traceback (most recent call last)\n",
      "Cell In[29], line 3\n",
      "      1 if et_sync:\n",
      "      2     # peak... at the ET event scatter plot.. event time stamp by DIN index\n",
      "----> 3     fig=px.scatter(x=et_events['index'],y=et_events['DIN_diff'])\n",
      "      4 else:\n",
      "      5     print('et_sync = False: skipping ET stimulus DIN offset display')\n",
      "\n",
      "File /project/def-emayada/q1k/experimental/q1k_env/lib/python3.11/site-packages/plotly/express/_chart_types.py:66, in scatter(data_frame, x, y, color, symbol, size, hover_name, hover_data, custom_data, text, facet_row, facet_col, facet_col_wrap, facet_row_spacing, facet_col_spacing, error_x, error_x_minus, error_y, error_y_minus, animation_frame, animation_group, category_orders, labels, orientation, color_discrete_sequence, color_discrete_map, color_continuous_scale, range_color, color_continuous_midpoint, symbol_sequence, symbol_map, opacity, size_max, marginal_x, marginal_y, trendline, trendline_options, trendline_color_override, trendline_scope, log_x, log_y, range_x, range_y, render_mode, title, template, width, height)\n",
      "     12 def scatter(\n",
      "     13     data_frame=None,\n",
      "     14     x=None,\n",
      "   (...)\n",
      "     60     height=None,\n",
      "     61 ) -> go.Figure:\n",
      "     62     \"\"\"\n",
      "     63     In a scatter plot, each row of `data_frame` is represented by a symbol\n",
      "     64     mark in 2D space.\n",
      "     65     \"\"\"\n",
      "---> 66     return make_figure(args=locals(), constructor=go.Scatter)\n",
      "\n",
      "File /project/def-emayada/q1k/experimental/q1k_env/lib/python3.11/site-packages/plotly/express/_core.py:2117, in make_figure(args, constructor, trace_patch, layout_patch)\n",
      "   2114 layout_patch = layout_patch or {}\n",
      "   2115 apply_default_cascade(args)\n",
      "-> 2117 args = build_dataframe(args, constructor)\n",
      "   2118 if constructor in [go.Treemap, go.Sunburst, go.Icicle] and args[\"path\"] is not None:\n",
      "   2119     args = process_dataframe_hierarchy(args)\n",
      "\n",
      "File /project/def-emayada/q1k/experimental/q1k_env/lib/python3.11/site-packages/plotly/express/_core.py:1393, in build_dataframe(args, constructor)\n",
      "   1391 if constructor in cartesians:\n",
      "   1392     if wide_x and wide_y:\n",
      "-> 1393         raise ValueError(\n",
      "   1394             \"Cannot accept list of column references or list of columns for both `x` and `y`.\"\n",
      "   1395         )\n",
      "   1396     if df_provided and no_x and no_y:\n",
      "   1397         wide_mode = True\n",
      "\n",
      "ValueError: Cannot accept list of column references or list of columns for both `x` and `y`.\n",
      "\n",
      "Current data file: /project/def-emayada/q1k/experimental/HSJ/sourcedata/eeg/Q1K_HSJ_1525-1006_P/Q1K_HSJ_1525-1006_P_RS_20240523_114556.mff\n",
      "Participant number: 1525-1006\n",
      "Participant relation: P\n",
      "Participant ID input: 1525-1006_P\n",
      "Participant ID output: 15251006P\n",
      "1525-1006_P\n",
      "Input notebook: /project/def-emayada/q1k/experimental/HSJ/code/q1k_eeget_init/q1k_generate_individual_reports.ipynb\n",
      "Output notebook file: /project/def-emayada/q1k/experimental/HSJ/code/q1k_eeget_init/session_reports/RS/executed_notebooks/1525-1006_P_RS_executed.ipynb\n",
      "Output HTML file: /project/def-emayada/q1k/experimental/HSJ/code/q1k_eeget_init/session_reports/RS/1525-1006_P_RS.html\n"
     ]
    },
    {
     "data": {
      "application/vnd.jupyter.widget-view+json": {
       "model_id": "9fd5347a25b244d0b4ada9fa15f8618f",
       "version_major": 2,
       "version_minor": 0
      },
      "text/plain": [
       "Executing:   0%|          | 0/37 [00:00<?, ?cell/s]"
      ]
     },
     "metadata": {},
     "output_type": "display_data"
    },
    {
     "name": "stdout",
     "output_type": "stream",
     "text": [
      "HTML report saved for 1525-1006_P.\n",
      "Current data file: /project/def-emayada/q1k/experimental/HSJ/sourcedata/eeg/Q1K_HSJ_10083_F1/Q1K_HSJ_10083_F1_RS_20240306_100315.mff\n",
      "Participant number: 10083\n",
      "Participant relation: F1\n",
      "Participant ID input: 10083_F1\n",
      "Participant ID output: 10083F1\n",
      "10083_F1\n",
      "Input notebook: /project/def-emayada/q1k/experimental/HSJ/code/q1k_eeget_init/q1k_generate_individual_reports.ipynb\n",
      "Output notebook file: /project/def-emayada/q1k/experimental/HSJ/code/q1k_eeget_init/session_reports/RS/executed_notebooks/10083_F1_RS_executed.ipynb\n",
      "Output HTML file: /project/def-emayada/q1k/experimental/HSJ/code/q1k_eeget_init/session_reports/RS/10083_F1_RS.html\n"
     ]
    },
    {
     "data": {
      "application/vnd.jupyter.widget-view+json": {
       "model_id": "f8a24d11671e4f23b302d0abafb79685",
       "version_major": 2,
       "version_minor": 0
      },
      "text/plain": [
       "Executing:   0%|          | 0/37 [00:00<?, ?cell/s]"
      ]
     },
     "metadata": {},
     "output_type": "display_data"
    },
    {
     "name": "stdout",
     "output_type": "stream",
     "text": [
      "HTML report saved for 10083_F1.\n",
      "Current data file: /project/def-emayada/q1k/experimental/HSJ/sourcedata/eeg/Q1K_HSJ_100129_M1/Q1K_HSJ_100129_M1_RS_20240426_094925.mff\n",
      "Participant number: 100129\n",
      "Participant relation: M1\n",
      "Participant ID input: 100129_M1\n",
      "Participant ID output: 100129M1\n",
      "100129_M1\n",
      "Input notebook: /project/def-emayada/q1k/experimental/HSJ/code/q1k_eeget_init/q1k_generate_individual_reports.ipynb\n",
      "Output notebook file: /project/def-emayada/q1k/experimental/HSJ/code/q1k_eeget_init/session_reports/RS/executed_notebooks/100129_M1_RS_executed.ipynb\n",
      "Output HTML file: /project/def-emayada/q1k/experimental/HSJ/code/q1k_eeget_init/session_reports/RS/100129_M1_RS.html\n"
     ]
    },
    {
     "data": {
      "application/vnd.jupyter.widget-view+json": {
       "model_id": "76d567bc582549569fc48207e7385ab7",
       "version_major": 2,
       "version_minor": 0
      },
      "text/plain": [
       "Executing:   0%|          | 0/37 [00:00<?, ?cell/s]"
      ]
     },
     "metadata": {},
     "output_type": "display_data"
    },
    {
     "name": "stdout",
     "output_type": "stream",
     "text": [
      "HTML report saved for 100129_M1.\n",
      "Current data file: /project/def-emayada/q1k/experimental/HSJ/sourcedata/eeg/Q1K_HSJ_100104_P/Q1K_HSJ_100104_P_RS_20240702_101326.mff\n",
      "Participant number: 100104\n",
      "Participant relation: P\n",
      "Participant ID input: 100104_P\n",
      "Participant ID output: 100104P\n",
      "100104_P\n",
      "Input notebook: /project/def-emayada/q1k/experimental/HSJ/code/q1k_eeget_init/q1k_generate_individual_reports.ipynb\n",
      "Output notebook file: /project/def-emayada/q1k/experimental/HSJ/code/q1k_eeget_init/session_reports/RS/executed_notebooks/100104_P_RS_executed.ipynb\n",
      "Output HTML file: /project/def-emayada/q1k/experimental/HSJ/code/q1k_eeget_init/session_reports/RS/100104_P_RS.html\n"
     ]
    },
    {
     "data": {
      "application/vnd.jupyter.widget-view+json": {
       "model_id": "95f9b0a597a544119d477acc5dc60d8d",
       "version_major": 2,
       "version_minor": 0
      },
      "text/plain": [
       "Executing:   0%|          | 0/37 [00:00<?, ?cell/s]"
      ]
     },
     "metadata": {},
     "output_type": "display_data"
    },
    {
     "name": "stdout",
     "output_type": "stream",
     "text": [
      "HTML report saved for 100104_P.\n",
      "Current data file: /project/def-emayada/q1k/experimental/HSJ/sourcedata/eeg/Q1K_HSJ_1025-1042_P/Q1K_HSJ_1025-1042_P_RS_20240715_103721.mff\n",
      "Participant number: 1025-1042\n",
      "Participant relation: P\n",
      "Participant ID input: 1025-1042_P\n",
      "Participant ID output: 10251042P\n",
      "1025-1042_P\n",
      "Input notebook: /project/def-emayada/q1k/experimental/HSJ/code/q1k_eeget_init/q1k_generate_individual_reports.ipynb\n",
      "Output notebook file: /project/def-emayada/q1k/experimental/HSJ/code/q1k_eeget_init/session_reports/RS/executed_notebooks/1025-1042_P_RS_executed.ipynb\n",
      "Output HTML file: /project/def-emayada/q1k/experimental/HSJ/code/q1k_eeget_init/session_reports/RS/1025-1042_P_RS.html\n"
     ]
    },
    {
     "data": {
      "application/vnd.jupyter.widget-view+json": {
       "model_id": "2a408fb87ad3463883fb22e2f77f665f",
       "version_major": 2,
       "version_minor": 0
      },
      "text/plain": [
       "Executing:   0%|          | 0/37 [00:00<?, ?cell/s]"
      ]
     },
     "metadata": {},
     "output_type": "display_data"
    },
    {
     "name": "stdout",
     "output_type": "stream",
     "text": [
      "HTML report saved for 1025-1042_P.\n",
      "Current data file: /project/def-emayada/q1k/experimental/HSJ/sourcedata/eeg/Q1K_HSJ_10053_M1/Q1K_HSJ_10053_M1_RS_20240419_111250.mff\n",
      "Participant number: 10053\n",
      "Participant relation: M1\n",
      "Participant ID input: 10053_M1\n",
      "Participant ID output: 10053M1\n",
      "10053_M1\n",
      "Input notebook: /project/def-emayada/q1k/experimental/HSJ/code/q1k_eeget_init/q1k_generate_individual_reports.ipynb\n",
      "Output notebook file: /project/def-emayada/q1k/experimental/HSJ/code/q1k_eeget_init/session_reports/RS/executed_notebooks/10053_M1_RS_executed.ipynb\n",
      "Output HTML file: /project/def-emayada/q1k/experimental/HSJ/code/q1k_eeget_init/session_reports/RS/10053_M1_RS.html\n"
     ]
    },
    {
     "data": {
      "application/vnd.jupyter.widget-view+json": {
       "model_id": "cace77e3559b4ea9805b49943f7c7600",
       "version_major": 2,
       "version_minor": 0
      },
      "text/plain": [
       "Executing:   0%|          | 0/37 [00:00<?, ?cell/s]"
      ]
     },
     "metadata": {},
     "output_type": "display_data"
    },
    {
     "name": "stdout",
     "output_type": "stream",
     "text": [
      "Error while processing 10053_M1: \n",
      "---------------------------------------------------------------------------\n",
      "Exception encountered at \"In [29]\":\n",
      "---------------------------------------------------------------------------\n",
      "ValueError                                Traceback (most recent call last)\n",
      "Cell In[29], line 3\n",
      "      1 if et_sync:\n",
      "      2     # peak... at the ET event scatter plot.. event time stamp by DIN index\n",
      "----> 3     fig=px.scatter(x=et_events['index'],y=et_events['DIN_diff'])\n",
      "      4 else:\n",
      "      5     print('et_sync = False: skipping ET stimulus DIN offset display')\n",
      "\n",
      "File /project/def-emayada/q1k/experimental/q1k_env/lib/python3.11/site-packages/plotly/express/_chart_types.py:66, in scatter(data_frame, x, y, color, symbol, size, hover_name, hover_data, custom_data, text, facet_row, facet_col, facet_col_wrap, facet_row_spacing, facet_col_spacing, error_x, error_x_minus, error_y, error_y_minus, animation_frame, animation_group, category_orders, labels, orientation, color_discrete_sequence, color_discrete_map, color_continuous_scale, range_color, color_continuous_midpoint, symbol_sequence, symbol_map, opacity, size_max, marginal_x, marginal_y, trendline, trendline_options, trendline_color_override, trendline_scope, log_x, log_y, range_x, range_y, render_mode, title, template, width, height)\n",
      "     12 def scatter(\n",
      "     13     data_frame=None,\n",
      "     14     x=None,\n",
      "   (...)\n",
      "     60     height=None,\n",
      "     61 ) -> go.Figure:\n",
      "     62     \"\"\"\n",
      "     63     In a scatter plot, each row of `data_frame` is represented by a symbol\n",
      "     64     mark in 2D space.\n",
      "     65     \"\"\"\n",
      "---> 66     return make_figure(args=locals(), constructor=go.Scatter)\n",
      "\n",
      "File /project/def-emayada/q1k/experimental/q1k_env/lib/python3.11/site-packages/plotly/express/_core.py:2117, in make_figure(args, constructor, trace_patch, layout_patch)\n",
      "   2114 layout_patch = layout_patch or {}\n",
      "   2115 apply_default_cascade(args)\n",
      "-> 2117 args = build_dataframe(args, constructor)\n",
      "   2118 if constructor in [go.Treemap, go.Sunburst, go.Icicle] and args[\"path\"] is not None:\n",
      "   2119     args = process_dataframe_hierarchy(args)\n",
      "\n",
      "File /project/def-emayada/q1k/experimental/q1k_env/lib/python3.11/site-packages/plotly/express/_core.py:1393, in build_dataframe(args, constructor)\n",
      "   1391 if constructor in cartesians:\n",
      "   1392     if wide_x and wide_y:\n",
      "-> 1393         raise ValueError(\n",
      "   1394             \"Cannot accept list of column references or list of columns for both `x` and `y`.\"\n",
      "   1395         )\n",
      "   1396     if df_provided and no_x and no_y:\n",
      "   1397         wide_mode = True\n",
      "\n",
      "ValueError: Cannot accept list of column references or list of columns for both `x` and `y`.\n",
      "\n",
      "Current data file: /project/def-emayada/q1k/experimental/HSJ/sourcedata/eeg/Q1K_HSJ_1525-1024_M1/Q1K_HSJ_1525-1024_M1_RS_20240625_015903.mff\n",
      "Participant number: 1525-1024\n",
      "Participant relation: M1\n",
      "Participant ID input: 1525-1024_M1\n",
      "Participant ID output: 15251024M1\n",
      "1525-1024_M1\n",
      "Input notebook: /project/def-emayada/q1k/experimental/HSJ/code/q1k_eeget_init/q1k_generate_individual_reports.ipynb\n",
      "Output notebook file: /project/def-emayada/q1k/experimental/HSJ/code/q1k_eeget_init/session_reports/RS/executed_notebooks/1525-1024_M1_RS_executed.ipynb\n",
      "Output HTML file: /project/def-emayada/q1k/experimental/HSJ/code/q1k_eeget_init/session_reports/RS/1525-1024_M1_RS.html\n"
     ]
    },
    {
     "data": {
      "application/vnd.jupyter.widget-view+json": {
       "model_id": "310df52dd09547dbbb8b8b1c9adc57a3",
       "version_major": 2,
       "version_minor": 0
      },
      "text/plain": [
       "Executing:   0%|          | 0/37 [00:00<?, ?cell/s]"
      ]
     },
     "metadata": {},
     "output_type": "display_data"
    },
    {
     "name": "stdout",
     "output_type": "stream",
     "text": [
      "HTML report saved for 1525-1024_M1.\n",
      "Current data file: /project/def-emayada/q1k/experimental/HSJ/sourcedata/eeg/Q1K_HSJ_1525-1033_M1/Q1K_HSJ_1525-1033_M1_RS_20240708_100304.mff\n",
      "Participant number: 1525-1033\n",
      "Participant relation: M1\n",
      "Participant ID input: 1525-1033_M1\n",
      "Participant ID output: 15251033M1\n",
      "1525-1033_M1\n",
      "Input notebook: /project/def-emayada/q1k/experimental/HSJ/code/q1k_eeget_init/q1k_generate_individual_reports.ipynb\n",
      "Output notebook file: /project/def-emayada/q1k/experimental/HSJ/code/q1k_eeget_init/session_reports/RS/executed_notebooks/1525-1033_M1_RS_executed.ipynb\n",
      "Output HTML file: /project/def-emayada/q1k/experimental/HSJ/code/q1k_eeget_init/session_reports/RS/1525-1033_M1_RS.html\n"
     ]
    },
    {
     "data": {
      "application/vnd.jupyter.widget-view+json": {
       "model_id": "3ccca63be2b04988a3d1eb13a6ea3e1c",
       "version_major": 2,
       "version_minor": 0
      },
      "text/plain": [
       "Executing:   0%|          | 0/37 [00:00<?, ?cell/s]"
      ]
     },
     "metadata": {},
     "output_type": "display_data"
    },
    {
     "name": "stdout",
     "output_type": "stream",
     "text": [
      "HTML report saved for 1525-1033_M1.\n",
      "Current data file: /project/def-emayada/q1k/experimental/HSJ/sourcedata/eeg/Q1K_HSJ_1025-1061_S3/Q1K_HSJ_1025-1061_S3_RS_20240718_102358.mff\n",
      "Participant number: 1025-1061\n",
      "Participant relation: S3\n",
      "Participant ID input: 1025-1061_S3\n",
      "Participant ID output: 10251061S3\n",
      "1025-1061_S3\n",
      "Input notebook: /project/def-emayada/q1k/experimental/HSJ/code/q1k_eeget_init/q1k_generate_individual_reports.ipynb\n",
      "Output notebook file: /project/def-emayada/q1k/experimental/HSJ/code/q1k_eeget_init/session_reports/RS/executed_notebooks/1025-1061_S3_RS_executed.ipynb\n",
      "Output HTML file: /project/def-emayada/q1k/experimental/HSJ/code/q1k_eeget_init/session_reports/RS/1025-1061_S3_RS.html\n"
     ]
    },
    {
     "data": {
      "application/vnd.jupyter.widget-view+json": {
       "model_id": "2cea6936342c4cf6802e691f48062a45",
       "version_major": 2,
       "version_minor": 0
      },
      "text/plain": [
       "Executing:   0%|          | 0/37 [00:00<?, ?cell/s]"
      ]
     },
     "metadata": {},
     "output_type": "display_data"
    },
    {
     "name": "stdout",
     "output_type": "stream",
     "text": [
      "HTML report saved for 1025-1061_S3.\n",
      "Current data file: /project/def-emayada/q1k/experimental/HSJ/sourcedata/eeg/Q1K_HSJ_100146_P/Q1K_HSJ_100146_P_RS_20240503_103036.mff\n",
      "Participant number: 100146\n",
      "Participant relation: P\n",
      "Participant ID input: 100146_P\n",
      "Participant ID output: 100146P\n",
      "100146_P\n",
      "Input notebook: /project/def-emayada/q1k/experimental/HSJ/code/q1k_eeget_init/q1k_generate_individual_reports.ipynb\n",
      "Output notebook file: /project/def-emayada/q1k/experimental/HSJ/code/q1k_eeget_init/session_reports/RS/executed_notebooks/100146_P_RS_executed.ipynb\n",
      "Output HTML file: /project/def-emayada/q1k/experimental/HSJ/code/q1k_eeget_init/session_reports/RS/100146_P_RS.html\n"
     ]
    },
    {
     "data": {
      "application/vnd.jupyter.widget-view+json": {
       "model_id": "c09301b6ca5c453ca4ac410742536736",
       "version_major": 2,
       "version_minor": 0
      },
      "text/plain": [
       "Executing:   0%|          | 0/37 [00:00<?, ?cell/s]"
      ]
     },
     "metadata": {},
     "output_type": "display_data"
    },
    {
     "name": "stdout",
     "output_type": "stream",
     "text": [
      "HTML report saved for 100146_P.\n",
      "Current data file: /project/def-emayada/q1k/experimental/HSJ/sourcedata/eeg/Q1K_HSJ_100119_F1/Q1K_HSJ_100119_F1_RS_20240304_113529.mff\n",
      "Participant number: 100119\n",
      "Participant relation: F1\n",
      "Participant ID input: 100119_F1\n",
      "Participant ID output: 100119F1\n",
      "100119_F1\n",
      "Input notebook: /project/def-emayada/q1k/experimental/HSJ/code/q1k_eeget_init/q1k_generate_individual_reports.ipynb\n",
      "Output notebook file: /project/def-emayada/q1k/experimental/HSJ/code/q1k_eeget_init/session_reports/RS/executed_notebooks/100119_F1_RS_executed.ipynb\n",
      "Output HTML file: /project/def-emayada/q1k/experimental/HSJ/code/q1k_eeget_init/session_reports/RS/100119_F1_RS.html\n"
     ]
    },
    {
     "data": {
      "application/vnd.jupyter.widget-view+json": {
       "model_id": "bbf07643c429454c972ab6110cb61c25",
       "version_major": 2,
       "version_minor": 0
      },
      "text/plain": [
       "Executing:   0%|          | 0/37 [00:00<?, ?cell/s]"
      ]
     },
     "metadata": {},
     "output_type": "display_data"
    },
    {
     "name": "stdout",
     "output_type": "stream",
     "text": [
      "HTML report saved for 100119_F1.\n",
      "Current data file: /project/def-emayada/q1k/experimental/HSJ/sourcedata/eeg/Q1K_HSJ_100111_M1/Q1K_HSJ_100111_M1_RS_20240412_015342.mff\n",
      "Participant number: 100111\n",
      "Participant relation: M1\n",
      "Participant ID input: 100111_M1\n",
      "Participant ID output: 100111M1\n",
      "100111_M1\n",
      "Input notebook: /project/def-emayada/q1k/experimental/HSJ/code/q1k_eeget_init/q1k_generate_individual_reports.ipynb\n",
      "Output notebook file: /project/def-emayada/q1k/experimental/HSJ/code/q1k_eeget_init/session_reports/RS/executed_notebooks/100111_M1_RS_executed.ipynb\n",
      "Output HTML file: /project/def-emayada/q1k/experimental/HSJ/code/q1k_eeget_init/session_reports/RS/100111_M1_RS.html\n"
     ]
    },
    {
     "data": {
      "application/vnd.jupyter.widget-view+json": {
       "model_id": "cf44d2dfecbd4592a69e111c6874ca1a",
       "version_major": 2,
       "version_minor": 0
      },
      "text/plain": [
       "Executing:   0%|          | 0/37 [00:00<?, ?cell/s]"
      ]
     },
     "metadata": {},
     "output_type": "display_data"
    },
    {
     "name": "stdout",
     "output_type": "stream",
     "text": [
      "Error while processing 100111_M1: \n",
      "---------------------------------------------------------------------------\n",
      "Exception encountered at \"In [29]\":\n",
      "---------------------------------------------------------------------------\n",
      "ValueError                                Traceback (most recent call last)\n",
      "Cell In[29], line 3\n",
      "      1 if et_sync:\n",
      "      2     # peak... at the ET event scatter plot.. event time stamp by DIN index\n",
      "----> 3     fig=px.scatter(x=et_events['index'],y=et_events['DIN_diff'])\n",
      "      4 else:\n",
      "      5     print('et_sync = False: skipping ET stimulus DIN offset display')\n",
      "\n",
      "File /project/def-emayada/q1k/experimental/q1k_env/lib/python3.11/site-packages/plotly/express/_chart_types.py:66, in scatter(data_frame, x, y, color, symbol, size, hover_name, hover_data, custom_data, text, facet_row, facet_col, facet_col_wrap, facet_row_spacing, facet_col_spacing, error_x, error_x_minus, error_y, error_y_minus, animation_frame, animation_group, category_orders, labels, orientation, color_discrete_sequence, color_discrete_map, color_continuous_scale, range_color, color_continuous_midpoint, symbol_sequence, symbol_map, opacity, size_max, marginal_x, marginal_y, trendline, trendline_options, trendline_color_override, trendline_scope, log_x, log_y, range_x, range_y, render_mode, title, template, width, height)\n",
      "     12 def scatter(\n",
      "     13     data_frame=None,\n",
      "     14     x=None,\n",
      "   (...)\n",
      "     60     height=None,\n",
      "     61 ) -> go.Figure:\n",
      "     62     \"\"\"\n",
      "     63     In a scatter plot, each row of `data_frame` is represented by a symbol\n",
      "     64     mark in 2D space.\n",
      "     65     \"\"\"\n",
      "---> 66     return make_figure(args=locals(), constructor=go.Scatter)\n",
      "\n",
      "File /project/def-emayada/q1k/experimental/q1k_env/lib/python3.11/site-packages/plotly/express/_core.py:2117, in make_figure(args, constructor, trace_patch, layout_patch)\n",
      "   2114 layout_patch = layout_patch or {}\n",
      "   2115 apply_default_cascade(args)\n",
      "-> 2117 args = build_dataframe(args, constructor)\n",
      "   2118 if constructor in [go.Treemap, go.Sunburst, go.Icicle] and args[\"path\"] is not None:\n",
      "   2119     args = process_dataframe_hierarchy(args)\n",
      "\n",
      "File /project/def-emayada/q1k/experimental/q1k_env/lib/python3.11/site-packages/plotly/express/_core.py:1393, in build_dataframe(args, constructor)\n",
      "   1391 if constructor in cartesians:\n",
      "   1392     if wide_x and wide_y:\n",
      "-> 1393         raise ValueError(\n",
      "   1394             \"Cannot accept list of column references or list of columns for both `x` and `y`.\"\n",
      "   1395         )\n",
      "   1396     if df_provided and no_x and no_y:\n",
      "   1397         wide_mode = True\n",
      "\n",
      "ValueError: Cannot accept list of column references or list of columns for both `x` and `y`.\n",
      "\n",
      "Current data file: /project/def-emayada/q1k/experimental/HSJ/sourcedata/eeg/Q1K_HSJ_1525-1067_P/Q1K_HSJ_1525-1067_P_RS_20240816_120910.mff\n",
      "Participant number: 1525-1067\n",
      "Participant relation: P\n",
      "Participant ID input: 1525-1067_P\n",
      "Participant ID output: 15251067P\n",
      "1525-1067_P\n",
      "Input notebook: /project/def-emayada/q1k/experimental/HSJ/code/q1k_eeget_init/q1k_generate_individual_reports.ipynb\n",
      "Output notebook file: /project/def-emayada/q1k/experimental/HSJ/code/q1k_eeget_init/session_reports/RS/executed_notebooks/1525-1067_P_RS_executed.ipynb\n",
      "Output HTML file: /project/def-emayada/q1k/experimental/HSJ/code/q1k_eeget_init/session_reports/RS/1525-1067_P_RS.html\n"
     ]
    },
    {
     "data": {
      "application/vnd.jupyter.widget-view+json": {
       "model_id": "fbba723785ac4ad19881bc85012997bd",
       "version_major": 2,
       "version_minor": 0
      },
      "text/plain": [
       "Executing:   0%|          | 0/37 [00:00<?, ?cell/s]"
      ]
     },
     "metadata": {},
     "output_type": "display_data"
    },
    {
     "name": "stdout",
     "output_type": "stream",
     "text": [
      "HTML report saved for 1525-1067_P.\n",
      "Current data file: /project/def-emayada/q1k/experimental/HSJ/sourcedata/eeg/Q1K_HSJ_1525-1080_F1/Q1K_HSJ_1525-1080_F1_RS_20240823_125039.mff\n",
      "Participant number: 1525-1080\n",
      "Participant relation: F1\n",
      "Participant ID input: 1525-1080_F1\n",
      "Participant ID output: 15251080F1\n",
      "1525-1080_F1\n",
      "Input notebook: /project/def-emayada/q1k/experimental/HSJ/code/q1k_eeget_init/q1k_generate_individual_reports.ipynb\n",
      "Output notebook file: /project/def-emayada/q1k/experimental/HSJ/code/q1k_eeget_init/session_reports/RS/executed_notebooks/1525-1080_F1_RS_executed.ipynb\n",
      "Output HTML file: /project/def-emayada/q1k/experimental/HSJ/code/q1k_eeget_init/session_reports/RS/1525-1080_F1_RS.html\n"
     ]
    },
    {
     "data": {
      "application/vnd.jupyter.widget-view+json": {
       "model_id": "16468b8b2fda4666b3f9d806b3c6c7e2",
       "version_major": 2,
       "version_minor": 0
      },
      "text/plain": [
       "Executing:   0%|          | 0/37 [00:00<?, ?cell/s]"
      ]
     },
     "metadata": {},
     "output_type": "display_data"
    },
    {
     "name": "stdout",
     "output_type": "stream",
     "text": [
      "HTML report saved for 1525-1080_F1.\n",
      "Current data file: /project/def-emayada/q1k/experimental/HSJ/sourcedata/eeg/Q1K_HSJ_100162_S1/Q1K_HSJ_100162_S1_RS_20240530_101720.mff\n",
      "Participant number: 100162\n",
      "Participant relation: S1\n",
      "Participant ID input: 100162_S1\n",
      "Participant ID output: 100162S1\n",
      "100162_S1\n",
      "Input notebook: /project/def-emayada/q1k/experimental/HSJ/code/q1k_eeget_init/q1k_generate_individual_reports.ipynb\n",
      "Output notebook file: /project/def-emayada/q1k/experimental/HSJ/code/q1k_eeget_init/session_reports/RS/executed_notebooks/100162_S1_RS_executed.ipynb\n",
      "Output HTML file: /project/def-emayada/q1k/experimental/HSJ/code/q1k_eeget_init/session_reports/RS/100162_S1_RS.html\n"
     ]
    },
    {
     "data": {
      "application/vnd.jupyter.widget-view+json": {
       "model_id": "97ec88038cee482ca7c920278e6c08aa",
       "version_major": 2,
       "version_minor": 0
      },
      "text/plain": [
       "Executing:   0%|          | 0/37 [00:00<?, ?cell/s]"
      ]
     },
     "metadata": {},
     "output_type": "display_data"
    },
    {
     "name": "stdout",
     "output_type": "stream",
     "text": [
      "Error while processing 100162_S1: \n",
      "---------------------------------------------------------------------------\n",
      "Exception encountered at \"In [29]\":\n",
      "---------------------------------------------------------------------------\n",
      "ValueError                                Traceback (most recent call last)\n",
      "Cell In[29], line 3\n",
      "      1 if et_sync:\n",
      "      2     # peak... at the ET event scatter plot.. event time stamp by DIN index\n",
      "----> 3     fig=px.scatter(x=et_events['index'],y=et_events['DIN_diff'])\n",
      "      4 else:\n",
      "      5     print('et_sync = False: skipping ET stimulus DIN offset display')\n",
      "\n",
      "File /project/def-emayada/q1k/experimental/q1k_env/lib/python3.11/site-packages/plotly/express/_chart_types.py:66, in scatter(data_frame, x, y, color, symbol, size, hover_name, hover_data, custom_data, text, facet_row, facet_col, facet_col_wrap, facet_row_spacing, facet_col_spacing, error_x, error_x_minus, error_y, error_y_minus, animation_frame, animation_group, category_orders, labels, orientation, color_discrete_sequence, color_discrete_map, color_continuous_scale, range_color, color_continuous_midpoint, symbol_sequence, symbol_map, opacity, size_max, marginal_x, marginal_y, trendline, trendline_options, trendline_color_override, trendline_scope, log_x, log_y, range_x, range_y, render_mode, title, template, width, height)\n",
      "     12 def scatter(\n",
      "     13     data_frame=None,\n",
      "     14     x=None,\n",
      "   (...)\n",
      "     60     height=None,\n",
      "     61 ) -> go.Figure:\n",
      "     62     \"\"\"\n",
      "     63     In a scatter plot, each row of `data_frame` is represented by a symbol\n",
      "     64     mark in 2D space.\n",
      "     65     \"\"\"\n",
      "---> 66     return make_figure(args=locals(), constructor=go.Scatter)\n",
      "\n",
      "File /project/def-emayada/q1k/experimental/q1k_env/lib/python3.11/site-packages/plotly/express/_core.py:2117, in make_figure(args, constructor, trace_patch, layout_patch)\n",
      "   2114 layout_patch = layout_patch or {}\n",
      "   2115 apply_default_cascade(args)\n",
      "-> 2117 args = build_dataframe(args, constructor)\n",
      "   2118 if constructor in [go.Treemap, go.Sunburst, go.Icicle] and args[\"path\"] is not None:\n",
      "   2119     args = process_dataframe_hierarchy(args)\n",
      "\n",
      "File /project/def-emayada/q1k/experimental/q1k_env/lib/python3.11/site-packages/plotly/express/_core.py:1393, in build_dataframe(args, constructor)\n",
      "   1391 if constructor in cartesians:\n",
      "   1392     if wide_x and wide_y:\n",
      "-> 1393         raise ValueError(\n",
      "   1394             \"Cannot accept list of column references or list of columns for both `x` and `y`.\"\n",
      "   1395         )\n",
      "   1396     if df_provided and no_x and no_y:\n",
      "   1397         wide_mode = True\n",
      "\n",
      "ValueError: Cannot accept list of column references or list of columns for both `x` and `y`.\n",
      "\n",
      "Current data file: /project/def-emayada/q1k/experimental/HSJ/sourcedata/eeg/Q1K_HSJ_1525_1009_M1/Q1K_HSJ_1525_1009_M1_RS_20240806_125720.mff\n",
      "Participant number: 1525\n",
      "Participant relation: 1009\n",
      "Participant ID input: 1525_1009\n",
      "Participant ID output: 15251009\n",
      "1525_1009\n",
      "Input notebook: /project/def-emayada/q1k/experimental/HSJ/code/q1k_eeget_init/q1k_generate_individual_reports.ipynb\n",
      "Output notebook file: /project/def-emayada/q1k/experimental/HSJ/code/q1k_eeget_init/session_reports/RS/executed_notebooks/1525_1009_RS_executed.ipynb\n",
      "Output HTML file: /project/def-emayada/q1k/experimental/HSJ/code/q1k_eeget_init/session_reports/RS/1525_1009_RS.html\n"
     ]
    },
    {
     "data": {
      "application/vnd.jupyter.widget-view+json": {
       "model_id": "929113f9c283445da572357eab1b20d1",
       "version_major": 2,
       "version_minor": 0
      },
      "text/plain": [
       "Executing:   0%|          | 0/37 [00:00<?, ?cell/s]"
      ]
     },
     "metadata": {},
     "output_type": "display_data"
    },
    {
     "name": "stdout",
     "output_type": "stream",
     "text": [
      "Error while processing 1525_1009: \n",
      "---------------------------------------------------------------------------\n",
      "Exception encountered at \"In [8]\":\n",
      "---------------------------------------------------------------------------\n",
      "IndexError                                Traceback (most recent call last)\n",
      "Cell In[8], line 1\n",
      "----> 1 session_file_name_eeg[0]\n",
      "\n",
      "IndexError: list index out of range\n",
      "\n",
      "Current data file: /project/def-emayada/q1k/experimental/HSJ/sourcedata/eeg/Q1K_HSJ_1525_1009_P/Q1K_HSJ_1525_1009_P_RS_20240806_034146.mff\n",
      "Participant number: 1525\n",
      "Participant relation: 1009\n",
      "Participant ID input: 1525_1009\n",
      "Participant ID output: 15251009\n",
      "1525_1009\n",
      "Input notebook: /project/def-emayada/q1k/experimental/HSJ/code/q1k_eeget_init/q1k_generate_individual_reports.ipynb\n",
      "Output notebook file: /project/def-emayada/q1k/experimental/HSJ/code/q1k_eeget_init/session_reports/RS/executed_notebooks/1525_1009_RS_executed.ipynb\n",
      "Output HTML file: /project/def-emayada/q1k/experimental/HSJ/code/q1k_eeget_init/session_reports/RS/1525_1009_RS.html\n"
     ]
    },
    {
     "data": {
      "application/vnd.jupyter.widget-view+json": {
       "model_id": "cd4e9b9eceb14119b118cace8f5a04cb",
       "version_major": 2,
       "version_minor": 0
      },
      "text/plain": [
       "Executing:   0%|          | 0/37 [00:00<?, ?cell/s]"
      ]
     },
     "metadata": {},
     "output_type": "display_data"
    },
    {
     "name": "stdout",
     "output_type": "stream",
     "text": [
      "Error while processing 1525_1009: \n",
      "---------------------------------------------------------------------------\n",
      "Exception encountered at \"In [8]\":\n",
      "---------------------------------------------------------------------------\n",
      "IndexError                                Traceback (most recent call last)\n",
      "Cell In[8], line 1\n",
      "----> 1 session_file_name_eeg[0]\n",
      "\n",
      "IndexError: list index out of range\n",
      "\n",
      "Current data file: /project/def-emayada/q1k/experimental/HSJ/sourcedata/eeg/Q1K_HSJ_100114_S2/Q1K_HSJ_100114_S2_RS_20240307_012445.mff\n",
      "Participant number: 100114\n",
      "Participant relation: S2\n",
      "Participant ID input: 100114_S2\n",
      "Participant ID output: 100114S2\n",
      "100114_S2\n",
      "Input notebook: /project/def-emayada/q1k/experimental/HSJ/code/q1k_eeget_init/q1k_generate_individual_reports.ipynb\n",
      "Output notebook file: /project/def-emayada/q1k/experimental/HSJ/code/q1k_eeget_init/session_reports/RS/executed_notebooks/100114_S2_RS_executed.ipynb\n",
      "Output HTML file: /project/def-emayada/q1k/experimental/HSJ/code/q1k_eeget_init/session_reports/RS/100114_S2_RS.html\n"
     ]
    },
    {
     "data": {
      "application/vnd.jupyter.widget-view+json": {
       "model_id": "943cb93f23d94024b2a27c8002e7aa06",
       "version_major": 2,
       "version_minor": 0
      },
      "text/plain": [
       "Executing:   0%|          | 0/37 [00:00<?, ?cell/s]"
      ]
     },
     "metadata": {},
     "output_type": "display_data"
    },
    {
     "name": "stdout",
     "output_type": "stream",
     "text": [
      "Error while processing 100114_S2: \n",
      "---------------------------------------------------------------------------\n",
      "Exception encountered at \"In [29]\":\n",
      "---------------------------------------------------------------------------\n",
      "ValueError                                Traceback (most recent call last)\n",
      "Cell In[29], line 3\n",
      "      1 if et_sync:\n",
      "      2     # peak... at the ET event scatter plot.. event time stamp by DIN index\n",
      "----> 3     fig=px.scatter(x=et_events['index'],y=et_events['DIN_diff'])\n",
      "      4 else:\n",
      "      5     print('et_sync = False: skipping ET stimulus DIN offset display')\n",
      "\n",
      "File /project/def-emayada/q1k/experimental/q1k_env/lib/python3.11/site-packages/plotly/express/_chart_types.py:66, in scatter(data_frame, x, y, color, symbol, size, hover_name, hover_data, custom_data, text, facet_row, facet_col, facet_col_wrap, facet_row_spacing, facet_col_spacing, error_x, error_x_minus, error_y, error_y_minus, animation_frame, animation_group, category_orders, labels, orientation, color_discrete_sequence, color_discrete_map, color_continuous_scale, range_color, color_continuous_midpoint, symbol_sequence, symbol_map, opacity, size_max, marginal_x, marginal_y, trendline, trendline_options, trendline_color_override, trendline_scope, log_x, log_y, range_x, range_y, render_mode, title, template, width, height)\n",
      "     12 def scatter(\n",
      "     13     data_frame=None,\n",
      "     14     x=None,\n",
      "   (...)\n",
      "     60     height=None,\n",
      "     61 ) -> go.Figure:\n",
      "     62     \"\"\"\n",
      "     63     In a scatter plot, each row of `data_frame` is represented by a symbol\n",
      "     64     mark in 2D space.\n",
      "     65     \"\"\"\n",
      "---> 66     return make_figure(args=locals(), constructor=go.Scatter)\n",
      "\n",
      "File /project/def-emayada/q1k/experimental/q1k_env/lib/python3.11/site-packages/plotly/express/_core.py:2117, in make_figure(args, constructor, trace_patch, layout_patch)\n",
      "   2114 layout_patch = layout_patch or {}\n",
      "   2115 apply_default_cascade(args)\n",
      "-> 2117 args = build_dataframe(args, constructor)\n",
      "   2118 if constructor in [go.Treemap, go.Sunburst, go.Icicle] and args[\"path\"] is not None:\n",
      "   2119     args = process_dataframe_hierarchy(args)\n",
      "\n",
      "File /project/def-emayada/q1k/experimental/q1k_env/lib/python3.11/site-packages/plotly/express/_core.py:1393, in build_dataframe(args, constructor)\n",
      "   1391 if constructor in cartesians:\n",
      "   1392     if wide_x and wide_y:\n",
      "-> 1393         raise ValueError(\n",
      "   1394             \"Cannot accept list of column references or list of columns for both `x` and `y`.\"\n",
      "   1395         )\n",
      "   1396     if df_provided and no_x and no_y:\n",
      "   1397         wide_mode = True\n",
      "\n",
      "ValueError: Cannot accept list of column references or list of columns for both `x` and `y`.\n",
      "\n",
      "Current data file: /project/def-emayada/q1k/experimental/HSJ/sourcedata/eeg/Q1K_HSJ_100114_M1/Q1K_HSJ_100114_M1_RS_20240307_030006.mff\n",
      "Participant number: 100114\n",
      "Participant relation: M1\n",
      "Participant ID input: 100114_M1\n",
      "Participant ID output: 100114M1\n",
      "100114_M1\n",
      "Input notebook: /project/def-emayada/q1k/experimental/HSJ/code/q1k_eeget_init/q1k_generate_individual_reports.ipynb\n",
      "Output notebook file: /project/def-emayada/q1k/experimental/HSJ/code/q1k_eeget_init/session_reports/RS/executed_notebooks/100114_M1_RS_executed.ipynb\n",
      "Output HTML file: /project/def-emayada/q1k/experimental/HSJ/code/q1k_eeget_init/session_reports/RS/100114_M1_RS.html\n"
     ]
    },
    {
     "data": {
      "application/vnd.jupyter.widget-view+json": {
       "model_id": "656345397cf54b0a8efd3666a36c4d19",
       "version_major": 2,
       "version_minor": 0
      },
      "text/plain": [
       "Executing:   0%|          | 0/37 [00:00<?, ?cell/s]"
      ]
     },
     "metadata": {},
     "output_type": "display_data"
    },
    {
     "name": "stdout",
     "output_type": "stream",
     "text": [
      "Error while processing 100114_M1: \n",
      "---------------------------------------------------------------------------\n",
      "Exception encountered at \"In [29]\":\n",
      "---------------------------------------------------------------------------\n",
      "ValueError                                Traceback (most recent call last)\n",
      "Cell In[29], line 3\n",
      "      1 if et_sync:\n",
      "      2     # peak... at the ET event scatter plot.. event time stamp by DIN index\n",
      "----> 3     fig=px.scatter(x=et_events['index'],y=et_events['DIN_diff'])\n",
      "      4 else:\n",
      "      5     print('et_sync = False: skipping ET stimulus DIN offset display')\n",
      "\n",
      "File /project/def-emayada/q1k/experimental/q1k_env/lib/python3.11/site-packages/plotly/express/_chart_types.py:66, in scatter(data_frame, x, y, color, symbol, size, hover_name, hover_data, custom_data, text, facet_row, facet_col, facet_col_wrap, facet_row_spacing, facet_col_spacing, error_x, error_x_minus, error_y, error_y_minus, animation_frame, animation_group, category_orders, labels, orientation, color_discrete_sequence, color_discrete_map, color_continuous_scale, range_color, color_continuous_midpoint, symbol_sequence, symbol_map, opacity, size_max, marginal_x, marginal_y, trendline, trendline_options, trendline_color_override, trendline_scope, log_x, log_y, range_x, range_y, render_mode, title, template, width, height)\n",
      "     12 def scatter(\n",
      "     13     data_frame=None,\n",
      "     14     x=None,\n",
      "   (...)\n",
      "     60     height=None,\n",
      "     61 ) -> go.Figure:\n",
      "     62     \"\"\"\n",
      "     63     In a scatter plot, each row of `data_frame` is represented by a symbol\n",
      "     64     mark in 2D space.\n",
      "     65     \"\"\"\n",
      "---> 66     return make_figure(args=locals(), constructor=go.Scatter)\n",
      "\n",
      "File /project/def-emayada/q1k/experimental/q1k_env/lib/python3.11/site-packages/plotly/express/_core.py:2117, in make_figure(args, constructor, trace_patch, layout_patch)\n",
      "   2114 layout_patch = layout_patch or {}\n",
      "   2115 apply_default_cascade(args)\n",
      "-> 2117 args = build_dataframe(args, constructor)\n",
      "   2118 if constructor in [go.Treemap, go.Sunburst, go.Icicle] and args[\"path\"] is not None:\n",
      "   2119     args = process_dataframe_hierarchy(args)\n",
      "\n",
      "File /project/def-emayada/q1k/experimental/q1k_env/lib/python3.11/site-packages/plotly/express/_core.py:1393, in build_dataframe(args, constructor)\n",
      "   1391 if constructor in cartesians:\n",
      "   1392     if wide_x and wide_y:\n",
      "-> 1393         raise ValueError(\n",
      "   1394             \"Cannot accept list of column references or list of columns for both `x` and `y`.\"\n",
      "   1395         )\n",
      "   1396     if df_provided and no_x and no_y:\n",
      "   1397         wide_mode = True\n",
      "\n",
      "ValueError: Cannot accept list of column references or list of columns for both `x` and `y`.\n",
      "\n",
      "Current data file: /project/def-emayada/q1k/experimental/HSJ/sourcedata/eeg/Q1K_HSJ_10086_F1/Q1K_HSJ_10086_F1_RS_20240207_013720.mff\n",
      "Participant number: 10086\n",
      "Participant relation: F1\n",
      "Participant ID input: 10086_F1\n",
      "Participant ID output: 10086F1\n",
      "10086_F1\n",
      "Input notebook: /project/def-emayada/q1k/experimental/HSJ/code/q1k_eeget_init/q1k_generate_individual_reports.ipynb\n",
      "Output notebook file: /project/def-emayada/q1k/experimental/HSJ/code/q1k_eeget_init/session_reports/RS/executed_notebooks/10086_F1_RS_executed.ipynb\n",
      "Output HTML file: /project/def-emayada/q1k/experimental/HSJ/code/q1k_eeget_init/session_reports/RS/10086_F1_RS.html\n"
     ]
    },
    {
     "data": {
      "application/vnd.jupyter.widget-view+json": {
       "model_id": "a886ea930fd44ad8adbdb8aabca96f09",
       "version_major": 2,
       "version_minor": 0
      },
      "text/plain": [
       "Executing:   0%|          | 0/37 [00:00<?, ?cell/s]"
      ]
     },
     "metadata": {},
     "output_type": "display_data"
    },
    {
     "name": "stdout",
     "output_type": "stream",
     "text": [
      "HTML report saved for 10086_F1.\n",
      "Current data file: /project/def-emayada/q1k/experimental/HSJ/sourcedata/eeg/Q1K_HSJ_1525-1080_P/Q1K_HSJ_1525-1080_P_RS_20240823_020457.mff\n",
      "Participant number: 1525-1080\n",
      "Participant relation: P\n",
      "Participant ID input: 1525-1080_P\n",
      "Participant ID output: 15251080P\n",
      "1525-1080_P\n",
      "Input notebook: /project/def-emayada/q1k/experimental/HSJ/code/q1k_eeget_init/q1k_generate_individual_reports.ipynb\n",
      "Output notebook file: /project/def-emayada/q1k/experimental/HSJ/code/q1k_eeget_init/session_reports/RS/executed_notebooks/1525-1080_P_RS_executed.ipynb\n",
      "Output HTML file: /project/def-emayada/q1k/experimental/HSJ/code/q1k_eeget_init/session_reports/RS/1525-1080_P_RS.html\n"
     ]
    },
    {
     "data": {
      "application/vnd.jupyter.widget-view+json": {
       "model_id": "1bc5ea162b864a5fb7842906928a2c4f",
       "version_major": 2,
       "version_minor": 0
      },
      "text/plain": [
       "Executing:   0%|          | 0/37 [00:00<?, ?cell/s]"
      ]
     },
     "metadata": {},
     "output_type": "display_data"
    },
    {
     "name": "stderr",
     "output_type": "stream",
     "text": [
      "Passed unknown parameter: subject_id_in\n",
      "Passed unknown parameter: subject_id_out\n",
      "Passed unknown parameter: task_id_in\n",
      "Passed unknown parameter: task_id_in_et\n",
      "Passed unknown parameter: task_id_out\n",
      "Passed unknown parameter: run_id\n",
      "Passed unknown parameter: session_id\n",
      "Passed unknown parameter: project_path\n",
      "Passed unknown parameter: dataset_group\n",
      "Passed unknown parameter: site_code\n"
     ]
    },
    {
     "name": "stdout",
     "output_type": "stream",
     "text": [
      "HTML report saved for 1525-1080_P.\n",
      "Current data file: /project/def-emayada/q1k/experimental/HSJ/sourcedata/eeg/Q1K_HSJ_100154_P/Q1K_HSJ_100154_P_RS_20240604_111213.mff\n",
      "Participant number: 100154\n",
      "Participant relation: P\n",
      "Participant ID input: 100154_P\n",
      "Participant ID output: 100154P\n",
      "100154_P\n",
      "Input notebook: /project/def-emayada/q1k/experimental/HSJ/code/q1k_eeget_init/q1k_generate_individual_reports.ipynb\n",
      "Output notebook file: /project/def-emayada/q1k/experimental/HSJ/code/q1k_eeget_init/session_reports/RS/executed_notebooks/100154_P_RS_executed.ipynb\n",
      "Output HTML file: /project/def-emayada/q1k/experimental/HSJ/code/q1k_eeget_init/session_reports/RS/100154_P_RS.html\n"
     ]
    },
    {
     "data": {
      "application/vnd.jupyter.widget-view+json": {
       "model_id": "6f9df59631f842cda36552dffb105145",
       "version_major": 2,
       "version_minor": 0
      },
      "text/plain": [
       "Executing:   0%|          | 0/37 [00:00<?, ?cell/s]"
      ]
     },
     "metadata": {},
     "output_type": "display_data"
    },
    {
     "name": "stderr",
     "output_type": "stream",
     "text": [
      "Passed unknown parameter: subject_id_in\n",
      "Passed unknown parameter: subject_id_out\n",
      "Passed unknown parameter: task_id_in\n",
      "Passed unknown parameter: task_id_in_et\n",
      "Passed unknown parameter: task_id_out\n",
      "Passed unknown parameter: run_id\n",
      "Passed unknown parameter: session_id\n",
      "Passed unknown parameter: project_path\n",
      "Passed unknown parameter: dataset_group\n",
      "Passed unknown parameter: site_code\n"
     ]
    },
    {
     "name": "stdout",
     "output_type": "stream",
     "text": [
      "Error while processing 100154_P: \n",
      "---------------------------------------------------------------------------\n",
      "Exception encountered at \"In [1]\":\n",
      "---------------------------------------------------------------------------\n",
      "NameError                                 Traceback (most recent call last)\n",
      "Cell In[1], line 27\n",
      "      1 #use these parameters for testing this notebook outside of the automated loop of q1k_automated_reports.ipynb\n",
      "      2 #subject_id_in = \"100134_F1\"\n",
      "      3 #subject_id_out = \"100134F1\"\n",
      "   (...)\n",
      "     24 #site_code = \"\"\n",
      "     25 #et_sync = True\n",
      "---> 27 print('subject_id_in: ' + subject_id_in)\n",
      "     28 print('subject_id_out: ' + subject_id_out)\n",
      "     29 print('task_id_in: ' + task_id_in)\n",
      "\n",
      "NameError: name 'subject_id_in' is not defined\n",
      "\n",
      "Current data file: /project/def-emayada/q1k/experimental/HSJ/sourcedata/eeg/Q1K_HSJ_1525-1033_S1/Q1K_HSJ_1525-1033_S1_RS_20240708_114147.mff\n",
      "Participant number: 1525-1033\n",
      "Participant relation: S1\n",
      "Participant ID input: 1525-1033_S1\n",
      "Participant ID output: 15251033S1\n",
      "1525-1033_S1\n",
      "Input notebook: /project/def-emayada/q1k/experimental/HSJ/code/q1k_eeget_init/q1k_generate_individual_reports.ipynb\n",
      "Output notebook file: /project/def-emayada/q1k/experimental/HSJ/code/q1k_eeget_init/session_reports/RS/executed_notebooks/1525-1033_S1_RS_executed.ipynb\n",
      "Output HTML file: /project/def-emayada/q1k/experimental/HSJ/code/q1k_eeget_init/session_reports/RS/1525-1033_S1_RS.html\n"
     ]
    },
    {
     "data": {
      "application/vnd.jupyter.widget-view+json": {
       "model_id": "8d4f03308c7f4b63b55507c1f9fd5348",
       "version_major": 2,
       "version_minor": 0
      },
      "text/plain": [
       "Executing:   0%|          | 0/37 [00:00<?, ?cell/s]"
      ]
     },
     "metadata": {},
     "output_type": "display_data"
    },
    {
     "name": "stderr",
     "output_type": "stream",
     "text": [
      "Passed unknown parameter: subject_id_in\n",
      "Passed unknown parameter: subject_id_out\n",
      "Passed unknown parameter: task_id_in\n",
      "Passed unknown parameter: task_id_in_et\n",
      "Passed unknown parameter: task_id_out\n",
      "Passed unknown parameter: run_id\n",
      "Passed unknown parameter: session_id\n",
      "Passed unknown parameter: project_path\n",
      "Passed unknown parameter: dataset_group\n",
      "Passed unknown parameter: site_code\n"
     ]
    },
    {
     "name": "stdout",
     "output_type": "stream",
     "text": [
      "Error while processing 1525-1033_S1: \n",
      "---------------------------------------------------------------------------\n",
      "Exception encountered at \"In [1]\":\n",
      "---------------------------------------------------------------------------\n",
      "NameError                                 Traceback (most recent call last)\n",
      "Cell In[1], line 27\n",
      "      1 #use these parameters for testing this notebook outside of the automated loop of q1k_automated_reports.ipynb\n",
      "      2 #subject_id_in = \"100134_F1\"\n",
      "      3 #subject_id_out = \"100134F1\"\n",
      "   (...)\n",
      "     24 #site_code = \"\"\n",
      "     25 #et_sync = True\n",
      "---> 27 print('subject_id_in: ' + subject_id_in)\n",
      "     28 print('subject_id_out: ' + subject_id_out)\n",
      "     29 print('task_id_in: ' + task_id_in)\n",
      "\n",
      "NameError: name 'subject_id_in' is not defined\n",
      "\n",
      "Current data file: /project/def-emayada/q1k/experimental/HSJ/sourcedata/eeg/Q1K_HSJ_1525-1057_P/Q1K_HSJ_1525-1057_P_RS_20240722_120201.mff\n",
      "Participant number: 1525-1057\n",
      "Participant relation: P\n",
      "Participant ID input: 1525-1057_P\n",
      "Participant ID output: 15251057P\n",
      "1525-1057_P\n",
      "Input notebook: /project/def-emayada/q1k/experimental/HSJ/code/q1k_eeget_init/q1k_generate_individual_reports.ipynb\n",
      "Output notebook file: /project/def-emayada/q1k/experimental/HSJ/code/q1k_eeget_init/session_reports/RS/executed_notebooks/1525-1057_P_RS_executed.ipynb\n",
      "Output HTML file: /project/def-emayada/q1k/experimental/HSJ/code/q1k_eeget_init/session_reports/RS/1525-1057_P_RS.html\n"
     ]
    },
    {
     "data": {
      "application/vnd.jupyter.widget-view+json": {
       "model_id": "e2545a177e3b448390095f035f81f32c",
       "version_major": 2,
       "version_minor": 0
      },
      "text/plain": [
       "Executing:   0%|          | 0/37 [00:00<?, ?cell/s]"
      ]
     },
     "metadata": {},
     "output_type": "display_data"
    },
    {
     "name": "stderr",
     "output_type": "stream",
     "text": [
      "Passed unknown parameter: subject_id_in\n",
      "Passed unknown parameter: subject_id_out\n",
      "Passed unknown parameter: task_id_in\n",
      "Passed unknown parameter: task_id_in_et\n",
      "Passed unknown parameter: task_id_out\n",
      "Passed unknown parameter: run_id\n",
      "Passed unknown parameter: session_id\n",
      "Passed unknown parameter: project_path\n",
      "Passed unknown parameter: dataset_group\n",
      "Passed unknown parameter: site_code\n"
     ]
    },
    {
     "name": "stdout",
     "output_type": "stream",
     "text": [
      "Error while processing 1525-1057_P: \n",
      "---------------------------------------------------------------------------\n",
      "Exception encountered at \"In [1]\":\n",
      "---------------------------------------------------------------------------\n",
      "NameError                                 Traceback (most recent call last)\n",
      "Cell In[1], line 27\n",
      "      1 #use these parameters for testing this notebook outside of the automated loop of q1k_automated_reports.ipynb\n",
      "      2 #subject_id_in = \"100134_F1\"\n",
      "      3 #subject_id_out = \"100134F1\"\n",
      "   (...)\n",
      "     24 #site_code = \"\"\n",
      "     25 #et_sync = True\n",
      "---> 27 print('subject_id_in: ' + subject_id_in)\n",
      "     28 print('subject_id_out: ' + subject_id_out)\n",
      "     29 print('task_id_in: ' + task_id_in)\n",
      "\n",
      "NameError: name 'subject_id_in' is not defined\n",
      "\n",
      "Current data file: /project/def-emayada/q1k/experimental/HSJ/sourcedata/eeg/Q1K_HSJ_100147_F2/Q1K_HSJ_100147_F2_RS_20240501_095622.mff\n",
      "Participant number: 100147\n",
      "Participant relation: F2\n",
      "Participant ID input: 100147_F2\n",
      "Participant ID output: 100147F2\n",
      "100147_F2\n",
      "Input notebook: /project/def-emayada/q1k/experimental/HSJ/code/q1k_eeget_init/q1k_generate_individual_reports.ipynb\n",
      "Output notebook file: /project/def-emayada/q1k/experimental/HSJ/code/q1k_eeget_init/session_reports/RS/executed_notebooks/100147_F2_RS_executed.ipynb\n",
      "Output HTML file: /project/def-emayada/q1k/experimental/HSJ/code/q1k_eeget_init/session_reports/RS/100147_F2_RS.html\n"
     ]
    },
    {
     "data": {
      "application/vnd.jupyter.widget-view+json": {
       "model_id": "30f236477c2e404a917c3ca4d4408a0b",
       "version_major": 2,
       "version_minor": 0
      },
      "text/plain": [
       "Executing:   0%|          | 0/37 [00:00<?, ?cell/s]"
      ]
     },
     "metadata": {},
     "output_type": "display_data"
    },
    {
     "name": "stderr",
     "output_type": "stream",
     "text": [
      "Passed unknown parameter: subject_id_in\n",
      "Passed unknown parameter: subject_id_out\n",
      "Passed unknown parameter: task_id_in\n",
      "Passed unknown parameter: task_id_in_et\n",
      "Passed unknown parameter: task_id_out\n",
      "Passed unknown parameter: run_id\n",
      "Passed unknown parameter: session_id\n",
      "Passed unknown parameter: project_path\n",
      "Passed unknown parameter: dataset_group\n",
      "Passed unknown parameter: site_code\n"
     ]
    },
    {
     "name": "stdout",
     "output_type": "stream",
     "text": [
      "Error while processing 100147_F2: \n",
      "---------------------------------------------------------------------------\n",
      "Exception encountered at \"In [1]\":\n",
      "---------------------------------------------------------------------------\n",
      "NameError                                 Traceback (most recent call last)\n",
      "Cell In[1], line 27\n",
      "      1 #use these parameters for testing this notebook outside of the automated loop of q1k_automated_reports.ipynb\n",
      "      2 #subject_id_in = \"100134_F1\"\n",
      "      3 #subject_id_out = \"100134F1\"\n",
      "   (...)\n",
      "     24 #site_code = \"\"\n",
      "     25 #et_sync = True\n",
      "---> 27 print('subject_id_in: ' + subject_id_in)\n",
      "     28 print('subject_id_out: ' + subject_id_out)\n",
      "     29 print('task_id_in: ' + task_id_in)\n",
      "\n",
      "NameError: name 'subject_id_in' is not defined\n",
      "\n",
      "Current data file: /project/def-emayada/q1k/experimental/HSJ/sourcedata/eeg/Q1K_HSJ_1525_1052_S1/Q1K_HSJ_1525_1052_S1_RS_20240712_114040.mff\n",
      "Participant number: 1525\n",
      "Participant relation: 1052\n",
      "Participant ID input: 1525_1052\n",
      "Participant ID output: 15251052\n",
      "1525_1052\n",
      "Input notebook: /project/def-emayada/q1k/experimental/HSJ/code/q1k_eeget_init/q1k_generate_individual_reports.ipynb\n",
      "Output notebook file: /project/def-emayada/q1k/experimental/HSJ/code/q1k_eeget_init/session_reports/RS/executed_notebooks/1525_1052_RS_executed.ipynb\n",
      "Output HTML file: /project/def-emayada/q1k/experimental/HSJ/code/q1k_eeget_init/session_reports/RS/1525_1052_RS.html\n"
     ]
    },
    {
     "data": {
      "application/vnd.jupyter.widget-view+json": {
       "model_id": "4577f684ecc149c496b15b563265d3d0",
       "version_major": 2,
       "version_minor": 0
      },
      "text/plain": [
       "Executing:   0%|          | 0/37 [00:00<?, ?cell/s]"
      ]
     },
     "metadata": {},
     "output_type": "display_data"
    },
    {
     "name": "stdout",
     "output_type": "stream",
     "text": [
      "Error while processing 1525_1052: \n",
      "---------------------------------------------------------------------------\n",
      "Exception encountered at \"In [1]\":\n",
      "---------------------------------------------------------------------------\n",
      "NameError                                 Traceback (most recent call last)\n",
      "Cell In[1], line 27\n",
      "      1 #use these parameters for testing this notebook outside of the automated loop of q1k_automated_reports.ipynb\n",
      "      2 #subject_id_in = \"100134_F1\"\n",
      "      3 #subject_id_out = \"100134F1\"\n",
      "   (...)\n",
      "     24 #site_code = \"\"\n",
      "     25 #et_sync = True\n",
      "---> 27 print('subject_id_in: ' + subject_id_in)\n",
      "     28 print('subject_id_out: ' + subject_id_out)\n",
      "     29 print('task_id_in: ' + task_id_in)\n",
      "\n",
      "NameError: name 'subject_id_in' is not defined\n",
      "\n",
      "Current data file: /project/def-emayada/q1k/experimental/HSJ/sourcedata/eeg/Q1K_HSJ_1525_1018_P/Q1K_HSJ_1525_1018_P_RS_20240809_110113.mff\n",
      "Participant number: 1525\n",
      "Participant relation: 1018\n",
      "Participant ID input: 1525_1018\n",
      "Participant ID output: 15251018\n",
      "1525_1018\n",
      "Input notebook: /project/def-emayada/q1k/experimental/HSJ/code/q1k_eeget_init/q1k_generate_individual_reports.ipynb\n",
      "Output notebook file: /project/def-emayada/q1k/experimental/HSJ/code/q1k_eeget_init/session_reports/RS/executed_notebooks/1525_1018_RS_executed.ipynb\n",
      "Output HTML file: /project/def-emayada/q1k/experimental/HSJ/code/q1k_eeget_init/session_reports/RS/1525_1018_RS.html\n"
     ]
    },
    {
     "data": {
      "application/vnd.jupyter.widget-view+json": {
       "model_id": "7112e0923bf74195a0b85e8139cf0954",
       "version_major": 2,
       "version_minor": 0
      },
      "text/plain": [
       "Executing:   0%|          | 0/37 [00:00<?, ?cell/s]"
      ]
     },
     "metadata": {},
     "output_type": "display_data"
    },
    {
     "name": "stdout",
     "output_type": "stream",
     "text": [
      "Error while processing 1525_1018: \n",
      "---------------------------------------------------------------------------\n",
      "Exception encountered at \"In [8]\":\n",
      "---------------------------------------------------------------------------\n",
      "IndexError                                Traceback (most recent call last)\n",
      "Cell In[8], line 1\n",
      "----> 1 session_file_name_eeg[0]\n",
      "\n",
      "IndexError: list index out of range\n",
      "\n",
      "Current data file: /project/def-emayada/q1k/experimental/HSJ/sourcedata/eeg/Q1K_HSJ_100126_P/Q1K_HSJ_100126_P_RS_20240314_025247.mff\n",
      "Participant number: 100126\n",
      "Participant relation: P\n",
      "Participant ID input: 100126_P\n",
      "Participant ID output: 100126P\n",
      "100126_P\n",
      "Input notebook: /project/def-emayada/q1k/experimental/HSJ/code/q1k_eeget_init/q1k_generate_individual_reports.ipynb\n",
      "Output notebook file: /project/def-emayada/q1k/experimental/HSJ/code/q1k_eeget_init/session_reports/RS/executed_notebooks/100126_P_RS_executed.ipynb\n",
      "Output HTML file: /project/def-emayada/q1k/experimental/HSJ/code/q1k_eeget_init/session_reports/RS/100126_P_RS.html\n"
     ]
    },
    {
     "data": {
      "application/vnd.jupyter.widget-view+json": {
       "model_id": "1691b154972a4c18af73871ba6ea6482",
       "version_major": 2,
       "version_minor": 0
      },
      "text/plain": [
       "Executing:   0%|          | 0/37 [00:00<?, ?cell/s]"
      ]
     },
     "metadata": {},
     "output_type": "display_data"
    },
    {
     "name": "stdout",
     "output_type": "stream",
     "text": [
      "HTML report saved for 100126_P.\n",
      "Current data file: /project/def-emayada/q1k/experimental/HSJ/sourcedata/eeg/Q1K_HSJ_100104_C1/Q1K_HSJ_100104_C1_RS_20240702_113024.mff\n",
      "Participant number: 100104\n",
      "Participant relation: C1\n",
      "Participant ID input: 100104_C1\n",
      "Participant ID output: 100104C1\n",
      "100104_C1\n",
      "Input notebook: /project/def-emayada/q1k/experimental/HSJ/code/q1k_eeget_init/q1k_generate_individual_reports.ipynb\n",
      "Output notebook file: /project/def-emayada/q1k/experimental/HSJ/code/q1k_eeget_init/session_reports/RS/executed_notebooks/100104_C1_RS_executed.ipynb\n",
      "Output HTML file: /project/def-emayada/q1k/experimental/HSJ/code/q1k_eeget_init/session_reports/RS/100104_C1_RS.html\n"
     ]
    },
    {
     "data": {
      "application/vnd.jupyter.widget-view+json": {
       "model_id": "31bd2cc0d8eb4eaea1c5c401ea466ff3",
       "version_major": 2,
       "version_minor": 0
      },
      "text/plain": [
       "Executing:   0%|          | 0/37 [00:00<?, ?cell/s]"
      ]
     },
     "metadata": {},
     "output_type": "display_data"
    },
    {
     "name": "stdout",
     "output_type": "stream",
     "text": [
      "HTML report saved for 100104_C1.\n",
      "Current data file: /project/def-emayada/q1k/experimental/HSJ/sourcedata/eeg/Q1K_HSJ_10043_P/Q1K_HSJ_10043_P_RS_20240328_114417.mff\n",
      "Participant number: 10043\n",
      "Participant relation: P\n",
      "Participant ID input: 10043_P\n",
      "Participant ID output: 10043P\n",
      "10043_P\n",
      "Input notebook: /project/def-emayada/q1k/experimental/HSJ/code/q1k_eeget_init/q1k_generate_individual_reports.ipynb\n",
      "Output notebook file: /project/def-emayada/q1k/experimental/HSJ/code/q1k_eeget_init/session_reports/RS/executed_notebooks/10043_P_RS_executed.ipynb\n",
      "Output HTML file: /project/def-emayada/q1k/experimental/HSJ/code/q1k_eeget_init/session_reports/RS/10043_P_RS.html\n"
     ]
    },
    {
     "data": {
      "application/vnd.jupyter.widget-view+json": {
       "model_id": "9869c91cb49f4625a8e03c15b071b4e3",
       "version_major": 2,
       "version_minor": 0
      },
      "text/plain": [
       "Executing:   0%|          | 0/37 [00:00<?, ?cell/s]"
      ]
     },
     "metadata": {},
     "output_type": "display_data"
    },
    {
     "name": "stdout",
     "output_type": "stream",
     "text": [
      "HTML report saved for 10043_P.\n",
      "Current data file: /project/def-emayada/q1k/experimental/HSJ/sourcedata/eeg/Q1K_HSJ_10062_P/Q1K_HSJ_10062_P_RS_20240419_030430.mff\n",
      "Participant number: 10062\n",
      "Participant relation: P\n",
      "Participant ID input: 10062_P\n",
      "Participant ID output: 10062P\n",
      "10062_P\n",
      "Input notebook: /project/def-emayada/q1k/experimental/HSJ/code/q1k_eeget_init/q1k_generate_individual_reports.ipynb\n",
      "Output notebook file: /project/def-emayada/q1k/experimental/HSJ/code/q1k_eeget_init/session_reports/RS/executed_notebooks/10062_P_RS_executed.ipynb\n",
      "Output HTML file: /project/def-emayada/q1k/experimental/HSJ/code/q1k_eeget_init/session_reports/RS/10062_P_RS.html\n"
     ]
    },
    {
     "data": {
      "application/vnd.jupyter.widget-view+json": {
       "model_id": "cb5c991ae0b44f00a345c0a34512d0a9",
       "version_major": 2,
       "version_minor": 0
      },
      "text/plain": [
       "Executing:   0%|          | 0/37 [00:00<?, ?cell/s]"
      ]
     },
     "metadata": {},
     "output_type": "display_data"
    },
    {
     "name": "stdout",
     "output_type": "stream",
     "text": [
      "HTML report saved for 10062_P.\n",
      "Current data file: /project/def-emayada/q1k/experimental/HSJ/sourcedata/eeg/Q1K_HSJ_1525-1024_P/Q1K_HSJ_1525-1024_P_RS_20240625_125733.mff\n",
      "Participant number: 1525-1024\n",
      "Participant relation: P\n",
      "Participant ID input: 1525-1024_P\n",
      "Participant ID output: 15251024P\n",
      "1525-1024_P\n",
      "Input notebook: /project/def-emayada/q1k/experimental/HSJ/code/q1k_eeget_init/q1k_generate_individual_reports.ipynb\n",
      "Output notebook file: /project/def-emayada/q1k/experimental/HSJ/code/q1k_eeget_init/session_reports/RS/executed_notebooks/1525-1024_P_RS_executed.ipynb\n",
      "Output HTML file: /project/def-emayada/q1k/experimental/HSJ/code/q1k_eeget_init/session_reports/RS/1525-1024_P_RS.html\n"
     ]
    },
    {
     "data": {
      "application/vnd.jupyter.widget-view+json": {
       "model_id": "61bda370f0cc47d5a37b3e5ada490896",
       "version_major": 2,
       "version_minor": 0
      },
      "text/plain": [
       "Executing:   0%|          | 0/37 [00:00<?, ?cell/s]"
      ]
     },
     "metadata": {},
     "output_type": "display_data"
    },
    {
     "name": "stderr",
     "output_type": "stream",
     "text": [
      "Kernel died while waiting for execute reply.\n"
     ]
    },
    {
     "name": "stdout",
     "output_type": "stream",
     "text": [
      "Error while processing 1525-1024_P: This event loop is already running\n",
      "Current data file: /project/def-emayada/q1k/experimental/HSJ/sourcedata/eeg/Q1K_HSJ_1525-1024_P/Q1K_HSJ_1525-1024_P_RS_20240625_125100.mff\n",
      "Participant number: 1525-1024\n",
      "Participant relation: P\n",
      "Participant ID input: 1525-1024_P\n",
      "Participant ID output: 15251024P\n",
      "1525-1024_P\n",
      "Input notebook: /project/def-emayada/q1k/experimental/HSJ/code/q1k_eeget_init/q1k_generate_individual_reports.ipynb\n",
      "Output notebook file: /project/def-emayada/q1k/experimental/HSJ/code/q1k_eeget_init/session_reports/RS/executed_notebooks/1525-1024_P_RS_executed.ipynb\n",
      "Output HTML file: /project/def-emayada/q1k/experimental/HSJ/code/q1k_eeget_init/session_reports/RS/1525-1024_P_RS.html\n"
     ]
    },
    {
     "data": {
      "application/vnd.jupyter.widget-view+json": {
       "model_id": "b66e2a82e43e45388216d278331acfb2",
       "version_major": 2,
       "version_minor": 0
      },
      "text/plain": [
       "Executing:   0%|          | 0/37 [00:00<?, ?cell/s]"
      ]
     },
     "metadata": {},
     "output_type": "display_data"
    },
    {
     "name": "stderr",
     "output_type": "stream",
     "text": [
      "Kernel died while waiting for execute reply.\n"
     ]
    },
    {
     "name": "stdout",
     "output_type": "stream",
     "text": [
      "Error while processing 1525-1024_P: This event loop is already running\n",
      "Current data file: /project/def-emayada/q1k/experimental/HSJ/sourcedata/eeg/Q1K_HSJ_100108_F1/Q1K_HSJ_100108_F1_RS_20240312_124021.mff\n",
      "Participant number: 100108\n",
      "Participant relation: F1\n",
      "Participant ID input: 100108_F1\n",
      "Participant ID output: 100108F1\n",
      "100108_F1\n",
      "Input notebook: /project/def-emayada/q1k/experimental/HSJ/code/q1k_eeget_init/q1k_generate_individual_reports.ipynb\n",
      "Output notebook file: /project/def-emayada/q1k/experimental/HSJ/code/q1k_eeget_init/session_reports/RS/executed_notebooks/100108_F1_RS_executed.ipynb\n",
      "Output HTML file: /project/def-emayada/q1k/experimental/HSJ/code/q1k_eeget_init/session_reports/RS/100108_F1_RS.html\n"
     ]
    },
    {
     "data": {
      "application/vnd.jupyter.widget-view+json": {
       "model_id": "6f7e7b403d3a47d48fda0a34e7e5f56d",
       "version_major": 2,
       "version_minor": 0
      },
      "text/plain": [
       "Executing:   0%|          | 0/37 [00:00<?, ?cell/s]"
      ]
     },
     "metadata": {},
     "output_type": "display_data"
    },
    {
     "name": "stdout",
     "output_type": "stream",
     "text": [
      "Error while processing 100108_F1: \n",
      "---------------------------------------------------------------------------\n",
      "Exception encountered at \"In [23]\":\n",
      "  Cell In[23], line 3\n",
      "    et_types = et_raw.get_channel_types())\n",
      "                                         ^\n",
      "SyntaxError: unmatched ')'\n",
      "\n",
      "\n",
      "Current data file: /project/def-emayada/q1k/experimental/HSJ/sourcedata/eeg/Q1K_HSJ_1025-1061_F1/Q1K_HSJ_1025-1061_F1_RS_20240718_113923.mff\n",
      "Participant number: 1025-1061\n",
      "Participant relation: F1\n",
      "Participant ID input: 1025-1061_F1\n",
      "Participant ID output: 10251061F1\n",
      "1025-1061_F1\n",
      "Input notebook: /project/def-emayada/q1k/experimental/HSJ/code/q1k_eeget_init/q1k_generate_individual_reports.ipynb\n",
      "Output notebook file: /project/def-emayada/q1k/experimental/HSJ/code/q1k_eeget_init/session_reports/RS/executed_notebooks/1025-1061_F1_RS_executed.ipynb\n",
      "Output HTML file: /project/def-emayada/q1k/experimental/HSJ/code/q1k_eeget_init/session_reports/RS/1025-1061_F1_RS.html\n"
     ]
    },
    {
     "data": {
      "application/vnd.jupyter.widget-view+json": {
       "model_id": "b0596aca0e0a4b33aafd73e17a6a025b",
       "version_major": 2,
       "version_minor": 0
      },
      "text/plain": [
       "Executing:   0%|          | 0/37 [00:00<?, ?cell/s]"
      ]
     },
     "metadata": {},
     "output_type": "display_data"
    },
    {
     "name": "stdout",
     "output_type": "stream",
     "text": [
      "Error while processing 1025-1061_F1: \n",
      "---------------------------------------------------------------------------\n",
      "Exception encountered at \"In [23]\":\n",
      "  Cell In[23], line 3\n",
      "    et_types = et_raw.get_channel_types())\n",
      "                                         ^\n",
      "SyntaxError: unmatched ')'\n",
      "\n",
      "\n",
      "Current data file: /project/def-emayada/q1k/experimental/HSJ/sourcedata/eeg/Q1K_HSJ_1525_1042_F1/Q1K_HSJ_1025-1042_F1_RS_20240715_092109.mff\n",
      "Participant number: 1525\n",
      "Participant relation: 1042\n",
      "Participant ID input: 1525_1042\n",
      "Participant ID output: 15251042\n",
      "1525_1042\n",
      "Input notebook: /project/def-emayada/q1k/experimental/HSJ/code/q1k_eeget_init/q1k_generate_individual_reports.ipynb\n",
      "Output notebook file: /project/def-emayada/q1k/experimental/HSJ/code/q1k_eeget_init/session_reports/RS/executed_notebooks/1525_1042_RS_executed.ipynb\n",
      "Output HTML file: /project/def-emayada/q1k/experimental/HSJ/code/q1k_eeget_init/session_reports/RS/1525_1042_RS.html\n"
     ]
    },
    {
     "data": {
      "application/vnd.jupyter.widget-view+json": {
       "model_id": "8c8eb14249e54ba4be9e7f45d7903ce7",
       "version_major": 2,
       "version_minor": 0
      },
      "text/plain": [
       "Executing:   0%|          | 0/37 [00:00<?, ?cell/s]"
      ]
     },
     "metadata": {},
     "output_type": "display_data"
    },
    {
     "name": "stdout",
     "output_type": "stream",
     "text": [
      "Error while processing 1525_1042: \n",
      "---------------------------------------------------------------------------\n",
      "Exception encountered at \"In [8]\":\n",
      "---------------------------------------------------------------------------\n",
      "IndexError                                Traceback (most recent call last)\n",
      "Cell In[8], line 1\n",
      "----> 1 session_file_name_eeg[0]\n",
      "\n",
      "IndexError: list index out of range\n",
      "\n",
      "Current data file: /project/def-emayada/q1k/experimental/HSJ/sourcedata/eeg/Q1K_HSJ_10064_M1/Q1K_HSJ_10064_M1_RS_20240620_093924.mff\n",
      "Participant number: 10064\n",
      "Participant relation: M1\n",
      "Participant ID input: 10064_M1\n",
      "Participant ID output: 10064M1\n",
      "10064_M1\n",
      "Input notebook: /project/def-emayada/q1k/experimental/HSJ/code/q1k_eeget_init/q1k_generate_individual_reports.ipynb\n",
      "Output notebook file: /project/def-emayada/q1k/experimental/HSJ/code/q1k_eeget_init/session_reports/RS/executed_notebooks/10064_M1_RS_executed.ipynb\n",
      "Output HTML file: /project/def-emayada/q1k/experimental/HSJ/code/q1k_eeget_init/session_reports/RS/10064_M1_RS.html\n"
     ]
    },
    {
     "data": {
      "application/vnd.jupyter.widget-view+json": {
       "model_id": "aabdb0c990f24ea9aa264c2e289afe3b",
       "version_major": 2,
       "version_minor": 0
      },
      "text/plain": [
       "Executing:   0%|          | 0/37 [00:00<?, ?cell/s]"
      ]
     },
     "metadata": {},
     "output_type": "display_data"
    },
    {
     "name": "stdout",
     "output_type": "stream",
     "text": [
      "Error while processing 10064_M1: \n",
      "---------------------------------------------------------------------------\n",
      "Exception encountered at \"In [23]\":\n",
      "  Cell In[23], line 3\n",
      "    et_types = et_raw.get_channel_types())\n",
      "                                         ^\n",
      "SyntaxError: unmatched ')'\n",
      "\n",
      "\n",
      "Current data file: /project/def-emayada/q1k/experimental/HSJ/sourcedata/eeg/Q1K_HSJ_1525_1037_P/Q1K_HSJ_1525_1037_P_RS_20240619_111632.mff\n",
      "Participant number: 1525\n",
      "Participant relation: 1037\n",
      "Participant ID input: 1525_1037\n",
      "Participant ID output: 15251037\n",
      "1525_1037\n",
      "Input notebook: /project/def-emayada/q1k/experimental/HSJ/code/q1k_eeget_init/q1k_generate_individual_reports.ipynb\n",
      "Output notebook file: /project/def-emayada/q1k/experimental/HSJ/code/q1k_eeget_init/session_reports/RS/executed_notebooks/1525_1037_RS_executed.ipynb\n",
      "Output HTML file: /project/def-emayada/q1k/experimental/HSJ/code/q1k_eeget_init/session_reports/RS/1525_1037_RS.html\n"
     ]
    },
    {
     "data": {
      "application/vnd.jupyter.widget-view+json": {
       "model_id": "c250bf785d0a44fea1ae6534bfabf9cd",
       "version_major": 2,
       "version_minor": 0
      },
      "text/plain": [
       "Executing:   0%|          | 0/37 [00:00<?, ?cell/s]"
      ]
     },
     "metadata": {},
     "output_type": "display_data"
    },
    {
     "name": "stdout",
     "output_type": "stream",
     "text": [
      "Error while processing 1525_1037: \n",
      "---------------------------------------------------------------------------\n",
      "Exception encountered at \"In [8]\":\n",
      "---------------------------------------------------------------------------\n",
      "IndexError                                Traceback (most recent call last)\n",
      "Cell In[8], line 1\n",
      "----> 1 session_file_name_eeg[0]\n",
      "\n",
      "IndexError: list index out of range\n",
      "\n",
      "Current data file: /project/def-emayada/q1k/experimental/HSJ/sourcedata/eeg/Q1K_HSJ_1525_1037_P/Q1K_HSJ_1525_1037_P_RS_20240619_111829.mff\n",
      "Participant number: 1525\n",
      "Participant relation: 1037\n",
      "Participant ID input: 1525_1037\n",
      "Participant ID output: 15251037\n",
      "1525_1037\n",
      "Input notebook: /project/def-emayada/q1k/experimental/HSJ/code/q1k_eeget_init/q1k_generate_individual_reports.ipynb\n",
      "Output notebook file: /project/def-emayada/q1k/experimental/HSJ/code/q1k_eeget_init/session_reports/RS/executed_notebooks/1525_1037_RS_executed.ipynb\n",
      "Output HTML file: /project/def-emayada/q1k/experimental/HSJ/code/q1k_eeget_init/session_reports/RS/1525_1037_RS.html\n"
     ]
    },
    {
     "data": {
      "application/vnd.jupyter.widget-view+json": {
       "model_id": "b5cd5e1d70f244e3a6f9c30fec7ef89d",
       "version_major": 2,
       "version_minor": 0
      },
      "text/plain": [
       "Executing:   0%|          | 0/37 [00:00<?, ?cell/s]"
      ]
     },
     "metadata": {},
     "output_type": "display_data"
    },
    {
     "name": "stdout",
     "output_type": "stream",
     "text": [
      "Error while processing 1525_1037: \n",
      "---------------------------------------------------------------------------\n",
      "Exception encountered at \"In [8]\":\n",
      "---------------------------------------------------------------------------\n",
      "IndexError                                Traceback (most recent call last)\n",
      "Cell In[8], line 1\n",
      "----> 1 session_file_name_eeg[0]\n",
      "\n",
      "IndexError: list index out of range\n",
      "\n",
      "Current data file: /project/def-emayada/q1k/experimental/HSJ/sourcedata/eeg/Q1K_HSJ_100131_M1/Q1K_HSJ_100131_M1_RS_20240416_124739.mff\n",
      "Participant number: 100131\n",
      "Participant relation: M1\n",
      "Participant ID input: 100131_M1\n",
      "Participant ID output: 100131M1\n",
      "100131_M1\n",
      "Input notebook: /project/def-emayada/q1k/experimental/HSJ/code/q1k_eeget_init/q1k_generate_individual_reports.ipynb\n",
      "Output notebook file: /project/def-emayada/q1k/experimental/HSJ/code/q1k_eeget_init/session_reports/RS/executed_notebooks/100131_M1_RS_executed.ipynb\n",
      "Output HTML file: /project/def-emayada/q1k/experimental/HSJ/code/q1k_eeget_init/session_reports/RS/100131_M1_RS.html\n"
     ]
    },
    {
     "data": {
      "application/vnd.jupyter.widget-view+json": {
       "model_id": "4c76798242e84ec4b7c704973db77456",
       "version_major": 2,
       "version_minor": 0
      },
      "text/plain": [
       "Executing:   0%|          | 0/37 [00:00<?, ?cell/s]"
      ]
     },
     "metadata": {},
     "output_type": "display_data"
    },
    {
     "name": "stdout",
     "output_type": "stream",
     "text": [
      "Error while processing 100131_M1: \n",
      "---------------------------------------------------------------------------\n",
      "Exception encountered at \"In [23]\":\n",
      "  Cell In[23], line 3\n",
      "    et_types = et_raw.get_channel_types())\n",
      "                                         ^\n",
      "SyntaxError: unmatched ')'\n",
      "\n",
      "\n",
      "Current data file: /project/def-emayada/q1k/experimental/HSJ/sourcedata/eeg/Q1K_HSJ_10043_F1/Q1K_HSJ_10043_F1_RS_20240531_012956.mff\n",
      "Participant number: 10043\n",
      "Participant relation: F1\n",
      "Participant ID input: 10043_F1\n",
      "Participant ID output: 10043F1\n",
      "10043_F1\n",
      "Input notebook: /project/def-emayada/q1k/experimental/HSJ/code/q1k_eeget_init/q1k_generate_individual_reports.ipynb\n",
      "Output notebook file: /project/def-emayada/q1k/experimental/HSJ/code/q1k_eeget_init/session_reports/RS/executed_notebooks/10043_F1_RS_executed.ipynb\n",
      "Output HTML file: /project/def-emayada/q1k/experimental/HSJ/code/q1k_eeget_init/session_reports/RS/10043_F1_RS.html\n"
     ]
    },
    {
     "data": {
      "application/vnd.jupyter.widget-view+json": {
       "model_id": "502229ba1af54ebc966b27412cf8024e",
       "version_major": 2,
       "version_minor": 0
      },
      "text/plain": [
       "Executing:   0%|          | 0/37 [00:00<?, ?cell/s]"
      ]
     },
     "metadata": {},
     "output_type": "display_data"
    },
    {
     "name": "stdout",
     "output_type": "stream",
     "text": [
      "Error while processing 10043_F1: \n",
      "---------------------------------------------------------------------------\n",
      "Exception encountered at \"In [23]\":\n",
      "  Cell In[23], line 3\n",
      "    et_types = et_raw.get_channel_types())\n",
      "                                         ^\n",
      "SyntaxError: unmatched ')'\n",
      "\n",
      "\n",
      "Current data file: /project/def-emayada/q1k/experimental/HSJ/sourcedata/eeg/Q1K_HSJ_100119_S1/Q1K_HSJ_100119_S1_RS_20240304_015344.mff\n",
      "Participant number: 100119\n",
      "Participant relation: S1\n",
      "Participant ID input: 100119_S1\n",
      "Participant ID output: 100119S1\n",
      "100119_S1\n",
      "Input notebook: /project/def-emayada/q1k/experimental/HSJ/code/q1k_eeget_init/q1k_generate_individual_reports.ipynb\n",
      "Output notebook file: /project/def-emayada/q1k/experimental/HSJ/code/q1k_eeget_init/session_reports/RS/executed_notebooks/100119_S1_RS_executed.ipynb\n",
      "Output HTML file: /project/def-emayada/q1k/experimental/HSJ/code/q1k_eeget_init/session_reports/RS/100119_S1_RS.html\n"
     ]
    },
    {
     "data": {
      "application/vnd.jupyter.widget-view+json": {
       "model_id": "eaab11cb8d804e278c02b00bc043b675",
       "version_major": 2,
       "version_minor": 0
      },
      "text/plain": [
       "Executing:   0%|          | 0/37 [00:00<?, ?cell/s]"
      ]
     },
     "metadata": {},
     "output_type": "display_data"
    },
    {
     "name": "stdout",
     "output_type": "stream",
     "text": [
      "Error while processing 100119_S1: \n",
      "---------------------------------------------------------------------------\n",
      "Exception encountered at \"In [23]\":\n",
      "  Cell In[23], line 3\n",
      "    et_types = et_raw.get_channel_types())\n",
      "                                         ^\n",
      "SyntaxError: unmatched ')'\n",
      "\n",
      "\n",
      "Current data file: /project/def-emayada/q1k/experimental/HSJ/sourcedata/eeg/Q1K_HSJ_1525-1001_P/Q1K_HSJ_1525-1001_P_RS_20240524_015707.mff\n",
      "Participant number: 1525-1001\n",
      "Participant relation: P\n",
      "Participant ID input: 1525-1001_P\n",
      "Participant ID output: 15251001P\n",
      "1525-1001_P\n",
      "Input notebook: /project/def-emayada/q1k/experimental/HSJ/code/q1k_eeget_init/q1k_generate_individual_reports.ipynb\n",
      "Output notebook file: /project/def-emayada/q1k/experimental/HSJ/code/q1k_eeget_init/session_reports/RS/executed_notebooks/1525-1001_P_RS_executed.ipynb\n",
      "Output HTML file: /project/def-emayada/q1k/experimental/HSJ/code/q1k_eeget_init/session_reports/RS/1525-1001_P_RS.html\n"
     ]
    },
    {
     "data": {
      "application/vnd.jupyter.widget-view+json": {
       "model_id": "dbb54620e53d461883a4d8b2455df26f",
       "version_major": 2,
       "version_minor": 0
      },
      "text/plain": [
       "Executing:   0%|          | 0/37 [00:00<?, ?cell/s]"
      ]
     },
     "metadata": {},
     "output_type": "display_data"
    },
    {
     "name": "stdout",
     "output_type": "stream",
     "text": [
      "Error while processing 1525-1001_P: \n",
      "---------------------------------------------------------------------------\n",
      "Exception encountered at \"In [23]\":\n",
      "  Cell In[23], line 3\n",
      "    et_types = et_raw.get_channel_types())\n",
      "                                         ^\n",
      "SyntaxError: unmatched ')'\n",
      "\n",
      "\n",
      "Current data file: /project/def-emayada/q1k/experimental/HSJ/sourcedata/eeg/Q1K_HSJ_1525-1001_P/Q1K_HSJ_1525-1001_P_RioRS_20240524_014933.mff\n",
      "Participant number: 1525-1001\n",
      "Participant relation: P\n",
      "Participant ID input: 1525-1001_P\n",
      "Participant ID output: 15251001P\n",
      "1525-1001_P\n",
      "Input notebook: /project/def-emayada/q1k/experimental/HSJ/code/q1k_eeget_init/q1k_generate_individual_reports.ipynb\n",
      "Output notebook file: /project/def-emayada/q1k/experimental/HSJ/code/q1k_eeget_init/session_reports/RS/executed_notebooks/1525-1001_P_RS_executed.ipynb\n",
      "Output HTML file: /project/def-emayada/q1k/experimental/HSJ/code/q1k_eeget_init/session_reports/RS/1525-1001_P_RS.html\n"
     ]
    },
    {
     "data": {
      "application/vnd.jupyter.widget-view+json": {
       "model_id": "ed005750d0d14284b40e0f85f338c6b7",
       "version_major": 2,
       "version_minor": 0
      },
      "text/plain": [
       "Executing:   0%|          | 0/37 [00:00<?, ?cell/s]"
      ]
     },
     "metadata": {},
     "output_type": "display_data"
    },
    {
     "name": "stdout",
     "output_type": "stream",
     "text": [
      "Error while processing 1525-1001_P: \n",
      "---------------------------------------------------------------------------\n",
      "Exception encountered at \"In [23]\":\n",
      "  Cell In[23], line 3\n",
      "    et_types = et_raw.get_channel_types())\n",
      "                                         ^\n",
      "SyntaxError: unmatched ')'\n",
      "\n",
      "\n",
      "Current data file: /project/def-emayada/q1k/experimental/HSJ/sourcedata/eeg/Q1K_HSJ_100157_M1/Q1K_HSJ_100157_M1_RS_20240521_101112.mff\n",
      "Participant number: 100157\n",
      "Participant relation: M1\n",
      "Participant ID input: 100157_M1\n",
      "Participant ID output: 100157M1\n",
      "100157_M1\n",
      "Input notebook: /project/def-emayada/q1k/experimental/HSJ/code/q1k_eeget_init/q1k_generate_individual_reports.ipynb\n",
      "Output notebook file: /project/def-emayada/q1k/experimental/HSJ/code/q1k_eeget_init/session_reports/RS/executed_notebooks/100157_M1_RS_executed.ipynb\n",
      "Output HTML file: /project/def-emayada/q1k/experimental/HSJ/code/q1k_eeget_init/session_reports/RS/100157_M1_RS.html\n"
     ]
    },
    {
     "data": {
      "application/vnd.jupyter.widget-view+json": {
       "model_id": "509c3f2daf0b4457bed55d0b35174eba",
       "version_major": 2,
       "version_minor": 0
      },
      "text/plain": [
       "Executing:   0%|          | 0/37 [00:00<?, ?cell/s]"
      ]
     },
     "metadata": {},
     "output_type": "display_data"
    },
    {
     "name": "stdout",
     "output_type": "stream",
     "text": [
      "Error while processing 100157_M1: \n",
      "---------------------------------------------------------------------------\n",
      "Exception encountered at \"In [23]\":\n",
      "  Cell In[23], line 3\n",
      "    et_types = et_raw.get_channel_types())\n",
      "                                         ^\n",
      "SyntaxError: unmatched ')'\n",
      "\n",
      "\n",
      "Current data file: /project/def-emayada/q1k/experimental/HSJ/sourcedata/eeg/Q1K_HSJ_100100_F1/Q1K_HSJ_100100_F1_RS_20240223_104952.mff\n",
      "Participant number: 100100\n",
      "Participant relation: F1\n",
      "Participant ID input: 100100_F1\n",
      "Participant ID output: 100100F1\n",
      "100100_F1\n",
      "Input notebook: /project/def-emayada/q1k/experimental/HSJ/code/q1k_eeget_init/q1k_generate_individual_reports.ipynb\n",
      "Output notebook file: /project/def-emayada/q1k/experimental/HSJ/code/q1k_eeget_init/session_reports/RS/executed_notebooks/100100_F1_RS_executed.ipynb\n",
      "Output HTML file: /project/def-emayada/q1k/experimental/HSJ/code/q1k_eeget_init/session_reports/RS/100100_F1_RS.html\n"
     ]
    },
    {
     "data": {
      "application/vnd.jupyter.widget-view+json": {
       "model_id": "8431ed57715242d995981cf9a0d1c23f",
       "version_major": 2,
       "version_minor": 0
      },
      "text/plain": [
       "Executing:   0%|          | 0/37 [00:00<?, ?cell/s]"
      ]
     },
     "metadata": {},
     "output_type": "display_data"
    },
    {
     "name": "stdout",
     "output_type": "stream",
     "text": [
      "Error while processing 100100_F1: \n",
      "---------------------------------------------------------------------------\n",
      "Exception encountered at \"In [23]\":\n",
      "  Cell In[23], line 3\n",
      "    et_types = et_raw.get_channel_types())\n",
      "                                         ^\n",
      "SyntaxError: unmatched ')'\n",
      "\n",
      "\n",
      "Current data file: /project/def-emayada/q1k/experimental/HSJ/sourcedata/eeg/Q1K_HSJ_100128_P/Q1K_HSJ_100128_P_RS_20240705_112203.mff\n",
      "Participant number: 100128\n",
      "Participant relation: P\n",
      "Participant ID input: 100128_P\n",
      "Participant ID output: 100128P\n",
      "100128_P\n",
      "Input notebook: /project/def-emayada/q1k/experimental/HSJ/code/q1k_eeget_init/q1k_generate_individual_reports.ipynb\n",
      "Output notebook file: /project/def-emayada/q1k/experimental/HSJ/code/q1k_eeget_init/session_reports/RS/executed_notebooks/100128_P_RS_executed.ipynb\n",
      "Output HTML file: /project/def-emayada/q1k/experimental/HSJ/code/q1k_eeget_init/session_reports/RS/100128_P_RS.html\n"
     ]
    },
    {
     "data": {
      "application/vnd.jupyter.widget-view+json": {
       "model_id": "37b8aa275e884d688612d9f0d3ebb6a1",
       "version_major": 2,
       "version_minor": 0
      },
      "text/plain": [
       "Executing:   0%|          | 0/37 [00:00<?, ?cell/s]"
      ]
     },
     "metadata": {},
     "output_type": "display_data"
    },
    {
     "name": "stdout",
     "output_type": "stream",
     "text": [
      "Error while processing 100128_P: \n",
      "---------------------------------------------------------------------------\n",
      "Exception encountered at \"In [23]\":\n",
      "  Cell In[23], line 3\n",
      "    et_types = et_raw.get_channel_types())\n",
      "                                         ^\n",
      "SyntaxError: unmatched ')'\n",
      "\n",
      "\n",
      "Current data file: /project/def-emayada/q1k/experimental/HSJ/sourcedata/eeg/Q1K_HSJ_1525-1045_F1/Q1K_HSJ_1525-1045_F1_RS_20240805_100722.mff\n",
      "Participant number: 1525-1045\n",
      "Participant relation: F1\n",
      "Participant ID input: 1525-1045_F1\n",
      "Participant ID output: 15251045F1\n",
      "1525-1045_F1\n",
      "Input notebook: /project/def-emayada/q1k/experimental/HSJ/code/q1k_eeget_init/q1k_generate_individual_reports.ipynb\n",
      "Output notebook file: /project/def-emayada/q1k/experimental/HSJ/code/q1k_eeget_init/session_reports/RS/executed_notebooks/1525-1045_F1_RS_executed.ipynb\n",
      "Output HTML file: /project/def-emayada/q1k/experimental/HSJ/code/q1k_eeget_init/session_reports/RS/1525-1045_F1_RS.html\n"
     ]
    },
    {
     "data": {
      "application/vnd.jupyter.widget-view+json": {
       "model_id": "b6b20f475d5a459b963f3ce19de3978a",
       "version_major": 2,
       "version_minor": 0
      },
      "text/plain": [
       "Executing:   0%|          | 0/37 [00:00<?, ?cell/s]"
      ]
     },
     "metadata": {},
     "output_type": "display_data"
    },
    {
     "name": "stdout",
     "output_type": "stream",
     "text": [
      "Error while processing 1525-1045_F1: \n",
      "---------------------------------------------------------------------------\n",
      "Exception encountered at \"In [23]\":\n",
      "  Cell In[23], line 3\n",
      "    et_types = et_raw.get_channel_types())\n",
      "                                         ^\n",
      "SyntaxError: unmatched ')'\n",
      "\n",
      "\n",
      "Current data file: /project/def-emayada/q1k/experimental/HSJ/sourcedata/eeg/Q1K_HSJ_1525-1073_P/Q1K_HSJ_1525-1073_P_RS_20240801_125219.mff\n",
      "Participant number: 1525-1073\n",
      "Participant relation: P\n",
      "Participant ID input: 1525-1073_P\n",
      "Participant ID output: 15251073P\n",
      "1525-1073_P\n",
      "Input notebook: /project/def-emayada/q1k/experimental/HSJ/code/q1k_eeget_init/q1k_generate_individual_reports.ipynb\n",
      "Output notebook file: /project/def-emayada/q1k/experimental/HSJ/code/q1k_eeget_init/session_reports/RS/executed_notebooks/1525-1073_P_RS_executed.ipynb\n",
      "Output HTML file: /project/def-emayada/q1k/experimental/HSJ/code/q1k_eeget_init/session_reports/RS/1525-1073_P_RS.html\n"
     ]
    },
    {
     "data": {
      "application/vnd.jupyter.widget-view+json": {
       "model_id": "50d8d11a55d0478f92d22b5b3e6564a8",
       "version_major": 2,
       "version_minor": 0
      },
      "text/plain": [
       "Executing:   0%|          | 0/37 [00:00<?, ?cell/s]"
      ]
     },
     "metadata": {},
     "output_type": "display_data"
    },
    {
     "name": "stdout",
     "output_type": "stream",
     "text": [
      "Error while processing 1525-1073_P: \n",
      "---------------------------------------------------------------------------\n",
      "Exception encountered at \"In [23]\":\n",
      "  Cell In[23], line 3\n",
      "    et_types = et_raw.get_channel_types())\n",
      "                                         ^\n",
      "SyntaxError: unmatched ')'\n",
      "\n",
      "\n",
      "Current data file: /project/def-emayada/q1k/experimental/HSJ/sourcedata/eeg/Q1K_HSJ_100150_P/Q1K_HSJ_100150_P_RS_20240507_030724.mff\n",
      "Participant number: 100150\n",
      "Participant relation: P\n",
      "Participant ID input: 100150_P\n",
      "Participant ID output: 100150P\n",
      "100150_P\n",
      "Input notebook: /project/def-emayada/q1k/experimental/HSJ/code/q1k_eeget_init/q1k_generate_individual_reports.ipynb\n",
      "Output notebook file: /project/def-emayada/q1k/experimental/HSJ/code/q1k_eeget_init/session_reports/RS/executed_notebooks/100150_P_RS_executed.ipynb\n",
      "Output HTML file: /project/def-emayada/q1k/experimental/HSJ/code/q1k_eeget_init/session_reports/RS/100150_P_RS.html\n"
     ]
    },
    {
     "data": {
      "application/vnd.jupyter.widget-view+json": {
       "model_id": "f63429217ece46d7a40787fe18a67045",
       "version_major": 2,
       "version_minor": 0
      },
      "text/plain": [
       "Executing:   0%|          | 0/37 [00:00<?, ?cell/s]"
      ]
     },
     "metadata": {},
     "output_type": "display_data"
    },
    {
     "name": "stdout",
     "output_type": "stream",
     "text": [
      "Error while processing 100150_P: \n",
      "---------------------------------------------------------------------------\n",
      "Exception encountered at \"In [23]\":\n",
      "  Cell In[23], line 3\n",
      "    et_types = et_raw.get_channel_types())\n",
      "                                         ^\n",
      "SyntaxError: unmatched ')'\n",
      "\n",
      "\n",
      "Current data file: /project/def-emayada/q1k/experimental/HSJ/sourcedata/eeg/Q1K_HSJ_100129_P/Q1K_HSJ_100129_P_RS_20240426_104656.mff\n",
      "Participant number: 100129\n",
      "Participant relation: P\n",
      "Participant ID input: 100129_P\n",
      "Participant ID output: 100129P\n",
      "100129_P\n",
      "Input notebook: /project/def-emayada/q1k/experimental/HSJ/code/q1k_eeget_init/q1k_generate_individual_reports.ipynb\n",
      "Output notebook file: /project/def-emayada/q1k/experimental/HSJ/code/q1k_eeget_init/session_reports/RS/executed_notebooks/100129_P_RS_executed.ipynb\n",
      "Output HTML file: /project/def-emayada/q1k/experimental/HSJ/code/q1k_eeget_init/session_reports/RS/100129_P_RS.html\n"
     ]
    },
    {
     "data": {
      "application/vnd.jupyter.widget-view+json": {
       "model_id": "ed63e5e8143e4acea3c49b169181a89c",
       "version_major": 2,
       "version_minor": 0
      },
      "text/plain": [
       "Executing:   0%|          | 0/37 [00:00<?, ?cell/s]"
      ]
     },
     "metadata": {},
     "output_type": "display_data"
    },
    {
     "name": "stdout",
     "output_type": "stream",
     "text": [
      "Error while processing 100129_P: \n",
      "---------------------------------------------------------------------------\n",
      "Exception encountered at \"In [23]\":\n",
      "  Cell In[23], line 3\n",
      "    et_types = et_raw.get_channel_types())\n",
      "                                         ^\n",
      "SyntaxError: unmatched ')'\n",
      "\n",
      "\n",
      "Current data file: /project/def-emayada/q1k/experimental/HSJ/sourcedata/eeg/Q1K_HSJ_1525-1067_S1/Q1K_HSJ_1525-1067_S1_RS_20240816_110733.mff\n",
      "Participant number: 1525-1067\n",
      "Participant relation: S1\n",
      "Participant ID input: 1525-1067_S1\n",
      "Participant ID output: 15251067S1\n",
      "1525-1067_S1\n",
      "Input notebook: /project/def-emayada/q1k/experimental/HSJ/code/q1k_eeget_init/q1k_generate_individual_reports.ipynb\n",
      "Output notebook file: /project/def-emayada/q1k/experimental/HSJ/code/q1k_eeget_init/session_reports/RS/executed_notebooks/1525-1067_S1_RS_executed.ipynb\n",
      "Output HTML file: /project/def-emayada/q1k/experimental/HSJ/code/q1k_eeget_init/session_reports/RS/1525-1067_S1_RS.html\n"
     ]
    },
    {
     "data": {
      "application/vnd.jupyter.widget-view+json": {
       "model_id": "a01d83f040f14a22a2f5cfc2ad1f4ac6",
       "version_major": 2,
       "version_minor": 0
      },
      "text/plain": [
       "Executing:   0%|          | 0/37 [00:00<?, ?cell/s]"
      ]
     },
     "metadata": {},
     "output_type": "display_data"
    },
    {
     "name": "stdout",
     "output_type": "stream",
     "text": [
      "Error while processing 1525-1067_S1: \n",
      "---------------------------------------------------------------------------\n",
      "Exception encountered at \"In [23]\":\n",
      "  Cell In[23], line 3\n",
      "    et_types = et_raw.get_channel_types())\n",
      "                                         ^\n",
      "SyntaxError: unmatched ')'\n",
      "\n",
      "\n",
      "Current data file: /project/def-emayada/q1k/experimental/HSJ/sourcedata/eeg/Q1K_HSJ_1525-1080_M1/Q1K_HSJ_1525-1080_M1_RS_20240823_104258.mff\n",
      "Participant number: 1525-1080\n",
      "Participant relation: M1\n",
      "Participant ID input: 1525-1080_M1\n",
      "Participant ID output: 15251080M1\n",
      "1525-1080_M1\n",
      "Input notebook: /project/def-emayada/q1k/experimental/HSJ/code/q1k_eeget_init/q1k_generate_individual_reports.ipynb\n",
      "Output notebook file: /project/def-emayada/q1k/experimental/HSJ/code/q1k_eeget_init/session_reports/RS/executed_notebooks/1525-1080_M1_RS_executed.ipynb\n",
      "Output HTML file: /project/def-emayada/q1k/experimental/HSJ/code/q1k_eeget_init/session_reports/RS/1525-1080_M1_RS.html\n"
     ]
    },
    {
     "data": {
      "application/vnd.jupyter.widget-view+json": {
       "model_id": "33e0923f52fd404f81598fb565309806",
       "version_major": 2,
       "version_minor": 0
      },
      "text/plain": [
       "Executing:   0%|          | 0/37 [00:00<?, ?cell/s]"
      ]
     },
     "metadata": {},
     "output_type": "display_data"
    },
    {
     "name": "stdout",
     "output_type": "stream",
     "text": [
      "Error while processing 1525-1080_M1: \n",
      "---------------------------------------------------------------------------\n",
      "Exception encountered at \"In [23]\":\n",
      "  Cell In[23], line 3\n",
      "    et_types = et_raw.get_channel_types())\n",
      "                                         ^\n",
      "SyntaxError: unmatched ')'\n",
      "\n",
      "\n",
      "Current data file: /project/def-emayada/q1k/experimental/HSJ/sourcedata/eeg/Q1K_HSJ_1525-1021_F1/Q1K_HSJ_1525-1021_F1_RS_20240827_110215.mff\n",
      "Participant number: 1525-1021\n",
      "Participant relation: F1\n",
      "Participant ID input: 1525-1021_F1\n",
      "Participant ID output: 15251021F1\n",
      "1525-1021_F1\n",
      "Input notebook: /project/def-emayada/q1k/experimental/HSJ/code/q1k_eeget_init/q1k_generate_individual_reports.ipynb\n",
      "Output notebook file: /project/def-emayada/q1k/experimental/HSJ/code/q1k_eeget_init/session_reports/RS/executed_notebooks/1525-1021_F1_RS_executed.ipynb\n",
      "Output HTML file: /project/def-emayada/q1k/experimental/HSJ/code/q1k_eeget_init/session_reports/RS/1525-1021_F1_RS.html\n"
     ]
    },
    {
     "data": {
      "application/vnd.jupyter.widget-view+json": {
       "model_id": "dbc980586c014444821538fcfd36bc1c",
       "version_major": 2,
       "version_minor": 0
      },
      "text/plain": [
       "Executing:   0%|          | 0/37 [00:00<?, ?cell/s]"
      ]
     },
     "metadata": {},
     "output_type": "display_data"
    },
    {
     "name": "stdout",
     "output_type": "stream",
     "text": [
      "Error while processing 1525-1021_F1: \n",
      "---------------------------------------------------------------------------\n",
      "Exception encountered at \"In [23]\":\n",
      "  Cell In[23], line 3\n",
      "    et_types = et_raw.get_channel_types())\n",
      "                                         ^\n",
      "SyntaxError: unmatched ')'\n",
      "\n",
      "\n",
      "Current data file: /project/def-emayada/q1k/experimental/HSJ/sourcedata/eeg/Q1K_HSJ_1525-1028_S2/Q1K_HSJ_1525-1028_S2_RS_20240704_111819.mff\n",
      "Participant number: 1525-1028\n",
      "Participant relation: S2\n",
      "Participant ID input: 1525-1028_S2\n",
      "Participant ID output: 15251028S2\n",
      "1525-1028_S2\n",
      "Input notebook: /project/def-emayada/q1k/experimental/HSJ/code/q1k_eeget_init/q1k_generate_individual_reports.ipynb\n",
      "Output notebook file: /project/def-emayada/q1k/experimental/HSJ/code/q1k_eeget_init/session_reports/RS/executed_notebooks/1525-1028_S2_RS_executed.ipynb\n",
      "Output HTML file: /project/def-emayada/q1k/experimental/HSJ/code/q1k_eeget_init/session_reports/RS/1525-1028_S2_RS.html\n"
     ]
    },
    {
     "data": {
      "application/vnd.jupyter.widget-view+json": {
       "model_id": "3a0c462cc9e442a2ad1d1c53a0875790",
       "version_major": 2,
       "version_minor": 0
      },
      "text/plain": [
       "Executing:   0%|          | 0/37 [00:00<?, ?cell/s]"
      ]
     },
     "metadata": {},
     "output_type": "display_data"
    },
    {
     "name": "stdout",
     "output_type": "stream",
     "text": [
      "Error while processing 1525-1028_S2: \n",
      "---------------------------------------------------------------------------\n",
      "Exception encountered at \"In [23]\":\n",
      "  Cell In[23], line 3\n",
      "    et_types = et_raw.get_channel_types())\n",
      "                                         ^\n",
      "SyntaxError: unmatched ')'\n",
      "\n",
      "\n",
      "Current data file: /project/def-emayada/q1k/experimental/HSJ/sourcedata/eeg/Q1K_HSJ_100123_P/Q1K_HSJ_100123_P_RS_20240308_102627.mff\n",
      "Participant number: 100123\n",
      "Participant relation: P\n",
      "Participant ID input: 100123_P\n",
      "Participant ID output: 100123P\n",
      "100123_P\n",
      "Input notebook: /project/def-emayada/q1k/experimental/HSJ/code/q1k_eeget_init/q1k_generate_individual_reports.ipynb\n",
      "Output notebook file: /project/def-emayada/q1k/experimental/HSJ/code/q1k_eeget_init/session_reports/RS/executed_notebooks/100123_P_RS_executed.ipynb\n",
      "Output HTML file: /project/def-emayada/q1k/experimental/HSJ/code/q1k_eeget_init/session_reports/RS/100123_P_RS.html\n"
     ]
    },
    {
     "data": {
      "application/vnd.jupyter.widget-view+json": {
       "model_id": "3c66196439c543e5bb751ba8a7b01e31",
       "version_major": 2,
       "version_minor": 0
      },
      "text/plain": [
       "Executing:   0%|          | 0/37 [00:00<?, ?cell/s]"
      ]
     },
     "metadata": {},
     "output_type": "display_data"
    },
    {
     "name": "stdout",
     "output_type": "stream",
     "text": [
      "Error while processing 100123_P: \n",
      "---------------------------------------------------------------------------\n",
      "Exception encountered at \"In [23]\":\n",
      "  Cell In[23], line 3\n",
      "    et_types = et_raw.get_channel_types())\n",
      "                                         ^\n",
      "SyntaxError: unmatched ')'\n",
      "\n",
      "\n",
      "Current data file: /project/def-emayada/q1k/experimental/HSJ/sourcedata/eeg/Q1K_HSJ_1525-1006_M1/Q1K_HSJ_1525-1006_M1_RS_20240523_094712.mff\n",
      "Participant number: 1525-1006\n",
      "Participant relation: M1\n",
      "Participant ID input: 1525-1006_M1\n",
      "Participant ID output: 15251006M1\n",
      "1525-1006_M1\n",
      "Input notebook: /project/def-emayada/q1k/experimental/HSJ/code/q1k_eeget_init/q1k_generate_individual_reports.ipynb\n",
      "Output notebook file: /project/def-emayada/q1k/experimental/HSJ/code/q1k_eeget_init/session_reports/RS/executed_notebooks/1525-1006_M1_RS_executed.ipynb\n",
      "Output HTML file: /project/def-emayada/q1k/experimental/HSJ/code/q1k_eeget_init/session_reports/RS/1525-1006_M1_RS.html\n"
     ]
    },
    {
     "data": {
      "application/vnd.jupyter.widget-view+json": {
       "model_id": "84797f5bf8434b0a8e10440e65cb77d5",
       "version_major": 2,
       "version_minor": 0
      },
      "text/plain": [
       "Executing:   0%|          | 0/37 [00:00<?, ?cell/s]"
      ]
     },
     "metadata": {},
     "output_type": "display_data"
    },
    {
     "name": "stdout",
     "output_type": "stream",
     "text": [
      "Error while processing 1525-1006_M1: \n",
      "---------------------------------------------------------------------------\n",
      "Exception encountered at \"In [23]\":\n",
      "  Cell In[23], line 3\n",
      "    et_types = et_raw.get_channel_types())\n",
      "                                         ^\n",
      "SyntaxError: unmatched ')'\n",
      "\n",
      "\n",
      "Current data file: /project/def-emayada/q1k/experimental/HSJ/sourcedata/eeg/Q1K_HSJ_10086_M1/Q1K_HSJ_10086_M1_RS_20240215_100212.mff\n",
      "Participant number: 10086\n",
      "Participant relation: M1\n",
      "Participant ID input: 10086_M1\n",
      "Participant ID output: 10086M1\n",
      "10086_M1\n",
      "Input notebook: /project/def-emayada/q1k/experimental/HSJ/code/q1k_eeget_init/q1k_generate_individual_reports.ipynb\n",
      "Output notebook file: /project/def-emayada/q1k/experimental/HSJ/code/q1k_eeget_init/session_reports/RS/executed_notebooks/10086_M1_RS_executed.ipynb\n",
      "Output HTML file: /project/def-emayada/q1k/experimental/HSJ/code/q1k_eeget_init/session_reports/RS/10086_M1_RS.html\n"
     ]
    },
    {
     "data": {
      "application/vnd.jupyter.widget-view+json": {
       "model_id": "19d274cc0e3c4ff5b1186f7f5f5aaf82",
       "version_major": 2,
       "version_minor": 0
      },
      "text/plain": [
       "Executing:   0%|          | 0/37 [00:00<?, ?cell/s]"
      ]
     },
     "metadata": {},
     "output_type": "display_data"
    },
    {
     "name": "stdout",
     "output_type": "stream",
     "text": [
      "HTML report saved for 10086_M1.\n",
      "Current data file: /project/def-emayada/q1k/experimental/HSJ/sourcedata/eeg/Q1K_HSJ_100134_S1/Q1K_HSJ_100134_S1_RS_20240417_093837.mff\n",
      "Participant number: 100134\n",
      "Participant relation: S1\n",
      "Participant ID input: 100134_S1\n",
      "Participant ID output: 100134S1\n",
      "100134_S1\n",
      "Input notebook: /project/def-emayada/q1k/experimental/HSJ/code/q1k_eeget_init/q1k_generate_individual_reports.ipynb\n",
      "Output notebook file: /project/def-emayada/q1k/experimental/HSJ/code/q1k_eeget_init/session_reports/RS/executed_notebooks/100134_S1_RS_executed.ipynb\n",
      "Output HTML file: /project/def-emayada/q1k/experimental/HSJ/code/q1k_eeget_init/session_reports/RS/100134_S1_RS.html\n"
     ]
    },
    {
     "data": {
      "application/vnd.jupyter.widget-view+json": {
       "model_id": "c24677edd13e44d49921207168e00b55",
       "version_major": 2,
       "version_minor": 0
      },
      "text/plain": [
       "Executing:   0%|          | 0/37 [00:00<?, ?cell/s]"
      ]
     },
     "metadata": {},
     "output_type": "display_data"
    },
    {
     "name": "stdout",
     "output_type": "stream",
     "text": [
      "HTML report saved for 100134_S1.\n",
      "Current data file: /project/def-emayada/q1k/experimental/HSJ/sourcedata/eeg/Q1K_HSJ_1525-1021_P/Q1K_HSJ_1525-1021_P_RS_20240827_120957.mff\n",
      "Participant number: 1525-1021\n",
      "Participant relation: P\n",
      "Participant ID input: 1525-1021_P\n",
      "Participant ID output: 15251021P\n",
      "1525-1021_P\n",
      "Input notebook: /project/def-emayada/q1k/experimental/HSJ/code/q1k_eeget_init/q1k_generate_individual_reports.ipynb\n",
      "Output notebook file: /project/def-emayada/q1k/experimental/HSJ/code/q1k_eeget_init/session_reports/RS/executed_notebooks/1525-1021_P_RS_executed.ipynb\n",
      "Output HTML file: /project/def-emayada/q1k/experimental/HSJ/code/q1k_eeget_init/session_reports/RS/1525-1021_P_RS.html\n"
     ]
    },
    {
     "data": {
      "application/vnd.jupyter.widget-view+json": {
       "model_id": "42790ceee8b54fb0bcae7ec0b0d57271",
       "version_major": 2,
       "version_minor": 0
      },
      "text/plain": [
       "Executing:   0%|          | 0/37 [00:00<?, ?cell/s]"
      ]
     },
     "metadata": {},
     "output_type": "display_data"
    },
    {
     "name": "stdout",
     "output_type": "stream",
     "text": [
      "HTML report saved for 1525-1021_P.\n",
      "Current data file: /project/def-emayada/q1k/experimental/HSJ/sourcedata/eeg/Q1K_HSJ_100114_F1/Q1K_HSJ_100114_F1_RS_20240307_034720.mff\n",
      "Participant number: 100114\n",
      "Participant relation: F1\n",
      "Participant ID input: 100114_F1\n",
      "Participant ID output: 100114F1\n",
      "100114_F1\n",
      "Input notebook: /project/def-emayada/q1k/experimental/HSJ/code/q1k_eeget_init/q1k_generate_individual_reports.ipynb\n",
      "Output notebook file: /project/def-emayada/q1k/experimental/HSJ/code/q1k_eeget_init/session_reports/RS/executed_notebooks/100114_F1_RS_executed.ipynb\n",
      "Output HTML file: /project/def-emayada/q1k/experimental/HSJ/code/q1k_eeget_init/session_reports/RS/100114_F1_RS.html\n"
     ]
    },
    {
     "data": {
      "application/vnd.jupyter.widget-view+json": {
       "model_id": "88d2599adcf54b4b91323dd25a8ad82c",
       "version_major": 2,
       "version_minor": 0
      },
      "text/plain": [
       "Executing:   0%|          | 0/37 [00:00<?, ?cell/s]"
      ]
     },
     "metadata": {},
     "output_type": "display_data"
    },
    {
     "name": "stdout",
     "output_type": "stream",
     "text": [
      "Error while processing 100114_F1: \n",
      "---------------------------------------------------------------------------\n",
      "Exception encountered at \"In [29]\":\n",
      "---------------------------------------------------------------------------\n",
      "ValueError                                Traceback (most recent call last)\n",
      "Cell In[29], line 3\n",
      "      1 if et_sync:\n",
      "      2     # peak... at the ET event scatter plot.. event time stamp by DIN index\n",
      "----> 3     fig=px.scatter(x=et_events['index'],y=et_events['DIN_diff'])\n",
      "      4 else:\n",
      "      5     print('et_sync = False: skipping ET stimulus DIN offset display')\n",
      "\n",
      "File /project/def-emayada/q1k/experimental/q1k_env/lib/python3.11/site-packages/plotly/express/_chart_types.py:66, in scatter(data_frame, x, y, color, symbol, size, hover_name, hover_data, custom_data, text, facet_row, facet_col, facet_col_wrap, facet_row_spacing, facet_col_spacing, error_x, error_x_minus, error_y, error_y_minus, animation_frame, animation_group, category_orders, labels, orientation, color_discrete_sequence, color_discrete_map, color_continuous_scale, range_color, color_continuous_midpoint, symbol_sequence, symbol_map, opacity, size_max, marginal_x, marginal_y, trendline, trendline_options, trendline_color_override, trendline_scope, log_x, log_y, range_x, range_y, render_mode, title, template, width, height)\n",
      "     12 def scatter(\n",
      "     13     data_frame=None,\n",
      "     14     x=None,\n",
      "   (...)\n",
      "     60     height=None,\n",
      "     61 ) -> go.Figure:\n",
      "     62     \"\"\"\n",
      "     63     In a scatter plot, each row of `data_frame` is represented by a symbol\n",
      "     64     mark in 2D space.\n",
      "     65     \"\"\"\n",
      "---> 66     return make_figure(args=locals(), constructor=go.Scatter)\n",
      "\n",
      "File /project/def-emayada/q1k/experimental/q1k_env/lib/python3.11/site-packages/plotly/express/_core.py:2117, in make_figure(args, constructor, trace_patch, layout_patch)\n",
      "   2114 layout_patch = layout_patch or {}\n",
      "   2115 apply_default_cascade(args)\n",
      "-> 2117 args = build_dataframe(args, constructor)\n",
      "   2118 if constructor in [go.Treemap, go.Sunburst, go.Icicle] and args[\"path\"] is not None:\n",
      "   2119     args = process_dataframe_hierarchy(args)\n",
      "\n",
      "File /project/def-emayada/q1k/experimental/q1k_env/lib/python3.11/site-packages/plotly/express/_core.py:1393, in build_dataframe(args, constructor)\n",
      "   1391 if constructor in cartesians:\n",
      "   1392     if wide_x and wide_y:\n",
      "-> 1393         raise ValueError(\n",
      "   1394             \"Cannot accept list of column references or list of columns for both `x` and `y`.\"\n",
      "   1395         )\n",
      "   1396     if df_provided and no_x and no_y:\n",
      "   1397         wide_mode = True\n",
      "\n",
      "ValueError: Cannot accept list of column references or list of columns for both `x` and `y`.\n",
      "\n",
      "Current data file: /project/def-emayada/q1k/experimental/HSJ/sourcedata/eeg/Q1K_HSJ_1525-1001_S1/Q1K_HSJ_1525-1001_S1_RS_20240524_093425.mff\n",
      "Participant number: 1525-1001\n",
      "Participant relation: S1\n",
      "Participant ID input: 1525-1001_S1\n",
      "Participant ID output: 15251001S1\n",
      "1525-1001_S1\n",
      "Input notebook: /project/def-emayada/q1k/experimental/HSJ/code/q1k_eeget_init/q1k_generate_individual_reports.ipynb\n",
      "Output notebook file: /project/def-emayada/q1k/experimental/HSJ/code/q1k_eeget_init/session_reports/RS/executed_notebooks/1525-1001_S1_RS_executed.ipynb\n",
      "Output HTML file: /project/def-emayada/q1k/experimental/HSJ/code/q1k_eeget_init/session_reports/RS/1525-1001_S1_RS.html\n"
     ]
    },
    {
     "data": {
      "application/vnd.jupyter.widget-view+json": {
       "model_id": "967be1bbba704a948fc5c3ca19b08bc2",
       "version_major": 2,
       "version_minor": 0
      },
      "text/plain": [
       "Executing:   0%|          | 0/37 [00:00<?, ?cell/s]"
      ]
     },
     "metadata": {},
     "output_type": "display_data"
    },
    {
     "name": "stdout",
     "output_type": "stream",
     "text": [
      "Error while processing 1525-1001_S1: \n",
      "---------------------------------------------------------------------------\n",
      "Exception encountered at \"In [30]\":\n",
      "---------------------------------------------------------------------------\n",
      "NameError                                 Traceback (most recent call last)\n",
      "Cell In[30], line 3\n",
      "      1 if et_sync:\n",
      "      2     # peak... at the time offset between the matched events in the EEG and ET recording \n",
      "----> 3     qit.show_sync_offsets(eeg_stims,et_stims)\n",
      "      4     # print the scatterplot to an html file for easy exploration.\n",
      "      5     fig.write_html(\"eeg_et_sync.html\")\n",
      "\n",
      "NameError: name 'eeg_stims' is not defined\n",
      "\n",
      "Current data file: /project/def-emayada/q1k/experimental/HSJ/sourcedata/eeg/Q1K_HSJ_100150_M1/Q1K_HSJ_100150_M1_RS_20240507_111301.mff\n",
      "Participant number: 100150\n",
      "Participant relation: M1\n",
      "Participant ID input: 100150_M1\n",
      "Participant ID output: 100150M1\n",
      "100150_M1\n",
      "Input notebook: /project/def-emayada/q1k/experimental/HSJ/code/q1k_eeget_init/q1k_generate_individual_reports.ipynb\n",
      "Output notebook file: /project/def-emayada/q1k/experimental/HSJ/code/q1k_eeget_init/session_reports/RS/executed_notebooks/100150_M1_RS_executed.ipynb\n",
      "Output HTML file: /project/def-emayada/q1k/experimental/HSJ/code/q1k_eeget_init/session_reports/RS/100150_M1_RS.html\n"
     ]
    },
    {
     "data": {
      "application/vnd.jupyter.widget-view+json": {
       "model_id": "f159f906202140bcbf321c276fcdb548",
       "version_major": 2,
       "version_minor": 0
      },
      "text/plain": [
       "Executing:   0%|          | 0/37 [00:00<?, ?cell/s]"
      ]
     },
     "metadata": {},
     "output_type": "display_data"
    },
    {
     "name": "stdout",
     "output_type": "stream",
     "text": [
      "Error while processing 100150_M1: \n",
      "---------------------------------------------------------------------------\n",
      "Exception encountered at \"In [29]\":\n",
      "---------------------------------------------------------------------------\n",
      "ValueError                                Traceback (most recent call last)\n",
      "Cell In[29], line 3\n",
      "      1 if et_sync:\n",
      "      2     # peak... at the ET event scatter plot.. event time stamp by DIN index\n",
      "----> 3     fig=px.scatter(x=et_events['index'],y=et_events['DIN_diff'])\n",
      "      4 else:\n",
      "      5     print('et_sync = False: skipping ET stimulus DIN offset display')\n",
      "\n",
      "File /project/def-emayada/q1k/experimental/q1k_env/lib/python3.11/site-packages/plotly/express/_chart_types.py:66, in scatter(data_frame, x, y, color, symbol, size, hover_name, hover_data, custom_data, text, facet_row, facet_col, facet_col_wrap, facet_row_spacing, facet_col_spacing, error_x, error_x_minus, error_y, error_y_minus, animation_frame, animation_group, category_orders, labels, orientation, color_discrete_sequence, color_discrete_map, color_continuous_scale, range_color, color_continuous_midpoint, symbol_sequence, symbol_map, opacity, size_max, marginal_x, marginal_y, trendline, trendline_options, trendline_color_override, trendline_scope, log_x, log_y, range_x, range_y, render_mode, title, template, width, height)\n",
      "     12 def scatter(\n",
      "     13     data_frame=None,\n",
      "     14     x=None,\n",
      "   (...)\n",
      "     60     height=None,\n",
      "     61 ) -> go.Figure:\n",
      "     62     \"\"\"\n",
      "     63     In a scatter plot, each row of `data_frame` is represented by a symbol\n",
      "     64     mark in 2D space.\n",
      "     65     \"\"\"\n",
      "---> 66     return make_figure(args=locals(), constructor=go.Scatter)\n",
      "\n",
      "File /project/def-emayada/q1k/experimental/q1k_env/lib/python3.11/site-packages/plotly/express/_core.py:2117, in make_figure(args, constructor, trace_patch, layout_patch)\n",
      "   2114 layout_patch = layout_patch or {}\n",
      "   2115 apply_default_cascade(args)\n",
      "-> 2117 args = build_dataframe(args, constructor)\n",
      "   2118 if constructor in [go.Treemap, go.Sunburst, go.Icicle] and args[\"path\"] is not None:\n",
      "   2119     args = process_dataframe_hierarchy(args)\n",
      "\n",
      "File /project/def-emayada/q1k/experimental/q1k_env/lib/python3.11/site-packages/plotly/express/_core.py:1393, in build_dataframe(args, constructor)\n",
      "   1391 if constructor in cartesians:\n",
      "   1392     if wide_x and wide_y:\n",
      "-> 1393         raise ValueError(\n",
      "   1394             \"Cannot accept list of column references or list of columns for both `x` and `y`.\"\n",
      "   1395         )\n",
      "   1396     if df_provided and no_x and no_y:\n",
      "   1397         wide_mode = True\n",
      "\n",
      "ValueError: Cannot accept list of column references or list of columns for both `x` and `y`.\n",
      "\n",
      "Current data file: /project/def-emayada/q1k/experimental/HSJ/sourcedata/eeg/Q1K_HSJ_1525-1061_P/Q1K_HSJ_1025-1061_P_RS_20240718_015538.mff\n",
      "Participant number: 1525-1061\n",
      "Participant relation: P\n",
      "Participant ID input: 1525-1061_P\n",
      "Participant ID output: 15251061P\n",
      "1525-1061_P\n",
      "Input notebook: /project/def-emayada/q1k/experimental/HSJ/code/q1k_eeget_init/q1k_generate_individual_reports.ipynb\n",
      "Output notebook file: /project/def-emayada/q1k/experimental/HSJ/code/q1k_eeget_init/session_reports/RS/executed_notebooks/1525-1061_P_RS_executed.ipynb\n",
      "Output HTML file: /project/def-emayada/q1k/experimental/HSJ/code/q1k_eeget_init/session_reports/RS/1525-1061_P_RS.html\n"
     ]
    },
    {
     "data": {
      "application/vnd.jupyter.widget-view+json": {
       "model_id": "0905e404abc1487ba714b85e454959dc",
       "version_major": 2,
       "version_minor": 0
      },
      "text/plain": [
       "Executing:   0%|          | 0/37 [00:00<?, ?cell/s]"
      ]
     },
     "metadata": {},
     "output_type": "display_data"
    },
    {
     "name": "stdout",
     "output_type": "stream",
     "text": [
      "HTML report saved for 1525-1061_P.\n",
      "Current data file: /project/def-emayada/q1k/experimental/HSJ/sourcedata/eeg/Q1K_HSJ_100100_P/Q1K_HSJ_100100_P_RS_20240223_121442.mff\n",
      "Participant number: 100100\n",
      "Participant relation: P\n",
      "Participant ID input: 100100_P\n",
      "Participant ID output: 100100P\n",
      "100100_P\n",
      "Input notebook: /project/def-emayada/q1k/experimental/HSJ/code/q1k_eeget_init/q1k_generate_individual_reports.ipynb\n",
      "Output notebook file: /project/def-emayada/q1k/experimental/HSJ/code/q1k_eeget_init/session_reports/RS/executed_notebooks/100100_P_RS_executed.ipynb\n",
      "Output HTML file: /project/def-emayada/q1k/experimental/HSJ/code/q1k_eeget_init/session_reports/RS/100100_P_RS.html\n"
     ]
    },
    {
     "data": {
      "application/vnd.jupyter.widget-view+json": {
       "model_id": "5b2200ed98ce4c5481399ea71fd219ab",
       "version_major": 2,
       "version_minor": 0
      },
      "text/plain": [
       "Executing:   0%|          | 0/37 [00:00<?, ?cell/s]"
      ]
     },
     "metadata": {},
     "output_type": "display_data"
    },
    {
     "name": "stdout",
     "output_type": "stream",
     "text": [
      "Error while processing 100100_P: \n",
      "---------------------------------------------------------------------------\n",
      "Exception encountered at \"In [34]\":\n",
      "---------------------------------------------------------------------------\n",
      "ValueError                                Traceback (most recent call last)\n",
      "Cell In[34], line 16\n",
      "     11 bids_path = mne_bids.BIDSPath(\n",
      "     12    subject=subject_id_out, session=session_id, task=task_id_out, run=\"1\", datatype=\"eeg\", root=project_path\n",
      "     13 )\n",
      "     15 print(bids_path)\n",
      "---> 16 mne_bids.write_raw_bids(\n",
      "     17    raw=eeg_raw,\n",
      "     18    bids_path=bids_path,\n",
      "     19    events=eeg_events,\n",
      "     20    event_id=eeg_event_dict,\n",
      "     21    format = \"EDF\",\n",
      "     22    overwrite=True,\n",
      "     23    allow_preload=True,\n",
      "     24 )\n",
      "\n",
      "File <decorator-gen-447>:12, in write_raw_bids(raw, bids_path, events, event_id, anonymize, format, symlink, empty_room, allow_preload, montage, acpc_aligned, overwrite, verbose)\n",
      "\n",
      "File /project/def-emayada/q1k/experimental/q1k_env/lib/python3.11/site-packages/mne_bids/write.py:2110, in write_raw_bids(***failed resolving arguments***)\n",
      "   2108 elif bids_path.datatype in [\"eeg\", \"ieeg\"] and format == \"EDF\":\n",
      "   2109     warn(\"Converting data files to EDF format\")\n",
      "-> 2110     _write_raw_edf(raw, bids_path.fpath, overwrite=overwrite)\n",
      "   2111 elif bids_path.datatype in [\"eeg\", \"ieeg\"] and format == \"EEGLAB\":\n",
      "   2112     warn(\"Converting data files to EEGLAB format\")\n",
      "\n",
      "File /project/def-emayada/q1k/experimental/q1k_env/lib/python3.11/site-packages/mne_bids/write.py:1175, in _write_raw_edf(raw, bids_fname, overwrite)\n",
      "   1163 \"\"\"Store data as EDF.\n",
      "   1164 \n",
      "   1165 Parameters\n",
      "   (...)\n",
      "   1172     Whether to overwrite an existing file or not.\n",
      "   1173 \"\"\"\n",
      "   1174 assert str(bids_fname).endswith(\".edf\")\n",
      "-> 1175 raw.export(bids_fname, overwrite=overwrite)\n",
      "\n",
      "File <decorator-gen-250>:12, in export(self, fname, fmt, physical_range, add_ch_type, overwrite, verbose)\n",
      "\n",
      "File /project/def-emayada/q1k/experimental/q1k_env/lib/python3.11/site-packages/mne/io/base.py:1784, in BaseRaw.export(self, fname, fmt, physical_range, add_ch_type, overwrite, verbose)\n",
      "   1757 \"\"\"Export Raw to external formats.\n",
      "   1758 \n",
      "   1759 %(export_fmt_support_raw)s\n",
      "   (...)\n",
      "   1780 %(export_edf_note)s\n",
      "   1781 \"\"\"\n",
      "   1782 from ..export import export_raw\n",
      "-> 1784 export_raw(\n",
      "   1785     fname,\n",
      "   1786     self,\n",
      "   1787     fmt,\n",
      "   1788     physical_range=physical_range,\n",
      "   1789     add_ch_type=add_ch_type,\n",
      "   1790     overwrite=overwrite,\n",
      "   1791     verbose=verbose,\n",
      "   1792 )\n",
      "\n",
      "File <decorator-gen-460>:12, in export_raw(fname, raw, fmt, physical_range, add_ch_type, overwrite, verbose)\n",
      "\n",
      "File /project/def-emayada/q1k/experimental/q1k_env/lib/python3.11/site-packages/mne/export/_export.py:75, in export_raw(fname, raw, fmt, physical_range, add_ch_type, overwrite, verbose)\n",
      "     72 elif fmt == \"edf\":\n",
      "     73     from ._edf import _export_raw\n",
      "---> 75     _export_raw(fname, raw, physical_range, add_ch_type)\n",
      "     76 elif fmt == \"brainvision\":\n",
      "     77     from ._brainvision import _export_raw\n",
      "\n",
      "File /project/def-emayada/q1k/experimental/q1k_env/lib/python3.11/site-packages/mne/export/_edf.py:144, in _export_raw(fname, raw, physical_range, add_ch_type)\n",
      "    140         pmax = ch_types_phys_max[ch_type]\n",
      "    141         prange = pmin, pmax\n",
      "    143     signals.append(\n",
      "--> 144         EdfSignal(\n",
      "    145             data[idx],\n",
      "    146             out_sfreq,\n",
      "    147             label=signal_label,\n",
      "    148             transducer_type=\"\",\n",
      "    149             physical_dimension=\"\" if ch_type == \"stim\" else \"uV\",\n",
      "    150             physical_range=prange,\n",
      "    151             digital_range=(digital_min, digital_max),\n",
      "    152             prefiltering=filter_str_info,\n",
      "    153         )\n",
      "    154     )\n",
      "    156 # set patient info\n",
      "    157 subj_info = raw.info.get(\"subject_info\")\n",
      "\n",
      "File /project/def-emayada/q1k/experimental/q1k_env/lib/python3.11/site-packages/edfio/edf_signal.py:125, in EdfSignal.__init__(self, data, sampling_frequency, label, transducer_type, physical_dimension, physical_range, digital_range, prefiltering)\n",
      "    123 if not np.all(np.isfinite(data)):\n",
      "    124     raise ValueError(\"Signal data must contain only finite values\")\n",
      "--> 125 self._set_physical_range(physical_range, data)\n",
      "    126 self._set_digital_range(digital_range)\n",
      "    127 self._set_data(data)\n",
      "\n",
      "File /project/def-emayada/q1k/experimental/q1k_env/lib/python3.11/site-packages/edfio/edf_signal.py:479, in EdfSignal._set_physical_range(self, physical_range, data)\n",
      "    477 physical_range = _FloatRange(*physical_range)\n",
      "    478 if physical_range.min == physical_range.max:\n",
      "--> 479     raise ValueError(\n",
      "    480         f\"Physical minimum ({physical_range.min}) must differ from physical maximum ({physical_range.max}).\"\n",
      "    481     )\n",
      "    482 data_min = data.min()\n",
      "    483 data_max = data.max()\n",
      "\n",
      "ValueError: Physical minimum (0.0) must differ from physical maximum (0.0).\n",
      "\n",
      "Current data file: /project/def-emayada/q1k/experimental/HSJ/sourcedata/eeg/Q1K_HSJ_100147_M1/Q1K_HSJ_100147_M1_RS_20240501_114938.mff\n",
      "Participant number: 100147\n",
      "Participant relation: M1\n",
      "Participant ID input: 100147_M1\n",
      "Participant ID output: 100147M1\n",
      "100147_M1\n",
      "Input notebook: /project/def-emayada/q1k/experimental/HSJ/code/q1k_eeget_init/q1k_generate_individual_reports.ipynb\n",
      "Output notebook file: /project/def-emayada/q1k/experimental/HSJ/code/q1k_eeget_init/session_reports/RS/executed_notebooks/100147_M1_RS_executed.ipynb\n",
      "Output HTML file: /project/def-emayada/q1k/experimental/HSJ/code/q1k_eeget_init/session_reports/RS/100147_M1_RS.html\n"
     ]
    },
    {
     "data": {
      "application/vnd.jupyter.widget-view+json": {
       "model_id": "5ce037af4c9a41cc93e10d80f06920bf",
       "version_major": 2,
       "version_minor": 0
      },
      "text/plain": [
       "Executing:   0%|          | 0/37 [00:00<?, ?cell/s]"
      ]
     },
     "metadata": {},
     "output_type": "display_data"
    },
    {
     "name": "stdout",
     "output_type": "stream",
     "text": [
      "Error while processing 100147_M1: \n",
      "---------------------------------------------------------------------------\n",
      "Exception encountered at \"In [29]\":\n",
      "---------------------------------------------------------------------------\n",
      "ValueError                                Traceback (most recent call last)\n",
      "Cell In[29], line 3\n",
      "      1 if et_sync:\n",
      "      2     # peak... at the ET event scatter plot.. event time stamp by DIN index\n",
      "----> 3     fig=px.scatter(x=et_events['index'],y=et_events['DIN_diff'])\n",
      "      4 else:\n",
      "      5     print('et_sync = False: skipping ET stimulus DIN offset display')\n",
      "\n",
      "File /project/def-emayada/q1k/experimental/q1k_env/lib/python3.11/site-packages/plotly/express/_chart_types.py:66, in scatter(data_frame, x, y, color, symbol, size, hover_name, hover_data, custom_data, text, facet_row, facet_col, facet_col_wrap, facet_row_spacing, facet_col_spacing, error_x, error_x_minus, error_y, error_y_minus, animation_frame, animation_group, category_orders, labels, orientation, color_discrete_sequence, color_discrete_map, color_continuous_scale, range_color, color_continuous_midpoint, symbol_sequence, symbol_map, opacity, size_max, marginal_x, marginal_y, trendline, trendline_options, trendline_color_override, trendline_scope, log_x, log_y, range_x, range_y, render_mode, title, template, width, height)\n",
      "     12 def scatter(\n",
      "     13     data_frame=None,\n",
      "     14     x=None,\n",
      "   (...)\n",
      "     60     height=None,\n",
      "     61 ) -> go.Figure:\n",
      "     62     \"\"\"\n",
      "     63     In a scatter plot, each row of `data_frame` is represented by a symbol\n",
      "     64     mark in 2D space.\n",
      "     65     \"\"\"\n",
      "---> 66     return make_figure(args=locals(), constructor=go.Scatter)\n",
      "\n",
      "File /project/def-emayada/q1k/experimental/q1k_env/lib/python3.11/site-packages/plotly/express/_core.py:2117, in make_figure(args, constructor, trace_patch, layout_patch)\n",
      "   2114 layout_patch = layout_patch or {}\n",
      "   2115 apply_default_cascade(args)\n",
      "-> 2117 args = build_dataframe(args, constructor)\n",
      "   2118 if constructor in [go.Treemap, go.Sunburst, go.Icicle] and args[\"path\"] is not None:\n",
      "   2119     args = process_dataframe_hierarchy(args)\n",
      "\n",
      "File /project/def-emayada/q1k/experimental/q1k_env/lib/python3.11/site-packages/plotly/express/_core.py:1393, in build_dataframe(args, constructor)\n",
      "   1391 if constructor in cartesians:\n",
      "   1392     if wide_x and wide_y:\n",
      "-> 1393         raise ValueError(\n",
      "   1394             \"Cannot accept list of column references or list of columns for both `x` and `y`.\"\n",
      "   1395         )\n",
      "   1396     if df_provided and no_x and no_y:\n",
      "   1397         wide_mode = True\n",
      "\n",
      "ValueError: Cannot accept list of column references or list of columns for both `x` and `y`.\n",
      "\n",
      "Current data file: /project/def-emayada/q1k/experimental/HSJ/sourcedata/eeg/Q1K_HSJ_100131_P/Q1K_HSJ_100131_P_RS_20240416_114544.mff\n",
      "Participant number: 100131\n",
      "Participant relation: P\n",
      "Participant ID input: 100131_P\n",
      "Participant ID output: 100131P\n",
      "100131_P\n",
      "Input notebook: /project/def-emayada/q1k/experimental/HSJ/code/q1k_eeget_init/q1k_generate_individual_reports.ipynb\n",
      "Output notebook file: /project/def-emayada/q1k/experimental/HSJ/code/q1k_eeget_init/session_reports/RS/executed_notebooks/100131_P_RS_executed.ipynb\n",
      "Output HTML file: /project/def-emayada/q1k/experimental/HSJ/code/q1k_eeget_init/session_reports/RS/100131_P_RS.html\n"
     ]
    },
    {
     "data": {
      "application/vnd.jupyter.widget-view+json": {
       "model_id": "2d5cbb4734e146d89bf0b317034fb97e",
       "version_major": 2,
       "version_minor": 0
      },
      "text/plain": [
       "Executing:   0%|          | 0/37 [00:00<?, ?cell/s]"
      ]
     },
     "metadata": {},
     "output_type": "display_data"
    },
    {
     "name": "stdout",
     "output_type": "stream",
     "text": [
      "Error while processing 100131_P: \n",
      "---------------------------------------------------------------------------\n",
      "Exception encountered at \"In [29]\":\n",
      "---------------------------------------------------------------------------\n",
      "ValueError                                Traceback (most recent call last)\n",
      "Cell In[29], line 3\n",
      "      1 if et_sync:\n",
      "      2     # peak... at the ET event scatter plot.. event time stamp by DIN index\n",
      "----> 3     fig=px.scatter(x=et_events['index'],y=et_events['DIN_diff'])\n",
      "      4 else:\n",
      "      5     print('et_sync = False: skipping ET stimulus DIN offset display')\n",
      "\n",
      "File /project/def-emayada/q1k/experimental/q1k_env/lib/python3.11/site-packages/plotly/express/_chart_types.py:66, in scatter(data_frame, x, y, color, symbol, size, hover_name, hover_data, custom_data, text, facet_row, facet_col, facet_col_wrap, facet_row_spacing, facet_col_spacing, error_x, error_x_minus, error_y, error_y_minus, animation_frame, animation_group, category_orders, labels, orientation, color_discrete_sequence, color_discrete_map, color_continuous_scale, range_color, color_continuous_midpoint, symbol_sequence, symbol_map, opacity, size_max, marginal_x, marginal_y, trendline, trendline_options, trendline_color_override, trendline_scope, log_x, log_y, range_x, range_y, render_mode, title, template, width, height)\n",
      "     12 def scatter(\n",
      "     13     data_frame=None,\n",
      "     14     x=None,\n",
      "   (...)\n",
      "     60     height=None,\n",
      "     61 ) -> go.Figure:\n",
      "     62     \"\"\"\n",
      "     63     In a scatter plot, each row of `data_frame` is represented by a symbol\n",
      "     64     mark in 2D space.\n",
      "     65     \"\"\"\n",
      "---> 66     return make_figure(args=locals(), constructor=go.Scatter)\n",
      "\n",
      "File /project/def-emayada/q1k/experimental/q1k_env/lib/python3.11/site-packages/plotly/express/_core.py:2117, in make_figure(args, constructor, trace_patch, layout_patch)\n",
      "   2114 layout_patch = layout_patch or {}\n",
      "   2115 apply_default_cascade(args)\n",
      "-> 2117 args = build_dataframe(args, constructor)\n",
      "   2118 if constructor in [go.Treemap, go.Sunburst, go.Icicle] and args[\"path\"] is not None:\n",
      "   2119     args = process_dataframe_hierarchy(args)\n",
      "\n",
      "File /project/def-emayada/q1k/experimental/q1k_env/lib/python3.11/site-packages/plotly/express/_core.py:1393, in build_dataframe(args, constructor)\n",
      "   1391 if constructor in cartesians:\n",
      "   1392     if wide_x and wide_y:\n",
      "-> 1393         raise ValueError(\n",
      "   1394             \"Cannot accept list of column references or list of columns for both `x` and `y`.\"\n",
      "   1395         )\n",
      "   1396     if df_provided and no_x and no_y:\n",
      "   1397         wide_mode = True\n",
      "\n",
      "ValueError: Cannot accept list of column references or list of columns for both `x` and `y`.\n",
      "\n",
      "Current data file: /project/def-emayada/q1k/experimental/HSJ/sourcedata/eeg/Q1K_HSJ_100131_P/Q1K_HSJ_100131_P_RS_20240416_115140.mff\n",
      "Participant number: 100131\n",
      "Participant relation: P\n",
      "Participant ID input: 100131_P\n",
      "Participant ID output: 100131P\n",
      "100131_P\n",
      "Input notebook: /project/def-emayada/q1k/experimental/HSJ/code/q1k_eeget_init/q1k_generate_individual_reports.ipynb\n",
      "Output notebook file: /project/def-emayada/q1k/experimental/HSJ/code/q1k_eeget_init/session_reports/RS/executed_notebooks/100131_P_RS_executed.ipynb\n",
      "Output HTML file: /project/def-emayada/q1k/experimental/HSJ/code/q1k_eeget_init/session_reports/RS/100131_P_RS.html\n"
     ]
    },
    {
     "data": {
      "application/vnd.jupyter.widget-view+json": {
       "model_id": "afb490d737364b78ab5561858ac28302",
       "version_major": 2,
       "version_minor": 0
      },
      "text/plain": [
       "Executing:   0%|          | 0/37 [00:00<?, ?cell/s]"
      ]
     },
     "metadata": {},
     "output_type": "display_data"
    },
    {
     "name": "stdout",
     "output_type": "stream",
     "text": [
      "Error while processing 100131_P: \n",
      "---------------------------------------------------------------------------\n",
      "Exception encountered at \"In [29]\":\n",
      "---------------------------------------------------------------------------\n",
      "ValueError                                Traceback (most recent call last)\n",
      "Cell In[29], line 3\n",
      "      1 if et_sync:\n",
      "      2     # peak... at the ET event scatter plot.. event time stamp by DIN index\n",
      "----> 3     fig=px.scatter(x=et_events['index'],y=et_events['DIN_diff'])\n",
      "      4 else:\n",
      "      5     print('et_sync = False: skipping ET stimulus DIN offset display')\n",
      "\n",
      "File /project/def-emayada/q1k/experimental/q1k_env/lib/python3.11/site-packages/plotly/express/_chart_types.py:66, in scatter(data_frame, x, y, color, symbol, size, hover_name, hover_data, custom_data, text, facet_row, facet_col, facet_col_wrap, facet_row_spacing, facet_col_spacing, error_x, error_x_minus, error_y, error_y_minus, animation_frame, animation_group, category_orders, labels, orientation, color_discrete_sequence, color_discrete_map, color_continuous_scale, range_color, color_continuous_midpoint, symbol_sequence, symbol_map, opacity, size_max, marginal_x, marginal_y, trendline, trendline_options, trendline_color_override, trendline_scope, log_x, log_y, range_x, range_y, render_mode, title, template, width, height)\n",
      "     12 def scatter(\n",
      "     13     data_frame=None,\n",
      "     14     x=None,\n",
      "   (...)\n",
      "     60     height=None,\n",
      "     61 ) -> go.Figure:\n",
      "     62     \"\"\"\n",
      "     63     In a scatter plot, each row of `data_frame` is represented by a symbol\n",
      "     64     mark in 2D space.\n",
      "     65     \"\"\"\n",
      "---> 66     return make_figure(args=locals(), constructor=go.Scatter)\n",
      "\n",
      "File /project/def-emayada/q1k/experimental/q1k_env/lib/python3.11/site-packages/plotly/express/_core.py:2117, in make_figure(args, constructor, trace_patch, layout_patch)\n",
      "   2114 layout_patch = layout_patch or {}\n",
      "   2115 apply_default_cascade(args)\n",
      "-> 2117 args = build_dataframe(args, constructor)\n",
      "   2118 if constructor in [go.Treemap, go.Sunburst, go.Icicle] and args[\"path\"] is not None:\n",
      "   2119     args = process_dataframe_hierarchy(args)\n",
      "\n",
      "File /project/def-emayada/q1k/experimental/q1k_env/lib/python3.11/site-packages/plotly/express/_core.py:1393, in build_dataframe(args, constructor)\n",
      "   1391 if constructor in cartesians:\n",
      "   1392     if wide_x and wide_y:\n",
      "-> 1393         raise ValueError(\n",
      "   1394             \"Cannot accept list of column references or list of columns for both `x` and `y`.\"\n",
      "   1395         )\n",
      "   1396     if df_provided and no_x and no_y:\n",
      "   1397         wide_mode = True\n",
      "\n",
      "ValueError: Cannot accept list of column references or list of columns for both `x` and `y`.\n",
      "\n",
      "Current data file: /project/def-emayada/q1k/experimental/HSJ/sourcedata/eeg/Q1K_HSJ_100119_M1/Q1K_HSJ_100119_M1_RS_20240524_111404.mff\n",
      "Participant number: 100119\n",
      "Participant relation: M1\n",
      "Participant ID input: 100119_M1\n",
      "Participant ID output: 100119M1\n",
      "100119_M1\n",
      "Input notebook: /project/def-emayada/q1k/experimental/HSJ/code/q1k_eeget_init/q1k_generate_individual_reports.ipynb\n",
      "Output notebook file: /project/def-emayada/q1k/experimental/HSJ/code/q1k_eeget_init/session_reports/RS/executed_notebooks/100119_M1_RS_executed.ipynb\n",
      "Output HTML file: /project/def-emayada/q1k/experimental/HSJ/code/q1k_eeget_init/session_reports/RS/100119_M1_RS.html\n"
     ]
    },
    {
     "data": {
      "application/vnd.jupyter.widget-view+json": {
       "model_id": "32febbaaef5e4f539d3a3205214ced3b",
       "version_major": 2,
       "version_minor": 0
      },
      "text/plain": [
       "Executing:   0%|          | 0/37 [00:00<?, ?cell/s]"
      ]
     },
     "metadata": {},
     "output_type": "display_data"
    },
    {
     "name": "stdout",
     "output_type": "stream",
     "text": [
      "HTML report saved for 100119_M1.\n",
      "Current data file: /project/def-emayada/q1k/experimental/HSJ/sourcedata/eeg/Q1K_HSJ_100111_F1/Q1K_HSJ_100111_F1_RS_20240412_100053.mff\n",
      "Participant number: 100111\n",
      "Participant relation: F1\n",
      "Participant ID input: 100111_F1\n",
      "Participant ID output: 100111F1\n",
      "100111_F1\n",
      "Input notebook: /project/def-emayada/q1k/experimental/HSJ/code/q1k_eeget_init/q1k_generate_individual_reports.ipynb\n",
      "Output notebook file: /project/def-emayada/q1k/experimental/HSJ/code/q1k_eeget_init/session_reports/RS/executed_notebooks/100111_F1_RS_executed.ipynb\n",
      "Output HTML file: /project/def-emayada/q1k/experimental/HSJ/code/q1k_eeget_init/session_reports/RS/100111_F1_RS.html\n"
     ]
    },
    {
     "data": {
      "application/vnd.jupyter.widget-view+json": {
       "model_id": "52039ca43c4741a89dfb884149ab314d",
       "version_major": 2,
       "version_minor": 0
      },
      "text/plain": [
       "Executing:   0%|          | 0/37 [00:00<?, ?cell/s]"
      ]
     },
     "metadata": {},
     "output_type": "display_data"
    },
    {
     "name": "stdout",
     "output_type": "stream",
     "text": [
      "HTML report saved for 100111_F1.\n",
      "Current data file: /project/def-emayada/q1k/experimental/HSJ/sourcedata/eeg/Q1K_HSJ_1525-1033_P/Q1K_HSJ_1525-1033_P_RS_20240708_124358.mff\n",
      "Participant number: 1525-1033\n",
      "Participant relation: P\n",
      "Participant ID input: 1525-1033_P\n",
      "Participant ID output: 15251033P\n",
      "1525-1033_P\n",
      "Input notebook: /project/def-emayada/q1k/experimental/HSJ/code/q1k_eeget_init/q1k_generate_individual_reports.ipynb\n",
      "Output notebook file: /project/def-emayada/q1k/experimental/HSJ/code/q1k_eeget_init/session_reports/RS/executed_notebooks/1525-1033_P_RS_executed.ipynb\n",
      "Output HTML file: /project/def-emayada/q1k/experimental/HSJ/code/q1k_eeget_init/session_reports/RS/1525-1033_P_RS.html\n"
     ]
    },
    {
     "data": {
      "application/vnd.jupyter.widget-view+json": {
       "model_id": "4543657297634bd58d872d7d90faf400",
       "version_major": 2,
       "version_minor": 0
      },
      "text/plain": [
       "Executing:   0%|          | 0/37 [00:00<?, ?cell/s]"
      ]
     },
     "metadata": {},
     "output_type": "display_data"
    },
    {
     "name": "stdout",
     "output_type": "stream",
     "text": [
      "HTML report saved for 1525-1033_P.\n",
      "Current data file: /project/def-emayada/q1k/experimental/HSJ/sourcedata/eeg/Q1K_HSJ_1525-1073_M1/Q1K_HSJ_1525-1073_M1_RS_20240801_113002.mff\n",
      "Participant number: 1525-1073\n",
      "Participant relation: M1\n",
      "Participant ID input: 1525-1073_M1\n",
      "Participant ID output: 15251073M1\n",
      "1525-1073_M1\n",
      "Input notebook: /project/def-emayada/q1k/experimental/HSJ/code/q1k_eeget_init/q1k_generate_individual_reports.ipynb\n",
      "Output notebook file: /project/def-emayada/q1k/experimental/HSJ/code/q1k_eeget_init/session_reports/RS/executed_notebooks/1525-1073_M1_RS_executed.ipynb\n",
      "Output HTML file: /project/def-emayada/q1k/experimental/HSJ/code/q1k_eeget_init/session_reports/RS/1525-1073_M1_RS.html\n"
     ]
    },
    {
     "data": {
      "application/vnd.jupyter.widget-view+json": {
       "model_id": "42e6a7cceb154337b170585dcf861af4",
       "version_major": 2,
       "version_minor": 0
      },
      "text/plain": [
       "Executing:   0%|          | 0/37 [00:00<?, ?cell/s]"
      ]
     },
     "metadata": {},
     "output_type": "display_data"
    },
    {
     "name": "stdout",
     "output_type": "stream",
     "text": [
      "HTML report saved for 1525-1073_M1.\n",
      "Current data file: /project/def-emayada/q1k/experimental/HSJ/sourcedata/eeg/Q1K_HSJ_10064_S1/Q1K_HSJ_10064_S1_RS_20240620_114943.mff\n",
      "Participant number: 10064\n",
      "Participant relation: S1\n",
      "Participant ID input: 10064_S1\n",
      "Participant ID output: 10064S1\n",
      "10064_S1\n",
      "Input notebook: /project/def-emayada/q1k/experimental/HSJ/code/q1k_eeget_init/q1k_generate_individual_reports.ipynb\n",
      "Output notebook file: /project/def-emayada/q1k/experimental/HSJ/code/q1k_eeget_init/session_reports/RS/executed_notebooks/10064_S1_RS_executed.ipynb\n",
      "Output HTML file: /project/def-emayada/q1k/experimental/HSJ/code/q1k_eeget_init/session_reports/RS/10064_S1_RS.html\n"
     ]
    },
    {
     "data": {
      "application/vnd.jupyter.widget-view+json": {
       "model_id": "bbbfbc74562b44c28b7c90991fa9665a",
       "version_major": 2,
       "version_minor": 0
      },
      "text/plain": [
       "Executing:   0%|          | 0/37 [00:00<?, ?cell/s]"
      ]
     },
     "metadata": {},
     "output_type": "display_data"
    },
    {
     "name": "stdout",
     "output_type": "stream",
     "text": [
      "Error while processing 10064_S1: \n",
      "---------------------------------------------------------------------------\n",
      "Exception encountered at \"In [29]\":\n",
      "---------------------------------------------------------------------------\n",
      "ValueError                                Traceback (most recent call last)\n",
      "Cell In[29], line 3\n",
      "      1 if et_sync:\n",
      "      2     # peak... at the ET event scatter plot.. event time stamp by DIN index\n",
      "----> 3     fig=px.scatter(x=et_events['index'],y=et_events['DIN_diff'])\n",
      "      4 else:\n",
      "      5     print('et_sync = False: skipping ET stimulus DIN offset display')\n",
      "\n",
      "File /project/def-emayada/q1k/experimental/q1k_env/lib/python3.11/site-packages/plotly/express/_chart_types.py:66, in scatter(data_frame, x, y, color, symbol, size, hover_name, hover_data, custom_data, text, facet_row, facet_col, facet_col_wrap, facet_row_spacing, facet_col_spacing, error_x, error_x_minus, error_y, error_y_minus, animation_frame, animation_group, category_orders, labels, orientation, color_discrete_sequence, color_discrete_map, color_continuous_scale, range_color, color_continuous_midpoint, symbol_sequence, symbol_map, opacity, size_max, marginal_x, marginal_y, trendline, trendline_options, trendline_color_override, trendline_scope, log_x, log_y, range_x, range_y, render_mode, title, template, width, height)\n",
      "     12 def scatter(\n",
      "     13     data_frame=None,\n",
      "     14     x=None,\n",
      "   (...)\n",
      "     60     height=None,\n",
      "     61 ) -> go.Figure:\n",
      "     62     \"\"\"\n",
      "     63     In a scatter plot, each row of `data_frame` is represented by a symbol\n",
      "     64     mark in 2D space.\n",
      "     65     \"\"\"\n",
      "---> 66     return make_figure(args=locals(), constructor=go.Scatter)\n",
      "\n",
      "File /project/def-emayada/q1k/experimental/q1k_env/lib/python3.11/site-packages/plotly/express/_core.py:2117, in make_figure(args, constructor, trace_patch, layout_patch)\n",
      "   2114 layout_patch = layout_patch or {}\n",
      "   2115 apply_default_cascade(args)\n",
      "-> 2117 args = build_dataframe(args, constructor)\n",
      "   2118 if constructor in [go.Treemap, go.Sunburst, go.Icicle] and args[\"path\"] is not None:\n",
      "   2119     args = process_dataframe_hierarchy(args)\n",
      "\n",
      "File /project/def-emayada/q1k/experimental/q1k_env/lib/python3.11/site-packages/plotly/express/_core.py:1393, in build_dataframe(args, constructor)\n",
      "   1391 if constructor in cartesians:\n",
      "   1392     if wide_x and wide_y:\n",
      "-> 1393         raise ValueError(\n",
      "   1394             \"Cannot accept list of column references or list of columns for both `x` and `y`.\"\n",
      "   1395         )\n",
      "   1396     if df_provided and no_x and no_y:\n",
      "   1397         wide_mode = True\n",
      "\n",
      "ValueError: Cannot accept list of column references or list of columns for both `x` and `y`.\n",
      "\n",
      "Current data file: /project/def-emayada/q1k/experimental/HSJ/sourcedata/eeg/Q1K_HSJ_100152_P/Q1K_HSJ_100152_P_RS_20240510_010111.mff\n",
      "Participant number: 100152\n",
      "Participant relation: P\n",
      "Participant ID input: 100152_P\n",
      "Participant ID output: 100152P\n",
      "100152_P\n",
      "Input notebook: /project/def-emayada/q1k/experimental/HSJ/code/q1k_eeget_init/q1k_generate_individual_reports.ipynb\n",
      "Output notebook file: /project/def-emayada/q1k/experimental/HSJ/code/q1k_eeget_init/session_reports/RS/executed_notebooks/100152_P_RS_executed.ipynb\n",
      "Output HTML file: /project/def-emayada/q1k/experimental/HSJ/code/q1k_eeget_init/session_reports/RS/100152_P_RS.html\n"
     ]
    },
    {
     "data": {
      "application/vnd.jupyter.widget-view+json": {
       "model_id": "7e08a50ca79c413c91389538463ad277",
       "version_major": 2,
       "version_minor": 0
      },
      "text/plain": [
       "Executing:   0%|          | 0/37 [00:00<?, ?cell/s]"
      ]
     },
     "metadata": {},
     "output_type": "display_data"
    },
    {
     "name": "stdout",
     "output_type": "stream",
     "text": [
      "Error while processing 100152_P: \n",
      "---------------------------------------------------------------------------\n",
      "Exception encountered at \"In [29]\":\n",
      "---------------------------------------------------------------------------\n",
      "ValueError                                Traceback (most recent call last)\n",
      "Cell In[29], line 3\n",
      "      1 if et_sync:\n",
      "      2     # peak... at the ET event scatter plot.. event time stamp by DIN index\n",
      "----> 3     fig=px.scatter(x=et_events['index'],y=et_events['DIN_diff'])\n",
      "      4 else:\n",
      "      5     print('et_sync = False: skipping ET stimulus DIN offset display')\n",
      "\n",
      "File /project/def-emayada/q1k/experimental/q1k_env/lib/python3.11/site-packages/plotly/express/_chart_types.py:66, in scatter(data_frame, x, y, color, symbol, size, hover_name, hover_data, custom_data, text, facet_row, facet_col, facet_col_wrap, facet_row_spacing, facet_col_spacing, error_x, error_x_minus, error_y, error_y_minus, animation_frame, animation_group, category_orders, labels, orientation, color_discrete_sequence, color_discrete_map, color_continuous_scale, range_color, color_continuous_midpoint, symbol_sequence, symbol_map, opacity, size_max, marginal_x, marginal_y, trendline, trendline_options, trendline_color_override, trendline_scope, log_x, log_y, range_x, range_y, render_mode, title, template, width, height)\n",
      "     12 def scatter(\n",
      "     13     data_frame=None,\n",
      "     14     x=None,\n",
      "   (...)\n",
      "     60     height=None,\n",
      "     61 ) -> go.Figure:\n",
      "     62     \"\"\"\n",
      "     63     In a scatter plot, each row of `data_frame` is represented by a symbol\n",
      "     64     mark in 2D space.\n",
      "     65     \"\"\"\n",
      "---> 66     return make_figure(args=locals(), constructor=go.Scatter)\n",
      "\n",
      "File /project/def-emayada/q1k/experimental/q1k_env/lib/python3.11/site-packages/plotly/express/_core.py:2117, in make_figure(args, constructor, trace_patch, layout_patch)\n",
      "   2114 layout_patch = layout_patch or {}\n",
      "   2115 apply_default_cascade(args)\n",
      "-> 2117 args = build_dataframe(args, constructor)\n",
      "   2118 if constructor in [go.Treemap, go.Sunburst, go.Icicle] and args[\"path\"] is not None:\n",
      "   2119     args = process_dataframe_hierarchy(args)\n",
      "\n",
      "File /project/def-emayada/q1k/experimental/q1k_env/lib/python3.11/site-packages/plotly/express/_core.py:1393, in build_dataframe(args, constructor)\n",
      "   1391 if constructor in cartesians:\n",
      "   1392     if wide_x and wide_y:\n",
      "-> 1393         raise ValueError(\n",
      "   1394             \"Cannot accept list of column references or list of columns for both `x` and `y`.\"\n",
      "   1395         )\n",
      "   1396     if df_provided and no_x and no_y:\n",
      "   1397         wide_mode = True\n",
      "\n",
      "ValueError: Cannot accept list of column references or list of columns for both `x` and `y`.\n",
      "\n",
      "Current data file: /project/def-emayada/q1k/experimental/HSJ/sourcedata/eeg/Q1K_HSJ_1525_1052_F1/Q1K_HSJ_1525_1052_F1_RS_20240712_010442.mff\n",
      "Participant number: 1525\n",
      "Participant relation: 1052\n",
      "Participant ID input: 1525_1052\n",
      "Participant ID output: 15251052\n",
      "1525_1052\n",
      "Input notebook: /project/def-emayada/q1k/experimental/HSJ/code/q1k_eeget_init/q1k_generate_individual_reports.ipynb\n",
      "Output notebook file: /project/def-emayada/q1k/experimental/HSJ/code/q1k_eeget_init/session_reports/RS/executed_notebooks/1525_1052_RS_executed.ipynb\n",
      "Output HTML file: /project/def-emayada/q1k/experimental/HSJ/code/q1k_eeget_init/session_reports/RS/1525_1052_RS.html\n"
     ]
    },
    {
     "data": {
      "application/vnd.jupyter.widget-view+json": {
       "model_id": "14ce950c67504efd90a313de5c357d87",
       "version_major": 2,
       "version_minor": 0
      },
      "text/plain": [
       "Executing:   0%|          | 0/38 [00:00<?, ?cell/s]"
      ]
     },
     "metadata": {},
     "output_type": "display_data"
    },
    {
     "name": "stdout",
     "output_type": "stream",
     "text": [
      "Error while processing 1525_1052: \n",
      "---------------------------------------------------------------------------\n",
      "Exception encountered at \"In [8]\":\n",
      "---------------------------------------------------------------------------\n",
      "IndexError                                Traceback (most recent call last)\n",
      "Cell In[8], line 1\n",
      "----> 1 session_file_name_eeg[0]\n",
      "\n",
      "IndexError: list index out of range\n",
      "\n",
      "Current data file: /project/def-emayada/q1k/experimental/HSJ/sourcedata/eeg/Q1K_HSJ_10083_M1/Q1K_HSJ_10083_M1_RS_20240306_010403.mff\n",
      "Participant number: 10083\n",
      "Participant relation: M1\n",
      "Participant ID input: 10083_M1\n",
      "Participant ID output: 10083M1\n",
      "10083_M1\n",
      "Input notebook: /project/def-emayada/q1k/experimental/HSJ/code/q1k_eeget_init/q1k_generate_individual_reports.ipynb\n",
      "Output notebook file: /project/def-emayada/q1k/experimental/HSJ/code/q1k_eeget_init/session_reports/RS/executed_notebooks/10083_M1_RS_executed.ipynb\n",
      "Output HTML file: /project/def-emayada/q1k/experimental/HSJ/code/q1k_eeget_init/session_reports/RS/10083_M1_RS.html\n"
     ]
    },
    {
     "data": {
      "application/vnd.jupyter.widget-view+json": {
       "model_id": "124e7acca45b4dcba6fa1ca6a6e42130",
       "version_major": 2,
       "version_minor": 0
      },
      "text/plain": [
       "Executing:   0%|          | 0/38 [00:00<?, ?cell/s]"
      ]
     },
     "metadata": {},
     "output_type": "display_data"
    },
    {
     "name": "stdout",
     "output_type": "stream",
     "text": [
      "Error while processing 10083_M1: \n",
      "---------------------------------------------------------------------------\n",
      "Exception encountered at \"In [31]\":\n",
      "---------------------------------------------------------------------------\n",
      "NameError                                 Traceback (most recent call last)\n",
      "Cell In[31], line 3\n",
      "      1 if et_sync:\n",
      "      2     # peak... at the time offset between the matched events in the EEG and ET recording \n",
      "----> 3     qit.show_sync_offsets(eeg_stims,et_stims)\n",
      "      4     # print the scatterplot to an html file for easy exploration.\n",
      "      5     fig.write_html(\"eeg_et_sync.html\")\n",
      "\n",
      "NameError: name 'eeg_stims' is not defined\n",
      "\n",
      "Current data file: /project/def-emayada/q1k/experimental/HSJ/sourcedata/eeg/Q1K_HSJ_100131_S1/Q1K_HSJ_100131_S1_RS_20240416_102202.mff\n",
      "Participant number: 100131\n",
      "Participant relation: S1\n",
      "Participant ID input: 100131_S1\n",
      "Participant ID output: 100131S1\n",
      "100131_S1\n",
      "Input notebook: /project/def-emayada/q1k/experimental/HSJ/code/q1k_eeget_init/q1k_generate_individual_reports.ipynb\n",
      "Output notebook file: /project/def-emayada/q1k/experimental/HSJ/code/q1k_eeget_init/session_reports/RS/executed_notebooks/100131_S1_RS_executed.ipynb\n",
      "Output HTML file: /project/def-emayada/q1k/experimental/HSJ/code/q1k_eeget_init/session_reports/RS/100131_S1_RS.html\n"
     ]
    },
    {
     "data": {
      "application/vnd.jupyter.widget-view+json": {
       "model_id": "55db82a0189843eb8f084593ba9d5395",
       "version_major": 2,
       "version_minor": 0
      },
      "text/plain": [
       "Executing:   0%|          | 0/38 [00:00<?, ?cell/s]"
      ]
     },
     "metadata": {},
     "output_type": "display_data"
    },
    {
     "name": "stdout",
     "output_type": "stream",
     "text": [
      "HTML report saved for 100131_S1.\n",
      "Current data file: /project/def-emayada/q1k/experimental/HSJ/sourcedata/eeg/Q1K_HSJ_1525-1028_P/Q1K_HSJ_1525-1028_P_RS_20240704_124219.mff\n",
      "Participant number: 1525-1028\n",
      "Participant relation: P\n",
      "Participant ID input: 1525-1028_P\n",
      "Participant ID output: 15251028P\n",
      "1525-1028_P\n",
      "Input notebook: /project/def-emayada/q1k/experimental/HSJ/code/q1k_eeget_init/q1k_generate_individual_reports.ipynb\n",
      "Output notebook file: /project/def-emayada/q1k/experimental/HSJ/code/q1k_eeget_init/session_reports/RS/executed_notebooks/1525-1028_P_RS_executed.ipynb\n",
      "Output HTML file: /project/def-emayada/q1k/experimental/HSJ/code/q1k_eeget_init/session_reports/RS/1525-1028_P_RS.html\n"
     ]
    },
    {
     "data": {
      "application/vnd.jupyter.widget-view+json": {
       "model_id": "7aa385536a7d428daa52991e8d461076",
       "version_major": 2,
       "version_minor": 0
      },
      "text/plain": [
       "Executing:   0%|          | 0/38 [00:00<?, ?cell/s]"
      ]
     },
     "metadata": {},
     "output_type": "display_data"
    },
    {
     "name": "stdout",
     "output_type": "stream",
     "text": [
      "Error while processing 1525-1028_P: \n",
      "---------------------------------------------------------------------------\n",
      "Exception encountered at \"In [23]\":\n",
      "---------------------------------------------------------------------------\n",
      "NameError                                 Traceback (most recent call last)\n",
      "Cell In[23], line 3\n",
      "      1 #if et_sync:\n",
      "      2     # peak... at the ET channel types\n",
      "----> 3 et_types = et_raw.get_channel_types()\n",
      "      4 np.unique(et_types)\n",
      "      5 #else:\n",
      "      6 #    print(\"et_sync = False: not printing ET channle types\")\n",
      "\n",
      "NameError: name 'et_raw' is not defined\n",
      "\n",
      "Current data file: /project/def-emayada/q1k/experimental/HSJ/sourcedata/eeg/Q1K_HSJ_100123_M1/Q1K_HSJ_100123_M1_RS_20240308_113149.mff\n",
      "Participant number: 100123\n",
      "Participant relation: M1\n",
      "Participant ID input: 100123_M1\n",
      "Participant ID output: 100123M1\n",
      "100123_M1\n",
      "Input notebook: /project/def-emayada/q1k/experimental/HSJ/code/q1k_eeget_init/q1k_generate_individual_reports.ipynb\n",
      "Output notebook file: /project/def-emayada/q1k/experimental/HSJ/code/q1k_eeget_init/session_reports/RS/executed_notebooks/100123_M1_RS_executed.ipynb\n",
      "Output HTML file: /project/def-emayada/q1k/experimental/HSJ/code/q1k_eeget_init/session_reports/RS/100123_M1_RS.html\n"
     ]
    },
    {
     "data": {
      "application/vnd.jupyter.widget-view+json": {
       "model_id": "8f923df8213a478f933cd998817d1abf",
       "version_major": 2,
       "version_minor": 0
      },
      "text/plain": [
       "Executing:   0%|          | 0/38 [00:00<?, ?cell/s]"
      ]
     },
     "metadata": {},
     "output_type": "display_data"
    },
    {
     "name": "stdout",
     "output_type": "stream",
     "text": [
      "Error while processing 100123_M1: \n",
      "---------------------------------------------------------------------------\n",
      "Exception encountered at \"In [28]\":\n",
      "---------------------------------------------------------------------------\n",
      "KeyError                                  Traceback (most recent call last)\n",
      "File /project/def-emayada/q1k/experimental/q1k_env/lib/python3.11/site-packages/pandas/core/indexes/base.py:3805, in Index.get_loc(self, key)\n",
      "   3804 try:\n",
      "-> 3805     return self._engine.get_loc(casted_key)\n",
      "   3806 except KeyError as err:\n",
      "\n",
      "File index.pyx:167, in pandas._libs.index.IndexEngine.get_loc()\n",
      "\n",
      "File index.pyx:196, in pandas._libs.index.IndexEngine.get_loc()\n",
      "\n",
      "File pandas/_libs/hashtable_class_helper.pxi:7081, in pandas._libs.hashtable.PyObjectHashTable.get_item()\n",
      "\n",
      "File pandas/_libs/hashtable_class_helper.pxi:7089, in pandas._libs.hashtable.PyObjectHashTable.get_item()\n",
      "\n",
      "KeyError: 'pupil_left'\n",
      "\n",
      "The above exception was the direct cause of the following exception:\n",
      "\n",
      "KeyError                                  Traceback (most recent call last)\n",
      "Cell In[28], line 3\n",
      "      1 if et_sync:\n",
      "      2     # peak... at the ET DIN channel scatter plot.. \n",
      "----> 3     fig=px.scatter(x=et_raw_df['time'],y=et_raw_df['pupil_left'])\n",
      "      4     fig.update_layout(title='Original event times')\n",
      "      5     fig.update_xaxes(title_text='Time of event(ms)')\n",
      "\n",
      "File /project/def-emayada/q1k/experimental/q1k_env/lib/python3.11/site-packages/pandas/core/frame.py:4102, in DataFrame.__getitem__(self, key)\n",
      "   4100 if self.columns.nlevels > 1:\n",
      "   4101     return self._getitem_multilevel(key)\n",
      "-> 4102 indexer = self.columns.get_loc(key)\n",
      "   4103 if is_integer(indexer):\n",
      "   4104     indexer = [indexer]\n",
      "\n",
      "File /project/def-emayada/q1k/experimental/q1k_env/lib/python3.11/site-packages/pandas/core/indexes/base.py:3812, in Index.get_loc(self, key)\n",
      "   3807     if isinstance(casted_key, slice) or (\n",
      "   3808         isinstance(casted_key, abc.Iterable)\n",
      "   3809         and any(isinstance(x, slice) for x in casted_key)\n",
      "   3810     ):\n",
      "   3811         raise InvalidIndexError(key)\n",
      "-> 3812     raise KeyError(key) from err\n",
      "   3813 except TypeError:\n",
      "   3814     # If we have a listlike key, _check_indexing_error will raise\n",
      "   3815     #  InvalidIndexError. Otherwise we fall through and re-raise\n",
      "   3816     #  the TypeError.\n",
      "   3817     self._check_indexing_error(key)\n",
      "\n",
      "KeyError: 'pupil_left'\n",
      "\n",
      "Current data file: /project/def-emayada/q1k/experimental/HSJ/sourcedata/eeg/Q1K_HSJ_1525-1001_M1/Q1K_HSJ_1525-1001_M1_RS_20240524_105411.mff\n",
      "Participant number: 1525-1001\n",
      "Participant relation: M1\n",
      "Participant ID input: 1525-1001_M1\n",
      "Participant ID output: 15251001M1\n",
      "1525-1001_M1\n",
      "Input notebook: /project/def-emayada/q1k/experimental/HSJ/code/q1k_eeget_init/q1k_generate_individual_reports.ipynb\n",
      "Output notebook file: /project/def-emayada/q1k/experimental/HSJ/code/q1k_eeget_init/session_reports/RS/executed_notebooks/1525-1001_M1_RS_executed.ipynb\n",
      "Output HTML file: /project/def-emayada/q1k/experimental/HSJ/code/q1k_eeget_init/session_reports/RS/1525-1001_M1_RS.html\n"
     ]
    },
    {
     "data": {
      "application/vnd.jupyter.widget-view+json": {
       "model_id": "3e6466510c154483aa461adbc0a4150f",
       "version_major": 2,
       "version_minor": 0
      },
      "text/plain": [
       "Executing:   0%|          | 0/38 [00:00<?, ?cell/s]"
      ]
     },
     "metadata": {},
     "output_type": "display_data"
    },
    {
     "name": "stdout",
     "output_type": "stream",
     "text": [
      "Error while processing 1525-1001_M1: \n",
      "---------------------------------------------------------------------------\n",
      "Exception encountered at \"In [31]\":\n",
      "---------------------------------------------------------------------------\n",
      "NameError                                 Traceback (most recent call last)\n",
      "Cell In[31], line 3\n",
      "      1 if et_sync:\n",
      "      2     # peak... at the time offset between the matched events in the EEG and ET recording \n",
      "----> 3     qit.show_sync_offsets(eeg_stims,et_stims)\n",
      "      4     # print the scatterplot to an html file for easy exploration.\n",
      "      5     fig.write_html(\"eeg_et_sync.html\")\n",
      "\n",
      "NameError: name 'eeg_stims' is not defined\n",
      "\n",
      "Current data file: /project/def-emayada/q1k/experimental/HSJ/sourcedata/eeg/Q1K_HSJ_10083_P/Q1K_HSJ_10083_P_RS_20240306_111140.mff\n",
      "Participant number: 10083\n",
      "Participant relation: P\n",
      "Participant ID input: 10083_P\n",
      "Participant ID output: 10083P\n",
      "10083_P\n",
      "Input notebook: /project/def-emayada/q1k/experimental/HSJ/code/q1k_eeget_init/q1k_generate_individual_reports.ipynb\n",
      "Output notebook file: /project/def-emayada/q1k/experimental/HSJ/code/q1k_eeget_init/session_reports/RS/executed_notebooks/10083_P_RS_executed.ipynb\n",
      "Output HTML file: /project/def-emayada/q1k/experimental/HSJ/code/q1k_eeget_init/session_reports/RS/10083_P_RS.html\n"
     ]
    },
    {
     "data": {
      "application/vnd.jupyter.widget-view+json": {
       "model_id": "898430b16a3246338cc178a1efe69013",
       "version_major": 2,
       "version_minor": 0
      },
      "text/plain": [
       "Executing:   0%|          | 0/38 [00:00<?, ?cell/s]"
      ]
     },
     "metadata": {},
     "output_type": "display_data"
    },
    {
     "name": "stdout",
     "output_type": "stream",
     "text": [
      "HTML report saved for 10083_P.\n",
      "Current data file: /project/def-emayada/q1k/experimental/HSJ/sourcedata/eeg/Q1K_HSJ_100111_P/Q1K_HSJ_100111_P_RS_20240412_105623.mff\n",
      "Participant number: 100111\n",
      "Participant relation: P\n",
      "Participant ID input: 100111_P\n",
      "Participant ID output: 100111P\n",
      "100111_P\n",
      "Input notebook: /project/def-emayada/q1k/experimental/HSJ/code/q1k_eeget_init/q1k_generate_individual_reports.ipynb\n",
      "Output notebook file: /project/def-emayada/q1k/experimental/HSJ/code/q1k_eeget_init/session_reports/RS/executed_notebooks/100111_P_RS_executed.ipynb\n",
      "Output HTML file: /project/def-emayada/q1k/experimental/HSJ/code/q1k_eeget_init/session_reports/RS/100111_P_RS.html\n"
     ]
    },
    {
     "data": {
      "application/vnd.jupyter.widget-view+json": {
       "model_id": "c6c220aae8fa472a8cf273b790f28e2a",
       "version_major": 2,
       "version_minor": 0
      },
      "text/plain": [
       "Executing:   0%|          | 0/38 [00:00<?, ?cell/s]"
      ]
     },
     "metadata": {},
     "output_type": "display_data"
    },
    {
     "name": "stdout",
     "output_type": "stream",
     "text": [
      "Error while processing 100111_P: \n",
      "---------------------------------------------------------------------------\n",
      "Exception encountered at \"In [30]\":\n",
      "---------------------------------------------------------------------------\n",
      "ValueError                                Traceback (most recent call last)\n",
      "Cell In[30], line 3\n",
      "      1 if et_sync:\n",
      "      2     # peak... at the ET event scatter plot.. event time stamp by DIN index\n",
      "----> 3     fig=px.scatter(x=et_events['index'],y=et_events['DIN_diff'])\n",
      "      4 else:\n",
      "      5     print('et_sync = False: skipping ET stimulus DIN offset display')\n",
      "\n",
      "File /project/def-emayada/q1k/experimental/q1k_env/lib/python3.11/site-packages/plotly/express/_chart_types.py:66, in scatter(data_frame, x, y, color, symbol, size, hover_name, hover_data, custom_data, text, facet_row, facet_col, facet_col_wrap, facet_row_spacing, facet_col_spacing, error_x, error_x_minus, error_y, error_y_minus, animation_frame, animation_group, category_orders, labels, orientation, color_discrete_sequence, color_discrete_map, color_continuous_scale, range_color, color_continuous_midpoint, symbol_sequence, symbol_map, opacity, size_max, marginal_x, marginal_y, trendline, trendline_options, trendline_color_override, trendline_scope, log_x, log_y, range_x, range_y, render_mode, title, template, width, height)\n",
      "     12 def scatter(\n",
      "     13     data_frame=None,\n",
      "     14     x=None,\n",
      "   (...)\n",
      "     60     height=None,\n",
      "     61 ) -> go.Figure:\n",
      "     62     \"\"\"\n",
      "     63     In a scatter plot, each row of `data_frame` is represented by a symbol\n",
      "     64     mark in 2D space.\n",
      "     65     \"\"\"\n",
      "---> 66     return make_figure(args=locals(), constructor=go.Scatter)\n",
      "\n",
      "File /project/def-emayada/q1k/experimental/q1k_env/lib/python3.11/site-packages/plotly/express/_core.py:2117, in make_figure(args, constructor, trace_patch, layout_patch)\n",
      "   2114 layout_patch = layout_patch or {}\n",
      "   2115 apply_default_cascade(args)\n",
      "-> 2117 args = build_dataframe(args, constructor)\n",
      "   2118 if constructor in [go.Treemap, go.Sunburst, go.Icicle] and args[\"path\"] is not None:\n",
      "   2119     args = process_dataframe_hierarchy(args)\n",
      "\n",
      "File /project/def-emayada/q1k/experimental/q1k_env/lib/python3.11/site-packages/plotly/express/_core.py:1393, in build_dataframe(args, constructor)\n",
      "   1391 if constructor in cartesians:\n",
      "   1392     if wide_x and wide_y:\n",
      "-> 1393         raise ValueError(\n",
      "   1394             \"Cannot accept list of column references or list of columns for both `x` and `y`.\"\n",
      "   1395         )\n",
      "   1396     if df_provided and no_x and no_y:\n",
      "   1397         wide_mode = True\n",
      "\n",
      "ValueError: Cannot accept list of column references or list of columns for both `x` and `y`.\n",
      "\n",
      "Current data file: /project/def-emayada/q1k/experimental/HSJ/sourcedata/eeg/Q1K_HSJ_1525_1037_F1/Q1K_HSJ_1525_1037_F1_RS_20240619_100109.mff\n",
      "Participant number: 1525\n",
      "Participant relation: 1037\n",
      "Participant ID input: 1525_1037\n",
      "Participant ID output: 15251037\n",
      "1525_1037\n",
      "Input notebook: /project/def-emayada/q1k/experimental/HSJ/code/q1k_eeget_init/q1k_generate_individual_reports.ipynb\n",
      "Output notebook file: /project/def-emayada/q1k/experimental/HSJ/code/q1k_eeget_init/session_reports/RS/executed_notebooks/1525_1037_RS_executed.ipynb\n",
      "Output HTML file: /project/def-emayada/q1k/experimental/HSJ/code/q1k_eeget_init/session_reports/RS/1525_1037_RS.html\n"
     ]
    },
    {
     "data": {
      "application/vnd.jupyter.widget-view+json": {
       "model_id": "acec106a49504d21a23a8707d00df0b0",
       "version_major": 2,
       "version_minor": 0
      },
      "text/plain": [
       "Executing:   0%|          | 0/38 [00:00<?, ?cell/s]"
      ]
     },
     "metadata": {},
     "output_type": "display_data"
    },
    {
     "name": "stdout",
     "output_type": "stream",
     "text": [
      "Error while processing 1525_1037: \n",
      "---------------------------------------------------------------------------\n",
      "Exception encountered at \"In [8]\":\n",
      "---------------------------------------------------------------------------\n",
      "IndexError                                Traceback (most recent call last)\n",
      "Cell In[8], line 1\n",
      "----> 1 session_file_name_eeg[0]\n",
      "\n",
      "IndexError: list index out of range\n",
      "\n",
      "Current data file: /project/def-emayada/q1k/experimental/HSJ/sourcedata/eeg/Q1K_HSJ_100134_M1/Q1K_HSJ_100134_M1_RS_20240417_020341.mff\n",
      "Participant number: 100134\n",
      "Participant relation: M1\n",
      "Participant ID input: 100134_M1\n",
      "Participant ID output: 100134M1\n",
      "100134_M1\n",
      "Input notebook: /project/def-emayada/q1k/experimental/HSJ/code/q1k_eeget_init/q1k_generate_individual_reports.ipynb\n",
      "Output notebook file: /project/def-emayada/q1k/experimental/HSJ/code/q1k_eeget_init/session_reports/RS/executed_notebooks/100134_M1_RS_executed.ipynb\n",
      "Output HTML file: /project/def-emayada/q1k/experimental/HSJ/code/q1k_eeget_init/session_reports/RS/100134_M1_RS.html\n"
     ]
    },
    {
     "data": {
      "application/vnd.jupyter.widget-view+json": {
       "model_id": "d32791609c26453da5ffe5fe5ae0c3cc",
       "version_major": 2,
       "version_minor": 0
      },
      "text/plain": [
       "Executing:   0%|          | 0/38 [00:00<?, ?cell/s]"
      ]
     },
     "metadata": {},
     "output_type": "display_data"
    },
    {
     "name": "stdout",
     "output_type": "stream",
     "text": [
      "Error while processing 100134_M1: \n",
      "---------------------------------------------------------------------------\n",
      "Exception encountered at \"In [30]\":\n",
      "---------------------------------------------------------------------------\n",
      "ValueError                                Traceback (most recent call last)\n",
      "Cell In[30], line 3\n",
      "      1 if et_sync:\n",
      "      2     # peak... at the ET event scatter plot.. event time stamp by DIN index\n",
      "----> 3     fig=px.scatter(x=et_events['index'],y=et_events['DIN_diff'])\n",
      "      4 else:\n",
      "      5     print('et_sync = False: skipping ET stimulus DIN offset display')\n",
      "\n",
      "File /project/def-emayada/q1k/experimental/q1k_env/lib/python3.11/site-packages/plotly/express/_chart_types.py:66, in scatter(data_frame, x, y, color, symbol, size, hover_name, hover_data, custom_data, text, facet_row, facet_col, facet_col_wrap, facet_row_spacing, facet_col_spacing, error_x, error_x_minus, error_y, error_y_minus, animation_frame, animation_group, category_orders, labels, orientation, color_discrete_sequence, color_discrete_map, color_continuous_scale, range_color, color_continuous_midpoint, symbol_sequence, symbol_map, opacity, size_max, marginal_x, marginal_y, trendline, trendline_options, trendline_color_override, trendline_scope, log_x, log_y, range_x, range_y, render_mode, title, template, width, height)\n",
      "     12 def scatter(\n",
      "     13     data_frame=None,\n",
      "     14     x=None,\n",
      "   (...)\n",
      "     60     height=None,\n",
      "     61 ) -> go.Figure:\n",
      "     62     \"\"\"\n",
      "     63     In a scatter plot, each row of `data_frame` is represented by a symbol\n",
      "     64     mark in 2D space.\n",
      "     65     \"\"\"\n",
      "---> 66     return make_figure(args=locals(), constructor=go.Scatter)\n",
      "\n",
      "File /project/def-emayada/q1k/experimental/q1k_env/lib/python3.11/site-packages/plotly/express/_core.py:2117, in make_figure(args, constructor, trace_patch, layout_patch)\n",
      "   2114 layout_patch = layout_patch or {}\n",
      "   2115 apply_default_cascade(args)\n",
      "-> 2117 args = build_dataframe(args, constructor)\n",
      "   2118 if constructor in [go.Treemap, go.Sunburst, go.Icicle] and args[\"path\"] is not None:\n",
      "   2119     args = process_dataframe_hierarchy(args)\n",
      "\n",
      "File /project/def-emayada/q1k/experimental/q1k_env/lib/python3.11/site-packages/plotly/express/_core.py:1393, in build_dataframe(args, constructor)\n",
      "   1391 if constructor in cartesians:\n",
      "   1392     if wide_x and wide_y:\n",
      "-> 1393         raise ValueError(\n",
      "   1394             \"Cannot accept list of column references or list of columns for both `x` and `y`.\"\n",
      "   1395         )\n",
      "   1396     if df_provided and no_x and no_y:\n",
      "   1397         wide_mode = True\n",
      "\n",
      "ValueError: Cannot accept list of column references or list of columns for both `x` and `y`.\n",
      "\n",
      "Current data file: /project/def-emayada/q1k/experimental/HSJ/sourcedata/eeg/Q1K_HSJ_1525-1067_M1/Q1K_HSJ_1525-1067_M1_RS_20240816_095039.mff\n",
      "Participant number: 1525-1067\n",
      "Participant relation: M1\n",
      "Participant ID input: 1525-1067_M1\n",
      "Participant ID output: 15251067M1\n",
      "1525-1067_M1\n",
      "Input notebook: /project/def-emayada/q1k/experimental/HSJ/code/q1k_eeget_init/q1k_generate_individual_reports.ipynb\n",
      "Output notebook file: /project/def-emayada/q1k/experimental/HSJ/code/q1k_eeget_init/session_reports/RS/executed_notebooks/1525-1067_M1_RS_executed.ipynb\n",
      "Output HTML file: /project/def-emayada/q1k/experimental/HSJ/code/q1k_eeget_init/session_reports/RS/1525-1067_M1_RS.html\n"
     ]
    },
    {
     "data": {
      "application/vnd.jupyter.widget-view+json": {
       "model_id": "33b5b921b1594638a79ef45afa3dcb0c",
       "version_major": 2,
       "version_minor": 0
      },
      "text/plain": [
       "Executing:   0%|          | 0/38 [00:00<?, ?cell/s]"
      ]
     },
     "metadata": {},
     "output_type": "display_data"
    },
    {
     "name": "stdout",
     "output_type": "stream",
     "text": [
      "Error while processing 1525-1067_M1: \n",
      "---------------------------------------------------------------------------\n",
      "Exception encountered at \"In [23]\":\n",
      "---------------------------------------------------------------------------\n",
      "NameError                                 Traceback (most recent call last)\n",
      "Cell In[23], line 3\n",
      "      1 #if et_sync:\n",
      "      2     # peak... at the ET channel types\n",
      "----> 3 et_types = et_raw.get_channel_types()\n",
      "      4 np.unique(et_types)\n",
      "      5 #else:\n",
      "      6 #    print(\"et_sync = False: not printing ET channle types\")\n",
      "\n",
      "NameError: name 'et_raw' is not defined\n",
      "\n",
      "Current data file: /project/def-emayada/q1k/experimental/HSJ/sourcedata/eeg/Q1K_HSJ_1525-1028_S1/Q1K_HSJ_1525-1028_S1_RS_20240704_092930.mff\n",
      "Participant number: 1525-1028\n",
      "Participant relation: S1\n",
      "Participant ID input: 1525-1028_S1\n",
      "Participant ID output: 15251028S1\n",
      "1525-1028_S1\n",
      "Input notebook: /project/def-emayada/q1k/experimental/HSJ/code/q1k_eeget_init/q1k_generate_individual_reports.ipynb\n",
      "Output notebook file: /project/def-emayada/q1k/experimental/HSJ/code/q1k_eeget_init/session_reports/RS/executed_notebooks/1525-1028_S1_RS_executed.ipynb\n",
      "Output HTML file: /project/def-emayada/q1k/experimental/HSJ/code/q1k_eeget_init/session_reports/RS/1525-1028_S1_RS.html\n"
     ]
    },
    {
     "data": {
      "application/vnd.jupyter.widget-view+json": {
       "model_id": "4c3248b6b984472b90933140106340ea",
       "version_major": 2,
       "version_minor": 0
      },
      "text/plain": [
       "Executing:   0%|          | 0/38 [00:00<?, ?cell/s]"
      ]
     },
     "metadata": {},
     "output_type": "display_data"
    },
    {
     "name": "stdout",
     "output_type": "stream",
     "text": [
      "Error while processing 1525-1028_S1: \n",
      "---------------------------------------------------------------------------\n",
      "Exception encountered at \"In [23]\":\n",
      "---------------------------------------------------------------------------\n",
      "NameError                                 Traceback (most recent call last)\n",
      "Cell In[23], line 3\n",
      "      1 #if et_sync:\n",
      "      2     # peak... at the ET channel types\n",
      "----> 3 et_types = et_raw.get_channel_types()\n",
      "      4 np.unique(et_types)\n",
      "      5 #else:\n",
      "      6 #    print(\"et_sync = False: not printing ET channle types\")\n",
      "\n",
      "NameError: name 'et_raw' is not defined\n",
      "\n",
      "Current data file: /project/def-emayada/q1k/experimental/HSJ/sourcedata/eeg/Q1K_HSJ_10064_P/Q1K_HSJ_10064_P__RS_20240620_104742.mff\n",
      "Participant number: 10064\n",
      "Participant relation: P\n",
      "Participant ID input: 10064_P\n",
      "Participant ID output: 10064P\n",
      "10064_P\n",
      "Input notebook: /project/def-emayada/q1k/experimental/HSJ/code/q1k_eeget_init/q1k_generate_individual_reports.ipynb\n",
      "Output notebook file: /project/def-emayada/q1k/experimental/HSJ/code/q1k_eeget_init/session_reports/RS/executed_notebooks/10064_P_RS_executed.ipynb\n",
      "Output HTML file: /project/def-emayada/q1k/experimental/HSJ/code/q1k_eeget_init/session_reports/RS/10064_P_RS.html\n"
     ]
    },
    {
     "data": {
      "application/vnd.jupyter.widget-view+json": {
       "model_id": "11313609d7c345f288c9c3310755a7bb",
       "version_major": 2,
       "version_minor": 0
      },
      "text/plain": [
       "Executing:   0%|          | 0/38 [00:00<?, ?cell/s]"
      ]
     },
     "metadata": {},
     "output_type": "display_data"
    },
    {
     "name": "stdout",
     "output_type": "stream",
     "text": [
      "Error while processing 10064_P: \n",
      "---------------------------------------------------------------------------\n",
      "Exception encountered at \"In [30]\":\n",
      "---------------------------------------------------------------------------\n",
      "ValueError                                Traceback (most recent call last)\n",
      "Cell In[30], line 3\n",
      "      1 if et_sync:\n",
      "      2     # peak... at the ET event scatter plot.. event time stamp by DIN index\n",
      "----> 3     fig=px.scatter(x=et_events['index'],y=et_events['DIN_diff'])\n",
      "      4 else:\n",
      "      5     print('et_sync = False: skipping ET stimulus DIN offset display')\n",
      "\n",
      "File /project/def-emayada/q1k/experimental/q1k_env/lib/python3.11/site-packages/plotly/express/_chart_types.py:66, in scatter(data_frame, x, y, color, symbol, size, hover_name, hover_data, custom_data, text, facet_row, facet_col, facet_col_wrap, facet_row_spacing, facet_col_spacing, error_x, error_x_minus, error_y, error_y_minus, animation_frame, animation_group, category_orders, labels, orientation, color_discrete_sequence, color_discrete_map, color_continuous_scale, range_color, color_continuous_midpoint, symbol_sequence, symbol_map, opacity, size_max, marginal_x, marginal_y, trendline, trendline_options, trendline_color_override, trendline_scope, log_x, log_y, range_x, range_y, render_mode, title, template, width, height)\n",
      "     12 def scatter(\n",
      "     13     data_frame=None,\n",
      "     14     x=None,\n",
      "   (...)\n",
      "     60     height=None,\n",
      "     61 ) -> go.Figure:\n",
      "     62     \"\"\"\n",
      "     63     In a scatter plot, each row of `data_frame` is represented by a symbol\n",
      "     64     mark in 2D space.\n",
      "     65     \"\"\"\n",
      "---> 66     return make_figure(args=locals(), constructor=go.Scatter)\n",
      "\n",
      "File /project/def-emayada/q1k/experimental/q1k_env/lib/python3.11/site-packages/plotly/express/_core.py:2117, in make_figure(args, constructor, trace_patch, layout_patch)\n",
      "   2114 layout_patch = layout_patch or {}\n",
      "   2115 apply_default_cascade(args)\n",
      "-> 2117 args = build_dataframe(args, constructor)\n",
      "   2118 if constructor in [go.Treemap, go.Sunburst, go.Icicle] and args[\"path\"] is not None:\n",
      "   2119     args = process_dataframe_hierarchy(args)\n",
      "\n",
      "File /project/def-emayada/q1k/experimental/q1k_env/lib/python3.11/site-packages/plotly/express/_core.py:1393, in build_dataframe(args, constructor)\n",
      "   1391 if constructor in cartesians:\n",
      "   1392     if wide_x and wide_y:\n",
      "-> 1393         raise ValueError(\n",
      "   1394             \"Cannot accept list of column references or list of columns for both `x` and `y`.\"\n",
      "   1395         )\n",
      "   1396     if df_provided and no_x and no_y:\n",
      "   1397         wide_mode = True\n",
      "\n",
      "ValueError: Cannot accept list of column references or list of columns for both `x` and `y`.\n",
      "\n",
      "Current data file: /project/def-emayada/q1k/experimental/HSJ/sourcedata/eeg/Q1K_HSJ_100105_F1/Q1K_HSJ_100105_F1_RS_20240229_034111.mff\n",
      "Participant number: 100105\n",
      "Participant relation: F1\n",
      "Participant ID input: 100105_F1\n",
      "Participant ID output: 100105F1\n",
      "100105_F1\n",
      "Input notebook: /project/def-emayada/q1k/experimental/HSJ/code/q1k_eeget_init/q1k_generate_individual_reports.ipynb\n",
      "Output notebook file: /project/def-emayada/q1k/experimental/HSJ/code/q1k_eeget_init/session_reports/RS/executed_notebooks/100105_F1_RS_executed.ipynb\n",
      "Output HTML file: /project/def-emayada/q1k/experimental/HSJ/code/q1k_eeget_init/session_reports/RS/100105_F1_RS.html\n"
     ]
    },
    {
     "data": {
      "application/vnd.jupyter.widget-view+json": {
       "model_id": "8c3da37fa5634fc5b5aaa99a9901b137",
       "version_major": 2,
       "version_minor": 0
      },
      "text/plain": [
       "Executing:   0%|          | 0/38 [00:00<?, ?cell/s]"
      ]
     },
     "metadata": {},
     "output_type": "display_data"
    },
    {
     "name": "stdout",
     "output_type": "stream",
     "text": [
      "Error while processing 100105_F1: \n",
      "---------------------------------------------------------------------------\n",
      "Exception encountered at \"In [31]\":\n",
      "---------------------------------------------------------------------------\n",
      "NameError                                 Traceback (most recent call last)\n",
      "Cell In[31], line 3\n",
      "      1 if et_sync:\n",
      "      2     # peak... at the time offset between the matched events in the EEG and ET recording \n",
      "----> 3     qit.show_sync_offsets(eeg_stims,et_stims)\n",
      "      4     # print the scatterplot to an html file for easy exploration.\n",
      "      5     fig.write_html(\"eeg_et_sync.html\")\n",
      "\n",
      "NameError: name 'eeg_stims' is not defined\n",
      "\n",
      "Current data file: /project/def-emayada/q1k/experimental/HSJ/sourcedata/eeg/Q1K_HSJ_1525-1057_F1/Q1K_HSJ_1525-1057_F1_RS_20240722_105014.mff\n",
      "Participant number: 1525-1057\n",
      "Participant relation: F1\n",
      "Participant ID input: 1525-1057_F1\n",
      "Participant ID output: 15251057F1\n",
      "1525-1057_F1\n",
      "Input notebook: /project/def-emayada/q1k/experimental/HSJ/code/q1k_eeget_init/q1k_generate_individual_reports.ipynb\n",
      "Output notebook file: /project/def-emayada/q1k/experimental/HSJ/code/q1k_eeget_init/session_reports/RS/executed_notebooks/1525-1057_F1_RS_executed.ipynb\n",
      "Output HTML file: /project/def-emayada/q1k/experimental/HSJ/code/q1k_eeget_init/session_reports/RS/1525-1057_F1_RS.html\n"
     ]
    },
    {
     "data": {
      "application/vnd.jupyter.widget-view+json": {
       "model_id": "bbfc3f5a49554888b8c7384e903ca7ae",
       "version_major": 2,
       "version_minor": 0
      },
      "text/plain": [
       "Executing:   0%|          | 0/38 [00:00<?, ?cell/s]"
      ]
     },
     "metadata": {},
     "output_type": "display_data"
    },
    {
     "name": "stdout",
     "output_type": "stream",
     "text": [
      "Error while processing 1525-1057_F1: \n",
      "---------------------------------------------------------------------------\n",
      "Exception encountered at \"In [23]\":\n",
      "---------------------------------------------------------------------------\n",
      "NameError                                 Traceback (most recent call last)\n",
      "Cell In[23], line 3\n",
      "      1 #if et_sync:\n",
      "      2     # peak... at the ET channel types\n",
      "----> 3 et_types = et_raw.get_channel_types()\n",
      "      4 np.unique(et_types)\n",
      "      5 #else:\n",
      "      6 #    print(\"et_sync = False: not printing ET channle types\")\n",
      "\n",
      "NameError: name 'et_raw' is not defined\n",
      "\n",
      "Current data file: /project/def-emayada/q1k/experimental/HSJ/sourcedata/eeg/Q1K_HSJ_100162_P/Q1K_HSJ_100162_P_RS_20240530_114409.mff\n",
      "Participant number: 100162\n",
      "Participant relation: P\n",
      "Participant ID input: 100162_P\n",
      "Participant ID output: 100162P\n",
      "100162_P\n",
      "Input notebook: /project/def-emayada/q1k/experimental/HSJ/code/q1k_eeget_init/q1k_generate_individual_reports.ipynb\n",
      "Output notebook file: /project/def-emayada/q1k/experimental/HSJ/code/q1k_eeget_init/session_reports/RS/executed_notebooks/100162_P_RS_executed.ipynb\n",
      "Output HTML file: /project/def-emayada/q1k/experimental/HSJ/code/q1k_eeget_init/session_reports/RS/100162_P_RS.html\n"
     ]
    },
    {
     "data": {
      "application/vnd.jupyter.widget-view+json": {
       "model_id": "baf590ef237f4c3f83280f4db30eb3f7",
       "version_major": 2,
       "version_minor": 0
      },
      "text/plain": [
       "Executing:   0%|          | 0/38 [00:00<?, ?cell/s]"
      ]
     },
     "metadata": {},
     "output_type": "display_data"
    },
    {
     "name": "stdout",
     "output_type": "stream",
     "text": [
      "Error while processing 100162_P: \n",
      "---------------------------------------------------------------------------\n",
      "Exception encountered at \"In [30]\":\n",
      "---------------------------------------------------------------------------\n",
      "ValueError                                Traceback (most recent call last)\n",
      "Cell In[30], line 3\n",
      "      1 if et_sync:\n",
      "      2     # peak... at the ET event scatter plot.. event time stamp by DIN index\n",
      "----> 3     fig=px.scatter(x=et_events['index'],y=et_events['DIN_diff'])\n",
      "      4 else:\n",
      "      5     print('et_sync = False: skipping ET stimulus DIN offset display')\n",
      "\n",
      "File /project/def-emayada/q1k/experimental/q1k_env/lib/python3.11/site-packages/plotly/express/_chart_types.py:66, in scatter(data_frame, x, y, color, symbol, size, hover_name, hover_data, custom_data, text, facet_row, facet_col, facet_col_wrap, facet_row_spacing, facet_col_spacing, error_x, error_x_minus, error_y, error_y_minus, animation_frame, animation_group, category_orders, labels, orientation, color_discrete_sequence, color_discrete_map, color_continuous_scale, range_color, color_continuous_midpoint, symbol_sequence, symbol_map, opacity, size_max, marginal_x, marginal_y, trendline, trendline_options, trendline_color_override, trendline_scope, log_x, log_y, range_x, range_y, render_mode, title, template, width, height)\n",
      "     12 def scatter(\n",
      "     13     data_frame=None,\n",
      "     14     x=None,\n",
      "   (...)\n",
      "     60     height=None,\n",
      "     61 ) -> go.Figure:\n",
      "     62     \"\"\"\n",
      "     63     In a scatter plot, each row of `data_frame` is represented by a symbol\n",
      "     64     mark in 2D space.\n",
      "     65     \"\"\"\n",
      "---> 66     return make_figure(args=locals(), constructor=go.Scatter)\n",
      "\n",
      "File /project/def-emayada/q1k/experimental/q1k_env/lib/python3.11/site-packages/plotly/express/_core.py:2117, in make_figure(args, constructor, trace_patch, layout_patch)\n",
      "   2114 layout_patch = layout_patch or {}\n",
      "   2115 apply_default_cascade(args)\n",
      "-> 2117 args = build_dataframe(args, constructor)\n",
      "   2118 if constructor in [go.Treemap, go.Sunburst, go.Icicle] and args[\"path\"] is not None:\n",
      "   2119     args = process_dataframe_hierarchy(args)\n",
      "\n",
      "File /project/def-emayada/q1k/experimental/q1k_env/lib/python3.11/site-packages/plotly/express/_core.py:1393, in build_dataframe(args, constructor)\n",
      "   1391 if constructor in cartesians:\n",
      "   1392     if wide_x and wide_y:\n",
      "-> 1393         raise ValueError(\n",
      "   1394             \"Cannot accept list of column references or list of columns for both `x` and `y`.\"\n",
      "   1395         )\n",
      "   1396     if df_provided and no_x and no_y:\n",
      "   1397         wide_mode = True\n",
      "\n",
      "ValueError: Cannot accept list of column references or list of columns for both `x` and `y`.\n",
      "\n",
      "Current data file: /project/def-emayada/q1k/experimental/HSJ/sourcedata/eeg/Q1K_HSJ_100152_M1/Q1K_HSJ_100152_M1_RS_20240510_103646.mff\n",
      "Participant number: 100152\n",
      "Participant relation: M1\n",
      "Participant ID input: 100152_M1\n",
      "Participant ID output: 100152M1\n",
      "100152_M1\n",
      "Input notebook: /project/def-emayada/q1k/experimental/HSJ/code/q1k_eeget_init/q1k_generate_individual_reports.ipynb\n",
      "Output notebook file: /project/def-emayada/q1k/experimental/HSJ/code/q1k_eeget_init/session_reports/RS/executed_notebooks/100152_M1_RS_executed.ipynb\n",
      "Output HTML file: /project/def-emayada/q1k/experimental/HSJ/code/q1k_eeget_init/session_reports/RS/100152_M1_RS.html\n"
     ]
    },
    {
     "data": {
      "application/vnd.jupyter.widget-view+json": {
       "model_id": "54697140246a442faa8e250fb6858079",
       "version_major": 2,
       "version_minor": 0
      },
      "text/plain": [
       "Executing:   0%|          | 0/38 [00:00<?, ?cell/s]"
      ]
     },
     "metadata": {},
     "output_type": "display_data"
    },
    {
     "name": "stdout",
     "output_type": "stream",
     "text": [
      "Error while processing 100152_M1: \n",
      "---------------------------------------------------------------------------\n",
      "Exception encountered at \"In [28]\":\n",
      "---------------------------------------------------------------------------\n",
      "KeyError                                  Traceback (most recent call last)\n",
      "File /project/def-emayada/q1k/experimental/q1k_env/lib/python3.11/site-packages/pandas/core/indexes/base.py:3805, in Index.get_loc(self, key)\n",
      "   3804 try:\n",
      "-> 3805     return self._engine.get_loc(casted_key)\n",
      "   3806 except KeyError as err:\n",
      "\n",
      "File index.pyx:167, in pandas._libs.index.IndexEngine.get_loc()\n",
      "\n",
      "File index.pyx:196, in pandas._libs.index.IndexEngine.get_loc()\n",
      "\n",
      "File pandas/_libs/hashtable_class_helper.pxi:7081, in pandas._libs.hashtable.PyObjectHashTable.get_item()\n",
      "\n",
      "File pandas/_libs/hashtable_class_helper.pxi:7089, in pandas._libs.hashtable.PyObjectHashTable.get_item()\n",
      "\n",
      "KeyError: 'pupil_left'\n",
      "\n",
      "The above exception was the direct cause of the following exception:\n",
      "\n",
      "KeyError                                  Traceback (most recent call last)\n",
      "Cell In[28], line 3\n",
      "      1 if et_sync:\n",
      "      2     # peak... at the ET DIN channel scatter plot.. \n",
      "----> 3     fig=px.scatter(x=et_raw_df['time'],y=et_raw_df['pupil_left'])\n",
      "      4     fig.update_layout(title='Original event times')\n",
      "      5     fig.update_xaxes(title_text='Time of event(ms)')\n",
      "\n",
      "File /project/def-emayada/q1k/experimental/q1k_env/lib/python3.11/site-packages/pandas/core/frame.py:4102, in DataFrame.__getitem__(self, key)\n",
      "   4100 if self.columns.nlevels > 1:\n",
      "   4101     return self._getitem_multilevel(key)\n",
      "-> 4102 indexer = self.columns.get_loc(key)\n",
      "   4103 if is_integer(indexer):\n",
      "   4104     indexer = [indexer]\n",
      "\n",
      "File /project/def-emayada/q1k/experimental/q1k_env/lib/python3.11/site-packages/pandas/core/indexes/base.py:3812, in Index.get_loc(self, key)\n",
      "   3807     if isinstance(casted_key, slice) or (\n",
      "   3808         isinstance(casted_key, abc.Iterable)\n",
      "   3809         and any(isinstance(x, slice) for x in casted_key)\n",
      "   3810     ):\n",
      "   3811         raise InvalidIndexError(key)\n",
      "-> 3812     raise KeyError(key) from err\n",
      "   3813 except TypeError:\n",
      "   3814     # If we have a listlike key, _check_indexing_error will raise\n",
      "   3815     #  InvalidIndexError. Otherwise we fall through and re-raise\n",
      "   3816     #  the TypeError.\n",
      "   3817     self._check_indexing_error(key)\n",
      "\n",
      "KeyError: 'pupil_left'\n",
      "\n",
      "These subjects have errors: ['100147_P', '1525-1001_F1', '1525-1026_P', '1525_1052', '100105_P', '1525-1026_M1', '100114_S1', '10050_M1', '100157_P', '1525_1009', '100162_M1', '100100_S1', '100114_P', '10093_O1', '10050_P', '1525_1052', '100159_M1', '10053_M1', '100111_M1', '100162_S1', '1525_1009', '1525_1009', '100114_S2', '100114_M1', '100154_P', '1525-1033_S1', '1525-1057_P', '100147_F2', '1525_1052', '1525_1018', '1525-1024_P', '1525-1024_P', '100108_F1', '1025-1061_F1', '1525_1042', '10064_M1', '1525_1037', '1525_1037', '100131_M1', '10043_F1', '100119_S1', '1525-1001_P', '1525-1001_P', '100157_M1', '100100_F1', '100128_P', '1525-1045_F1', '1525-1073_P', '100150_P', '100129_P', '1525-1067_S1', '1525-1080_M1', '1525-1021_F1', '1525-1028_S2', '100123_P', '1525-1006_M1', '100114_F1', '1525-1001_S1', '100150_M1', '100100_P', '100147_M1', '100131_P', '100131_P', '10064_S1', '100152_P', '1525_1052', '10083_M1', '1525-1028_P', '100123_M1', '1525-1001_M1', '100111_P', '1525_1037', '100134_M1', '1525-1067_M1', '1525-1028_S1', '10064_P', '100105_F1', '1525-1057_F1', '100162_P', '100152_M1'] and need to be reprocessed\n"
     ]
    }
   ],
   "source": [
    "# Make sure the output directory exists\n",
    "if not os.path.exists(html_reports_path):\n",
    "    os.makedirs(html_reports_path)\n",
    "\n",
    "# Create a list of sessions with errors\n",
    "error_subjects = []\n",
    "\n",
    "#Loop through existing sessions and execute the q1k_generate_individual_reports.ipynb if a session report does not already exist\n",
    "for file in glob.glob(project_path + sourcedata_path + \"eeg/Q1K*/Q1K*\" + task_id_in + '_*.mff'):\n",
    "    print('Current data file: ' + file)\n",
    "    # Select anything after the Q1K and before the AEP\n",
    "    #subject_id = file.split('_')[2]\n",
    "    site_part = file.split(site_code + \"_\")\n",
    "    subject_number = site_part[1].split(\"_\")[0]\n",
    "    print('Participant number: ' + subject_number)\n",
    "    subject_relation = site_part[1].split(\"_\")[1].split(\"/\")[0]\n",
    "    print('Participant relation: ' + subject_relation)\n",
    "\n",
    "    subject_id_in = subject_number + \"_\" + subject_relation\n",
    "    print('Participant ID input: ' + subject_id_in)\n",
    "    subject_id_out = subject_number.replace('_','').replace('-','') + subject_relation\n",
    "    print('Participant ID output: ' + subject_id_out)\n",
    "    \n",
    "    # Skip sessions that have a session report in the output directory\n",
    "    print(subject_id_in)\n",
    "    if subject_id_in in processed_sessions:\n",
    "        print(subject_id_in + ' has already been processed')\n",
    "        continue    \n",
    "\n",
    "    # Define paths\n",
    "    input_notebook = project_path + init_path +'q1k_generate_individual_reports.ipynb'\n",
    "    print('Input notebook: ' + input_notebook)\n",
    "\n",
    "    # Make sure the directory exists\n",
    "    if not os.path.exists(f'{project_path}{init_path}session_reports/{task_id_in}/executed_notebooks/'):\n",
    "        os.makedirs(f'{project_path}{init_path}session_reports/{task_id_in}/executed_notebooks/')\n",
    "    \n",
    "    output_notebook = f'{project_path}{init_path}{html_reports_path}executed_notebooks/{subject_id_in}_{task_id_in}_executed.ipynb'\n",
    "    print('Output notebook file: ' + output_notebook)\n",
    "    output_html = f'{project_path}{init_path}{html_reports_path}{subject_id_in}_{task_id_in}.html'\n",
    "    print('Output HTML file: ' + output_html)\n",
    "\n",
    "    try:\n",
    "        # Execute the notebook\n",
    "        pm.execute_notebook(input_notebook, output_notebook, kernel_name = 'q1k_env', parameters=dict(subject_id_in=subject_id_in, subject_id_out=subject_id_out,task_id_in=task_id_in, task_id_in_et=task_id_in_et,\n",
    "         task_id_out=task_id_out, run_id=run_id, session_id=session_id, project_path=project_path, dataset_group=dataset_group, site_code=site_code))\n",
    "\n",
    "        # Convert executed notebook to HTML\n",
    "        html_exporter = HTMLExporter()\n",
    "        html_exporter.exclude_input = True\n",
    "\n",
    "        (body, resources) = html_exporter.from_filename(output_notebook)\n",
    "\n",
    "        # Save HTML output\n",
    "        with open(output_html, 'w', encoding='utf-8') as f:\n",
    "            f.write(body)\n",
    "\n",
    "        print(f\"HTML report saved for {subject_id_in}.\")\n",
    "    \n",
    "\n",
    "    except Exception as e:\n",
    "        # Handle the error \n",
    "        error_subjects.append(subject_id_in)\n",
    "        print(f\"Error while processing {subject_id_in}: {e}\")\n",
    "\n",
    "# Print out the list of subjects with errors\n",
    "print( \"These subjects have errors: \" + str(error_subjects) + \" and need to be reprocessed\")"
   ]
  },
  {
   "cell_type": "markdown",
   "metadata": {},
   "source": [
    "### Visualize all reports at once"
   ]
  },
  {
   "cell_type": "code",
   "execution_count": null,
   "metadata": {},
   "outputs": [],
   "source": [
    "#for file in glob.glob(\"./../../sourcefiles/EEG/Q1K*/Q1K\" + \"*AEP\" + '*.mff'):\n",
    "#    # Select anything after the Q1K and before the AEP\n",
    "#    subject_id = file.split('\\\\')[1]\n",
    "#    # Skip sessions that have already been processed\n",
    "#    print(subject_id)\n",
    "#    if subject_id in processed_sessions:\n",
    "#        print (subject_id + ' has already been processed')\n",
    "#        continue    \n",
    "\n",
    "#    # Handle participants with error \n",
    "#    try:\n",
    "#        %run -i ./q1k_generate_individual_reports.ipynb --subject_id={subject_id}\n",
    "#    except Exception as e:\n",
    "#    # Handle the error (e.g., log it, skip participant, etc.)\n",
    "#        print(f\"Error while reading raw data for {subject_id}: {e}\")\n"
   ]
  },
  {
   "cell_type": "code",
   "execution_count": null,
   "metadata": {},
   "outputs": [],
   "source": []
  }
 ],
 "metadata": {
  "kernelspec": {
   "display_name": "q1k_env",
   "language": "python",
   "name": "q1k_env"
  },
  "language_info": {
   "codemirror_mode": {
    "name": "ipython",
    "version": 3
   },
   "file_extension": ".py",
   "mimetype": "text/x-python",
   "name": "python",
   "nbconvert_exporter": "python",
   "pygments_lexer": "ipython3",
   "version": "3.11.5"
  }
 },
 "nbformat": 4,
 "nbformat_minor": 4
}
