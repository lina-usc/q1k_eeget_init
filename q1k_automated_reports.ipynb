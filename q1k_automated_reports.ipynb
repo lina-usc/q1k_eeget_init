{
 "cells": [
  {
   "cell_type": "markdown",
   "metadata": {},
   "source": [
    "# Generate automated session reports for all participants"
   ]
  },
  {
   "cell_type": "code",
   "execution_count": 1,
   "metadata": {},
   "outputs": [],
   "source": [
    "# import packages\n",
    "import pandas as pd\n",
    "import numpy as np\n",
    "import mne\n",
    "import mne_bids\n",
    "from matplotlib import pyplot as plt\n",
    "import plotly.express as px\n",
    "import plotly.graph_objects as go\n",
    "import plotly.offline as py\n",
    "import plotly.io as pio\n",
    "pio.renderers.default = \"plotly_mimetype+notebook\"\n",
    "import q1k_init_tools as qit\n",
    "import glob\n",
    "import warnings\n",
    "from nbconvert import HTMLExporter\n",
    "from nbconvert.preprocessors import ExecutePreprocessor\n",
    "from nbformat import read\n",
    "import os\n",
    "import papermill as pm\n",
    "warnings.filterwarnings('ignore')"
   ]
  },
  {
   "cell_type": "markdown",
   "metadata": {
    "tags": []
   },
   "source": [
    "### Select task parameters and file paths"
   ]
  },
  {
   "cell_type": "code",
   "execution_count": 6,
   "metadata": {},
   "outputs": [],
   "source": [
    "# Select kind of data experimental or control group\n",
    "\n",
    "dataset_group = \"experimental\"\n",
    "\n",
    "#if dataset_group == \"control\":\n",
    "#    # Control group data\n",
    "#    project_path = \"/home/james/q1k/pilot/q1k-external-pilot/\"\n",
    "#    task_id_in = \"ap\"\n",
    "#    task_id_in_et = \"ap\"\n",
    "#    task_id_out = \"ap\"\n",
    "#    #subject_id = '002'\n",
    "#    session_id = '01'\n",
    "#    run_id = '1'\n",
    "\n",
    "#elif dataset_group == \"experimental\":\n",
    "# Experimental group data\n",
    "\n",
    "project_path = \"/project/def-emayada/q1k/experimental/HSJ/\"\n",
    "init_path = \"code/q1k_eeget_init/\"\n",
    "task_id_in = \"PLR\"\n",
    "task_id_in_et = \"PLR\"\n",
    "task_id_out = \"PLR\"\n",
    "#subject_id = 'Q1K_HSJ_100123_F1'\n",
    "run_id = '1'\n",
    "session_id = '01'\n",
    "site_code = 'HSJ' #'MHC' or 'HSJ'\n",
    "sourcedata_path = \"sourcedata/\" \n",
    "html_reports_path = \"session_reports/\" + task_id_in  + '/'\n",
    "et_sync = True\n"
   ]
  },
  {
   "cell_type": "code",
   "execution_count": 7,
   "metadata": {},
   "outputs": [
    {
     "name": "stdout",
     "output_type": "stream",
     "text": [
      "PLR\n"
     ]
    },
    {
     "data": {
      "text/plain": [
       "True"
      ]
     },
     "execution_count": 7,
     "metadata": {},
     "output_type": "execute_result"
    }
   ],
   "source": [
    "# Sanity check to see which task you would like to make reports for \n",
    "print(task_id_in)\n",
    "et_sync"
   ]
  },
  {
   "cell_type": "code",
   "execution_count": 8,
   "metadata": {
    "tags": []
   },
   "outputs": [
    {
     "name": "stdout",
     "output_type": "stream",
     "text": [
      "Existing session reports:\n"
     ]
    },
    {
     "data": {
      "text/plain": [
       "[]"
      ]
     },
     "execution_count": 8,
     "metadata": {},
     "output_type": "execute_result"
    }
   ],
   "source": [
    "# Generate list of session reports already processed so they are not processed again in next step\n",
    "processed_sessions = []\n",
    "\n",
    "for subject in glob.glob(project_path + init_path + \"session_reports/\" + task_id_in + \"/Q1k*.html\"): \n",
    "    processed_sessions.append(subject.split('\\\\')[1][:-5])\n",
    "\n",
    "print('Existing session reports:')\n",
    "processed_sessions"
   ]
  },
  {
   "cell_type": "markdown",
   "metadata": {},
   "source": [
    "## Generate html session reports for all participants"
   ]
  },
  {
   "cell_type": "code",
   "execution_count": 9,
   "metadata": {},
   "outputs": [
    {
     "data": {
      "text/plain": [
       "['/project/def-emayada/q1k/experimental/HSJ/sourcedata/eeg/Q1K_HSJ_1525-1026_P/Q1K_HSJ_1525-1026_P_PLR_20240613_031556.mff',\n",
       " '/project/def-emayada/q1k/experimental/HSJ/sourcedata/eeg/Q1K_HSJ_1525-1026_M1/Q1K_HSJ_1525-1026_M1_PLR_20240613_121650.mff',\n",
       " '/project/def-emayada/q1k/experimental/HSJ/sourcedata/eeg/Q1K_HSJ_1025-1042_M1/Q1K_HSJ_1025-1042_M1_PLR_20240715_124201.mff',\n",
       " '/project/def-emayada/q1k/experimental/HSJ/sourcedata/eeg/Q1K_HSJ_1025-1061_M/Q1K_HSJ_1025-1061_M1_PLR_20240718_031746.mff',\n",
       " '/project/def-emayada/q1k/experimental/HSJ/sourcedata/eeg/Q1K_HSJ_1525-1057_M1/Q1K_HSJ_1525-1057_M1_PLR_20240722_025056.mff',\n",
       " '/project/def-emayada/q1k/experimental/HSJ/sourcedata/eeg/Q1K_HSJ_1525_1009_S1/Q1K_HSJ_1525_1009_S1_PLR_20240806_115800.mff',\n",
       " '/project/def-emayada/q1k/experimental/HSJ/sourcedata/eeg/Q1K_HSJ_100162_M1/Q1K_HSJ_100162_M1_PLR_20240530_020053.mff',\n",
       " '/project/def-emayada/q1k/experimental/HSJ/sourcedata/eeg/Q1K_HSJ_1525-1045_S1/Q1K_HSJ_1525-1045_S1_PLR_20240805_113905.mff',\n",
       " '/project/def-emayada/q1k/experimental/HSJ/sourcedata/eeg/Q1K_HSJ_1525_1052_M1/Q1K_HSJ_1525_1052_M1_PLR_20240712_110654.mff',\n",
       " '/project/def-emayada/q1k/experimental/HSJ/sourcedata/eeg/Q1K_HSJ_100104_P/Q1K_HSJ_100104_P_PLR_20240702_105815.mff',\n",
       " '/project/def-emayada/q1k/experimental/HSJ/sourcedata/eeg/Q1K_HSJ_1025-1042_P/Q1K_HSJ_1025-1042_P_PLR_20240715_111828.mff',\n",
       " '/project/def-emayada/q1k/experimental/HSJ/sourcedata/eeg/Q1K_HSJ_1525-1024_M1/Q1K_HSJ_1525-1024_M1_PLR_20240625_024617.mff',\n",
       " '/project/def-emayada/q1k/experimental/HSJ/sourcedata/eeg/Q1K_HSJ_1525-1033_M1/Q1K_HSJ_1525-1033_M1_PLR_20240708_104846.mff',\n",
       " '/project/def-emayada/q1k/experimental/HSJ/sourcedata/eeg/Q1K_HSJ_1025-1061_S3/Q1K_HSJ_1025-1061_S3_PLR_20240718_110900.mff',\n",
       " '/project/def-emayada/q1k/experimental/HSJ/sourcedata/eeg/Q1K_HSJ_100146_P/Q1K_HSJ_100146_P_PLR_20240503_110453.mff',\n",
       " '/project/def-emayada/q1k/experimental/HSJ/sourcedata/eeg/Q1K_HSJ_100162_S1/Q1K_HSJ_100162_S1_PLR_20240530_110703.mff',\n",
       " '/project/def-emayada/q1k/experimental/HSJ/sourcedata/eeg/Q1K_HSJ_1525_1009_M1/Q1K_HSJ_1525_1009_M1_PLR_20240806_013519.mff',\n",
       " '/project/def-emayada/q1k/experimental/HSJ/sourcedata/eeg/Q1K_HSJ_1525_1009_P/Q1K_HSJ_1525_1009_P_PLR_20240806_041830.mff',\n",
       " '/project/def-emayada/q1k/experimental/HSJ/sourcedata/eeg/Q1K_HSJ_1525-1033_S1/Q1K_HSJ_1525-1033_S1_PLR_20240708_122127.mff',\n",
       " '/project/def-emayada/q1k/experimental/HSJ/sourcedata/eeg/Q1K_HSJ_1525_1052_S1/Q1K_HSJ_1525_1052_S1_PLR_20240712_123218.mff',\n",
       " '/project/def-emayada/q1k/experimental/HSJ/sourcedata/eeg/Q1K_HSJ_1525-1024_P/Q1K_HSJ_1525-1024_P_PLR_20240625_013334.mff',\n",
       " '/project/def-emayada/q1k/experimental/HSJ/sourcedata/eeg/Q1K_HSJ_1025-1061_F1/Q1K_HSJ_1025-1061_F1_PLR_20240718_122414.mff',\n",
       " '/project/def-emayada/q1k/experimental/HSJ/sourcedata/eeg/Q1K_HSJ_1525_1042_F1/Q1K_HSJ_1025-1042_F1_PLR_20240715_100342.mff',\n",
       " '/project/def-emayada/q1k/experimental/HSJ/sourcedata/eeg/Q1K_HSJ_10064_M1/Q1K_HSJ_10064_M1_PLR_20240620_102026.mff',\n",
       " '/project/def-emayada/q1k/experimental/HSJ/sourcedata/eeg/Q1K_HSJ_100157_M1/Q1K_HSJ_100157_M1_PLR_20240521_105428.mff',\n",
       " '/project/def-emayada/q1k/experimental/HSJ/sourcedata/eeg/Q1K_HSJ_1525-1073_P/Q1K_HSJ_1525-1073_P_PLR_20240801_013728.mff',\n",
       " '/project/def-emayada/q1k/experimental/HSJ/sourcedata/eeg/Q1K_HSJ_1525-1067_S1/Q1K_HSJ_1525-1067_S1_PLR_20240816_114419.mff',\n",
       " '/project/def-emayada/q1k/experimental/HSJ/sourcedata/eeg/Q1K_HSJ_1525-1080_M1/Q1K_HSJ_1525-1080_M1_PLR_20240823_112650.mff',\n",
       " '/project/def-emayada/q1k/experimental/HSJ/sourcedata/eeg/Q1K_HSJ_1525-1028_S2/Q1K_HSJ_1525-1028_S2_PLR_20240704_120540.mff',\n",
       " '/project/def-emayada/q1k/experimental/HSJ/sourcedata/eeg/Q1K_HSJ_1525-1006_M1/Q1K_HSJ_1525-1006_M1_PLR_20240523_103155.mff',\n",
       " '/project/def-emayada/q1k/experimental/HSJ/sourcedata/eeg/Q1K_HSJ_100119_M1/Q1K_HSJ_100119_M1_PLR_20240524_120906.mff',\n",
       " '/project/def-emayada/q1k/experimental/HSJ/sourcedata/eeg/Q1K_HSJ_1525-1033_P/Q1K_HSJ_1525-1033_P_PLR_20240708_012652.mff',\n",
       " '/project/def-emayada/q1k/experimental/HSJ/sourcedata/eeg/Q1K_HSJ_1525-1073_M1/Q1K_HSJ_1525-1073_M1_PLR_20240801_121657.mff',\n",
       " '/project/def-emayada/q1k/experimental/HSJ/sourcedata/eeg/Q1K_HSJ_10064_S1/Q1K_HSJ_10064_S1_PLR_20240620_123204.mff',\n",
       " '/project/def-emayada/q1k/experimental/HSJ/sourcedata/eeg/Q1K_HSJ_1525_1052_F1/Q1K_HSJ_1525_1052_F1_PLR_20240712_015043.mff',\n",
       " '/project/def-emayada/q1k/experimental/HSJ/sourcedata/eeg/Q1K_HSJ_1525_1037_F1/Q1K_HSJ_1525_1037_F1_PLR_20240619_104512.mff',\n",
       " '/project/def-emayada/q1k/experimental/HSJ/sourcedata/eeg/Q1K_HSJ_1525-1028_S1/Q1K_HSJ_1525-1028_S1_PLR_20240704_102704.mff',\n",
       " '/project/def-emayada/q1k/experimental/HSJ/sourcedata/eeg/Q1K_HSJ_1525-1057_F1/Q1K_HSJ_1525-1057_F1_PLR_20240722_113241.mff',\n",
       " '/project/def-emayada/q1k/experimental/HSJ/sourcedata/eeg/Q1K_HSJ_100162_P/Q1K_HSJ_100162_P_PLR_20240530_122755.mff']"
      ]
     },
     "execution_count": 9,
     "metadata": {},
     "output_type": "execute_result"
    }
   ],
   "source": [
    "glob.glob(project_path + sourcedata_path + \"eeg/Q1K*/Q1K*\" + task_id_in + '_*.mff')"
   ]
  },
  {
   "cell_type": "code",
   "execution_count": null,
   "metadata": {},
   "outputs": [
    {
     "name": "stdout",
     "output_type": "stream",
     "text": [
      "Current data file: /project/def-emayada/q1k/experimental/HSJ/sourcedata/eeg/Q1K_HSJ_1525-1026_P/Q1K_HSJ_1525-1026_P_PLR_20240613_031556.mff\n",
      "Participant number: 1525-1026\n",
      "Participant relation: P\n",
      "Participant ID input: 1525-1026_P\n",
      "Participant ID output: 15251026P\n",
      "1525-1026_P\n",
      "Input notebook: /project/def-emayada/q1k/experimental/HSJ/code/q1k_eeget_init/q1k_generate_individual_reports.ipynb\n",
      "Output notebook file: /project/def-emayada/q1k/experimental/HSJ/code/q1k_eeget_init/session_reports/PLR/executed_notebooks/1525-1026_P_PLR_executed.ipynb\n",
      "Output HTML file: /project/def-emayada/q1k/experimental/HSJ/code/q1k_eeget_init/session_reports/PLR/1525-1026_P_PLR.html\n"
     ]
    },
    {
     "data": {
      "application/vnd.jupyter.widget-view+json": {
       "model_id": "84e027a6c0a04e158d75d76ff1166496",
       "version_major": 2,
       "version_minor": 0
      },
      "text/plain": [
       "Executing:   0%|          | 0/51 [00:00<?, ?cell/s]"
      ]
     },
     "metadata": {},
     "output_type": "display_data"
    },
    {
     "name": "stdout",
     "output_type": "stream",
     "text": [
      "Error while processing 1525-1026_P: \n",
      "---------------------------------------------------------------------------\n",
      "Exception encountered at \"In [14]\":\n",
      "---------------------------------------------------------------------------\n",
      "ValueError                                Traceback (most recent call last)\n",
      "Cell In[14], line 9\n",
      "      7 din_diffs, din_diffs_time = qit.get_din_diff(eeg_events, eeg_event_dict, din_str)\n",
      "      8 #build the figure...\n",
      "----> 9 fig=px.scatter(x=din_diffs_time, y=din_diffs)\n",
      "     10 fig.update_layout(title='Time between EEG DIN events of interest')\n",
      "     11 fig.update_xaxes(title_text='Time of event(ms)')\n",
      "\n",
      "File /project/def-emayada/q1k/experimental/q1k_env/lib/python3.11/site-packages/plotly/express/_chart_types.py:66, in scatter(data_frame, x, y, color, symbol, size, hover_name, hover_data, custom_data, text, facet_row, facet_col, facet_col_wrap, facet_row_spacing, facet_col_spacing, error_x, error_x_minus, error_y, error_y_minus, animation_frame, animation_group, category_orders, labels, orientation, color_discrete_sequence, color_discrete_map, color_continuous_scale, range_color, color_continuous_midpoint, symbol_sequence, symbol_map, opacity, size_max, marginal_x, marginal_y, trendline, trendline_options, trendline_color_override, trendline_scope, log_x, log_y, range_x, range_y, render_mode, title, template, width, height)\n",
      "     12 def scatter(\n",
      "     13     data_frame=None,\n",
      "     14     x=None,\n",
      "   (...)\n",
      "     60     height=None,\n",
      "     61 ) -> go.Figure:\n",
      "     62     \"\"\"\n",
      "     63     In a scatter plot, each row of `data_frame` is represented by a symbol\n",
      "     64     mark in 2D space.\n",
      "     65     \"\"\"\n",
      "---> 66     return make_figure(args=locals(), constructor=go.Scatter)\n",
      "\n",
      "File /project/def-emayada/q1k/experimental/q1k_env/lib/python3.11/site-packages/plotly/express/_core.py:2117, in make_figure(args, constructor, trace_patch, layout_patch)\n",
      "   2114 layout_patch = layout_patch or {}\n",
      "   2115 apply_default_cascade(args)\n",
      "-> 2117 args = build_dataframe(args, constructor)\n",
      "   2118 if constructor in [go.Treemap, go.Sunburst, go.Icicle] and args[\"path\"] is not None:\n",
      "   2119     args = process_dataframe_hierarchy(args)\n",
      "\n",
      "File /project/def-emayada/q1k/experimental/q1k_env/lib/python3.11/site-packages/plotly/express/_core.py:1393, in build_dataframe(args, constructor)\n",
      "   1391 if constructor in cartesians:\n",
      "   1392     if wide_x and wide_y:\n",
      "-> 1393         raise ValueError(\n",
      "   1394             \"Cannot accept list of column references or list of columns for both `x` and `y`.\"\n",
      "   1395         )\n",
      "   1396     if df_provided and no_x and no_y:\n",
      "   1397         wide_mode = True\n",
      "\n",
      "ValueError: Cannot accept list of column references or list of columns for both `x` and `y`.\n",
      "\n",
      "Current data file: /project/def-emayada/q1k/experimental/HSJ/sourcedata/eeg/Q1K_HSJ_1525-1026_M1/Q1K_HSJ_1525-1026_M1_PLR_20240613_121650.mff\n",
      "Participant number: 1525-1026\n",
      "Participant relation: M1\n",
      "Participant ID input: 1525-1026_M1\n",
      "Participant ID output: 15251026M1\n",
      "1525-1026_M1\n",
      "Input notebook: /project/def-emayada/q1k/experimental/HSJ/code/q1k_eeget_init/q1k_generate_individual_reports.ipynb\n",
      "Output notebook file: /project/def-emayada/q1k/experimental/HSJ/code/q1k_eeget_init/session_reports/PLR/executed_notebooks/1525-1026_M1_PLR_executed.ipynb\n",
      "Output HTML file: /project/def-emayada/q1k/experimental/HSJ/code/q1k_eeget_init/session_reports/PLR/1525-1026_M1_PLR.html\n"
     ]
    },
    {
     "data": {
      "application/vnd.jupyter.widget-view+json": {
       "model_id": "789da050d66247afa52de552101b600b",
       "version_major": 2,
       "version_minor": 0
      },
      "text/plain": [
       "Executing:   0%|          | 0/51 [00:00<?, ?cell/s]"
      ]
     },
     "metadata": {},
     "output_type": "display_data"
    }
   ],
   "source": [
    "# Make sure the output directory exists\n",
    "if not os.path.exists(html_reports_path):\n",
    "    os.makedirs(html_reports_path)\n",
    "\n",
    "# Create a list of sessions with errors\n",
    "error_subjects = []\n",
    "\n",
    "#Loop through existing sessions and execute the q1k_generate_individual_reports.ipynb if a session report does not already exist\n",
    "for file in glob.glob(project_path + sourcedata_path + \"eeg/Q1K*/Q1K*\" + task_id_in + '_*.mff'):\n",
    "    print('Current data file: ' + file)\n",
    "    # Select anything after the Q1K and before the AEP\n",
    "    #subject_id = file.split('_')[2]\n",
    "    site_part = file.split(site_code + \"_\")\n",
    "    subject_number = site_part[1].split(\"_\")[0]\n",
    "    print('Participant number: ' + subject_number)\n",
    "    subject_relation = site_part[1].split(\"_\")[1].split(\"/\")[0]\n",
    "    print('Participant relation: ' + subject_relation)\n",
    "\n",
    "    subject_id_in = subject_number + \"_\" + subject_relation\n",
    "    print('Participant ID input: ' + subject_id_in)\n",
    "    subject_id_out = subject_number.replace('_','').replace('-','') + subject_relation\n",
    "    print('Participant ID output: ' + subject_id_out)\n",
    "    \n",
    "    # Skip sessions that have a session report in the output directory\n",
    "    print(subject_id_in)\n",
    "    if subject_id_in in processed_sessions:\n",
    "        print(subject_id_in + ' has already been processed')\n",
    "        continue    \n",
    "\n",
    "    # Define paths\n",
    "    input_notebook = project_path + init_path +'q1k_generate_individual_reports.ipynb'\n",
    "    print('Input notebook: ' + input_notebook)\n",
    "\n",
    "    # Make sure the directory exists\n",
    "    if not os.path.exists(f'{project_path}{init_path}session_reports/{task_id_in}/executed_notebooks/'):\n",
    "        os.makedirs(f'{project_path}{init_path}session_reports/{task_id_in}/executed_notebooks/')\n",
    "    \n",
    "    output_notebook = f'{project_path}{init_path}{html_reports_path}executed_notebooks/{subject_id_in}_{task_id_in}_executed.ipynb'\n",
    "    print('Output notebook file: ' + output_notebook)\n",
    "    output_html = f'{project_path}{init_path}{html_reports_path}{subject_id_in}_{task_id_in}.html'\n",
    "    print('Output HTML file: ' + output_html)\n",
    "\n",
    "    try:\n",
    "        # Execute the notebook\n",
    "        pm.execute_notebook(input_notebook, output_notebook, kernel_name = 'q1k_env', parameters=dict(subject_id_in=subject_id_in, subject_id_out=subject_id_out,task_id_in=task_id_in, task_id_in_et=task_id_in_et,\n",
    "         task_id_out=task_id_out, run_id=run_id, session_id=session_id, project_path=project_path, dataset_group=dataset_group, site_code=site_code))\n",
    "\n",
    "        # Convert executed notebook to HTML\n",
    "        html_exporter = HTMLExporter()\n",
    "        html_exporter.exclude_input = True\n",
    "\n",
    "        (body, resources) = html_exporter.from_filename(output_notebook)\n",
    "\n",
    "        # Save HTML output\n",
    "        with open(output_html, 'w', encoding='utf-8') as f:\n",
    "            f.write(body)\n",
    "\n",
    "        print(f\"HTML report saved for {subject_id_in}.\")\n",
    "    \n",
    "\n",
    "    except Exception as e:\n",
    "        # Handle the error \n",
    "        error_subjects.append(subject_id_in)\n",
    "        print(f\"Error while processing {subject_id_in}: {e}\")\n",
    "\n",
    "# Print out the list of subjects with errors\n",
    "print( \"These subjects have errors: \" + str(error_subjects) + \" and need to be reprocessed\")"
   ]
  },
  {
   "cell_type": "markdown",
   "metadata": {},
   "source": [
    "### Visualize all reports at once"
   ]
  },
  {
   "cell_type": "code",
   "execution_count": null,
   "metadata": {},
   "outputs": [],
   "source": [
    "#for file in glob.glob(\"./../../sourcefiles/EEG/Q1K*/Q1K\" + \"*AEP\" + '*.mff'):\n",
    "#    # Select anything after the Q1K and before the AEP\n",
    "#    subject_id = file.split('\\\\')[1]\n",
    "#    # Skip sessions that have already been processed\n",
    "#    print(subject_id)\n",
    "#    if subject_id in processed_sessions:\n",
    "#        print (subject_id + ' has already been processed')\n",
    "#        continue    \n",
    "\n",
    "#    # Handle participants with error \n",
    "#    try:\n",
    "#        %run -i ./q1k_generate_individual_reports.ipynb --subject_id={subject_id}\n",
    "#    except Exception as e:\n",
    "#    # Handle the error (e.g., log it, skip participant, etc.)\n",
    "#        print(f\"Error while reading raw data for {subject_id}: {e}\")\n"
   ]
  },
  {
   "cell_type": "code",
   "execution_count": null,
   "metadata": {},
   "outputs": [],
   "source": []
  }
 ],
 "metadata": {
  "kernelspec": {
   "display_name": "q1k_env",
   "language": "python",
   "name": "q1k_env"
  },
  "language_info": {
   "codemirror_mode": {
    "name": "ipython",
    "version": 3
   },
   "file_extension": ".py",
   "mimetype": "text/x-python",
   "name": "python",
   "nbconvert_exporter": "python",
   "pygments_lexer": "ipython3",
   "version": "3.11.5"
  }
 },
 "nbformat": 4,
 "nbformat_minor": 4
}
