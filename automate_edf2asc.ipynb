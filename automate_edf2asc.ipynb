{
 "cells": [
  {
   "cell_type": "code",
   "execution_count": null,
   "metadata": {},
   "outputs": [],
   "source": [
    "import pandas as pd\n",
    "import numpy as np\n",
    "import mne\n",
    "import mne_bids\n",
    "import q1k_init_tools as qit\n",
    "import glob\n",
    "import warnings\n",
    "import os\n",
    "import subprocess"
   ]
  },
  {
   "cell_type": "code",
   "execution_count": null,
   "metadata": {},
   "outputs": [],
   "source": [
    "rel_sourcedata_path = \"../../sourcedata/\"\n",
    "rel_proj_root_path = \"../../\" \n",
    "site_code = \"HSJ\"\n",
    "task_id_in = \"PLR\"\n",
    "task_id_in_et = \"PLR\"\n",
    "task_id_out = \"PLR\"\n",
    "#subject_id = '002'\n",
    "session_id = '01'\n",
    "run_id = '1'"
   ]
  },
  {
   "cell_type": "code",
   "execution_count": null,
   "metadata": {},
   "outputs": [],
   "source": [
    "glob.glob(rel_sourcedata_path + \"et/**/Q1K_HSJ_*_PLR.edf\",recursive=True)"
   ]
  },
  {
   "cell_type": "code",
   "execution_count": null,
   "metadata": {},
   "outputs": [],
   "source": [
    "for file in glob.glob(rel_sourcedata_path + \"et/**/Q1K_HSJ_*_PLR.edf\",recursive=True):\n",
    "    print('Current data file: ' + file)\n",
    "    # Select anything after the Q1K and before the AEP\n",
    "    #subject_id = file.split('_')[2]\n",
    "    site_part = file.split(site_code + \"_\")\n",
    "    subject_number = site_part[1].split(\"_\")[0]\n",
    "    print('Participant number: ' + subject_number)\n",
    "    subject_relation = site_part[1].split(\"_\")[1].split(\"/\")[0]\n",
    "    print('Participant relation: ' + subject_relation)\n",
    "\n",
    "    subject_id_in = subject_number + \"_\" + subject_relation\n",
    "    print('Participant ID input: ' + subject_id_in)\n",
    "    subject_id_out = subject_number.replace('_','').replace('-','') + subject_relation\n",
    "    print('Participant ID output: ' + subject_id_out)\n",
    "    \n",
    "    #!edf2asc --input {file} {er_source_path + 'jnk.asc'}\n",
    "    # Define the input and output file names\n",
    "    in_name = file\n",
    "    out_name = rel_sourcedata_path + \"et/Q1K_\" + site_code + \"_\" + subject_id_out + \"_\" + task_id_out + \".asc\" #./output.asc\"\n",
    "\n",
    "    # Build the command to run\n",
    "    command = \"edf2asc --input \" + in_name + \" \" + out_name\n",
    "    print(command)\n",
    "\n",
    "    !{command}"
   ]
  },
  {
   "cell_type": "code",
   "execution_count": null,
   "metadata": {},
   "outputs": [],
   "source": []
  }
 ],
 "metadata": {
  "kernelspec": {
   "display_name": "q1k_init_kernel",
   "language": "python",
   "name": "q1k_init_kernel"
  },
  "language_info": {
   "codemirror_mode": {
    "name": "ipython",
    "version": 3
   },
   "file_extension": ".py",
   "mimetype": "text/x-python",
   "name": "python",
   "nbconvert_exporter": "python",
   "pygments_lexer": "ipython3",
   "version": "3.8.10"
  }
 },
 "nbformat": 4,
 "nbformat_minor": 2
}
