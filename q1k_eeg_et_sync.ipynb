{
 "cells": [
  {
   "cell_type": "code",
   "execution_count": 2,
   "metadata": {},
   "outputs": [],
   "source": [
    "import mne\n",
    "import mne.io\n",
    "import mne_bids\n",
    "import numpy as np\n",
    "import plotly.express as px\n",
    "import q1k_sync_tools as qst"
   ]
  },
  {
   "cell_type": "code",
   "execution_count": 3,
   "metadata": {},
   "outputs": [],
   "source": [
    "#subject_id = '0008'\n",
    "#task = 'ssvep'\n",
    "bids_root = '.'"
   ]
  },
  {
   "cell_type": "code",
   "execution_count": null,
   "metadata": {},
   "outputs": [],
   "source": [
    "#read EEG mff data\n",
    "eeg_raw = mne.io.read_raw_egi('sourcedata/s06/eeg/s06/s06_plr_20230313_115649.mff/',preload=True)\n",
    "eeg_raw_df = eeg_raw.to_data_frame()\n",
    "\n",
    "#get the EEG events from the stim stim channel\n",
    "#eeg_events = mne.find_events(eeg_raw, stim_channel='STI 014', shortest_event = 1)\n",
    "eeg_events = mne.find_events(eeg_raw, shortest_event = 1)\n",
    "\n",
    "#create the event dictionary..\n",
    "eeg_event_dict = qst.get_event_dict(eeg_raw,eeg_events)"
   ]
  },
  {
   "cell_type": "code",
   "execution_count": null,
   "metadata": {},
   "outputs": [],
   "source": [
    "#handle task specific EEG event interpretation..\n",
    "eeg_events, eeg_stims, eeg_iti, eeg_event_dict = qst.eeg_event_test(eeg_events,eeg_event_dict,task_name='plr')"
   ]
  },
  {
   "cell_type": "code",
   "execution_count": null,
   "metadata": {},
   "outputs": [],
   "source": [
    "fig=px.scatter(x=eeg_events[:,0],y=eeg_events[:,2])\n",
    "fig.show()"
   ]
  },
  {
   "cell_type": "code",
   "execution_count": null,
   "metadata": {},
   "outputs": [],
   "source": [
    "#read the asc eye tracking data and convert it to a dataframe\n",
    "et_raw = mne.io.read_raw_eyelink ('sourcedata/s06/eyetracking/s06plr.asc')\n",
    "et_raw_df = et_raw.to_data_frame()\n",
    "\n",
    "#get the events from the annotation structure\n",
    "et_annot_events, et_annot_event_dict = mne.events_from_annotations(et_raw)"
   ]
  },
  {
   "cell_type": "code",
   "execution_count": 15,
   "metadata": {},
   "outputs": [
    {
     "name": "stdout",
     "output_type": "stream",
     "text": [
      "Number of eye-tracking stimulus onset DIN events: 32\n"
     ]
    }
   ],
   "source": [
    "#handle task specific ET event interpretation..\n",
    "et_event_raw_df, et_events, et_stims, et_iti = qst.et_event_test(et_raw_df,task_name='plr')"
   ]
  },
  {
   "cell_type": "code",
   "execution_count": null,
   "metadata": {},
   "outputs": [],
   "source": [
    "fig=px.scatter(x=et_events['index'],y=et_events['DIN_diff'])\n",
    "fig.show()"
   ]
  },
  {
   "cell_type": "code",
   "execution_count": null,
   "metadata": {},
   "outputs": [],
   "source": [
    "qst.show_sync_offsets(eeg_stims,et_stims)"
   ]
  },
  {
   "cell_type": "code",
   "execution_count": null,
   "metadata": {},
   "outputs": [],
   "source": [
    "eeg_et_raw = qst.eeg_et_combine(eeg_raw, et_raw, eeg_stims, et_stims)"
   ]
  },
  {
   "cell_type": "code",
   "execution_count": 18,
   "metadata": {},
   "outputs": [],
   "source": [
    "eeg_et_raw_df = eeg_et_raw.to_data_frame()"
   ]
  },
  {
   "cell_type": "code",
   "execution_count": null,
   "metadata": {},
   "outputs": [],
   "source": [
    "fig=px.line(x=eeg_et_raw_df['time'],y=eeg_et_raw_df['pupil_right'])\n",
    "fig.show()"
   ]
  },
  {
   "cell_type": "code",
   "execution_count": null,
   "metadata": {},
   "outputs": [],
   "source": [
    "scalings=dict(eyegaze=1e2)\n",
    "eeg_et_raw.plot(events=eeg_events,duration=4,scalings=scalings)\n",
    "#eeg_et_raw.plot(scalings=scalings)"
   ]
  },
  {
   "cell_type": "code",
   "execution_count": null,
   "metadata": {},
   "outputs": [],
   "source": [
    "fig=px.scatter(x=et_events['index'],y=et_events['DIN_diff'])\n",
    "fig.show()"
   ]
  },
  {
   "cell_type": "code",
   "execution_count": null,
   "metadata": {},
   "outputs": [],
   "source": [
    "fig=px.scatter(x=et_events['time'],y=et_events['index'].diff())\n",
    "fig.show()"
   ]
  },
  {
   "cell_type": "code",
   "execution_count": null,
   "metadata": {},
   "outputs": [],
   "source": [
    "fig=px.line(x=et_raw_df['time'],y=et_raw_df['DIN'])\n",
    "fig.show()"
   ]
  },
  {
   "cell_type": "code",
   "execution_count": null,
   "metadata": {},
   "outputs": [],
   "source": [
    "scalings=dict(eyegaze=1e5)\n",
    "eeg_et_raw.plot(events=eeg_events,duration=4,scalings=scalings)\n",
    "#eeg_et_raw.plot(scalings=scalings)"
   ]
  },
  {
   "cell_type": "code",
   "execution_count": null,
   "metadata": {},
   "outputs": [],
   "source": [
    "bids_path = mne_bids.BIDSPath(subject=subject_id, task=task, root=bids_root)\n",
    "mne_bids.write_raw_bids(eeg_raw, bids_path, events=eeg_events, event_id=eeg_event_dict, overwrite=True, allow_preload=True, format='EDF')"
   ]
  },
  {
   "cell_type": "code",
   "execution_count": null,
   "metadata": {},
   "outputs": [],
   "source": [
    "#plot the event latencies\n",
    "fig = px.scatter(x=eeg_events[:,0],y=eeg_events[:,2])\n",
    "fig.show()"
   ]
  },
  {
   "cell_type": "code",
   "execution_count": null,
   "metadata": {},
   "outputs": [],
   "source": [
    "#show the stimulus DIN event inter-trial intervals... this should be replicated in the eye-tracking recording..\n",
    "fig = px.line(y=eeg_iti)\n",
    "fig.show()"
   ]
  }
 ],
 "metadata": {
  "kernelspec": {
   "display_name": "env",
   "language": "python",
   "name": "python3"
  },
  "language_info": {
   "codemirror_mode": {
    "name": "ipython",
    "version": 3
   },
   "file_extension": ".py",
   "mimetype": "text/x-python",
   "name": "python",
   "nbconvert_exporter": "python",
   "pygments_lexer": "ipython3",
   "version": "3.8.10"
  },
  "orig_nbformat": 4,
  "vscode": {
   "interpreter": {
    "hash": "4d51abd469969a131aa91b4c30bbe09eccdda015d2c1385281ae2bb665bb8f08"
   }
  }
 },
 "nbformat": 4,
 "nbformat_minor": 2
}
