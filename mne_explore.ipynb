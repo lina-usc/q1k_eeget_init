{
 "cells": [
  {
   "cell_type": "code",
   "execution_count": 1,
   "metadata": {},
   "outputs": [],
   "source": [
    "import numpy as np\n",
    "import mne\n",
    "import mne_bids\n",
    "from matplotlib import pyplot as plt\n",
    "import plotly.express as px\n",
    "import plotly.graph_objects as go"
   ]
  },
  {
   "cell_type": "code",
   "execution_count": 4,
   "metadata": {},
   "outputs": [
    {
     "ename": "TypeError",
     "evalue": "get_entity_vals() missing 1 required positional argument: 'entity_key'",
     "output_type": "error",
     "traceback": [
      "\u001b[0;31m---------------------------------------------------------------------------\u001b[0m",
      "\u001b[0;31mTypeError\u001b[0m                                 Traceback (most recent call last)",
      "Cell \u001b[0;32mIn[4], line 2\u001b[0m\n\u001b[1;32m      1\u001b[0m bids_root \u001b[39m=\u001b[39m \u001b[39m'\u001b[39m\u001b[39m.\u001b[39m\u001b[39m'\u001b[39m\n\u001b[0;32m----> 2\u001b[0m sessions \u001b[39m=\u001b[39m mne_bids\u001b[39m.\u001b[39;49mget_entity_vals(bids_root)\u001b[39m#, 'session', ignore_sessions='on')\u001b[39;00m\n\u001b[1;32m      3\u001b[0m bids_paths \u001b[39m=\u001b[39m mne_bids\u001b[39m.\u001b[39mfind_matching_paths(bids_root, datatypes\u001b[39m=\u001b[39m\u001b[39m'\u001b[39m\u001b[39meeg\u001b[39m\u001b[39m'\u001b[39m, sessions\u001b[39m=\u001b[39msessions, extensions\u001b[39m=\u001b[39m\u001b[39m'\u001b[39m\u001b[39m.edf\u001b[39m\u001b[39m'\u001b[39m)\n\u001b[1;32m      4\u001b[0m bids_paths\n",
      "\u001b[0;31mTypeError\u001b[0m: get_entity_vals() missing 1 required positional argument: 'entity_key'"
     ]
    }
   ],
   "source": [
    "bids_root = '.'\n",
    "sessions = mne_bids.get_entity_vals(bids_root, 'session', ignore_sessions='on')\n",
    "bids_paths = mne_bids.find_matching_paths(bids_root, datatypes='eeg', sessions=sessions, extensions='.edf')\n",
    "bids_paths"
   ]
  },
  {
   "cell_type": "code",
   "execution_count": 3,
   "metadata": {},
   "outputs": [
    {
     "ename": "IndexError",
     "evalue": "list index out of range",
     "output_type": "error",
     "traceback": [
      "\u001b[0;31m---------------------------------------------------------------------------\u001b[0m",
      "\u001b[0;31mIndexError\u001b[0m                                Traceback (most recent call last)",
      "Cell \u001b[0;32mIn[3], line 1\u001b[0m\n\u001b[0;32m----> 1\u001b[0m singleton \u001b[39m=\u001b[39m bids_paths[\u001b[39m0\u001b[39;49m]\n\u001b[1;32m      2\u001b[0m raw \u001b[39m=\u001b[39m mne_bids\u001b[39m.\u001b[39mread_raw_bids(bids_path\u001b[39m=\u001b[39msingleton, verbose\u001b[39m=\u001b[39m\u001b[39mTrue\u001b[39;00m)\n\u001b[1;32m      3\u001b[0m raw\n",
      "\u001b[0;31mIndexError\u001b[0m: list index out of range"
     ]
    }
   ],
   "source": [
    "singleton = bids_paths[0]\n",
    "raw = mne_bids.read_raw_bids(bids_path=singleton, verbose=True)\n",
    "raw"
   ]
  },
  {
   "cell_type": "code",
   "execution_count": 2,
   "metadata": {},
   "outputs": [
    {
     "name": "stdout",
     "output_type": "stream",
     "text": [
      "Reading EGI MFF Header from /home/james/q1k/q1k_eeget_init/sourcedata/s06/eeg/s06/s06_ssvep_20230313_113128.mff...\n",
      "    Reading events ...\n",
      "    Assembling measurement info ...\n",
      "    Synthesizing trigger channel \"STI 014\" ...\n",
      "    Excluding events {dstr} ...\n",
      "Reading 0 ... 445982  =      0.000 ...   445.982 secs...\n"
     ]
    }
   ],
   "source": [
    "#read EEG mff data\n",
    "raw = mne.io.read_raw_egi('sourcedata/s06/eeg/s06/s06_ssvep_20230313_113128.mff/',preload=True)"
   ]
  },
  {
   "cell_type": "code",
   "execution_count": 3,
   "metadata": {},
   "outputs": [
    {
     "name": "stdout",
     "output_type": "stream",
     "text": [
      "<RawMff | signal1.bin, 145 x 445983 (446.0 s), ~493.6 MB, data loaded>\n",
      "<Info | 11 non-empty values\n",
      " bads: []\n",
      " ch_names: E1, E2, E3, E4, E5, E6, E7, E8, E9, E10, E11, E12, E13, E14, ...\n",
      " chs: 129 EEG, 16 Stimulus\n",
      " custom_ref_applied: True\n",
      " device_info: 1 item (dict)\n",
      " dig: 132 items (3 Cardinal, 129 EEG)\n",
      " highpass: 0.0 Hz\n",
      " lowpass: 500.0 Hz\n",
      " meas_date: 2023-03-11 11:47:06 UTC\n",
      " nchan: 145\n",
      " projs: []\n",
      " sfreq: 1000.0 Hz\n",
      " utc_offset: -0500\n",
      ">\n"
     ]
    }
   ],
   "source": [
    "print(raw)\n",
    "print(raw.info)"
   ]
  },
  {
   "cell_type": "code",
   "execution_count": 4,
   "metadata": {},
   "outputs": [
    {
     "name": "stdout",
     "output_type": "stream",
     "text": [
      "EEG channel type selected for re-referencing\n",
      "Applying average reference.\n",
      "Applying a custom ('EEG',) reference.\n",
      "Filtering raw data in 1 contiguous segment\n",
      "Setting up high-pass filter at 1 Hz\n",
      "\n",
      "FIR filter parameters\n",
      "---------------------\n",
      "Designing a one-pass, zero-phase, non-causal highpass filter:\n",
      "- Windowed time-domain design (firwin) method\n",
      "- Hamming window with 0.0194 passband ripple and 53 dB stopband attenuation\n",
      "- Lower passband edge: 1.00\n",
      "- Lower transition bandwidth: 1.00 Hz (-6 dB cutoff frequency: 0.50 Hz)\n",
      "- Filter length: 3301 samples (3.301 s)\n",
      "\n"
     ]
    },
    {
     "name": "stderr",
     "output_type": "stream",
     "text": [
      "[Parallel(n_jobs=1)]: Using backend SequentialBackend with 1 concurrent workers.\n",
      "[Parallel(n_jobs=1)]: Done   1 out of   1 | elapsed:    0.0s remaining:    0.0s\n",
      "[Parallel(n_jobs=1)]: Done   2 out of   2 | elapsed:    0.0s remaining:    0.0s\n",
      "[Parallel(n_jobs=1)]: Done   3 out of   3 | elapsed:    0.1s remaining:    0.0s\n",
      "[Parallel(n_jobs=1)]: Done   4 out of   4 | elapsed:    0.1s remaining:    0.0s\n"
     ]
    },
    {
     "name": "stdout",
     "output_type": "stream",
     "text": [
      "Filtering raw data in 1 contiguous segment\n",
      "Setting up low-pass filter at 30 Hz\n",
      "\n",
      "FIR filter parameters\n",
      "---------------------\n",
      "Designing a one-pass, zero-phase, non-causal lowpass filter:\n",
      "- Windowed time-domain design (firwin) method\n",
      "- Hamming window with 0.0194 passband ripple and 53 dB stopband attenuation\n",
      "- Upper passband edge: 30.00 Hz\n",
      "- Upper transition bandwidth: 7.50 Hz (-6 dB cutoff frequency: 33.75 Hz)\n",
      "- Filter length: 441 samples (0.441 s)\n",
      "\n"
     ]
    },
    {
     "name": "stderr",
     "output_type": "stream",
     "text": [
      "[Parallel(n_jobs=1)]: Done 129 out of 129 | elapsed:    2.8s finished\n",
      "[Parallel(n_jobs=1)]: Using backend SequentialBackend with 1 concurrent workers.\n",
      "[Parallel(n_jobs=1)]: Done   1 out of   1 | elapsed:    0.0s remaining:    0.0s\n",
      "[Parallel(n_jobs=1)]: Done   2 out of   2 | elapsed:    0.0s remaining:    0.0s\n",
      "[Parallel(n_jobs=1)]: Done   3 out of   3 | elapsed:    0.1s remaining:    0.0s\n",
      "[Parallel(n_jobs=1)]: Done   4 out of   4 | elapsed:    0.1s remaining:    0.0s\n",
      "[Parallel(n_jobs=1)]: Done 129 out of 129 | elapsed:    2.8s finished\n"
     ]
    }
   ],
   "source": [
    "proc_dat = raw.copy().set_eeg_reference(ref_channels='average')\n",
    "proc_dat = proc_dat.filter(1., None, fir_design='firwin')\n",
    "proc_dat = proc_dat.filter(None, 30., fir_design='firwin')\n",
    "\n",
    "#proc_dat.plot(duration=30, n_channels=64)"
   ]
  },
  {
   "cell_type": "code",
   "execution_count": 5,
   "metadata": {},
   "outputs": [
    {
     "name": "stdout",
     "output_type": "stream",
     "text": [
      "902 events found\n",
      "Event IDs: [ 1  2  3  4  5  6  7  8  9 10 11 12 13 14]\n"
     ]
    }
   ],
   "source": [
    "events = mne.find_events(raw, stim_channel='STI 014')"
   ]
  },
  {
   "cell_type": "code",
   "execution_count": 10,
   "metadata": {},
   "outputs": [
    {
     "data": {
      "text/plain": [
       "array([[   28,     0,    10],\n",
       "       [  533,     0,    14],\n",
       "       [30339,     0,     2],\n",
       "       [30372,     0,    11],\n",
       "       [31752,     0,     1],\n",
       "       [31872,     0,    12],\n",
       "       [32005,     0,    11],\n",
       "       [32173,     0,    12],\n",
       "       [32338,     0,    11],\n",
       "       [32506,     0,    12],\n",
       "       [32671,     0,    11],\n",
       "       [33256,     0,     2],\n",
       "       [33288,     0,    11],\n",
       "       [35068,     0,     3],\n",
       "       [35188,     0,    12],\n",
       "       [35238,     0,    11],\n",
       "       [36573,     0,     4],\n",
       "       [36604,     0,    11],\n",
       "       [38087,     0,     3],\n",
       "       [38205,     0,    12],\n",
       "       [38254,     0,    11],\n",
       "       [39589,     0,     5],\n",
       "       [39621,     0,    11],\n",
       "       [41302,     0,     1],\n",
       "       [41422,     0,    12],\n",
       "       [41554,     0,    11],\n",
       "       [41723,     0,    12],\n",
       "       [41888,     0,    11],\n",
       "       [42056,     0,    12],\n",
       "       [42221,     0,    11]])"
      ]
     },
     "execution_count": 10,
     "metadata": {},
     "output_type": "execute_result"
    },
    {
     "name": "stdout",
     "output_type": "stream",
     "text": [
      "Channels marked as bad:\n",
      "none\n"
     ]
    }
   ],
   "source": [
    "events[:30]"
   ]
  },
  {
   "cell_type": "code",
   "execution_count": 74,
   "metadata": {},
   "outputs": [
    {
     "data": {
      "text/plain": [
       "array([ 1,  2,  3,  4,  5,  6,  7,  8,  9, 10, 11, 12, 13, 14])"
      ]
     },
     "execution_count": 74,
     "metadata": {},
     "output_type": "execute_result"
    }
   ],
   "source": [
    "np.unique(events[:,2], axis=0)"
   ]
  },
  {
   "cell_type": "code",
   "execution_count": 6,
   "metadata": {},
   "outputs": [],
   "source": [
    "event_dict = {'visual/steadystate/fq06': 1, 'attention': 2, 'visual/steadystate/fq15': 3,\n",
    "              'attention': 4, 'attention': 5, 'admin': 6, 'attention': 7, 'break': 8,\n",
    "              'end': 9, 'photo/bin4': 10, 'photo/bin3': 11, 'photo/bin2': 12, 'photo/bin5': 13,\n",
    "              'begin': 14}"
   ]
  },
  {
   "cell_type": "code",
   "execution_count": 7,
   "metadata": {},
   "outputs": [],
   "source": [
    "events_c = events"
   ]
  },
  {
   "cell_type": "code",
   "execution_count": 76,
   "metadata": {},
   "outputs": [
    {
     "data": {
      "text/plain": [
       "array([[    28,      0,     10],\n",
       "       [   533,      0,     14],\n",
       "       [ 30339,      0,      2],\n",
       "       ...,\n",
       "       [434572,      0,     12],\n",
       "       [434737,      0,     11],\n",
       "       [440977,      0,      9]])"
      ]
     },
     "execution_count": 76,
     "metadata": {},
     "output_type": "execute_result"
    }
   ],
   "source": [
    "for i, x in np.ndenumerate(events_c[:,2]):\n",
    "    if x == 1 or x == 3:\n",
    "        events_c[i[0]+1, 2] = 15\n",
    "events_c"
   ]
  },
  {
   "cell_type": "code",
   "execution_count": 77,
   "metadata": {},
   "outputs": [
    {
     "name": "stdout",
     "output_type": "stream",
     "text": [
      "120\n"
     ]
    },
    {
     "data": {
      "text/plain": [
       "array([[ 31872,      0,     15],\n",
       "       [ 35188,      0,     15],\n",
       "       [ 38205,      0,     15],\n",
       "       [ 41422,      0,     15],\n",
       "       [ 44338,      0,     15],\n",
       "       [ 47555,      0,     15],\n",
       "       [ 50572,      0,     15],\n",
       "       [ 53488,      0,     15],\n",
       "       [ 56804,      0,     15],\n",
       "       [ 59721,      0,     15],\n",
       "       [ 62937,      0,     15],\n",
       "       [ 66153,      0,     15],\n",
       "       [ 69371,      0,     15],\n",
       "       [ 72487,      0,     15],\n",
       "       [ 75704,      0,     15],\n",
       "       [ 78620,      0,     15],\n",
       "       [ 81537,      0,     15],\n",
       "       [ 84654,      0,     15],\n",
       "       [ 87670,      0,     15],\n",
       "       [ 90786,      0,     15],\n",
       "       [ 94102,      0,     15],\n",
       "       [ 97219,      0,     15],\n",
       "       [100235,      0,     15],\n",
       "       [103453,      0,     15],\n",
       "       [106769,      0,     15],\n",
       "       [110085,      0,     15],\n",
       "       [113002,      0,     15],\n",
       "       [116118,      0,     15],\n",
       "       [119135,      0,     15],\n",
       "       [122352,      0,     15],\n",
       "       [125368,      0,     15],\n",
       "       [128384,      0,     15],\n",
       "       [131401,      0,     15],\n",
       "       [134718,      0,     15],\n",
       "       [137834,      0,     15],\n",
       "       [140751,      0,     15],\n",
       "       [144067,      0,     15],\n",
       "       [147184,      0,     15],\n",
       "       [150500,      0,     15],\n",
       "       [153617,      0,     15],\n",
       "       [175718,      0,     15],\n",
       "       [179099,      0,     15],\n",
       "       [182115,      0,     15],\n",
       "       [185148,      0,     15],\n",
       "       [188265,      0,     15],\n",
       "       [191165,      0,     15],\n",
       "       [194398,      0,     15],\n",
       "       [197598,      0,     15],\n",
       "       [200731,      0,     15],\n",
       "       [203748,      0,     15],\n",
       "       [207064,      0,     15],\n",
       "       [210081,      0,     15],\n",
       "       [213181,      0,     15],\n",
       "       [216413,      0,     15],\n",
       "       [219530,      0,     15],\n",
       "       [222747,      0,     15],\n",
       "       [226064,      0,     15],\n",
       "       [229180,      0,     15],\n",
       "       [232097,      0,     15],\n",
       "       [235313,      0,     15],\n",
       "       [238230,      0,     15],\n",
       "       [241246,      0,     15],\n",
       "       [244162,      0,     15],\n",
       "       [247279,      0,     15],\n",
       "       [250279,      0,     15],\n",
       "       [253495,      0,     15],\n",
       "       [256528,      0,     15],\n",
       "       [259846,      0,     15],\n",
       "       [263162,      0,     15],\n",
       "       [266179,      0,     15],\n",
       "       [269095,      0,     15],\n",
       "       [272012,      0,     15],\n",
       "       [275228,      0,     15],\n",
       "       [278345,      0,     15],\n",
       "       [281661,      0,     15],\n",
       "       [284978,      0,     15],\n",
       "       [288194,      0,     15],\n",
       "       [291510,      0,     15],\n",
       "       [294427,      0,     15],\n",
       "       [297543,      0,     15],\n",
       "       [312493,      0,     15],\n",
       "       [315409,      0,     15],\n",
       "       [318526,      0,     15],\n",
       "       [321742,      0,     15],\n",
       "       [324759,      0,     15],\n",
       "       [327875,      0,     15],\n",
       "       [330892,      0,     15],\n",
       "       [334192,      0,     15],\n",
       "       [337408,      0,     15],\n",
       "       [340742,      0,     15],\n",
       "       [343958,      0,     15],\n",
       "       [346875,      0,     15],\n",
       "       [349874,      0,     15],\n",
       "       [352808,      0,     15],\n",
       "       [355924,      0,     15],\n",
       "       [359024,      0,     15],\n",
       "       [362358,      0,     15],\n",
       "       [365374,      0,     15],\n",
       "       [368290,      0,     15],\n",
       "       [371507,      0,     15],\n",
       "       [374723,      0,     15],\n",
       "       [377939,      0,     15],\n",
       "       [380940,      0,     15],\n",
       "       [384056,      0,     15],\n",
       "       [387189,      0,     15],\n",
       "       [390506,      0,     15],\n",
       "       [393623,      0,     15],\n",
       "       [396522,      0,     15],\n",
       "       [399555,      0,     15],\n",
       "       [402672,      0,     15],\n",
       "       [405988,      0,     15],\n",
       "       [409305,      0,     15],\n",
       "       [412222,      0,     15],\n",
       "       [415539,      0,     15],\n",
       "       [418438,      0,     15],\n",
       "       [421771,      0,     15],\n",
       "       [424788,      0,     15],\n",
       "       [427804,      0,     15],\n",
       "       [430721,      0,     15],\n",
       "       [433937,      0,     15]])"
      ]
     },
     "execution_count": 77,
     "metadata": {},
     "output_type": "execute_result"
    }
   ],
   "source": [
    "#stims=events[np.where(events[:,2] == [2,4])]\n",
    "#mask = (events_c[:,2] == 15) | (events[:,2] == 4)\n",
    "mask = (events_c[:,2] == 15)\n",
    "stims = events_c[mask]\n",
    "print(len(stims))\n",
    "stims"
   ]
  },
  {
   "cell_type": "code",
   "execution_count": 114,
   "metadata": {},
   "outputs": [
    {
     "data": {
      "text/plain": [
       "array([ 3316,  3017,  3217,  2916,  3217,  3017,  2916,  3316,  2917,\n",
       "        3216,  3216,  3218,  3116,  3217,  2916,  2917,  3117,  3016,\n",
       "        3116,  3316,  3117,  3016,  3218,  3316,  3316,  2917,  3116,\n",
       "        3017,  3217,  3016,  3016,  3017,  3317,  3116,  2917,  3316,\n",
       "        3117,  3316,  3117, 22101,  3381,  3016,  3033,  3117,  2900,\n",
       "        3233,  3200,  3133,  3017,  3316,  3017,  3100,  3232,  3117,\n",
       "        3217,  3317,  3116,  2917,  3216,  2917,  3016,  2916,  3117,\n",
       "        3000,  3216,  3033,  3318,  3316,  3017,  2916,  2917,  3216,\n",
       "        3117,  3316,  3317,  3216,  3316,  2917,  3116, 14950,  2916,\n",
       "        3117,  3216,  3017,  3116,  3017,  3300,  3216,  3334,  3216,\n",
       "        2917,  2999,  2934,  3116,  3100,  3334,  3016,  2916,  3217,\n",
       "        3216,  3216,  3001,  3116,  3133,  3317,  3117,  2899,  3033,\n",
       "        3117,  3316,  3317,  2917,  3317,  2899,  3333,  3017,  3016,\n",
       "        2917,  3216])"
      ]
     },
     "execution_count": 114,
     "metadata": {},
     "output_type": "execute_result"
    }
   ],
   "source": [
    "iti = np.diff(stims[:,0])\n",
    "iti"
   ]
  },
  {
   "cell_type": "code",
   "execution_count": 8,
   "metadata": {},
   "outputs": [
    {
     "name": "stdout",
     "output_type": "stream",
     "text": [
      "Using qt as 2D backend.\n"
     ]
    },
    {
     "data": {
      "text/plain": [
       "<mne_qt_browser._pg_figure.MNEQtBrowser at 0x7f4b0b5af310>"
      ]
     },
     "execution_count": 8,
     "metadata": {},
     "output_type": "execute_result"
    }
   ],
   "source": [
    "proc_dat.plot(events=events, duration=30, n_channels=64, color='gray',\n",
    "         event_color={1: 'r', 2: 'g', 3: 'b', 4: 'm', 5: 'y', 6: 'k', 7: 'k', 8: 'k', 9: 'k', 10: 'k', 11: 'k', 12: 'k', 13: 'k', 14: 'k'})"
   ]
  },
  {
   "cell_type": "code",
   "execution_count": null,
   "metadata": {},
   "outputs": [],
   "source": [
    "reject_criteria = dict(eeg=150e-6)       # 250 µV\n",
    "\n",
    "epochs = mne.Epochs(raw, events, event_id=event_dict, tmin=-1, tmax=2,\n",
    "                    reject=reject_criteria, preload=True)"
   ]
  },
  {
   "cell_type": "code",
   "execution_count": 80,
   "metadata": {},
   "outputs": [
    {
     "name": "stdout",
     "output_type": "stream",
     "text": [
      "Loading sourcedata/s06/eyetracking/s06ssvep.asc\n",
      "Pixel coordinate data detected.\n",
      "Pass `scalings=dict(eyegaze=1e3)` when using plot method to make traces more legible.\n",
      "Pupil-size area reported.\n",
      "There are 6 recording blocks in this file. Times between blocks will be annotated with bad_rec_gap.\n"
     ]
    }
   ],
   "source": [
    "et = mne.io.read_raw_eyelink ('sourcedata/s06/eyetracking/s06ssvep.asc')"
   ]
  },
  {
   "cell_type": "code",
   "execution_count": 82,
   "metadata": {},
   "outputs": [],
   "source": [
    "df_et = et.to_data_frame()"
   ]
  },
  {
   "cell_type": "code",
   "execution_count": 83,
   "metadata": {},
   "outputs": [
    {
     "data": {
      "text/html": [
       "<div>\n",
       "<style scoped>\n",
       "    .dataframe tbody tr th:only-of-type {\n",
       "        vertical-align: middle;\n",
       "    }\n",
       "\n",
       "    .dataframe tbody tr th {\n",
       "        vertical-align: top;\n",
       "    }\n",
       "\n",
       "    .dataframe thead th {\n",
       "        text-align: right;\n",
       "    }\n",
       "</style>\n",
       "<table border=\"1\" class=\"dataframe\">\n",
       "  <thead>\n",
       "    <tr style=\"text-align: right;\">\n",
       "      <th></th>\n",
       "      <th>time</th>\n",
       "      <th>xpos_right</th>\n",
       "      <th>ypos_right</th>\n",
       "      <th>pupil_right</th>\n",
       "      <th>DIN</th>\n",
       "    </tr>\n",
       "  </thead>\n",
       "  <tbody>\n",
       "    <tr>\n",
       "      <th>0</th>\n",
       "      <td>0.000</td>\n",
       "      <td>946.2</td>\n",
       "      <td>558.0</td>\n",
       "      <td>403.0</td>\n",
       "      <td>0.0</td>\n",
       "    </tr>\n",
       "    <tr>\n",
       "      <th>1</th>\n",
       "      <td>0.001</td>\n",
       "      <td>946.2</td>\n",
       "      <td>558.5</td>\n",
       "      <td>402.0</td>\n",
       "      <td>0.0</td>\n",
       "    </tr>\n",
       "    <tr>\n",
       "      <th>2</th>\n",
       "      <td>0.002</td>\n",
       "      <td>946.4</td>\n",
       "      <td>558.9</td>\n",
       "      <td>402.0</td>\n",
       "      <td>0.0</td>\n",
       "    </tr>\n",
       "    <tr>\n",
       "      <th>3</th>\n",
       "      <td>0.003</td>\n",
       "      <td>946.6</td>\n",
       "      <td>558.7</td>\n",
       "      <td>402.0</td>\n",
       "      <td>0.0</td>\n",
       "    </tr>\n",
       "    <tr>\n",
       "      <th>4</th>\n",
       "      <td>0.004</td>\n",
       "      <td>946.8</td>\n",
       "      <td>558.9</td>\n",
       "      <td>402.0</td>\n",
       "      <td>0.0</td>\n",
       "    </tr>\n",
       "    <tr>\n",
       "      <th>...</th>\n",
       "      <td>...</td>\n",
       "      <td>...</td>\n",
       "      <td>...</td>\n",
       "      <td>...</td>\n",
       "      <td>...</td>\n",
       "    </tr>\n",
       "    <tr>\n",
       "      <th>416667</th>\n",
       "      <td>416.667</td>\n",
       "      <td>NaN</td>\n",
       "      <td>NaN</td>\n",
       "      <td>0.0</td>\n",
       "      <td>0.0</td>\n",
       "    </tr>\n",
       "    <tr>\n",
       "      <th>416668</th>\n",
       "      <td>416.668</td>\n",
       "      <td>NaN</td>\n",
       "      <td>NaN</td>\n",
       "      <td>0.0</td>\n",
       "      <td>0.0</td>\n",
       "    </tr>\n",
       "    <tr>\n",
       "      <th>416669</th>\n",
       "      <td>416.669</td>\n",
       "      <td>NaN</td>\n",
       "      <td>NaN</td>\n",
       "      <td>0.0</td>\n",
       "      <td>0.0</td>\n",
       "    </tr>\n",
       "    <tr>\n",
       "      <th>416670</th>\n",
       "      <td>416.670</td>\n",
       "      <td>NaN</td>\n",
       "      <td>NaN</td>\n",
       "      <td>0.0</td>\n",
       "      <td>0.0</td>\n",
       "    </tr>\n",
       "    <tr>\n",
       "      <th>416671</th>\n",
       "      <td>416.671</td>\n",
       "      <td>NaN</td>\n",
       "      <td>NaN</td>\n",
       "      <td>0.0</td>\n",
       "      <td>0.0</td>\n",
       "    </tr>\n",
       "  </tbody>\n",
       "</table>\n",
       "<p>416672 rows × 5 columns</p>\n",
       "</div>"
      ],
      "text/plain": [
       "           time  xpos_right  ypos_right  pupil_right  DIN\n",
       "0         0.000       946.2       558.0        403.0  0.0\n",
       "1         0.001       946.2       558.5        402.0  0.0\n",
       "2         0.002       946.4       558.9        402.0  0.0\n",
       "3         0.003       946.6       558.7        402.0  0.0\n",
       "4         0.004       946.8       558.9        402.0  0.0\n",
       "...         ...         ...         ...          ...  ...\n",
       "416667  416.667         NaN         NaN          0.0  0.0\n",
       "416668  416.668         NaN         NaN          0.0  0.0\n",
       "416669  416.669         NaN         NaN          0.0  0.0\n",
       "416670  416.670         NaN         NaN          0.0  0.0\n",
       "416671  416.671         NaN         NaN          0.0  0.0\n",
       "\n",
       "[416672 rows x 5 columns]"
      ]
     },
     "execution_count": 83,
     "metadata": {},
     "output_type": "execute_result"
    }
   ],
   "source": [
    "df_et"
   ]
  },
  {
   "cell_type": "code",
   "execution_count": 86,
   "metadata": {},
   "outputs": [
    {
     "data": {
      "text/plain": [
       "array([ nan,   0.,   4.,  -4.,   2.,  -2.,  16., -14., -16.,  24., -22.,\n",
       "       -24.,  20.,  18.])"
      ]
     },
     "execution_count": 86,
     "metadata": {},
     "output_type": "execute_result"
    }
   ],
   "source": [
    "df_et['DIN_diff']=df_et['DIN'].diff()\n",
    "df_et['DIN_diff'].unique()"
   ]
  },
  {
   "cell_type": "code",
   "execution_count": null,
   "metadata": {},
   "outputs": [],
   "source": [
    ".df_et['DIN']unique()"
   ]
  },
  {
   "cell_type": "code",
   "execution_count": 88,
   "metadata": {},
   "outputs": [
    {
     "data": {
      "text/html": [
       "<div>\n",
       "<style scoped>\n",
       "    .dataframe tbody tr th:only-of-type {\n",
       "        vertical-align: middle;\n",
       "    }\n",
       "\n",
       "    .dataframe tbody tr th {\n",
       "        vertical-align: top;\n",
       "    }\n",
       "\n",
       "    .dataframe thead th {\n",
       "        text-align: right;\n",
       "    }\n",
       "</style>\n",
       "<table border=\"1\" class=\"dataframe\">\n",
       "  <thead>\n",
       "    <tr style=\"text-align: right;\">\n",
       "      <th></th>\n",
       "      <th>time</th>\n",
       "      <th>xpos_right</th>\n",
       "      <th>ypos_right</th>\n",
       "      <th>pupil_right</th>\n",
       "      <th>DIN</th>\n",
       "      <th>DIN_diff</th>\n",
       "    </tr>\n",
       "  </thead>\n",
       "  <tbody>\n",
       "    <tr>\n",
       "      <th>1023</th>\n",
       "      <td>1.023</td>\n",
       "      <td>940.4</td>\n",
       "      <td>572.6</td>\n",
       "      <td>472.0</td>\n",
       "      <td>4.0</td>\n",
       "      <td>4.0</td>\n",
       "    </tr>\n",
       "    <tr>\n",
       "      <th>2523</th>\n",
       "      <td>2.523</td>\n",
       "      <td>956.3</td>\n",
       "      <td>558.9</td>\n",
       "      <td>346.0</td>\n",
       "      <td>2.0</td>\n",
       "      <td>2.0</td>\n",
       "    </tr>\n",
       "    <tr>\n",
       "      <th>2656</th>\n",
       "      <td>2.656</td>\n",
       "      <td>954.7</td>\n",
       "      <td>556.5</td>\n",
       "      <td>348.0</td>\n",
       "      <td>4.0</td>\n",
       "      <td>4.0</td>\n",
       "    </tr>\n",
       "    <tr>\n",
       "      <th>2824</th>\n",
       "      <td>2.824</td>\n",
       "      <td>947.9</td>\n",
       "      <td>561.7</td>\n",
       "      <td>347.0</td>\n",
       "      <td>2.0</td>\n",
       "      <td>2.0</td>\n",
       "    </tr>\n",
       "    <tr>\n",
       "      <th>2989</th>\n",
       "      <td>2.989</td>\n",
       "      <td>948.6</td>\n",
       "      <td>551.7</td>\n",
       "      <td>309.0</td>\n",
       "      <td>4.0</td>\n",
       "      <td>4.0</td>\n",
       "    </tr>\n",
       "    <tr>\n",
       "      <th>...</th>\n",
       "      <td>...</td>\n",
       "      <td>...</td>\n",
       "      <td>...</td>\n",
       "      <td>...</td>\n",
       "      <td>...</td>\n",
       "      <td>...</td>\n",
       "    </tr>\n",
       "    <tr>\n",
       "      <th>404725</th>\n",
       "      <td>404.725</td>\n",
       "      <td>NaN</td>\n",
       "      <td>NaN</td>\n",
       "      <td>0.0</td>\n",
       "      <td>4.0</td>\n",
       "      <td>4.0</td>\n",
       "    </tr>\n",
       "    <tr>\n",
       "      <th>404893</th>\n",
       "      <td>404.893</td>\n",
       "      <td>1664.2</td>\n",
       "      <td>1263.5</td>\n",
       "      <td>54.0</td>\n",
       "      <td>2.0</td>\n",
       "      <td>2.0</td>\n",
       "    </tr>\n",
       "    <tr>\n",
       "      <th>405057</th>\n",
       "      <td>405.057</td>\n",
       "      <td>1576.6</td>\n",
       "      <td>922.4</td>\n",
       "      <td>206.0</td>\n",
       "      <td>4.0</td>\n",
       "      <td>4.0</td>\n",
       "    </tr>\n",
       "    <tr>\n",
       "      <th>405226</th>\n",
       "      <td>405.226</td>\n",
       "      <td>1331.0</td>\n",
       "      <td>848.6</td>\n",
       "      <td>258.0</td>\n",
       "      <td>2.0</td>\n",
       "      <td>2.0</td>\n",
       "    </tr>\n",
       "    <tr>\n",
       "      <th>405391</th>\n",
       "      <td>405.391</td>\n",
       "      <td>1143.0</td>\n",
       "      <td>768.2</td>\n",
       "      <td>207.0</td>\n",
       "      <td>4.0</td>\n",
       "      <td>4.0</td>\n",
       "    </tr>\n",
       "  </tbody>\n",
       "</table>\n",
       "<p>1301 rows × 6 columns</p>\n",
       "</div>"
      ],
      "text/plain": [
       "           time  xpos_right  ypos_right  pupil_right  DIN  DIN_diff\n",
       "1023      1.023       940.4       572.6        472.0  4.0       4.0\n",
       "2523      2.523       956.3       558.9        346.0  2.0       2.0\n",
       "2656      2.656       954.7       556.5        348.0  4.0       4.0\n",
       "2824      2.824       947.9       561.7        347.0  2.0       2.0\n",
       "2989      2.989       948.6       551.7        309.0  4.0       4.0\n",
       "...         ...         ...         ...          ...  ...       ...\n",
       "404725  404.725         NaN         NaN          0.0  4.0       4.0\n",
       "404893  404.893      1664.2      1263.5         54.0  2.0       2.0\n",
       "405057  405.057      1576.6       922.4        206.0  4.0       4.0\n",
       "405226  405.226      1331.0       848.6        258.0  2.0       2.0\n",
       "405391  405.391      1143.0       768.2        207.0  4.0       4.0\n",
       "\n",
       "[1301 rows x 6 columns]"
      ]
     },
     "execution_count": 88,
     "metadata": {},
     "output_type": "execute_result"
    }
   ],
   "source": [
    "et_stims=df_et.loc[df_et['DIN_diff'].isin([2,4])]\n",
    "et_stims"
   ]
  },
  {
   "cell_type": "code",
   "execution_count": 98,
   "metadata": {},
   "outputs": [
    {
     "data": {
      "text/html": [
       "<div>\n",
       "<style scoped>\n",
       "    .dataframe tbody tr th:only-of-type {\n",
       "        vertical-align: middle;\n",
       "    }\n",
       "\n",
       "    .dataframe tbody tr th {\n",
       "        vertical-align: top;\n",
       "    }\n",
       "\n",
       "    .dataframe thead th {\n",
       "        text-align: right;\n",
       "    }\n",
       "</style>\n",
       "<table border=\"1\" class=\"dataframe\">\n",
       "  <thead>\n",
       "    <tr style=\"text-align: right;\">\n",
       "      <th></th>\n",
       "      <th>index</th>\n",
       "      <th>time</th>\n",
       "      <th>xpos_right</th>\n",
       "      <th>ypos_right</th>\n",
       "      <th>pupil_right</th>\n",
       "      <th>DIN</th>\n",
       "      <th>DIN_diff</th>\n",
       "    </tr>\n",
       "  </thead>\n",
       "  <tbody>\n",
       "    <tr>\n",
       "      <th>0</th>\n",
       "      <td>1023</td>\n",
       "      <td>1.023</td>\n",
       "      <td>940.4</td>\n",
       "      <td>572.6</td>\n",
       "      <td>472.0</td>\n",
       "      <td>4.0</td>\n",
       "      <td>4.0</td>\n",
       "    </tr>\n",
       "    <tr>\n",
       "      <th>1</th>\n",
       "      <td>2523</td>\n",
       "      <td>2.523</td>\n",
       "      <td>956.3</td>\n",
       "      <td>558.9</td>\n",
       "      <td>346.0</td>\n",
       "      <td>2.0</td>\n",
       "      <td>2.0</td>\n",
       "    </tr>\n",
       "    <tr>\n",
       "      <th>2</th>\n",
       "      <td>2656</td>\n",
       "      <td>2.656</td>\n",
       "      <td>954.7</td>\n",
       "      <td>556.5</td>\n",
       "      <td>348.0</td>\n",
       "      <td>4.0</td>\n",
       "      <td>4.0</td>\n",
       "    </tr>\n",
       "    <tr>\n",
       "      <th>3</th>\n",
       "      <td>2824</td>\n",
       "      <td>2.824</td>\n",
       "      <td>947.9</td>\n",
       "      <td>561.7</td>\n",
       "      <td>347.0</td>\n",
       "      <td>2.0</td>\n",
       "      <td>2.0</td>\n",
       "    </tr>\n",
       "    <tr>\n",
       "      <th>4</th>\n",
       "      <td>2989</td>\n",
       "      <td>2.989</td>\n",
       "      <td>948.6</td>\n",
       "      <td>551.7</td>\n",
       "      <td>309.0</td>\n",
       "      <td>4.0</td>\n",
       "      <td>4.0</td>\n",
       "    </tr>\n",
       "    <tr>\n",
       "      <th>...</th>\n",
       "      <td>...</td>\n",
       "      <td>...</td>\n",
       "      <td>...</td>\n",
       "      <td>...</td>\n",
       "      <td>...</td>\n",
       "      <td>...</td>\n",
       "      <td>...</td>\n",
       "    </tr>\n",
       "    <tr>\n",
       "      <th>1296</th>\n",
       "      <td>404725</td>\n",
       "      <td>404.725</td>\n",
       "      <td>NaN</td>\n",
       "      <td>NaN</td>\n",
       "      <td>0.0</td>\n",
       "      <td>4.0</td>\n",
       "      <td>4.0</td>\n",
       "    </tr>\n",
       "    <tr>\n",
       "      <th>1297</th>\n",
       "      <td>404893</td>\n",
       "      <td>404.893</td>\n",
       "      <td>1664.2</td>\n",
       "      <td>1263.5</td>\n",
       "      <td>54.0</td>\n",
       "      <td>2.0</td>\n",
       "      <td>2.0</td>\n",
       "    </tr>\n",
       "    <tr>\n",
       "      <th>1298</th>\n",
       "      <td>405057</td>\n",
       "      <td>405.057</td>\n",
       "      <td>1576.6</td>\n",
       "      <td>922.4</td>\n",
       "      <td>206.0</td>\n",
       "      <td>4.0</td>\n",
       "      <td>4.0</td>\n",
       "    </tr>\n",
       "    <tr>\n",
       "      <th>1299</th>\n",
       "      <td>405226</td>\n",
       "      <td>405.226</td>\n",
       "      <td>1331.0</td>\n",
       "      <td>848.6</td>\n",
       "      <td>258.0</td>\n",
       "      <td>2.0</td>\n",
       "      <td>2.0</td>\n",
       "    </tr>\n",
       "    <tr>\n",
       "      <th>1300</th>\n",
       "      <td>405391</td>\n",
       "      <td>405.391</td>\n",
       "      <td>1143.0</td>\n",
       "      <td>768.2</td>\n",
       "      <td>207.0</td>\n",
       "      <td>4.0</td>\n",
       "      <td>4.0</td>\n",
       "    </tr>\n",
       "  </tbody>\n",
       "</table>\n",
       "<p>1301 rows × 7 columns</p>\n",
       "</div>"
      ],
      "text/plain": [
       "       index     time  xpos_right  ypos_right  pupil_right  DIN  DIN_diff\n",
       "0       1023    1.023       940.4       572.6        472.0  4.0       4.0\n",
       "1       2523    2.523       956.3       558.9        346.0  2.0       2.0\n",
       "2       2656    2.656       954.7       556.5        348.0  4.0       4.0\n",
       "3       2824    2.824       947.9       561.7        347.0  2.0       2.0\n",
       "4       2989    2.989       948.6       551.7        309.0  4.0       4.0\n",
       "...      ...      ...         ...         ...          ...  ...       ...\n",
       "1296  404725  404.725         NaN         NaN          0.0  4.0       4.0\n",
       "1297  404893  404.893      1664.2      1263.5         54.0  2.0       2.0\n",
       "1298  405057  405.057      1576.6       922.4        206.0  4.0       4.0\n",
       "1299  405226  405.226      1331.0       848.6        258.0  2.0       2.0\n",
       "1300  405391  405.391      1143.0       768.2        207.0  4.0       4.0\n",
       "\n",
       "[1301 rows x 7 columns]"
      ]
     },
     "execution_count": 98,
     "metadata": {},
     "output_type": "execute_result"
    }
   ],
   "source": [
    "et_stims_ri = et_stims.reset_index()\n",
    "et_stims_ri"
   ]
  },
  {
   "cell_type": "code",
   "execution_count": 109,
   "metadata": {},
   "outputs": [
    {
     "data": {
      "text/plain": [
       "1301"
      ]
     },
     "execution_count": 109,
     "metadata": {},
     "output_type": "execute_result"
    }
   ],
   "source": [
    "len(et_stims_ri)"
   ]
  },
  {
   "cell_type": "code",
   "execution_count": 111,
   "metadata": {},
   "outputs": [
    {
     "name": "stderr",
     "output_type": "stream",
     "text": [
      "/tmp/ipykernel_57620/615722596.py:5: SettingWithCopyWarning:\n",
      "\n",
      "\n",
      "A value is trying to be set on a copy of a slice from a DataFrame\n",
      "\n",
      "See the caveats in the documentation: https://pandas.pydata.org/pandas-docs/stable/user_guide/indexing.html#returning-a-view-versus-a-copy\n",
      "\n"
     ]
    }
   ],
   "source": [
    "for ind, row in et_stims_ri.iterrows():\n",
    "    if et_stims_ri['DIN_diff'][ind] == 4:\n",
    "        if ind < len(et_stims_ri)-1:\n",
    "            if et_stims_ri['DIN_diff'][ind+1] == 4:\n",
    "                et_stims_ri['DIN_diff'][ind+1] = 5\n",
    "\n"
   ]
  },
  {
   "cell_type": "code",
   "execution_count": 112,
   "metadata": {},
   "outputs": [
    {
     "data": {
      "text/html": [
       "<div>\n",
       "<style scoped>\n",
       "    .dataframe tbody tr th:only-of-type {\n",
       "        vertical-align: middle;\n",
       "    }\n",
       "\n",
       "    .dataframe tbody tr th {\n",
       "        vertical-align: top;\n",
       "    }\n",
       "\n",
       "    .dataframe thead th {\n",
       "        text-align: right;\n",
       "    }\n",
       "</style>\n",
       "<table border=\"1\" class=\"dataframe\">\n",
       "  <thead>\n",
       "    <tr style=\"text-align: right;\">\n",
       "      <th></th>\n",
       "      <th>index</th>\n",
       "      <th>time</th>\n",
       "      <th>xpos_right</th>\n",
       "      <th>ypos_right</th>\n",
       "      <th>pupil_right</th>\n",
       "      <th>DIN</th>\n",
       "      <th>DIN_diff</th>\n",
       "    </tr>\n",
       "  </thead>\n",
       "  <tbody>\n",
       "    <tr>\n",
       "      <th>7</th>\n",
       "      <td>3939</td>\n",
       "      <td>3.939</td>\n",
       "      <td>941.5</td>\n",
       "      <td>531.1</td>\n",
       "      <td>207.0</td>\n",
       "      <td>4.0</td>\n",
       "      <td>5.0</td>\n",
       "    </tr>\n",
       "    <tr>\n",
       "      <th>22</th>\n",
       "      <td>7256</td>\n",
       "      <td>7.256</td>\n",
       "      <td>938.9</td>\n",
       "      <td>531.3</td>\n",
       "      <td>196.0</td>\n",
       "      <td>4.0</td>\n",
       "      <td>5.0</td>\n",
       "    </tr>\n",
       "    <tr>\n",
       "      <th>37</th>\n",
       "      <td>10272</td>\n",
       "      <td>10.272</td>\n",
       "      <td>947.0</td>\n",
       "      <td>529.0</td>\n",
       "      <td>221.0</td>\n",
       "      <td>4.0</td>\n",
       "      <td>5.0</td>\n",
       "    </tr>\n",
       "    <tr>\n",
       "      <th>44</th>\n",
       "      <td>13489</td>\n",
       "      <td>13.489</td>\n",
       "      <td>932.2</td>\n",
       "      <td>530.2</td>\n",
       "      <td>277.0</td>\n",
       "      <td>4.0</td>\n",
       "      <td>5.0</td>\n",
       "    </tr>\n",
       "    <tr>\n",
       "      <th>59</th>\n",
       "      <td>16405</td>\n",
       "      <td>16.405</td>\n",
       "      <td>939.3</td>\n",
       "      <td>544.8</td>\n",
       "      <td>275.0</td>\n",
       "      <td>4.0</td>\n",
       "      <td>5.0</td>\n",
       "    </tr>\n",
       "    <tr>\n",
       "      <th>...</th>\n",
       "      <td>...</td>\n",
       "      <td>...</td>\n",
       "      <td>...</td>\n",
       "      <td>...</td>\n",
       "      <td>...</td>\n",
       "      <td>...</td>\n",
       "      <td>...</td>\n",
       "    </tr>\n",
       "    <tr>\n",
       "      <th>1252</th>\n",
       "      <td>392991</td>\n",
       "      <td>392.991</td>\n",
       "      <td>936.4</td>\n",
       "      <td>552.1</td>\n",
       "      <td>220.0</td>\n",
       "      <td>4.0</td>\n",
       "      <td>5.0</td>\n",
       "    </tr>\n",
       "    <tr>\n",
       "      <th>1257</th>\n",
       "      <td>393841</td>\n",
       "      <td>393.841</td>\n",
       "      <td>931.2</td>\n",
       "      <td>547.5</td>\n",
       "      <td>200.0</td>\n",
       "      <td>4.0</td>\n",
       "      <td>5.0</td>\n",
       "    </tr>\n",
       "    <tr>\n",
       "      <th>1272</th>\n",
       "      <td>396858</td>\n",
       "      <td>396.858</td>\n",
       "      <td>958.7</td>\n",
       "      <td>467.6</td>\n",
       "      <td>170.0</td>\n",
       "      <td>4.0</td>\n",
       "      <td>5.0</td>\n",
       "    </tr>\n",
       "    <tr>\n",
       "      <th>1287</th>\n",
       "      <td>399874</td>\n",
       "      <td>399.874</td>\n",
       "      <td>929.3</td>\n",
       "      <td>538.6</td>\n",
       "      <td>177.0</td>\n",
       "      <td>4.0</td>\n",
       "      <td>5.0</td>\n",
       "    </tr>\n",
       "    <tr>\n",
       "      <th>1294</th>\n",
       "      <td>402791</td>\n",
       "      <td>402.791</td>\n",
       "      <td>920.6</td>\n",
       "      <td>541.5</td>\n",
       "      <td>199.0</td>\n",
       "      <td>4.0</td>\n",
       "      <td>5.0</td>\n",
       "    </tr>\n",
       "  </tbody>\n",
       "</table>\n",
       "<p>129 rows × 7 columns</p>\n",
       "</div>"
      ],
      "text/plain": [
       "       index     time  xpos_right  ypos_right  pupil_right  DIN  DIN_diff\n",
       "7       3939    3.939       941.5       531.1        207.0  4.0       5.0\n",
       "22      7256    7.256       938.9       531.3        196.0  4.0       5.0\n",
       "37     10272   10.272       947.0       529.0        221.0  4.0       5.0\n",
       "44     13489   13.489       932.2       530.2        277.0  4.0       5.0\n",
       "59     16405   16.405       939.3       544.8        275.0  4.0       5.0\n",
       "...      ...      ...         ...         ...          ...  ...       ...\n",
       "1252  392991  392.991       936.4       552.1        220.0  4.0       5.0\n",
       "1257  393841  393.841       931.2       547.5        200.0  4.0       5.0\n",
       "1272  396858  396.858       958.7       467.6        170.0  4.0       5.0\n",
       "1287  399874  399.874       929.3       538.6        177.0  4.0       5.0\n",
       "1294  402791  402.791       920.6       541.5        199.0  4.0       5.0\n",
       "\n",
       "[129 rows x 7 columns]"
      ]
     },
     "execution_count": 112,
     "metadata": {},
     "output_type": "execute_result"
    }
   ],
   "source": [
    "et_stims_rit=et_stims_ri.loc[et_stims_ri['DIN_diff'].isin([5])]\n",
    "et_stims_rit"
   ]
  },
  {
   "cell_type": "code",
   "execution_count": 113,
   "metadata": {},
   "outputs": [
    {
     "data": {
      "text/plain": [
       "7          NaN\n",
       "22      3317.0\n",
       "37      3016.0\n",
       "44      3217.0\n",
       "59      2916.0\n",
       "         ...  \n",
       "1252    2466.0\n",
       "1257     850.0\n",
       "1272    3017.0\n",
       "1287    3016.0\n",
       "1294    2917.0\n",
       "Name: index, Length: 129, dtype: float64"
      ]
     },
     "execution_count": 113,
     "metadata": {},
     "output_type": "execute_result"
    }
   ],
   "source": [
    "d=et_stims_rit['index'].diff()\n",
    "d"
   ]
  },
  {
   "cell_type": "code",
   "execution_count": 117,
   "metadata": {},
   "outputs": [
    {
     "data": {
      "application/vnd.plotly.v1+json": {
       "config": {
        "plotlyServerURL": "https://plot.ly"
       },
       "data": [
        {
         "hovertemplate": "x=%{x}<br>y=%{y}<extra></extra>",
         "legendgroup": "",
         "line": {
          "color": "#636efa",
          "dash": "solid"
         },
         "marker": {
          "symbol": "circle"
         },
         "mode": "lines",
         "name": "",
         "orientation": "v",
         "showlegend": false,
         "type": "scatter",
         "x": [
          0,
          1,
          2,
          3,
          4,
          5,
          6,
          7,
          8,
          9,
          10,
          11,
          12,
          13,
          14,
          15,
          16,
          17,
          18,
          19,
          20,
          21,
          22,
          23,
          24,
          25,
          26,
          27,
          28,
          29,
          30,
          31,
          32,
          33,
          34,
          35,
          36,
          37,
          38,
          39,
          40,
          41,
          42,
          43,
          44,
          45,
          46,
          47,
          48,
          49,
          50,
          51,
          52,
          53,
          54,
          55,
          56,
          57,
          58,
          59,
          60,
          61,
          62,
          63,
          64,
          65,
          66,
          67,
          68,
          69,
          70,
          71,
          72,
          73,
          74,
          75,
          76,
          77,
          78,
          79,
          80,
          81,
          82,
          83,
          84,
          85,
          86,
          87,
          88,
          89,
          90,
          91,
          92,
          93,
          94,
          95,
          96,
          97,
          98,
          99,
          100,
          101,
          102,
          103,
          104,
          105,
          106,
          107,
          108,
          109,
          110,
          111,
          112,
          113,
          114,
          115,
          116,
          117,
          118,
          119,
          120,
          121,
          122,
          123,
          124,
          125,
          126,
          127,
          128
         ],
         "xaxis": "x",
         "y": [
          null,
          3317,
          3016,
          3217,
          2916,
          3217,
          3017,
          2916,
          3316,
          1933,
          984,
          3217,
          3216,
          3217,
          3116,
          3217,
          2916,
          2917,
          3116,
          3017,
          3116,
          3317,
          1867,
          267,
          266,
          717,
          2400,
          3216,
          2984,
          950,
          3316,
          2916,
          3117,
          3016,
          3217,
          3016,
          3017,
          3017,
          3316,
          3116,
          2918,
          2366,
          950,
          2500,
          3933,
          22400,
          2899,
          3316,
          3017,
          3016,
          3117,
          2916,
          3218,
          3216,
          3117,
          3016,
          3317,
          3016,
          3117,
          3216,
          3117,
          3216,
          3317,
          3116,
          2918,
          3215,
          2916,
          3018,
          2916,
          3117,
          3017,
          3216,
          3016,
          3317,
          3316,
          3017,
          2917,
          2916,
          3217,
          3116,
          3317,
          3317,
          1966,
          1250,
          3316,
          2917,
          14849,
          3218,
          2916,
          3117,
          3216,
          3016,
          3117,
          3016,
          3317,
          3216,
          3317,
          3216,
          2916,
          3017,
          2917,
          3117,
          3116,
          2601,
          715,
          3018,
          2916,
          3216,
          3217,
          3217,
          3016,
          3117,
          3116,
          3317,
          3117,
          2916,
          3016,
          3117,
          3316,
          3317,
          1800,
          1116,
          3317,
          2917,
          2466,
          850,
          3017,
          3016,
          2917
         ],
         "yaxis": "y"
        }
       ],
       "layout": {
        "legend": {
         "tracegroupgap": 0
        },
        "margin": {
         "t": 60
        },
        "template": {
         "data": {
          "bar": [
           {
            "error_x": {
             "color": "#2a3f5f"
            },
            "error_y": {
             "color": "#2a3f5f"
            },
            "marker": {
             "line": {
              "color": "#E5ECF6",
              "width": 0.5
             },
             "pattern": {
              "fillmode": "overlay",
              "size": 10,
              "solidity": 0.2
             }
            },
            "type": "bar"
           }
          ],
          "barpolar": [
           {
            "marker": {
             "line": {
              "color": "#E5ECF6",
              "width": 0.5
             },
             "pattern": {
              "fillmode": "overlay",
              "size": 10,
              "solidity": 0.2
             }
            },
            "type": "barpolar"
           }
          ],
          "carpet": [
           {
            "aaxis": {
             "endlinecolor": "#2a3f5f",
             "gridcolor": "white",
             "linecolor": "white",
             "minorgridcolor": "white",
             "startlinecolor": "#2a3f5f"
            },
            "baxis": {
             "endlinecolor": "#2a3f5f",
             "gridcolor": "white",
             "linecolor": "white",
             "minorgridcolor": "white",
             "startlinecolor": "#2a3f5f"
            },
            "type": "carpet"
           }
          ],
          "choropleth": [
           {
            "colorbar": {
             "outlinewidth": 0,
             "ticks": ""
            },
            "type": "choropleth"
           }
          ],
          "contour": [
           {
            "colorbar": {
             "outlinewidth": 0,
             "ticks": ""
            },
            "colorscale": [
             [
              0,
              "#0d0887"
             ],
             [
              0.1111111111111111,
              "#46039f"
             ],
             [
              0.2222222222222222,
              "#7201a8"
             ],
             [
              0.3333333333333333,
              "#9c179e"
             ],
             [
              0.4444444444444444,
              "#bd3786"
             ],
             [
              0.5555555555555556,
              "#d8576b"
             ],
             [
              0.6666666666666666,
              "#ed7953"
             ],
             [
              0.7777777777777778,
              "#fb9f3a"
             ],
             [
              0.8888888888888888,
              "#fdca26"
             ],
             [
              1,
              "#f0f921"
             ]
            ],
            "type": "contour"
           }
          ],
          "contourcarpet": [
           {
            "colorbar": {
             "outlinewidth": 0,
             "ticks": ""
            },
            "type": "contourcarpet"
           }
          ],
          "heatmap": [
           {
            "colorbar": {
             "outlinewidth": 0,
             "ticks": ""
            },
            "colorscale": [
             [
              0,
              "#0d0887"
             ],
             [
              0.1111111111111111,
              "#46039f"
             ],
             [
              0.2222222222222222,
              "#7201a8"
             ],
             [
              0.3333333333333333,
              "#9c179e"
             ],
             [
              0.4444444444444444,
              "#bd3786"
             ],
             [
              0.5555555555555556,
              "#d8576b"
             ],
             [
              0.6666666666666666,
              "#ed7953"
             ],
             [
              0.7777777777777778,
              "#fb9f3a"
             ],
             [
              0.8888888888888888,
              "#fdca26"
             ],
             [
              1,
              "#f0f921"
             ]
            ],
            "type": "heatmap"
           }
          ],
          "heatmapgl": [
           {
            "colorbar": {
             "outlinewidth": 0,
             "ticks": ""
            },
            "colorscale": [
             [
              0,
              "#0d0887"
             ],
             [
              0.1111111111111111,
              "#46039f"
             ],
             [
              0.2222222222222222,
              "#7201a8"
             ],
             [
              0.3333333333333333,
              "#9c179e"
             ],
             [
              0.4444444444444444,
              "#bd3786"
             ],
             [
              0.5555555555555556,
              "#d8576b"
             ],
             [
              0.6666666666666666,
              "#ed7953"
             ],
             [
              0.7777777777777778,
              "#fb9f3a"
             ],
             [
              0.8888888888888888,
              "#fdca26"
             ],
             [
              1,
              "#f0f921"
             ]
            ],
            "type": "heatmapgl"
           }
          ],
          "histogram": [
           {
            "marker": {
             "pattern": {
              "fillmode": "overlay",
              "size": 10,
              "solidity": 0.2
             }
            },
            "type": "histogram"
           }
          ],
          "histogram2d": [
           {
            "colorbar": {
             "outlinewidth": 0,
             "ticks": ""
            },
            "colorscale": [
             [
              0,
              "#0d0887"
             ],
             [
              0.1111111111111111,
              "#46039f"
             ],
             [
              0.2222222222222222,
              "#7201a8"
             ],
             [
              0.3333333333333333,
              "#9c179e"
             ],
             [
              0.4444444444444444,
              "#bd3786"
             ],
             [
              0.5555555555555556,
              "#d8576b"
             ],
             [
              0.6666666666666666,
              "#ed7953"
             ],
             [
              0.7777777777777778,
              "#fb9f3a"
             ],
             [
              0.8888888888888888,
              "#fdca26"
             ],
             [
              1,
              "#f0f921"
             ]
            ],
            "type": "histogram2d"
           }
          ],
          "histogram2dcontour": [
           {
            "colorbar": {
             "outlinewidth": 0,
             "ticks": ""
            },
            "colorscale": [
             [
              0,
              "#0d0887"
             ],
             [
              0.1111111111111111,
              "#46039f"
             ],
             [
              0.2222222222222222,
              "#7201a8"
             ],
             [
              0.3333333333333333,
              "#9c179e"
             ],
             [
              0.4444444444444444,
              "#bd3786"
             ],
             [
              0.5555555555555556,
              "#d8576b"
             ],
             [
              0.6666666666666666,
              "#ed7953"
             ],
             [
              0.7777777777777778,
              "#fb9f3a"
             ],
             [
              0.8888888888888888,
              "#fdca26"
             ],
             [
              1,
              "#f0f921"
             ]
            ],
            "type": "histogram2dcontour"
           }
          ],
          "mesh3d": [
           {
            "colorbar": {
             "outlinewidth": 0,
             "ticks": ""
            },
            "type": "mesh3d"
           }
          ],
          "parcoords": [
           {
            "line": {
             "colorbar": {
              "outlinewidth": 0,
              "ticks": ""
             }
            },
            "type": "parcoords"
           }
          ],
          "pie": [
           {
            "automargin": true,
            "type": "pie"
           }
          ],
          "scatter": [
           {
            "fillpattern": {
             "fillmode": "overlay",
             "size": 10,
             "solidity": 0.2
            },
            "type": "scatter"
           }
          ],
          "scatter3d": [
           {
            "line": {
             "colorbar": {
              "outlinewidth": 0,
              "ticks": ""
             }
            },
            "marker": {
             "colorbar": {
              "outlinewidth": 0,
              "ticks": ""
             }
            },
            "type": "scatter3d"
           }
          ],
          "scattercarpet": [
           {
            "marker": {
             "colorbar": {
              "outlinewidth": 0,
              "ticks": ""
             }
            },
            "type": "scattercarpet"
           }
          ],
          "scattergeo": [
           {
            "marker": {
             "colorbar": {
              "outlinewidth": 0,
              "ticks": ""
             }
            },
            "type": "scattergeo"
           }
          ],
          "scattergl": [
           {
            "marker": {
             "colorbar": {
              "outlinewidth": 0,
              "ticks": ""
             }
            },
            "type": "scattergl"
           }
          ],
          "scattermapbox": [
           {
            "marker": {
             "colorbar": {
              "outlinewidth": 0,
              "ticks": ""
             }
            },
            "type": "scattermapbox"
           }
          ],
          "scatterpolar": [
           {
            "marker": {
             "colorbar": {
              "outlinewidth": 0,
              "ticks": ""
             }
            },
            "type": "scatterpolar"
           }
          ],
          "scatterpolargl": [
           {
            "marker": {
             "colorbar": {
              "outlinewidth": 0,
              "ticks": ""
             }
            },
            "type": "scatterpolargl"
           }
          ],
          "scatterternary": [
           {
            "marker": {
             "colorbar": {
              "outlinewidth": 0,
              "ticks": ""
             }
            },
            "type": "scatterternary"
           }
          ],
          "surface": [
           {
            "colorbar": {
             "outlinewidth": 0,
             "ticks": ""
            },
            "colorscale": [
             [
              0,
              "#0d0887"
             ],
             [
              0.1111111111111111,
              "#46039f"
             ],
             [
              0.2222222222222222,
              "#7201a8"
             ],
             [
              0.3333333333333333,
              "#9c179e"
             ],
             [
              0.4444444444444444,
              "#bd3786"
             ],
             [
              0.5555555555555556,
              "#d8576b"
             ],
             [
              0.6666666666666666,
              "#ed7953"
             ],
             [
              0.7777777777777778,
              "#fb9f3a"
             ],
             [
              0.8888888888888888,
              "#fdca26"
             ],
             [
              1,
              "#f0f921"
             ]
            ],
            "type": "surface"
           }
          ],
          "table": [
           {
            "cells": {
             "fill": {
              "color": "#EBF0F8"
             },
             "line": {
              "color": "white"
             }
            },
            "header": {
             "fill": {
              "color": "#C8D4E3"
             },
             "line": {
              "color": "white"
             }
            },
            "type": "table"
           }
          ]
         },
         "layout": {
          "annotationdefaults": {
           "arrowcolor": "#2a3f5f",
           "arrowhead": 0,
           "arrowwidth": 1
          },
          "autotypenumbers": "strict",
          "coloraxis": {
           "colorbar": {
            "outlinewidth": 0,
            "ticks": ""
           }
          },
          "colorscale": {
           "diverging": [
            [
             0,
             "#8e0152"
            ],
            [
             0.1,
             "#c51b7d"
            ],
            [
             0.2,
             "#de77ae"
            ],
            [
             0.3,
             "#f1b6da"
            ],
            [
             0.4,
             "#fde0ef"
            ],
            [
             0.5,
             "#f7f7f7"
            ],
            [
             0.6,
             "#e6f5d0"
            ],
            [
             0.7,
             "#b8e186"
            ],
            [
             0.8,
             "#7fbc41"
            ],
            [
             0.9,
             "#4d9221"
            ],
            [
             1,
             "#276419"
            ]
           ],
           "sequential": [
            [
             0,
             "#0d0887"
            ],
            [
             0.1111111111111111,
             "#46039f"
            ],
            [
             0.2222222222222222,
             "#7201a8"
            ],
            [
             0.3333333333333333,
             "#9c179e"
            ],
            [
             0.4444444444444444,
             "#bd3786"
            ],
            [
             0.5555555555555556,
             "#d8576b"
            ],
            [
             0.6666666666666666,
             "#ed7953"
            ],
            [
             0.7777777777777778,
             "#fb9f3a"
            ],
            [
             0.8888888888888888,
             "#fdca26"
            ],
            [
             1,
             "#f0f921"
            ]
           ],
           "sequentialminus": [
            [
             0,
             "#0d0887"
            ],
            [
             0.1111111111111111,
             "#46039f"
            ],
            [
             0.2222222222222222,
             "#7201a8"
            ],
            [
             0.3333333333333333,
             "#9c179e"
            ],
            [
             0.4444444444444444,
             "#bd3786"
            ],
            [
             0.5555555555555556,
             "#d8576b"
            ],
            [
             0.6666666666666666,
             "#ed7953"
            ],
            [
             0.7777777777777778,
             "#fb9f3a"
            ],
            [
             0.8888888888888888,
             "#fdca26"
            ],
            [
             1,
             "#f0f921"
            ]
           ]
          },
          "colorway": [
           "#636efa",
           "#EF553B",
           "#00cc96",
           "#ab63fa",
           "#FFA15A",
           "#19d3f3",
           "#FF6692",
           "#B6E880",
           "#FF97FF",
           "#FECB52"
          ],
          "font": {
           "color": "#2a3f5f"
          },
          "geo": {
           "bgcolor": "white",
           "lakecolor": "white",
           "landcolor": "#E5ECF6",
           "showlakes": true,
           "showland": true,
           "subunitcolor": "white"
          },
          "hoverlabel": {
           "align": "left"
          },
          "hovermode": "closest",
          "mapbox": {
           "style": "light"
          },
          "paper_bgcolor": "white",
          "plot_bgcolor": "#E5ECF6",
          "polar": {
           "angularaxis": {
            "gridcolor": "white",
            "linecolor": "white",
            "ticks": ""
           },
           "bgcolor": "#E5ECF6",
           "radialaxis": {
            "gridcolor": "white",
            "linecolor": "white",
            "ticks": ""
           }
          },
          "scene": {
           "xaxis": {
            "backgroundcolor": "#E5ECF6",
            "gridcolor": "white",
            "gridwidth": 2,
            "linecolor": "white",
            "showbackground": true,
            "ticks": "",
            "zerolinecolor": "white"
           },
           "yaxis": {
            "backgroundcolor": "#E5ECF6",
            "gridcolor": "white",
            "gridwidth": 2,
            "linecolor": "white",
            "showbackground": true,
            "ticks": "",
            "zerolinecolor": "white"
           },
           "zaxis": {
            "backgroundcolor": "#E5ECF6",
            "gridcolor": "white",
            "gridwidth": 2,
            "linecolor": "white",
            "showbackground": true,
            "ticks": "",
            "zerolinecolor": "white"
           }
          },
          "shapedefaults": {
           "line": {
            "color": "#2a3f5f"
           }
          },
          "ternary": {
           "aaxis": {
            "gridcolor": "white",
            "linecolor": "white",
            "ticks": ""
           },
           "baxis": {
            "gridcolor": "white",
            "linecolor": "white",
            "ticks": ""
           },
           "bgcolor": "#E5ECF6",
           "caxis": {
            "gridcolor": "white",
            "linecolor": "white",
            "ticks": ""
           }
          },
          "title": {
           "x": 0.05
          },
          "xaxis": {
           "automargin": true,
           "gridcolor": "white",
           "linecolor": "white",
           "ticks": "",
           "title": {
            "standoff": 15
           },
           "zerolinecolor": "white",
           "zerolinewidth": 2
          },
          "yaxis": {
           "automargin": true,
           "gridcolor": "white",
           "linecolor": "white",
           "ticks": "",
           "title": {
            "standoff": 15
           },
           "zerolinecolor": "white",
           "zerolinewidth": 2
          }
         }
        },
        "xaxis": {
         "anchor": "y",
         "domain": [
          0,
          1
         ],
         "title": {
          "text": "x"
         }
        },
        "yaxis": {
         "anchor": "x",
         "domain": [
          0,
          1
         ],
         "title": {
          "text": "y"
         }
        }
       }
      }
     },
     "metadata": {},
     "output_type": "display_data"
    }
   ],
   "source": [
    "fig = px.line(\n",
    "                y=d,\n",
    "                )\n",
    "fig.show()"
   ]
  },
  {
   "cell_type": "code",
   "execution_count": 118,
   "metadata": {},
   "outputs": [
    {
     "data": {
      "application/vnd.plotly.v1+json": {
       "config": {
        "plotlyServerURL": "https://plot.ly"
       },
       "data": [
        {
         "hovertemplate": "x=%{x}<br>y=%{y}<extra></extra>",
         "legendgroup": "",
         "line": {
          "color": "#636efa",
          "dash": "solid"
         },
         "marker": {
          "symbol": "circle"
         },
         "mode": "lines",
         "name": "",
         "orientation": "v",
         "showlegend": false,
         "type": "scatter",
         "x": [
          0,
          1,
          2,
          3,
          4,
          5,
          6,
          7,
          8,
          9,
          10,
          11,
          12,
          13,
          14,
          15,
          16,
          17,
          18,
          19,
          20,
          21,
          22,
          23,
          24,
          25,
          26,
          27,
          28,
          29,
          30,
          31,
          32,
          33,
          34,
          35,
          36,
          37,
          38,
          39,
          40,
          41,
          42,
          43,
          44,
          45,
          46,
          47,
          48,
          49,
          50,
          51,
          52,
          53,
          54,
          55,
          56,
          57,
          58,
          59,
          60,
          61,
          62,
          63,
          64,
          65,
          66,
          67,
          68,
          69,
          70,
          71,
          72,
          73,
          74,
          75,
          76,
          77,
          78,
          79,
          80,
          81,
          82,
          83,
          84,
          85,
          86,
          87,
          88,
          89,
          90,
          91,
          92,
          93,
          94,
          95,
          96,
          97,
          98,
          99,
          100,
          101,
          102,
          103,
          104,
          105,
          106,
          107,
          108,
          109,
          110,
          111,
          112,
          113,
          114,
          115,
          116,
          117,
          118
         ],
         "xaxis": "x",
         "y": [
          3316,
          3017,
          3217,
          2916,
          3217,
          3017,
          2916,
          3316,
          2917,
          3216,
          3216,
          3218,
          3116,
          3217,
          2916,
          2917,
          3117,
          3016,
          3116,
          3316,
          3117,
          3016,
          3218,
          3316,
          3316,
          2917,
          3116,
          3017,
          3217,
          3016,
          3016,
          3017,
          3317,
          3116,
          2917,
          3316,
          3117,
          3316,
          3117,
          22101,
          3381,
          3016,
          3033,
          3117,
          2900,
          3233,
          3200,
          3133,
          3017,
          3316,
          3017,
          3100,
          3232,
          3117,
          3217,
          3317,
          3116,
          2917,
          3216,
          2917,
          3016,
          2916,
          3117,
          3000,
          3216,
          3033,
          3318,
          3316,
          3017,
          2916,
          2917,
          3216,
          3117,
          3316,
          3317,
          3216,
          3316,
          2917,
          3116,
          14950,
          2916,
          3117,
          3216,
          3017,
          3116,
          3017,
          3300,
          3216,
          3334,
          3216,
          2917,
          2999,
          2934,
          3116,
          3100,
          3334,
          3016,
          2916,
          3217,
          3216,
          3216,
          3001,
          3116,
          3133,
          3317,
          3117,
          2899,
          3033,
          3117,
          3316,
          3317,
          2917,
          3317,
          2899,
          3333,
          3017,
          3016,
          2917,
          3216
         ],
         "yaxis": "y"
        }
       ],
       "layout": {
        "legend": {
         "tracegroupgap": 0
        },
        "margin": {
         "t": 60
        },
        "template": {
         "data": {
          "bar": [
           {
            "error_x": {
             "color": "#2a3f5f"
            },
            "error_y": {
             "color": "#2a3f5f"
            },
            "marker": {
             "line": {
              "color": "#E5ECF6",
              "width": 0.5
             },
             "pattern": {
              "fillmode": "overlay",
              "size": 10,
              "solidity": 0.2
             }
            },
            "type": "bar"
           }
          ],
          "barpolar": [
           {
            "marker": {
             "line": {
              "color": "#E5ECF6",
              "width": 0.5
             },
             "pattern": {
              "fillmode": "overlay",
              "size": 10,
              "solidity": 0.2
             }
            },
            "type": "barpolar"
           }
          ],
          "carpet": [
           {
            "aaxis": {
             "endlinecolor": "#2a3f5f",
             "gridcolor": "white",
             "linecolor": "white",
             "minorgridcolor": "white",
             "startlinecolor": "#2a3f5f"
            },
            "baxis": {
             "endlinecolor": "#2a3f5f",
             "gridcolor": "white",
             "linecolor": "white",
             "minorgridcolor": "white",
             "startlinecolor": "#2a3f5f"
            },
            "type": "carpet"
           }
          ],
          "choropleth": [
           {
            "colorbar": {
             "outlinewidth": 0,
             "ticks": ""
            },
            "type": "choropleth"
           }
          ],
          "contour": [
           {
            "colorbar": {
             "outlinewidth": 0,
             "ticks": ""
            },
            "colorscale": [
             [
              0,
              "#0d0887"
             ],
             [
              0.1111111111111111,
              "#46039f"
             ],
             [
              0.2222222222222222,
              "#7201a8"
             ],
             [
              0.3333333333333333,
              "#9c179e"
             ],
             [
              0.4444444444444444,
              "#bd3786"
             ],
             [
              0.5555555555555556,
              "#d8576b"
             ],
             [
              0.6666666666666666,
              "#ed7953"
             ],
             [
              0.7777777777777778,
              "#fb9f3a"
             ],
             [
              0.8888888888888888,
              "#fdca26"
             ],
             [
              1,
              "#f0f921"
             ]
            ],
            "type": "contour"
           }
          ],
          "contourcarpet": [
           {
            "colorbar": {
             "outlinewidth": 0,
             "ticks": ""
            },
            "type": "contourcarpet"
           }
          ],
          "heatmap": [
           {
            "colorbar": {
             "outlinewidth": 0,
             "ticks": ""
            },
            "colorscale": [
             [
              0,
              "#0d0887"
             ],
             [
              0.1111111111111111,
              "#46039f"
             ],
             [
              0.2222222222222222,
              "#7201a8"
             ],
             [
              0.3333333333333333,
              "#9c179e"
             ],
             [
              0.4444444444444444,
              "#bd3786"
             ],
             [
              0.5555555555555556,
              "#d8576b"
             ],
             [
              0.6666666666666666,
              "#ed7953"
             ],
             [
              0.7777777777777778,
              "#fb9f3a"
             ],
             [
              0.8888888888888888,
              "#fdca26"
             ],
             [
              1,
              "#f0f921"
             ]
            ],
            "type": "heatmap"
           }
          ],
          "heatmapgl": [
           {
            "colorbar": {
             "outlinewidth": 0,
             "ticks": ""
            },
            "colorscale": [
             [
              0,
              "#0d0887"
             ],
             [
              0.1111111111111111,
              "#46039f"
             ],
             [
              0.2222222222222222,
              "#7201a8"
             ],
             [
              0.3333333333333333,
              "#9c179e"
             ],
             [
              0.4444444444444444,
              "#bd3786"
             ],
             [
              0.5555555555555556,
              "#d8576b"
             ],
             [
              0.6666666666666666,
              "#ed7953"
             ],
             [
              0.7777777777777778,
              "#fb9f3a"
             ],
             [
              0.8888888888888888,
              "#fdca26"
             ],
             [
              1,
              "#f0f921"
             ]
            ],
            "type": "heatmapgl"
           }
          ],
          "histogram": [
           {
            "marker": {
             "pattern": {
              "fillmode": "overlay",
              "size": 10,
              "solidity": 0.2
             }
            },
            "type": "histogram"
           }
          ],
          "histogram2d": [
           {
            "colorbar": {
             "outlinewidth": 0,
             "ticks": ""
            },
            "colorscale": [
             [
              0,
              "#0d0887"
             ],
             [
              0.1111111111111111,
              "#46039f"
             ],
             [
              0.2222222222222222,
              "#7201a8"
             ],
             [
              0.3333333333333333,
              "#9c179e"
             ],
             [
              0.4444444444444444,
              "#bd3786"
             ],
             [
              0.5555555555555556,
              "#d8576b"
             ],
             [
              0.6666666666666666,
              "#ed7953"
             ],
             [
              0.7777777777777778,
              "#fb9f3a"
             ],
             [
              0.8888888888888888,
              "#fdca26"
             ],
             [
              1,
              "#f0f921"
             ]
            ],
            "type": "histogram2d"
           }
          ],
          "histogram2dcontour": [
           {
            "colorbar": {
             "outlinewidth": 0,
             "ticks": ""
            },
            "colorscale": [
             [
              0,
              "#0d0887"
             ],
             [
              0.1111111111111111,
              "#46039f"
             ],
             [
              0.2222222222222222,
              "#7201a8"
             ],
             [
              0.3333333333333333,
              "#9c179e"
             ],
             [
              0.4444444444444444,
              "#bd3786"
             ],
             [
              0.5555555555555556,
              "#d8576b"
             ],
             [
              0.6666666666666666,
              "#ed7953"
             ],
             [
              0.7777777777777778,
              "#fb9f3a"
             ],
             [
              0.8888888888888888,
              "#fdca26"
             ],
             [
              1,
              "#f0f921"
             ]
            ],
            "type": "histogram2dcontour"
           }
          ],
          "mesh3d": [
           {
            "colorbar": {
             "outlinewidth": 0,
             "ticks": ""
            },
            "type": "mesh3d"
           }
          ],
          "parcoords": [
           {
            "line": {
             "colorbar": {
              "outlinewidth": 0,
              "ticks": ""
             }
            },
            "type": "parcoords"
           }
          ],
          "pie": [
           {
            "automargin": true,
            "type": "pie"
           }
          ],
          "scatter": [
           {
            "fillpattern": {
             "fillmode": "overlay",
             "size": 10,
             "solidity": 0.2
            },
            "type": "scatter"
           }
          ],
          "scatter3d": [
           {
            "line": {
             "colorbar": {
              "outlinewidth": 0,
              "ticks": ""
             }
            },
            "marker": {
             "colorbar": {
              "outlinewidth": 0,
              "ticks": ""
             }
            },
            "type": "scatter3d"
           }
          ],
          "scattercarpet": [
           {
            "marker": {
             "colorbar": {
              "outlinewidth": 0,
              "ticks": ""
             }
            },
            "type": "scattercarpet"
           }
          ],
          "scattergeo": [
           {
            "marker": {
             "colorbar": {
              "outlinewidth": 0,
              "ticks": ""
             }
            },
            "type": "scattergeo"
           }
          ],
          "scattergl": [
           {
            "marker": {
             "colorbar": {
              "outlinewidth": 0,
              "ticks": ""
             }
            },
            "type": "scattergl"
           }
          ],
          "scattermapbox": [
           {
            "marker": {
             "colorbar": {
              "outlinewidth": 0,
              "ticks": ""
             }
            },
            "type": "scattermapbox"
           }
          ],
          "scatterpolar": [
           {
            "marker": {
             "colorbar": {
              "outlinewidth": 0,
              "ticks": ""
             }
            },
            "type": "scatterpolar"
           }
          ],
          "scatterpolargl": [
           {
            "marker": {
             "colorbar": {
              "outlinewidth": 0,
              "ticks": ""
             }
            },
            "type": "scatterpolargl"
           }
          ],
          "scatterternary": [
           {
            "marker": {
             "colorbar": {
              "outlinewidth": 0,
              "ticks": ""
             }
            },
            "type": "scatterternary"
           }
          ],
          "surface": [
           {
            "colorbar": {
             "outlinewidth": 0,
             "ticks": ""
            },
            "colorscale": [
             [
              0,
              "#0d0887"
             ],
             [
              0.1111111111111111,
              "#46039f"
             ],
             [
              0.2222222222222222,
              "#7201a8"
             ],
             [
              0.3333333333333333,
              "#9c179e"
             ],
             [
              0.4444444444444444,
              "#bd3786"
             ],
             [
              0.5555555555555556,
              "#d8576b"
             ],
             [
              0.6666666666666666,
              "#ed7953"
             ],
             [
              0.7777777777777778,
              "#fb9f3a"
             ],
             [
              0.8888888888888888,
              "#fdca26"
             ],
             [
              1,
              "#f0f921"
             ]
            ],
            "type": "surface"
           }
          ],
          "table": [
           {
            "cells": {
             "fill": {
              "color": "#EBF0F8"
             },
             "line": {
              "color": "white"
             }
            },
            "header": {
             "fill": {
              "color": "#C8D4E3"
             },
             "line": {
              "color": "white"
             }
            },
            "type": "table"
           }
          ]
         },
         "layout": {
          "annotationdefaults": {
           "arrowcolor": "#2a3f5f",
           "arrowhead": 0,
           "arrowwidth": 1
          },
          "autotypenumbers": "strict",
          "coloraxis": {
           "colorbar": {
            "outlinewidth": 0,
            "ticks": ""
           }
          },
          "colorscale": {
           "diverging": [
            [
             0,
             "#8e0152"
            ],
            [
             0.1,
             "#c51b7d"
            ],
            [
             0.2,
             "#de77ae"
            ],
            [
             0.3,
             "#f1b6da"
            ],
            [
             0.4,
             "#fde0ef"
            ],
            [
             0.5,
             "#f7f7f7"
            ],
            [
             0.6,
             "#e6f5d0"
            ],
            [
             0.7,
             "#b8e186"
            ],
            [
             0.8,
             "#7fbc41"
            ],
            [
             0.9,
             "#4d9221"
            ],
            [
             1,
             "#276419"
            ]
           ],
           "sequential": [
            [
             0,
             "#0d0887"
            ],
            [
             0.1111111111111111,
             "#46039f"
            ],
            [
             0.2222222222222222,
             "#7201a8"
            ],
            [
             0.3333333333333333,
             "#9c179e"
            ],
            [
             0.4444444444444444,
             "#bd3786"
            ],
            [
             0.5555555555555556,
             "#d8576b"
            ],
            [
             0.6666666666666666,
             "#ed7953"
            ],
            [
             0.7777777777777778,
             "#fb9f3a"
            ],
            [
             0.8888888888888888,
             "#fdca26"
            ],
            [
             1,
             "#f0f921"
            ]
           ],
           "sequentialminus": [
            [
             0,
             "#0d0887"
            ],
            [
             0.1111111111111111,
             "#46039f"
            ],
            [
             0.2222222222222222,
             "#7201a8"
            ],
            [
             0.3333333333333333,
             "#9c179e"
            ],
            [
             0.4444444444444444,
             "#bd3786"
            ],
            [
             0.5555555555555556,
             "#d8576b"
            ],
            [
             0.6666666666666666,
             "#ed7953"
            ],
            [
             0.7777777777777778,
             "#fb9f3a"
            ],
            [
             0.8888888888888888,
             "#fdca26"
            ],
            [
             1,
             "#f0f921"
            ]
           ]
          },
          "colorway": [
           "#636efa",
           "#EF553B",
           "#00cc96",
           "#ab63fa",
           "#FFA15A",
           "#19d3f3",
           "#FF6692",
           "#B6E880",
           "#FF97FF",
           "#FECB52"
          ],
          "font": {
           "color": "#2a3f5f"
          },
          "geo": {
           "bgcolor": "white",
           "lakecolor": "white",
           "landcolor": "#E5ECF6",
           "showlakes": true,
           "showland": true,
           "subunitcolor": "white"
          },
          "hoverlabel": {
           "align": "left"
          },
          "hovermode": "closest",
          "mapbox": {
           "style": "light"
          },
          "paper_bgcolor": "white",
          "plot_bgcolor": "#E5ECF6",
          "polar": {
           "angularaxis": {
            "gridcolor": "white",
            "linecolor": "white",
            "ticks": ""
           },
           "bgcolor": "#E5ECF6",
           "radialaxis": {
            "gridcolor": "white",
            "linecolor": "white",
            "ticks": ""
           }
          },
          "scene": {
           "xaxis": {
            "backgroundcolor": "#E5ECF6",
            "gridcolor": "white",
            "gridwidth": 2,
            "linecolor": "white",
            "showbackground": true,
            "ticks": "",
            "zerolinecolor": "white"
           },
           "yaxis": {
            "backgroundcolor": "#E5ECF6",
            "gridcolor": "white",
            "gridwidth": 2,
            "linecolor": "white",
            "showbackground": true,
            "ticks": "",
            "zerolinecolor": "white"
           },
           "zaxis": {
            "backgroundcolor": "#E5ECF6",
            "gridcolor": "white",
            "gridwidth": 2,
            "linecolor": "white",
            "showbackground": true,
            "ticks": "",
            "zerolinecolor": "white"
           }
          },
          "shapedefaults": {
           "line": {
            "color": "#2a3f5f"
           }
          },
          "ternary": {
           "aaxis": {
            "gridcolor": "white",
            "linecolor": "white",
            "ticks": ""
           },
           "baxis": {
            "gridcolor": "white",
            "linecolor": "white",
            "ticks": ""
           },
           "bgcolor": "#E5ECF6",
           "caxis": {
            "gridcolor": "white",
            "linecolor": "white",
            "ticks": ""
           }
          },
          "title": {
           "x": 0.05
          },
          "xaxis": {
           "automargin": true,
           "gridcolor": "white",
           "linecolor": "white",
           "ticks": "",
           "title": {
            "standoff": 15
           },
           "zerolinecolor": "white",
           "zerolinewidth": 2
          },
          "yaxis": {
           "automargin": true,
           "gridcolor": "white",
           "linecolor": "white",
           "ticks": "",
           "title": {
            "standoff": 15
           },
           "zerolinecolor": "white",
           "zerolinewidth": 2
          }
         }
        },
        "xaxis": {
         "anchor": "y",
         "domain": [
          0,
          1
         ],
         "title": {
          "text": "x"
         }
        },
        "yaxis": {
         "anchor": "x",
         "domain": [
          0,
          1
         ],
         "title": {
          "text": "y"
         }
        }
       }
      }
     },
     "metadata": {},
     "output_type": "display_data"
    }
   ],
   "source": [
    "fig = px.line(\n",
    "                y=iti,\n",
    "                )\n",
    "fig.show()"
   ]
  },
  {
   "cell_type": "code",
   "execution_count": 115,
   "metadata": {},
   "outputs": [
    {
     "data": {
      "text/plain": [
       "array([ 3316,  3017,  3217,  2916,  3217,  3017,  2916,  3316,  2917,\n",
       "        3216,  3216,  3218,  3116,  3217,  2916,  2917,  3117,  3016,\n",
       "        3116,  3316,  3117,  3016,  3218,  3316,  3316,  2917,  3116,\n",
       "        3017,  3217,  3016,  3016,  3017,  3317,  3116,  2917,  3316,\n",
       "        3117,  3316,  3117, 22101,  3381,  3016,  3033,  3117,  2900,\n",
       "        3233,  3200,  3133,  3017,  3316,  3017,  3100,  3232,  3117,\n",
       "        3217,  3317,  3116,  2917,  3216,  2917,  3016,  2916,  3117,\n",
       "        3000,  3216,  3033,  3318,  3316,  3017,  2916,  2917,  3216,\n",
       "        3117,  3316,  3317,  3216,  3316,  2917,  3116, 14950,  2916,\n",
       "        3117,  3216,  3017,  3116,  3017,  3300,  3216,  3334,  3216,\n",
       "        2917,  2999,  2934,  3116,  3100,  3334,  3016,  2916,  3217,\n",
       "        3216,  3216,  3001,  3116,  3133,  3317,  3117,  2899,  3033,\n",
       "        3117,  3316,  3317,  2917,  3317,  2899,  3333,  3017,  3016,\n",
       "        2917,  3216])"
      ]
     },
     "execution_count": 115,
     "metadata": {},
     "output_type": "execute_result"
    }
   ],
   "source": [
    "iti"
   ]
  },
  {
   "cell_type": "code",
   "execution_count": 95,
   "metadata": {},
   "outputs": [
    {
     "data": {
      "application/vnd.plotly.v1+json": {
       "config": {
        "plotlyServerURL": "https://plot.ly"
       },
       "data": [
        {
         "hovertemplate": "x=%{x}<br>y=%{y}<extra></extra>",
         "legendgroup": "",
         "line": {
          "color": "#636efa",
          "dash": "solid"
         },
         "marker": {
          "symbol": "circle"
         },
         "mode": "lines",
         "name": "",
         "showlegend": false,
         "type": "scattergl",
         "x": [
          0,
          1,
          2,
          3,
          4,
          5,
          6,
          7,
          8,
          9,
          10,
          11,
          12,
          13,
          14,
          15,
          16,
          17,
          18,
          19,
          20,
          21,
          22,
          23,
          24,
          25,
          26,
          27,
          28,
          29,
          30,
          31,
          32,
          33,
          34,
          35,
          36,
          37,
          38,
          39,
          40,
          41,
          42,
          43,
          44,
          45,
          46,
          47,
          48,
          49,
          50,
          51,
          52,
          53,
          54,
          55,
          56,
          57,
          58,
          59,
          60,
          61,
          62,
          63,
          64,
          65,
          66,
          67,
          68,
          69,
          70,
          71,
          72,
          73,
          74,
          75,
          76,
          77,
          78,
          79,
          80,
          81,
          82,
          83,
          84,
          85,
          86,
          87,
          88,
          89,
          90,
          91,
          92,
          93,
          94,
          95,
          96,
          97,
          98,
          99,
          100,
          101,
          102,
          103,
          104,
          105,
          106,
          107,
          108,
          109,
          110,
          111,
          112,
          113,
          114,
          115,
          116,
          117,
          118,
          119,
          120,
          121,
          122,
          123,
          124,
          125,
          126,
          127,
          128,
          129,
          130,
          131,
          132,
          133,
          134,
          135,
          136,
          137,
          138,
          139,
          140,
          141,
          142,
          143,
          144,
          145,
          146,
          147,
          148,
          149,
          150,
          151,
          152,
          153,
          154,
          155,
          156,
          157,
          158,
          159,
          160,
          161,
          162,
          163,
          164,
          165,
          166,
          167,
          168,
          169,
          170,
          171,
          172,
          173,
          174,
          175,
          176,
          177,
          178,
          179,
          180,
          181,
          182,
          183,
          184,
          185,
          186,
          187,
          188,
          189,
          190,
          191,
          192,
          193,
          194,
          195,
          196,
          197,
          198,
          199,
          200,
          201,
          202,
          203,
          204,
          205,
          206,
          207,
          208,
          209,
          210,
          211,
          212,
          213,
          214,
          215,
          216,
          217,
          218,
          219,
          220,
          221,
          222,
          223,
          224,
          225,
          226,
          227,
          228,
          229,
          230,
          231,
          232,
          233,
          234,
          235,
          236,
          237,
          238,
          239,
          240,
          241,
          242,
          243,
          244,
          245,
          246,
          247,
          248,
          249,
          250,
          251,
          252,
          253,
          254,
          255,
          256,
          257,
          258,
          259,
          260,
          261,
          262,
          263,
          264,
          265,
          266,
          267,
          268,
          269,
          270,
          271,
          272,
          273,
          274,
          275,
          276,
          277,
          278,
          279,
          280,
          281,
          282,
          283,
          284,
          285,
          286,
          287,
          288,
          289,
          290,
          291,
          292,
          293,
          294,
          295,
          296,
          297,
          298,
          299,
          300,
          301,
          302,
          303,
          304,
          305,
          306,
          307,
          308,
          309,
          310,
          311,
          312,
          313,
          314,
          315,
          316,
          317,
          318,
          319,
          320,
          321,
          322,
          323,
          324,
          325,
          326,
          327,
          328,
          329,
          330,
          331,
          332,
          333,
          334,
          335,
          336,
          337,
          338,
          339,
          340,
          341,
          342,
          343,
          344,
          345,
          346,
          347,
          348,
          349,
          350,
          351,
          352,
          353,
          354,
          355,
          356,
          357,
          358,
          359,
          360,
          361,
          362,
          363,
          364,
          365,
          366,
          367,
          368,
          369,
          370,
          371,
          372,
          373,
          374,
          375,
          376,
          377,
          378,
          379,
          380,
          381,
          382,
          383,
          384,
          385,
          386,
          387,
          388,
          389,
          390,
          391,
          392,
          393,
          394,
          395,
          396,
          397,
          398,
          399,
          400,
          401,
          402,
          403,
          404,
          405,
          406,
          407,
          408,
          409,
          410,
          411,
          412,
          413,
          414,
          415,
          416,
          417,
          418,
          419,
          420,
          421,
          422,
          423,
          424,
          425,
          426,
          427,
          428,
          429,
          430,
          431,
          432,
          433,
          434,
          435,
          436,
          437,
          438,
          439,
          440,
          441,
          442,
          443,
          444,
          445,
          446,
          447,
          448,
          449,
          450,
          451,
          452,
          453,
          454,
          455,
          456,
          457,
          458,
          459,
          460,
          461,
          462,
          463,
          464,
          465,
          466,
          467,
          468,
          469,
          470,
          471,
          472,
          473,
          474,
          475,
          476,
          477,
          478,
          479,
          480,
          481,
          482,
          483,
          484,
          485,
          486,
          487,
          488,
          489,
          490,
          491,
          492,
          493,
          494,
          495,
          496,
          497,
          498,
          499,
          500,
          501,
          502,
          503,
          504,
          505,
          506,
          507,
          508,
          509,
          510,
          511,
          512,
          513,
          514,
          515,
          516,
          517,
          518,
          519,
          520,
          521,
          522,
          523,
          524,
          525,
          526,
          527,
          528,
          529,
          530,
          531,
          532,
          533,
          534,
          535,
          536,
          537,
          538,
          539,
          540,
          541,
          542,
          543,
          544,
          545,
          546,
          547,
          548,
          549,
          550,
          551,
          552,
          553,
          554,
          555,
          556,
          557,
          558,
          559,
          560,
          561,
          562,
          563,
          564,
          565,
          566,
          567,
          568,
          569,
          570,
          571,
          572,
          573,
          574,
          575,
          576,
          577,
          578,
          579,
          580,
          581,
          582,
          583,
          584,
          585,
          586,
          587,
          588,
          589,
          590,
          591,
          592,
          593,
          594,
          595,
          596,
          597,
          598,
          599,
          600,
          601,
          602,
          603,
          604,
          605,
          606,
          607,
          608,
          609,
          610,
          611,
          612,
          613,
          614,
          615,
          616,
          617,
          618,
          619,
          620,
          621,
          622,
          623,
          624,
          625,
          626,
          627,
          628,
          629,
          630,
          631,
          632,
          633,
          634,
          635,
          636,
          637,
          638,
          639,
          640,
          641,
          642,
          643,
          644,
          645,
          646,
          647,
          648,
          649,
          650,
          651,
          652,
          653,
          654,
          655,
          656,
          657,
          658,
          659,
          660,
          661,
          662,
          663,
          664,
          665,
          666,
          667,
          668,
          669,
          670,
          671,
          672,
          673,
          674,
          675,
          676,
          677,
          678,
          679,
          680,
          681,
          682,
          683,
          684,
          685,
          686,
          687,
          688,
          689,
          690,
          691,
          692,
          693,
          694,
          695,
          696,
          697,
          698,
          699,
          700,
          701,
          702,
          703,
          704,
          705,
          706,
          707,
          708,
          709,
          710,
          711,
          712,
          713,
          714,
          715,
          716,
          717,
          718,
          719,
          720,
          721,
          722,
          723,
          724,
          725,
          726,
          727,
          728,
          729,
          730,
          731,
          732,
          733,
          734,
          735,
          736,
          737,
          738,
          739,
          740,
          741,
          742,
          743,
          744,
          745,
          746,
          747,
          748,
          749,
          750,
          751,
          752,
          753,
          754,
          755,
          756,
          757,
          758,
          759,
          760,
          761,
          762,
          763,
          764,
          765,
          766,
          767,
          768,
          769,
          770,
          771,
          772,
          773,
          774,
          775,
          776,
          777,
          778,
          779,
          780,
          781,
          782,
          783,
          784,
          785,
          786,
          787,
          788,
          789,
          790,
          791,
          792,
          793,
          794,
          795,
          796,
          797,
          798,
          799,
          800,
          801,
          802,
          803,
          804,
          805,
          806,
          807,
          808,
          809,
          810,
          811,
          812,
          813,
          814,
          815,
          816,
          817,
          818,
          819,
          820,
          821,
          822,
          823,
          824,
          825,
          826,
          827,
          828,
          829,
          830,
          831,
          832,
          833,
          834,
          835,
          836,
          837,
          838,
          839,
          840,
          841,
          842,
          843,
          844,
          845,
          846,
          847,
          848,
          849,
          850,
          851,
          852,
          853,
          854,
          855,
          856,
          857,
          858,
          859,
          860,
          861,
          862,
          863,
          864,
          865,
          866,
          867,
          868,
          869,
          870,
          871,
          872,
          873,
          874,
          875,
          876,
          877,
          878,
          879,
          880,
          881,
          882,
          883,
          884,
          885,
          886,
          887,
          888,
          889,
          890,
          891,
          892,
          893,
          894,
          895,
          896,
          897,
          898,
          899,
          900,
          901,
          902,
          903,
          904,
          905,
          906,
          907,
          908,
          909,
          910,
          911,
          912,
          913,
          914,
          915,
          916,
          917,
          918,
          919,
          920,
          921,
          922,
          923,
          924,
          925,
          926,
          927,
          928,
          929,
          930,
          931,
          932,
          933,
          934,
          935,
          936,
          937,
          938,
          939,
          940,
          941,
          942,
          943,
          944,
          945,
          946,
          947,
          948,
          949,
          950,
          951,
          952,
          953,
          954,
          955,
          956,
          957,
          958,
          959,
          960,
          961,
          962,
          963,
          964,
          965,
          966,
          967,
          968,
          969,
          970,
          971,
          972,
          973,
          974,
          975,
          976,
          977,
          978,
          979,
          980,
          981,
          982,
          983,
          984,
          985,
          986,
          987,
          988,
          989,
          990,
          991,
          992,
          993,
          994,
          995,
          996,
          997,
          998,
          999,
          1000,
          1001,
          1002,
          1003,
          1004,
          1005,
          1006,
          1007,
          1008,
          1009,
          1010,
          1011,
          1012,
          1013,
          1014,
          1015,
          1016,
          1017,
          1018,
          1019,
          1020,
          1021,
          1022,
          1023,
          1024,
          1025,
          1026,
          1027,
          1028,
          1029,
          1030,
          1031,
          1032,
          1033,
          1034,
          1035,
          1036,
          1037,
          1038,
          1039,
          1040,
          1041,
          1042,
          1043,
          1044,
          1045,
          1046,
          1047,
          1048,
          1049,
          1050,
          1051,
          1052,
          1053,
          1054,
          1055,
          1056,
          1057,
          1058,
          1059,
          1060,
          1061,
          1062,
          1063,
          1064,
          1065,
          1066,
          1067,
          1068,
          1069,
          1070,
          1071,
          1072,
          1073,
          1074,
          1075,
          1076,
          1077,
          1078,
          1079,
          1080,
          1081,
          1082,
          1083,
          1084,
          1085,
          1086,
          1087,
          1088,
          1089,
          1090,
          1091,
          1092,
          1093,
          1094,
          1095,
          1096,
          1097,
          1098,
          1099,
          1100,
          1101,
          1102,
          1103,
          1104,
          1105,
          1106,
          1107,
          1108,
          1109,
          1110,
          1111,
          1112,
          1113,
          1114,
          1115,
          1116,
          1117,
          1118,
          1119,
          1120,
          1121,
          1122,
          1123,
          1124,
          1125,
          1126,
          1127,
          1128,
          1129,
          1130,
          1131,
          1132,
          1133,
          1134,
          1135,
          1136,
          1137,
          1138,
          1139,
          1140,
          1141,
          1142,
          1143,
          1144,
          1145,
          1146,
          1147,
          1148,
          1149,
          1150,
          1151,
          1152,
          1153,
          1154,
          1155,
          1156,
          1157,
          1158,
          1159,
          1160,
          1161,
          1162,
          1163,
          1164,
          1165,
          1166,
          1167,
          1168,
          1169,
          1170,
          1171,
          1172,
          1173,
          1174,
          1175,
          1176,
          1177,
          1178,
          1179,
          1180,
          1181,
          1182,
          1183,
          1184,
          1185,
          1186,
          1187,
          1188,
          1189,
          1190,
          1191,
          1192,
          1193,
          1194,
          1195,
          1196,
          1197,
          1198,
          1199,
          1200,
          1201,
          1202,
          1203,
          1204,
          1205,
          1206,
          1207,
          1208,
          1209,
          1210,
          1211,
          1212,
          1213,
          1214,
          1215,
          1216,
          1217,
          1218,
          1219,
          1220,
          1221,
          1222,
          1223,
          1224,
          1225,
          1226,
          1227,
          1228,
          1229,
          1230,
          1231,
          1232,
          1233,
          1234,
          1235,
          1236,
          1237,
          1238,
          1239,
          1240,
          1241,
          1242,
          1243,
          1244,
          1245,
          1246,
          1247,
          1248,
          1249,
          1250,
          1251,
          1252,
          1253,
          1254,
          1255,
          1256,
          1257,
          1258,
          1259,
          1260,
          1261,
          1262,
          1263,
          1264,
          1265,
          1266,
          1267,
          1268,
          1269,
          1270,
          1271,
          1272,
          1273,
          1274,
          1275,
          1276,
          1277,
          1278,
          1279,
          1280,
          1281,
          1282,
          1283,
          1284,
          1285,
          1286,
          1287,
          1288,
          1289,
          1290,
          1291,
          1292,
          1293,
          1294,
          1295,
          1296,
          1297,
          1298,
          1299,
          1300
         ],
         "xaxis": "x",
         "y": [
          4,
          2,
          4,
          2,
          4,
          2,
          4,
          4,
          2,
          4,
          2,
          4,
          2,
          4,
          2,
          4,
          2,
          4,
          2,
          4,
          2,
          4,
          4,
          2,
          4,
          2,
          4,
          2,
          4,
          2,
          4,
          2,
          4,
          2,
          4,
          2,
          4,
          4,
          2,
          4,
          2,
          4,
          2,
          4,
          4,
          2,
          4,
          2,
          4,
          2,
          4,
          2,
          4,
          2,
          4,
          2,
          4,
          2,
          4,
          4,
          2,
          4,
          2,
          4,
          2,
          4,
          2,
          4,
          2,
          4,
          2,
          4,
          2,
          4,
          4,
          2,
          4,
          2,
          4,
          2,
          4,
          2,
          4,
          2,
          4,
          2,
          4,
          2,
          4,
          4,
          2,
          4,
          2,
          4,
          2,
          4,
          4,
          2,
          4,
          2,
          4,
          2,
          4,
          4,
          2,
          4,
          2,
          4,
          2,
          4,
          4,
          2,
          4,
          2,
          4,
          2,
          4,
          4,
          2,
          4,
          2,
          4,
          2,
          4,
          2,
          4,
          2,
          4,
          2,
          4,
          2,
          4,
          4,
          2,
          4,
          2,
          4,
          2,
          4,
          2,
          4,
          2,
          4,
          2,
          4,
          2,
          4,
          4,
          2,
          4,
          2,
          4,
          2,
          4,
          4,
          2,
          4,
          2,
          4,
          2,
          4,
          2,
          4,
          2,
          4,
          2,
          4,
          2,
          4,
          4,
          2,
          4,
          2,
          4,
          2,
          4,
          4,
          2,
          4,
          2,
          4,
          2,
          4,
          4,
          2,
          4,
          2,
          4,
          2,
          4,
          2,
          4,
          2,
          4,
          2,
          4,
          2,
          4,
          4,
          2,
          4,
          2,
          4,
          2,
          4,
          4,
          2,
          4,
          2,
          4,
          2,
          4,
          4,
          2,
          4,
          2,
          4,
          2,
          4,
          4,
          2,
          4,
          2,
          4,
          2,
          4,
          4,
          2,
          4,
          4,
          4,
          4,
          2,
          4,
          4,
          4,
          4,
          2,
          4,
          2,
          4,
          4,
          4,
          2,
          4,
          2,
          4,
          4,
          4,
          2,
          4,
          4,
          4,
          4,
          2,
          4,
          2,
          4,
          2,
          4,
          2,
          4,
          2,
          4,
          2,
          4,
          2,
          4,
          4,
          2,
          4,
          2,
          4,
          2,
          4,
          4,
          2,
          4,
          2,
          4,
          2,
          4,
          4,
          2,
          4,
          2,
          4,
          2,
          4,
          4,
          2,
          4,
          2,
          4,
          2,
          4,
          2,
          4,
          2,
          4,
          2,
          4,
          2,
          4,
          4,
          2,
          4,
          2,
          4,
          2,
          4,
          2,
          4,
          2,
          4,
          2,
          4,
          2,
          4,
          4,
          2,
          4,
          2,
          4,
          2,
          4,
          4,
          2,
          4,
          2,
          4,
          2,
          4,
          2,
          4,
          2,
          4,
          2,
          4,
          2,
          4,
          4,
          2,
          4,
          2,
          4,
          2,
          4,
          2,
          4,
          2,
          4,
          2,
          4,
          2,
          4,
          4,
          2,
          4,
          2,
          4,
          2,
          4,
          2,
          4,
          2,
          4,
          2,
          4,
          2,
          4,
          4,
          2,
          4,
          2,
          4,
          2,
          4,
          2,
          4,
          2,
          4,
          2,
          4,
          2,
          4,
          4,
          2,
          4,
          4,
          2,
          4,
          4,
          2,
          4,
          2,
          4,
          4,
          4,
          2,
          4,
          2,
          4,
          2,
          4,
          2,
          4,
          2,
          4,
          2,
          4,
          2,
          4,
          4,
          2,
          4,
          2,
          4,
          2,
          4,
          2,
          4,
          2,
          4,
          2,
          4,
          2,
          4,
          4,
          2,
          4,
          2,
          4,
          2,
          4,
          2,
          4,
          2,
          4,
          2,
          4,
          2,
          4,
          4,
          2,
          4,
          2,
          4,
          2,
          4,
          4,
          2,
          4,
          2,
          4,
          2,
          4,
          4,
          2,
          4,
          2,
          4,
          2,
          4,
          2,
          4,
          2,
          4,
          2,
          4,
          2,
          4,
          4,
          2,
          4,
          2,
          4,
          2,
          4,
          2,
          4,
          2,
          4,
          2,
          4,
          2,
          4,
          4,
          2,
          4,
          2,
          4,
          2,
          4,
          4,
          2,
          4,
          2,
          4,
          2,
          4,
          2,
          4,
          2,
          4,
          2,
          4,
          2,
          4,
          4,
          2,
          4,
          2,
          4,
          2,
          4,
          4,
          2,
          4,
          2,
          4,
          2,
          4,
          2,
          4,
          2,
          4,
          2,
          4,
          2,
          4,
          4,
          2,
          4,
          2,
          4,
          2,
          4,
          2,
          4,
          2,
          4,
          2,
          4,
          2,
          4,
          4,
          2,
          4,
          2,
          4,
          2,
          4,
          2,
          4,
          2,
          4,
          2,
          4,
          2,
          4,
          4,
          2,
          4,
          2,
          4,
          2,
          4,
          2,
          4,
          2,
          4,
          2,
          4,
          2,
          4,
          4,
          2,
          4,
          2,
          4,
          2,
          4,
          4,
          2,
          4,
          2,
          4,
          2,
          4,
          4,
          2,
          4,
          2,
          4,
          2,
          4,
          4,
          2,
          4,
          2,
          4,
          2,
          4,
          2,
          4,
          2,
          4,
          2,
          4,
          2,
          4,
          4,
          2,
          4,
          2,
          4,
          2,
          4,
          2,
          4,
          2,
          4,
          2,
          4,
          2,
          4,
          4,
          2,
          4,
          2,
          4,
          2,
          4,
          2,
          4,
          2,
          4,
          2,
          4,
          2,
          4,
          4,
          2,
          4,
          2,
          4,
          2,
          4,
          4,
          2,
          4,
          2,
          4,
          2,
          4,
          2,
          4,
          2,
          4,
          2,
          4,
          2,
          4,
          4,
          2,
          4,
          2,
          4,
          2,
          4,
          2,
          4,
          2,
          4,
          2,
          4,
          2,
          4,
          4,
          2,
          2,
          4,
          2,
          4,
          4,
          2,
          4,
          2,
          4,
          2,
          4,
          4,
          2,
          4,
          2,
          4,
          2,
          4,
          2,
          4,
          2,
          4,
          2,
          4,
          2,
          4,
          4,
          2,
          4,
          2,
          4,
          2,
          4,
          4,
          2,
          4,
          2,
          4,
          2,
          4,
          4,
          2,
          4,
          2,
          4,
          2,
          4,
          2,
          4,
          2,
          4,
          2,
          4,
          2,
          4,
          4,
          2,
          4,
          2,
          4,
          2,
          4,
          2,
          4,
          2,
          4,
          2,
          4,
          2,
          4,
          4,
          2,
          4,
          2,
          4,
          2,
          4,
          2,
          4,
          2,
          4,
          2,
          4,
          2,
          4,
          4,
          2,
          4,
          2,
          4,
          2,
          4,
          4,
          2,
          4,
          2,
          4,
          2,
          4,
          2,
          4,
          2,
          4,
          2,
          4,
          2,
          4,
          4,
          2,
          4,
          2,
          4,
          2,
          4,
          2,
          4,
          2,
          4,
          2,
          4,
          2,
          4,
          4,
          2,
          4,
          2,
          4,
          2,
          4,
          4,
          2,
          4,
          2,
          4,
          2,
          4,
          4,
          2,
          4,
          2,
          4,
          2,
          4,
          4,
          2,
          4,
          2,
          4,
          2,
          4,
          4,
          2,
          4,
          4,
          2,
          4,
          2,
          4,
          2,
          4,
          2,
          4,
          2,
          4,
          4,
          2,
          4,
          2,
          4,
          2,
          4,
          4,
          2,
          4,
          2,
          4,
          2,
          4,
          4,
          2,
          4,
          2,
          4,
          2,
          4,
          4,
          2,
          4,
          2,
          4,
          2,
          4,
          2,
          4,
          2,
          4,
          2,
          4,
          2,
          4,
          4,
          2,
          4,
          2,
          4,
          2,
          4,
          2,
          4,
          2,
          4,
          2,
          4,
          2,
          4,
          4,
          2,
          4,
          2,
          4,
          2,
          4,
          2,
          4,
          2,
          4,
          2,
          4,
          2,
          4,
          4,
          2,
          4,
          2,
          4,
          2,
          4,
          2,
          4,
          2,
          4,
          2,
          4,
          2,
          4,
          4,
          2,
          4,
          2,
          4,
          2,
          4,
          4,
          2,
          4,
          2,
          4,
          2,
          4,
          2,
          4,
          2,
          4,
          2,
          4,
          2,
          4,
          4,
          2,
          4,
          2,
          4,
          2,
          4,
          2,
          4,
          2,
          4,
          2,
          4,
          2,
          4,
          4,
          2,
          4,
          2,
          4,
          2,
          4,
          4,
          2,
          4,
          2,
          4,
          2,
          4,
          4,
          2,
          4,
          2,
          4,
          2,
          4,
          4,
          2,
          4,
          2,
          4,
          2,
          4,
          2,
          4,
          2,
          4,
          2,
          4,
          2,
          4,
          4,
          2,
          4,
          2,
          4,
          2,
          4,
          2,
          4,
          2,
          4,
          2,
          4,
          2,
          4,
          4,
          2,
          4,
          2,
          4,
          2,
          4,
          4,
          2,
          4,
          2,
          4,
          2,
          4,
          2,
          4,
          2,
          4,
          2,
          4,
          2,
          4,
          4,
          2,
          4,
          2,
          4,
          2,
          4,
          4,
          2,
          4,
          2,
          4,
          2,
          4,
          4,
          2,
          4,
          2,
          4,
          2,
          4,
          2,
          4,
          2,
          4,
          4,
          4,
          4,
          2,
          4,
          2,
          4,
          2,
          4,
          4,
          2,
          4,
          2,
          4,
          2,
          4,
          4,
          2,
          4,
          2,
          4,
          2,
          4,
          2,
          4,
          2,
          2,
          4,
          2,
          4,
          4,
          2,
          4,
          2,
          4,
          2,
          4,
          4,
          2,
          4,
          2,
          4,
          2,
          4,
          4,
          2,
          4,
          2,
          4,
          2,
          4,
          4,
          2,
          4,
          2,
          4,
          2,
          4,
          4,
          2,
          4,
          2,
          4,
          2,
          4,
          2,
          4,
          2,
          4,
          2,
          4,
          2,
          4,
          4,
          2,
          4,
          2,
          4,
          2,
          4,
          4,
          2,
          4,
          2,
          4,
          2,
          4,
          4,
          2,
          4,
          2,
          4,
          2,
          4,
          4,
          2,
          4,
          2,
          4,
          2,
          4,
          2,
          4,
          2,
          4,
          2,
          4,
          2,
          4,
          4,
          2,
          4,
          2,
          4,
          2,
          4,
          2,
          4,
          2,
          4,
          2,
          4,
          2,
          4,
          4,
          2,
          4,
          2,
          4,
          2,
          4,
          2,
          4,
          2,
          4,
          2,
          4,
          2,
          4,
          4,
          2,
          4,
          2,
          4,
          2,
          4,
          4,
          2,
          4,
          2,
          4,
          4,
          2,
          4,
          2,
          4,
          2,
          4,
          2,
          4,
          4,
          2,
          4,
          2,
          4,
          2,
          4,
          2,
          4,
          2,
          4,
          2,
          4,
          2,
          4,
          4,
          2,
          4,
          2,
          4,
          2,
          4,
          4,
          2,
          4,
          2,
          4,
          2,
          4,
          2,
          4,
          4,
          2,
          4,
          2,
          4,
          4,
          2,
          4,
          2,
          4,
          2,
          4,
          2,
          4,
          2,
          4,
          2,
          4,
          2,
          4,
          4,
          2,
          4,
          2,
          4,
          2,
          4,
          2,
          4,
          2,
          4,
          2,
          4,
          2,
          4,
          4,
          2,
          4,
          2,
          4,
          2,
          4,
          4,
          2,
          4,
          2,
          4,
          2,
          4
         ],
         "yaxis": "y"
        }
       ],
       "layout": {
        "legend": {
         "tracegroupgap": 0
        },
        "margin": {
         "t": 60
        },
        "template": {
         "data": {
          "bar": [
           {
            "error_x": {
             "color": "#2a3f5f"
            },
            "error_y": {
             "color": "#2a3f5f"
            },
            "marker": {
             "line": {
              "color": "#E5ECF6",
              "width": 0.5
             },
             "pattern": {
              "fillmode": "overlay",
              "size": 10,
              "solidity": 0.2
             }
            },
            "type": "bar"
           }
          ],
          "barpolar": [
           {
            "marker": {
             "line": {
              "color": "#E5ECF6",
              "width": 0.5
             },
             "pattern": {
              "fillmode": "overlay",
              "size": 10,
              "solidity": 0.2
             }
            },
            "type": "barpolar"
           }
          ],
          "carpet": [
           {
            "aaxis": {
             "endlinecolor": "#2a3f5f",
             "gridcolor": "white",
             "linecolor": "white",
             "minorgridcolor": "white",
             "startlinecolor": "#2a3f5f"
            },
            "baxis": {
             "endlinecolor": "#2a3f5f",
             "gridcolor": "white",
             "linecolor": "white",
             "minorgridcolor": "white",
             "startlinecolor": "#2a3f5f"
            },
            "type": "carpet"
           }
          ],
          "choropleth": [
           {
            "colorbar": {
             "outlinewidth": 0,
             "ticks": ""
            },
            "type": "choropleth"
           }
          ],
          "contour": [
           {
            "colorbar": {
             "outlinewidth": 0,
             "ticks": ""
            },
            "colorscale": [
             [
              0,
              "#0d0887"
             ],
             [
              0.1111111111111111,
              "#46039f"
             ],
             [
              0.2222222222222222,
              "#7201a8"
             ],
             [
              0.3333333333333333,
              "#9c179e"
             ],
             [
              0.4444444444444444,
              "#bd3786"
             ],
             [
              0.5555555555555556,
              "#d8576b"
             ],
             [
              0.6666666666666666,
              "#ed7953"
             ],
             [
              0.7777777777777778,
              "#fb9f3a"
             ],
             [
              0.8888888888888888,
              "#fdca26"
             ],
             [
              1,
              "#f0f921"
             ]
            ],
            "type": "contour"
           }
          ],
          "contourcarpet": [
           {
            "colorbar": {
             "outlinewidth": 0,
             "ticks": ""
            },
            "type": "contourcarpet"
           }
          ],
          "heatmap": [
           {
            "colorbar": {
             "outlinewidth": 0,
             "ticks": ""
            },
            "colorscale": [
             [
              0,
              "#0d0887"
             ],
             [
              0.1111111111111111,
              "#46039f"
             ],
             [
              0.2222222222222222,
              "#7201a8"
             ],
             [
              0.3333333333333333,
              "#9c179e"
             ],
             [
              0.4444444444444444,
              "#bd3786"
             ],
             [
              0.5555555555555556,
              "#d8576b"
             ],
             [
              0.6666666666666666,
              "#ed7953"
             ],
             [
              0.7777777777777778,
              "#fb9f3a"
             ],
             [
              0.8888888888888888,
              "#fdca26"
             ],
             [
              1,
              "#f0f921"
             ]
            ],
            "type": "heatmap"
           }
          ],
          "heatmapgl": [
           {
            "colorbar": {
             "outlinewidth": 0,
             "ticks": ""
            },
            "colorscale": [
             [
              0,
              "#0d0887"
             ],
             [
              0.1111111111111111,
              "#46039f"
             ],
             [
              0.2222222222222222,
              "#7201a8"
             ],
             [
              0.3333333333333333,
              "#9c179e"
             ],
             [
              0.4444444444444444,
              "#bd3786"
             ],
             [
              0.5555555555555556,
              "#d8576b"
             ],
             [
              0.6666666666666666,
              "#ed7953"
             ],
             [
              0.7777777777777778,
              "#fb9f3a"
             ],
             [
              0.8888888888888888,
              "#fdca26"
             ],
             [
              1,
              "#f0f921"
             ]
            ],
            "type": "heatmapgl"
           }
          ],
          "histogram": [
           {
            "marker": {
             "pattern": {
              "fillmode": "overlay",
              "size": 10,
              "solidity": 0.2
             }
            },
            "type": "histogram"
           }
          ],
          "histogram2d": [
           {
            "colorbar": {
             "outlinewidth": 0,
             "ticks": ""
            },
            "colorscale": [
             [
              0,
              "#0d0887"
             ],
             [
              0.1111111111111111,
              "#46039f"
             ],
             [
              0.2222222222222222,
              "#7201a8"
             ],
             [
              0.3333333333333333,
              "#9c179e"
             ],
             [
              0.4444444444444444,
              "#bd3786"
             ],
             [
              0.5555555555555556,
              "#d8576b"
             ],
             [
              0.6666666666666666,
              "#ed7953"
             ],
             [
              0.7777777777777778,
              "#fb9f3a"
             ],
             [
              0.8888888888888888,
              "#fdca26"
             ],
             [
              1,
              "#f0f921"
             ]
            ],
            "type": "histogram2d"
           }
          ],
          "histogram2dcontour": [
           {
            "colorbar": {
             "outlinewidth": 0,
             "ticks": ""
            },
            "colorscale": [
             [
              0,
              "#0d0887"
             ],
             [
              0.1111111111111111,
              "#46039f"
             ],
             [
              0.2222222222222222,
              "#7201a8"
             ],
             [
              0.3333333333333333,
              "#9c179e"
             ],
             [
              0.4444444444444444,
              "#bd3786"
             ],
             [
              0.5555555555555556,
              "#d8576b"
             ],
             [
              0.6666666666666666,
              "#ed7953"
             ],
             [
              0.7777777777777778,
              "#fb9f3a"
             ],
             [
              0.8888888888888888,
              "#fdca26"
             ],
             [
              1,
              "#f0f921"
             ]
            ],
            "type": "histogram2dcontour"
           }
          ],
          "mesh3d": [
           {
            "colorbar": {
             "outlinewidth": 0,
             "ticks": ""
            },
            "type": "mesh3d"
           }
          ],
          "parcoords": [
           {
            "line": {
             "colorbar": {
              "outlinewidth": 0,
              "ticks": ""
             }
            },
            "type": "parcoords"
           }
          ],
          "pie": [
           {
            "automargin": true,
            "type": "pie"
           }
          ],
          "scatter": [
           {
            "fillpattern": {
             "fillmode": "overlay",
             "size": 10,
             "solidity": 0.2
            },
            "type": "scatter"
           }
          ],
          "scatter3d": [
           {
            "line": {
             "colorbar": {
              "outlinewidth": 0,
              "ticks": ""
             }
            },
            "marker": {
             "colorbar": {
              "outlinewidth": 0,
              "ticks": ""
             }
            },
            "type": "scatter3d"
           }
          ],
          "scattercarpet": [
           {
            "marker": {
             "colorbar": {
              "outlinewidth": 0,
              "ticks": ""
             }
            },
            "type": "scattercarpet"
           }
          ],
          "scattergeo": [
           {
            "marker": {
             "colorbar": {
              "outlinewidth": 0,
              "ticks": ""
             }
            },
            "type": "scattergeo"
           }
          ],
          "scattergl": [
           {
            "marker": {
             "colorbar": {
              "outlinewidth": 0,
              "ticks": ""
             }
            },
            "type": "scattergl"
           }
          ],
          "scattermapbox": [
           {
            "marker": {
             "colorbar": {
              "outlinewidth": 0,
              "ticks": ""
             }
            },
            "type": "scattermapbox"
           }
          ],
          "scatterpolar": [
           {
            "marker": {
             "colorbar": {
              "outlinewidth": 0,
              "ticks": ""
             }
            },
            "type": "scatterpolar"
           }
          ],
          "scatterpolargl": [
           {
            "marker": {
             "colorbar": {
              "outlinewidth": 0,
              "ticks": ""
             }
            },
            "type": "scatterpolargl"
           }
          ],
          "scatterternary": [
           {
            "marker": {
             "colorbar": {
              "outlinewidth": 0,
              "ticks": ""
             }
            },
            "type": "scatterternary"
           }
          ],
          "surface": [
           {
            "colorbar": {
             "outlinewidth": 0,
             "ticks": ""
            },
            "colorscale": [
             [
              0,
              "#0d0887"
             ],
             [
              0.1111111111111111,
              "#46039f"
             ],
             [
              0.2222222222222222,
              "#7201a8"
             ],
             [
              0.3333333333333333,
              "#9c179e"
             ],
             [
              0.4444444444444444,
              "#bd3786"
             ],
             [
              0.5555555555555556,
              "#d8576b"
             ],
             [
              0.6666666666666666,
              "#ed7953"
             ],
             [
              0.7777777777777778,
              "#fb9f3a"
             ],
             [
              0.8888888888888888,
              "#fdca26"
             ],
             [
              1,
              "#f0f921"
             ]
            ],
            "type": "surface"
           }
          ],
          "table": [
           {
            "cells": {
             "fill": {
              "color": "#EBF0F8"
             },
             "line": {
              "color": "white"
             }
            },
            "header": {
             "fill": {
              "color": "#C8D4E3"
             },
             "line": {
              "color": "white"
             }
            },
            "type": "table"
           }
          ]
         },
         "layout": {
          "annotationdefaults": {
           "arrowcolor": "#2a3f5f",
           "arrowhead": 0,
           "arrowwidth": 1
          },
          "autotypenumbers": "strict",
          "coloraxis": {
           "colorbar": {
            "outlinewidth": 0,
            "ticks": ""
           }
          },
          "colorscale": {
           "diverging": [
            [
             0,
             "#8e0152"
            ],
            [
             0.1,
             "#c51b7d"
            ],
            [
             0.2,
             "#de77ae"
            ],
            [
             0.3,
             "#f1b6da"
            ],
            [
             0.4,
             "#fde0ef"
            ],
            [
             0.5,
             "#f7f7f7"
            ],
            [
             0.6,
             "#e6f5d0"
            ],
            [
             0.7,
             "#b8e186"
            ],
            [
             0.8,
             "#7fbc41"
            ],
            [
             0.9,
             "#4d9221"
            ],
            [
             1,
             "#276419"
            ]
           ],
           "sequential": [
            [
             0,
             "#0d0887"
            ],
            [
             0.1111111111111111,
             "#46039f"
            ],
            [
             0.2222222222222222,
             "#7201a8"
            ],
            [
             0.3333333333333333,
             "#9c179e"
            ],
            [
             0.4444444444444444,
             "#bd3786"
            ],
            [
             0.5555555555555556,
             "#d8576b"
            ],
            [
             0.6666666666666666,
             "#ed7953"
            ],
            [
             0.7777777777777778,
             "#fb9f3a"
            ],
            [
             0.8888888888888888,
             "#fdca26"
            ],
            [
             1,
             "#f0f921"
            ]
           ],
           "sequentialminus": [
            [
             0,
             "#0d0887"
            ],
            [
             0.1111111111111111,
             "#46039f"
            ],
            [
             0.2222222222222222,
             "#7201a8"
            ],
            [
             0.3333333333333333,
             "#9c179e"
            ],
            [
             0.4444444444444444,
             "#bd3786"
            ],
            [
             0.5555555555555556,
             "#d8576b"
            ],
            [
             0.6666666666666666,
             "#ed7953"
            ],
            [
             0.7777777777777778,
             "#fb9f3a"
            ],
            [
             0.8888888888888888,
             "#fdca26"
            ],
            [
             1,
             "#f0f921"
            ]
           ]
          },
          "colorway": [
           "#636efa",
           "#EF553B",
           "#00cc96",
           "#ab63fa",
           "#FFA15A",
           "#19d3f3",
           "#FF6692",
           "#B6E880",
           "#FF97FF",
           "#FECB52"
          ],
          "font": {
           "color": "#2a3f5f"
          },
          "geo": {
           "bgcolor": "white",
           "lakecolor": "white",
           "landcolor": "#E5ECF6",
           "showlakes": true,
           "showland": true,
           "subunitcolor": "white"
          },
          "hoverlabel": {
           "align": "left"
          },
          "hovermode": "closest",
          "mapbox": {
           "style": "light"
          },
          "paper_bgcolor": "white",
          "plot_bgcolor": "#E5ECF6",
          "polar": {
           "angularaxis": {
            "gridcolor": "white",
            "linecolor": "white",
            "ticks": ""
           },
           "bgcolor": "#E5ECF6",
           "radialaxis": {
            "gridcolor": "white",
            "linecolor": "white",
            "ticks": ""
           }
          },
          "scene": {
           "xaxis": {
            "backgroundcolor": "#E5ECF6",
            "gridcolor": "white",
            "gridwidth": 2,
            "linecolor": "white",
            "showbackground": true,
            "ticks": "",
            "zerolinecolor": "white"
           },
           "yaxis": {
            "backgroundcolor": "#E5ECF6",
            "gridcolor": "white",
            "gridwidth": 2,
            "linecolor": "white",
            "showbackground": true,
            "ticks": "",
            "zerolinecolor": "white"
           },
           "zaxis": {
            "backgroundcolor": "#E5ECF6",
            "gridcolor": "white",
            "gridwidth": 2,
            "linecolor": "white",
            "showbackground": true,
            "ticks": "",
            "zerolinecolor": "white"
           }
          },
          "shapedefaults": {
           "line": {
            "color": "#2a3f5f"
           }
          },
          "ternary": {
           "aaxis": {
            "gridcolor": "white",
            "linecolor": "white",
            "ticks": ""
           },
           "baxis": {
            "gridcolor": "white",
            "linecolor": "white",
            "ticks": ""
           },
           "bgcolor": "#E5ECF6",
           "caxis": {
            "gridcolor": "white",
            "linecolor": "white",
            "ticks": ""
           }
          },
          "title": {
           "x": 0.05
          },
          "xaxis": {
           "automargin": true,
           "gridcolor": "white",
           "linecolor": "white",
           "ticks": "",
           "title": {
            "standoff": 15
           },
           "zerolinecolor": "white",
           "zerolinewidth": 2
          },
          "yaxis": {
           "automargin": true,
           "gridcolor": "white",
           "linecolor": "white",
           "ticks": "",
           "title": {
            "standoff": 15
           },
           "zerolinecolor": "white",
           "zerolinewidth": 2
          }
         }
        },
        "xaxis": {
         "anchor": "y",
         "domain": [
          0,
          1
         ],
         "title": {
          "text": "x"
         }
        },
        "yaxis": {
         "anchor": "x",
         "domain": [
          0,
          1
         ],
         "title": {
          "text": "y"
         }
        }
       }
      }
     },
     "metadata": {},
     "output_type": "display_data"
    }
   ],
   "source": [
    "fig = px.line(\n",
    "                y=et_stims['DIN_diff'],\n",
    "                #y='DIN',\n",
    "                #opacity=.5,\n",
    "                #marginal_y=\"histogram\",\n",
    "                #marginal_x=\"histogram\"\n",
    "                )\n",
    "fig.show()\n"
   ]
  },
  {
   "cell_type": "code",
   "execution_count": null,
   "metadata": {},
   "outputs": [],
   "source": []
  }
 ],
 "metadata": {
  "kernelspec": {
   "display_name": "env",
   "language": "python",
   "name": "python3"
  },
  "language_info": {
   "codemirror_mode": {
    "name": "ipython",
    "version": 3
   },
   "file_extension": ".py",
   "mimetype": "text/x-python",
   "name": "python",
   "nbconvert_exporter": "python",
   "pygments_lexer": "ipython3",
   "version": "3.8.10"
  },
  "orig_nbformat": 4
 },
 "nbformat": 4,
 "nbformat_minor": 2
}
