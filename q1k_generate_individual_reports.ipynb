{
 "cells": [
  {
   "cell_type": "markdown",
   "metadata": {},
   "source": [
    "## Set up the run parameters parameters"
   ]
  },
  {
   "cell_type": "code",
   "execution_count": null,
   "metadata": {
    "tags": [
     "parameters"
    ]
   },
   "outputs": [],
   "source": [
    "###use these parameters for testing this notebook outside of the automated loop of q1k_automated_reports.ipynb\n",
    "#subject_id_in = \"100162_P\"\n",
    "#subject_id_out = \"100162P\"\n",
    "#task_id_in = \"PLR\"\n",
    "#task_id_in_et = \"PLR\" \n",
    "#task_id_out = \"PLR\"\n",
    "#run_id = \"1\"\n",
    "#session_id = \"01\"\n",
    "#project_path = \"/project/def-emayada/q1k/experimental/HSJ/\"\n",
    "#dataset_group = \"experimental\"\n",
    "#site_code = \"HSJ\" #'MHC' or 'HSJ'\n",
    "#et_sync = True\n",
    "#html_figures = True\n",
    "\n",
    "#use these empty parameters when executing this notebook from an automation script.\n",
    "subject_id_in = \"\"\n",
    "subject_id_out = \"\"\n",
    "task_id_in = \"\"\n",
    "task_id_in_et = \"\" \n",
    "ask_id_out = \"\"\n",
    "run_id = \"\"\n",
    "session_id = \"\"\n",
    "project_path = \"\"\n",
    "dataset_group = \"\"\n",
    "site_code = \"\"\n",
    "et_sync = True\n",
    "html_figures = False\n",
    "\n",
    "print('subject_id_in: ' + subject_id_in)\n",
    "print('subject_id_out: ' + subject_id_out)\n",
    "print('task_id_in: ' + task_id_in)\n",
    "print('task_id_in_et: ' + task_id_in_et)\n",
    "print('task_id_out: ' + task_id_out)\n",
    "print('run_id: ' + run_id)\n",
    "print('session_id: ' + session_id)\n",
    "print('project_path: ' + project_path)\n",
    "print('dataset_group: ' + dataset_group)\n",
    "print('site_code: ' + site_code)\n"
   ]
  },
  {
   "cell_type": "code",
   "execution_count": null,
   "metadata": {
    "tags": []
   },
   "outputs": [],
   "source": [
    "# import packages\n",
    "import pandas as pd\n",
    "import numpy as np\n",
    "import os\n",
    "import mne\n",
    "import mne_bids\n",
    "from matplotlib import pyplot as plt\n",
    "import plotly.express as px\n",
    "import plotly.graph_objects as go\n",
    "import plotly.offline as py\n",
    "import plotly.io as pio\n",
    "pio.renderers.default = \"plotly_mimetype+notebook\"\n",
    "import q1k_init_tools as qit\n",
    "import glob\n",
    "import re\n",
    "import warnings\n",
    "warnings.filterwarnings('ignore')\n",
    "import seaborn as sns"
   ]
  },
  {
   "cell_type": "code",
   "execution_count": null,
   "metadata": {
    "tags": []
   },
   "outputs": [],
   "source": [
    "#define the DIN events associated with events of interest based on the task_id..\n",
    "din_str, event_dict_offset = qit.set_din_str(task_id_out)\n",
    "print(\"DIN strings for \" + task_id_out)\n",
    "din_str"
   ]
  },
  {
   "cell_type": "markdown",
   "metadata": {},
   "source": [
    "## Read the EEG file"
   ]
  },
  {
   "cell_type": "code",
   "execution_count": null,
   "metadata": {},
   "outputs": [],
   "source": [
    "subject_id_in"
   ]
  },
  {
   "cell_type": "code",
   "execution_count": null,
   "metadata": {},
   "outputs": [],
   "source": [
    "# generate the input paths\n",
    "session_file_name_eeg, session_file_name_et = qit.generate_session_ids(dataset_group, project_path, site_code, task_id_in, subject_id_in, run_id)"
   ]
  },
  {
   "cell_type": "code",
   "execution_count": null,
   "metadata": {},
   "outputs": [],
   "source": [
    "print(\"EEG session file name: \" + session_file_name_eeg[0])"
   ]
  },
  {
   "cell_type": "code",
   "execution_count": null,
   "metadata": {},
   "outputs": [],
   "source": [
    "if session_file_name_et and session_file_name_et[0]:\n",
    "    print(\"ET session file name: \" + session_file_name_et[0])\n",
    "else:\n",
    "    print(\"Could not find the session ET file.. abandoning ET sync portion of the initiation process.\")\n",
    "    et_sync = False\n",
    "    "
   ]
  },
  {
   "cell_type": "code",
   "execution_count": null,
   "metadata": {},
   "outputs": [],
   "source": [
    "# read the input EEG session\n",
    "print('Reading: ' + session_file_name_eeg[0])\n",
    "eeg_raw = mne.io.read_raw_egi(session_file_name_eeg[0])\n",
    "eeg_raw_fresh=eeg_raw.copy() #make a fresh copy for later\n",
    "device_info=eeg_raw.info['device_info']"
   ]
  },
  {
   "cell_type": "code",
   "execution_count": null,
   "metadata": {},
   "outputs": [],
   "source": [
    "# peak... at the EEG channel types\n",
    "channel_types = eeg_raw.get_channel_types()\n",
    "print(\"EEG Channel Types:\", channel_types)\n",
    "print(\"EEG Channel Names:\", eeg_raw.info['ch_names'])\n"
   ]
  },
  {
   "cell_type": "code",
   "execution_count": null,
   "metadata": {},
   "outputs": [],
   "source": [
    "# show the sensor topography\n",
    "fig = eeg_raw.plot_sensors(show_names=True)"
   ]
  },
  {
   "cell_type": "markdown",
   "metadata": {},
   "source": [
    "## Get and modify the EEG event structures"
   ]
  },
  {
   "cell_type": "code",
   "execution_count": null,
   "metadata": {},
   "outputs": [],
   "source": [
    "# create the EEG event structures\n",
    "eeg_events = mne.find_events(eeg_raw, shortest_event = 1)\n",
    "eeg_event_dict = qit.get_event_dict(eeg_raw, eeg_events, event_dict_offset)"
   ]
  },
  {
   "cell_type": "code",
   "execution_count": null,
   "metadata": {},
   "outputs": [],
   "source": [
    "print('EEG event dict:')\n",
    "eeg_event_dict"
   ]
  },
  {
   "cell_type": "code",
   "execution_count": null,
   "metadata": {},
   "outputs": [],
   "source": [
    "# peak... at the EEG event scatter plot.. event time stamp by label index\n",
    "fig=px.scatter(x=eeg_events[:,0],y=eeg_events[:,2])\n",
    "fig.update_layout(title='Original EEG event times')\n",
    "fig.update_xaxes(title_text='Time of event(ms)')\n",
    "fig.update_yaxes(title_text='Event index')\n",
    "py.iplot(fig)\n",
    "# print the scatterplot to an html file for easy exploration.\n",
    "if html_figures:\n",
    "    fig.write_html(\"html_figures/eeg_event_times.html\")"
   ]
  },
  {
   "cell_type": "code",
   "execution_count": null,
   "metadata": {},
   "outputs": [],
   "source": [
    "if not din_str:\n",
    "    print('Required EEG DIN events are missing... skipping EEG DIN check and DIN distance display')\n",
    "else:\n",
    "    #check that the din_str events exist in the eeg_event_dict..\n",
    "    din_str = qit.din_check(eeg_event_dict, din_str)\n",
    "    #get the distance between the DIN events of interest..\n",
    "    din_diffs, din_diffs_time = qit.get_din_diff(eeg_events, eeg_event_dict, din_str)\n",
    "    #build the figure...\n",
    "    fig=px.scatter(x=din_diffs_time, y=din_diffs)\n",
    "    fig.update_layout(title='Time between EEG DIN events of interest')\n",
    "    fig.update_xaxes(title_text='Time of event(ms)')\n",
    "    fig.update_yaxes(title_text='Inter event interval')\n",
    "    # print the scatterplot to an html file for easy exploration.\n",
    "    if html_figures:\n",
    "        fig.write_html(\"html_figures/eeg_din_diffs.html\")"
   ]
  },
  {
   "cell_type": "code",
   "execution_count": null,
   "metadata": {},
   "outputs": [],
   "source": [
    "if not din_str:\n",
    "    print('Required EEG DIN events are missing... skipping EEG stimulus onset DIN process')\n",
    "else:\n",
    "    # handle task specific EEG event interpretation..\n",
    "    eeg_events, eeg_stims, eeg_iti, eeg_din_offset, eeg_event_dict, new_events = qit.eeg_event_test(eeg_events, eeg_event_dict, din_str, task_name=task_id_out)"
   ]
  },
  {
   "cell_type": "code",
   "execution_count": null,
   "metadata": {},
   "outputs": [],
   "source": [
    "# print some stim event summaries\n",
    "column_values = eeg_events[:, 2]\n",
    "\n",
    "# Get unique values and their counts\n",
    "unique_values, counts = np.unique(column_values, return_counts=True)\n",
    "\n",
    "# Print the counts of each unique value\n",
    "print(\"Counts of each event ID value:\")\n",
    "for value, count in zip(unique_values, counts):\n",
    "    print(f\"Event ID: {value}, Count: {count}\")\n",
    "\n",
    "# Print the event labels\n",
    "print(\"Label\\tValue\")\n",
    "for label, value in eeg_event_dict.items():\n",
    "    print(f\"{label}\\t{value}\")"
   ]
  },
  {
   "cell_type": "code",
   "execution_count": null,
   "metadata": {},
   "outputs": [],
   "source": [
    "# peak... at the EEG event scatter plot.. event time stamp by label index... including new *_d DIN events if generated\n",
    "fig=px.scatter(x=eeg_events[:,0],y=eeg_events[:,2])\n",
    "fig.update_layout(title='DIN updated EEG event times')\n",
    "fig.update_xaxes(title_text='Time of event(ms)')\n",
    "fig.update_yaxes(title_text='Event index')\n",
    "fig.show()\n",
    "if html_figures:\n",
    "    fig.write_html(\"html_figures/eeg_update_event_times.html\")"
   ]
  },
  {
   "cell_type": "code",
   "execution_count": null,
   "metadata": {},
   "outputs": [],
   "source": [
    "if not din_str:\n",
    "    print('Required DIN events are missing... skipping stimulus DIN ITI display')\n",
    "else:\n",
    "    # peak... at the distance between *_d stim DIN events\n",
    "    fig=px.scatter(x=eeg_stims[1:,0],y=eeg_iti)\n",
    "    fig.update_layout(title='Stim DIN event Inter Trial Intervals (ITI)')\n",
    "    fig.update_xaxes(title_text='Time of event(ms)')\n",
    "    fig.update_yaxes(title_text='Stim DIN event ITI (ms)')\n",
    "    fig.show()\n",
    "    if html_figures:\n",
    "        fig.write_html(\"html_figures/eeg_din_iti.html\")"
   ]
  },
  {
   "cell_type": "code",
   "execution_count": null,
   "metadata": {},
   "outputs": [],
   "source": [
    "if not din_str:\n",
    "    print('Required DIN events are missing... skipping stimulus DIN event offset display')\n",
    "else:\n",
    "    # peak... at the distance between stim events and *_d stim DIN events\n",
    "    fig=px.scatter(x=eeg_stims[:,0],y=eeg_din_offset)\n",
    "    fig.update_layout(title='Stim DIN offsets')\n",
    "    fig.update_xaxes(title_text='Time of event(ms)')\n",
    "    fig.update_yaxes(title_text='Stim DIN offset (ms)')\n",
    "    fig.show()\n",
    "    if html_figures:\n",
    "        fig.write_html(\"html_figures/eeg_stim_din_offset.html\")"
   ]
  },
  {
   "cell_type": "markdown",
   "metadata": {},
   "source": [
    "## Read the eye-tracking data"
   ]
  },
  {
   "cell_type": "code",
   "execution_count": null,
   "metadata": {},
   "outputs": [],
   "source": [
    "et_raw, et_raw_df, et_events, et_event_dict = qit.et_read(session_file_name_et[0], blink_interp=False, fill_nans=False, resamp=False)"
   ]
  },
  {
   "cell_type": "code",
   "execution_count": null,
   "metadata": {},
   "outputs": [],
   "source": [
    "if et_sync:\n",
    "    # peak... at the ET channel types\n",
    "    channel_types = et_raw.get_channel_types()\n",
    "    print(\"ET Channel Types:\", channel_types)\n",
    "    print(\"ET Channel Names:\", et_raw.info['ch_names'])\n",
    "else:\n",
    "    print(\"et_sync = False: not printing ET channle types\")"
   ]
  },
  {
   "cell_type": "code",
   "execution_count": null,
   "metadata": {},
   "outputs": [],
   "source": [
    "et_raw.plot(duration=20, scalings=dict(eyegaze=1e2,pupil=1e3))"
   ]
  },
  {
   "cell_type": "markdown",
   "metadata": {},
   "source": [
    "## Handle the Eye-Tracking events"
   ]
  },
  {
   "cell_type": "code",
   "execution_count": null,
   "metadata": {},
   "outputs": [],
   "source": [
    "if et_sync:\n",
    "    print(\"ET event dict:\", et_event_dict)\n",
    "else:\n",
    "    print(\"et_sync = False: not printing ET event dict\")"
   ]
  },
  {
   "cell_type": "code",
   "execution_count": null,
   "metadata": {},
   "outputs": [],
   "source": [
    "if et_sync:\n",
    "    # peak... at the ET event scatter plot.. event time stamp by label index\n",
    "    fig=px.scatter(x=et_events[:,0],y=et_events[:,2])\n",
    "    fig.update_layout(title='Original ET event times')\n",
    "    fig.update_xaxes(title_text='Time of event(ms)')\n",
    "    fig.update_yaxes(title_text='Event index')\n",
    "    py.iplot(fig)\n",
    "    # print the scatterplot to an html file for easy exploration.\n",
    "    if html_figures:\n",
    "        fig.write_html(\"html_figures/et_event_times.html\")\n",
    "else:\n",
    "    print(\"et_sync = False: not plotting the original ET events\")"
   ]
  },
  {
   "cell_type": "code",
   "execution_count": null,
   "metadata": {},
   "outputs": [],
   "source": [
    "##DIN testing\n",
    "\n",
    "\n",
    "## fill NaNs in DIN channel with zeros\n",
    "#et_raw_df['DIN']=et_raw_df['DIN'].fillna(0)\n",
    "\n",
    "## Correct blips to zero for a single sample while DIN8 is on.\n",
    "#for ind, row in et_raw_df.iterrows():\n",
    "#    if ind < len(et_raw_df)-1:\n",
    "#        if ind > 0:\n",
    "#            if et_raw_df['DIN'][ind] == 0:\n",
    "#                if et_raw_df['DIN'][ind-1] == 8:\n",
    "#                    if et_raw_df['DIN'][ind+1] == 8:\n",
    "#                        et_raw_df['DIN'].loc[ind] = 8\n",
    "\n",
    "## convert the ET DIN channel into ET events\n",
    "## find when the DIN channel changes values\n",
    "#et_raw_df['DIN_diff']=et_raw_df['DIN'].diff()\n",
    "## select all non-zero DIN changes\n",
    "#et_din_events=et_raw_df.loc[et_raw_df['DIN_diff']>0]\n",
    "\n"
   ]
  },
  {
   "cell_type": "code",
   "execution_count": null,
   "metadata": {},
   "outputs": [],
   "source": [
    "#et_din_events"
   ]
  },
  {
   "cell_type": "code",
   "execution_count": null,
   "metadata": {},
   "outputs": [],
   "source": [
    "## perform the anomalous DIN conversion\n",
    "#et_din_events = et_din_events.copy()\n",
    "#et_din_events['DIN'].loc[et_din_events['DIN'].isin([2,18,26])] = 2\n",
    "#et_din_events['DIN'].loc[et_din_events['DIN'].isin([4,20,28])] = 4\n",
    "\n",
    "#et_din_events = et_din_events.copy()\n",
    "#et_din_events=et_din_events.loc[et_raw_df['DIN'].isin([2,4])]\n",
    "#et_din_events = et_din_events.reset_index()\n",
    "#et_din_events['DIN_diff'] = et_din_events['DIN_diff'].astype(int)\n",
    "#et_din_events    \n"
   ]
  },
  {
   "cell_type": "code",
   "execution_count": null,
   "metadata": {},
   "outputs": [],
   "source": [
    "#    #convert DIN_diff to integers\n",
    "#    et_din_events['DIN_diff'] = et_din_events['DIN_diff'].astype(int)\n",
    "\n",
    "#    #add DIN events to et_annot_event_dict with the next available small integer\n",
    "#    existing_indices = set(et_event_dict.values())\n",
    "#    next_index = max(existing_indices) + 1\n",
    "\n",
    "#    for din_diff in et_din_events['DIN_diff']:\n",
    "#        din_key = f'DIN{din_diff}'\n",
    "#        if din_key not in et_event_dict:\n",
    "#            et_event_dict[din_key] = next_index\n",
    "#            next_index += 1\n",
    "\n",
    "#    #create new rows for et_annot_events based on et_din_events\n",
    "#    #map DIN_diff to the new dictionary indices\n",
    "#    et_din_events['mapped_value'] = et_din_events['DIN_diff'].map(lambda x: et_event_dict[f'DIN{x}'])\n",
    "\n",
    "#    #add new rows to et_annot_events\n",
    "#    new_events = np.array([[row['index'], 0, row['mapped_value']] for _, row in et_din_events.iterrows()])\n",
    "#    et_annot_events = np.vstack((et_events, new_events))\n",
    "\n",
    "#    #sort the updated et_annot_events array by the first column (timestamps)\n",
    "#    et_annot_events = et_annot_events[np.argsort(et_annot_events[:, 0])]\n",
    "#    et_annot_events = et_annot_events.astype(int)\n"
   ]
  },
  {
   "cell_type": "code",
   "execution_count": null,
   "metadata": {},
   "outputs": [],
   "source": [
    "#et_event_dict"
   ]
  },
  {
   "cell_type": "code",
   "execution_count": null,
   "metadata": {},
   "outputs": [],
   "source": [
    "if et_sync:\n",
    "    #do event cleaning..\n",
    "    et_event_dict, et_events = qit.et_clean_events(et_event_dict, et_events)\n",
    "    #do task specific event modifications..\n",
    "    et_event_dict, et_events, et_raw_df = qit.et_task_events(et_raw_df,et_event_dict,et_events,task_id_out)\n",
    "    print(\"updated ET event dict:\", et_event_dict)\n",
    "    # Extract the value for 'STIM_d' from the dictionary\n",
    "    stim_d_value = et_event_dict['STIM_d']\n",
    "    # Filter rows where the third column matches the 'STIM_d' value\n",
    "    et_stims = et_events[et_events[:, 2] == stim_d_value]\n",
    "    print('Number of stimulus onset DIN events: ' + str(len(et_stims)))\n",
    "else:\n",
    "    print(\"et_sync = False: not plotting the original ET events\")"
   ]
  },
  {
   "cell_type": "code",
   "execution_count": null,
   "metadata": {},
   "outputs": [],
   "source": [
    "if et_sync:\n",
    "    # peak... at the ET event scatter plot.. event time stamp by label index\n",
    "    fig=px.scatter(x=et_events[:,0],y=et_events[:,2])\n",
    "    fig.update_layout(title='Updated ET event times')\n",
    "    fig.update_xaxes(title_text='Time of event(ms)')\n",
    "    fig.update_yaxes(title_text='Event index')\n",
    "    py.iplot(fig)\n",
    "    # print the scatterplot to an html file for easy exploration.\n",
    "    if html_figures:\n",
    "        fig.write_html(\"html_figures/et_updated_event_times.html\")\n",
    "else:\n",
    "    print(\"et_sync = False: not plotting the updated ET events\")"
   ]
  },
  {
   "cell_type": "markdown",
   "metadata": {},
   "source": [
    "## Examine the syncronization between the EEG and ET events"
   ]
  },
  {
   "cell_type": "code",
   "execution_count": null,
   "metadata": {},
   "outputs": [],
   "source": [
    "\n",
    "#THIS SHOULD BE MOVED TO A NEW QIT.EEG_ET_ALIGN FUNCTION..\n",
    "\n",
    "if et_sync:\n",
    "    eeg_event_dict, et_event_dict, eeg_events, et_events, eeg_times, et_times = qit.eeg_et_align(\n",
    "        eeg_event_dict, et_event_dict, \n",
    "        eeg_events, et_events, \n",
    "        eeg_stims, et_stims, \n",
    "        eeg_raw.info[\"sfreq\"], et_raw.info[\"sfreq\"])\n",
    "    #eeg_times = eeg_stims[:, 0] / eeg_raw.info[\"sfreq\"]\n",
    "    #et_times = et_stims[:, 0] / et_raw.info[\"sfreq\"]\n",
    "\n",
    "    #n_eeg_times = len(eeg_times)\n",
    "    #n_et_times = len(et_times)\n",
    "    \n",
    "    #if n_eeg_times > n_et_times:\n",
    "    #    print(\"there are more eeg_times and there are et_times.. attempting align\")\n",
    "    #    eeg_times = qit.times_align(eeg_times,et_times)\n",
    "    #elif n_eeg_times < n_et_times:\n",
    "    #    print(\"there are more et_times and there are eeg_times.. attempting align\")\n",
    "    #    et_times = qit.times_align(et_times,eeg_times)\n",
    "    #else:\n",
    "    #    print(\"there are the same number of eeg_times and et_times.. continuing\")\n",
    "        \n",
    "    ##check if alignment was successfull..\n",
    "    #n_eeg_times = len(eeg_times)\n",
    "    #n_et_times = len(et_times)\n",
    "    #if n_eeg_times != n_et_times:\n",
    "    #    print(\"EEG and ET times alignment was not successful... abandoning sync procedures...\")\n",
    "    #    et_syn = False\n",
    "    #else:\n",
    "    #    #create the sync_time events for the EEG and ET data.\n",
    "    #    #convert times to samples..\n",
    "    #    #eeg_samps = eeg_stims[:, 0]\n",
    "    #    #et_samps = et_stims[:, 0]\n",
    "    #    eeg_samps = eeg_times * eeg_raw.info[\"sfreq\"] / 1000        \n",
    "    #    et_samps = et_times * et_raw.info[\"sfreq\"] / 1000                \n",
    "    #    #add \"sync_time\" to the dictionary\n",
    "    #    eeg_event_dict['sync_time'] = len(eeg_event_dict) + 1\n",
    "    #    et_event_dict['sync_time'] = len(et_event_dict) + 1\n",
    "    #    #add rows to the events array for \"sync_time\"\n",
    "    #    eeg_sync_time_rows = [[samp, 0, eeg_event_dict['sync_time']] for samp in eeg_samps]\n",
    "    #    et_sync_time_rows = [[samp, 0, et_event_dict['sync_time']] for samp in et_samps]\n",
    "    #    #eeg_sync_time_rows = [[time, 0, eeg_event_dict['sync_time']] for time in eeg_times]\n",
    "    #    #et_sync_time_rows = [[time, 0, et_event_dict['sync_time']] for time in et_times]\n",
    "    #    #combine the new rows with the existing events\n",
    "    #    eeg_events = np.vstack([eeg_events, eeg_sync_time_rows])\n",
    "    #    eeg_events = eeg_events[eeg_events[:, 0].argsort()]  # Sort by the first column (time)\n",
    "    #    et_events = np.vstack([et_events, et_sync_time_rows])\n",
    "    #    et_events = et_events[et_events[:, 0].argsort()]  # Sort by the first column (time)\n",
    "\n",
    "    #    print(\"Updated EEG event dictionary:\")\n",
    "    #    eeg_event_dict\n",
    "\n",
    "else:\n",
    "    print(\"et_sync = False: not checking eeg_times and et_times alignment\")"
   ]
  },
  {
   "cell_type": "code",
   "execution_count": null,
   "metadata": {},
   "outputs": [],
   "source": [
    "et_event_dict"
   ]
  },
  {
   "cell_type": "code",
   "execution_count": null,
   "metadata": {},
   "outputs": [],
   "source": [
    "if et_sync:\n",
    "    #eeg_stims = eeg_stims.astype(int) * 1000/eeg_raw.info['sfreq']\n",
    "    #et_stims = et_stims.astype(int) * 1000/et_raw.info['sfreq']\n",
    "    # peak... at the ET event scatter plot.. event time stamp by label index\n",
    "    fig=px.scatter(x=eeg_times,y=et_times)\n",
    "    fig.update_layout(title='EEG by ET stim times')\n",
    "    fig.update_xaxes(title_text='EEG stim times')\n",
    "    fig.update_yaxes(title_text='ET stim times')\n",
    "    py.iplot(fig)\n",
    "    # print the scatterplot to an html file for easy exploration.\n",
    "    if html_figures:\n",
    "        fig.write_html(\"html_figures/eeg_et_times.html\")\n",
    "else:\n",
    "    print(\"et_sync = False: not plotting the EEG by ET event times\")"
   ]
  },
  {
   "cell_type": "code",
   "execution_count": null,
   "metadata": {},
   "outputs": [],
   "source": [
    "if et_sync:\n",
    "    # peak... at the ET event scatter plot.. event time stamp by label index\n",
    "    #eeg_stims_t = eeg_stims.astype(int) * 1000/eeg_raw.info['sfreq']\n",
    "    #et_stims_t = et_stims.astype(int) * 1000/et_raw.info['sfreq']\n",
    "    eeg_et_offset = eeg_times - et_times\n",
    "    fig = px.scatter(y=eeg_et_offset)\n",
    "    fig.update_layout(title='EEG ET stim event offset times')\n",
    "    fig.update_xaxes(title_text='EEG ET stim times')\n",
    "    fig.update_yaxes(title_text='EEG ET stim event offsets')\n",
    "    fig.show()\n",
    "    if html_figures:\n",
    "        fig.write_html(\"html_figures/eeg_et_sync_offsets.html\")\n",
    "else:\n",
    "    print(\"et_sync = False: not plotting the EEG by ET offset times\")"
   ]
  },
  {
   "cell_type": "markdown",
   "metadata": {},
   "source": [
    "## Insert ET signals into the EEG raw object"
   ]
  },
  {
   "cell_type": "code",
   "execution_count": null,
   "metadata": {},
   "outputs": [],
   "source": [
    "#if et_sync:\n",
    "#    \n",
    "#    #NOW THAT THE EEG AND ET SESSIONS HAVE SYNC_TIME EVENTS WE DO NOT NEED TO COMBINE UNTIL POST PROCESSING...\n",
    "#    # combine the EEG and ET recordings given the matched event times...\n",
    "#    eeg_raw = qit.eeg_et_combine(eeg_raw, et_raw, eeg_times, et_times, eeg_events, eeg_event_dict, et_events, et_event_dict)\n",
    "#\n",
    "#    # Identify the channels with specific types (eyegaze and pupil) and rename them to 'misc' (to be fixed after bids compliance updates)\n",
    "#    channel_types = eeg_raw.get_channel_types()\n",
    "#    channel_mapping = {\n",
    "#        ch_name: 'misc'\n",
    "#        for ch_name, ch_type in zip(eeg_raw.ch_names, channel_types)\n",
    "#        if ch_type in ['eyegaze', 'pupil']\n",
    "#    }\n",
    "#\n",
    "#    # Update the channel types\n",
    "#    eeg_raw.set_channel_types(channel_mapping)\n",
    "#\n",
    "#    #Update the event times since the sync\n",
    "#    eeg_events, eeg_event_dict = mne.events_from_annotations(eeg_raw)\n",
    "#    eeg_events[:,0]=eeg_events[:,0]-eeg_raw.first_samp\n",
    "#else:\n",
    "#    print('et_sync = False: skipping the integration of the ET signals into the EEG structure')"
   ]
  },
  {
   "cell_type": "code",
   "execution_count": null,
   "metadata": {},
   "outputs": [],
   "source": [
    "# peak... at the eeg_raw properties now that ET signals have been synced..\n",
    "channel_types = eeg_raw.get_channel_types()\n",
    "print(\"EEG Channel Types:\", channel_types)\n",
    "print(\"EEG Channel Names:\", eeg_raw.info['ch_names'])\n",
    "print(\"EEG sampling rate: \", eeg_raw.info[\"sfreq\"])\n",
    "print('EEG event dict:')\n",
    "eeg_event_dict"
   ]
  },
  {
   "cell_type": "code",
   "execution_count": null,
   "metadata": {},
   "outputs": [],
   "source": [
    "## Define a few channel groups of interest and plot the data\n",
    "#frontal = [\"E19\", \"E11\", \"E4\", \"E12\", \"E5\"]\n",
    "#occipital = [\"E61\", \"E62\", \"E78\", \"E67\", \"E72\", \"E77\"]\n",
    "#din = [\"DIN\"]\n",
    "#pupil = [\"pupil_left\"]\n",
    "#x_pos = [\"xpos_left\"]\n",
    "#y_pos = [\"ypos_left\"]\n",
    "#\n",
    "#scale_dict = dict(eeg=1e-4, misc=1e3)\n",
    "#\n",
    "## picks must be numeric (not string) when passed to `raw.plot(..., order=)`\n",
    "#picks_idx = mne.pick_channels(eeg_raw.ch_names, din + frontal + occipital + pupil + x_pos + y_pos, ordered=True)\n",
    "#eeg_raw.plot(start=0,duration=20,order=picks_idx, scalings=scale_dict)"
   ]
  },
  {
   "cell_type": "markdown",
   "metadata": {},
   "source": [
    "## Write the raw structure to a BIDS directory in the project root."
   ]
  },
  {
   "cell_type": "code",
   "execution_count": null,
   "metadata": {},
   "outputs": [],
   "source": [
    "eeg_bids_path = qit.write_eeg(eeg_raw, \n",
    "              eeg_event_dict, \n",
    "              eeg_events, \n",
    "              subject_id_out, \n",
    "              session_id, \n",
    "              task_id_out, \n",
    "              project_path, \n",
    "              device_info)\n",
    "## write the BIDS output files\n",
    "## specify power line frequency as required by BIDS\n",
    "#eeg_raw.info[\"line_freq\"] = 60\n",
    "#eeg_raw.info['device_info']=device_info\n",
    "#eeg_raw.info['device_info']['type'] = eeg_raw.info['device_info']['type'].replace(' ', '-')\n",
    "\n",
    "##THIS SHOULD BE MOVED TO QIT.FILLNA if it is needed...\n",
    "#def fillna(raw, fill_val=0):\n",
    "#    return mne.io.RawArray(np.nan_to_num(raw.get_data(), nan=fill_val), raw.info)\n",
    "#eeg_raw=fillna(eeg_raw,fill_val=0)\n",
    "#\n",
    "#eeg_bids_path = mne_bids.BIDSPath(\n",
    "#    subject=subject_id_out, session=session_id, task=task_id_out, run=\"1\", datatype=\"eeg\", root=project_path\n",
    "#)\n",
    "\n",
    "#print(eeg_bids_path)\n",
    "#mne_bids.write_raw_bids(\n",
    "#    raw=eeg_raw,\n",
    "#    bids_path=eeg_bids_path,\n",
    "#    events=eeg_events,\n",
    "#    event_id=eeg_event_dict,\n",
    "#    format = \"EDF\",\n",
    "#    overwrite=True,\n",
    "#    allow_preload=True,\n",
    "#)\n",
    "\n",
    "# NOW THAT EEG AND ET FILES HAVE SYNC_TIME EVENTS WRITE THE ET TO BIDS AS WELL...\n",
    "\n",
    "## Identify the channels with specific types (eyegaze and pupil) and rename them to 'misc' (to be fixed after bids compliance updates)\n",
    "#channel_types = et_raw.get_channel_types()\n",
    "#channel_mapping = {\n",
    "#    ch_name: 'misc'\n",
    "#    for ch_name, ch_type in zip(et_raw.ch_names, channel_types)\n",
    "#    if ch_type in ['eyegaze', 'pupil']\n",
    "#}\n",
    "#\n",
    "## Update the channel types\n",
    "#et_raw.set_channel_types(channel_mapping)\n",
    "#\n",
    "#task_id_out_et = task_id_out + \"et\"\n",
    "#et_bids_path = mne_bids.BIDSPath(\n",
    "#    #subject=subject_id_out, session=session_id, task=task_id_out_et, run=\"1\", datatype=\"eeg\", root=project_path\n",
    "#    subject=subject_id_out, session=session_id, task=task_id_out_et, run=\"1\", root=project_path\n",
    "#)\n",
    "#\n",
    "#print(et_bids_path)\n",
    "#mne_bids.write_raw_bids(\n",
    "#    raw=et_raw,\n",
    "#    bids_path=et_bids_path,\n",
    "#    events=et_events,\n",
    "#    event_id=et_event_dict,\n",
    "#    format = \"EDF\",\n",
    "#    overwrite=True,\n",
    "#    allow_preload=True,\n",
    "#)"
   ]
  },
  {
   "cell_type": "code",
   "execution_count": null,
   "metadata": {},
   "outputs": [],
   "source": [
    "et_out_path = qit.write_et(et_raw, et_event_dict, et_events, eeg_bids_path)\n",
    "#event_id_to_name = {v: k for k, v in et_event_dict.items()}\n",
    "#onsets = et_events[:, 0] / et_raw.info['sfreq']  # Convert sample indices to time (in seconds)\n",
    "#durations = [0] * len(onsets)  # Example: all durations set to 0\n",
    "#descriptions = [event_id_to_name[event_id] for event_id in et_events[:, 2]]\n",
    "\n",
    "#annotations = mne.Annotations(onset=onsets, duration=durations, description=descriptions)\n",
    "\n",
    "##overwrite the annotations in the Raw object\n",
    "#et_raw.set_annotations(annotations)\n",
    "\n",
    "#et_out_path = str(eeg_bids_path)\n",
    "#et_out_path = et_out_path.replace(\"/eeg/\", \"/et/\")\n",
    "#et_out_path = et_out_path.replace(\"_eeg.\", \"_et.\")\n",
    "#et_out_path = et_out_path.split(\".\")[0] + \".fif\"\n",
    "## Extract the directory path\n",
    "#directory = os.path.dirname(et_out_path)\n",
    "\n",
    "## Ensure the directory exists\n",
    "#os.makedirs(directory, exist_ok=True)\n",
    "\n",
    "##write the updated Raw object to the specified path\n",
    "#et_raw.save(et_out_path, overwrite=True)\n"
   ]
  },
  {
   "cell_type": "markdown",
   "metadata": {},
   "source": [
    "## Read tests..."
   ]
  },
  {
   "cell_type": "code",
   "execution_count": null,
   "metadata": {},
   "outputs": [],
   "source": [
    "#et_raw_r = mne.io.read_raw_fif=(et_out_path, preload=True)\n",
    "raw = mne.io.read_raw_fif(et_out_path, preload=True)"
   ]
  },
  {
   "cell_type": "code",
   "execution_count": null,
   "metadata": {},
   "outputs": [],
   "source": [
    "raw"
   ]
  },
  {
   "cell_type": "code",
   "execution_count": null,
   "metadata": {},
   "outputs": [],
   "source": [
    "(events_from_annot, event_dict) = mne.events_from_annotations(raw)"
   ]
  },
  {
   "cell_type": "code",
   "execution_count": null,
   "metadata": {},
   "outputs": [],
   "source": [
    "# create the EEG event structures\n",
    "raw_events = mne.find_events(raw, shortest_event = 1)\n",
    "raw_event_dict = qit.get_event_dict(raw, raw_events, 1)"
   ]
  },
  {
   "cell_type": "code",
   "execution_count": null,
   "metadata": {},
   "outputs": [],
   "source": [
    "raw_event_dict"
   ]
  },
  {
   "cell_type": "code",
   "execution_count": null,
   "metadata": {},
   "outputs": [],
   "source": [
    "##Read test\n",
    "#bids_path = mne_bids.BIDSPath(\n",
    "#    subject=\"100134F1\", session=\"01\", task=\"VEP\", run=\"1\", datatype=\"eeg\", root=\"/project/def-emayada/q1k/experimental/HSJ/\"\n",
    "#)\n",
    "#raw = mne_bids.read_raw_bids(bids_path=bids_path)\n"
   ]
  },
  {
   "cell_type": "code",
   "execution_count": null,
   "metadata": {},
   "outputs": [],
   "source": [
    "## peak... at the eeg_raw properties\n",
    "#channel_types = raw.get_channel_types()\n",
    "#print(\"EEG Channel Types:\", channel_types)\n",
    "#print(\"EEG Channel Names:\", raw.info['ch_names'])\n",
    "#print(\"EEG sampling rate: \", raw.info[\"sfreq\"])"
   ]
  },
  {
   "cell_type": "code",
   "execution_count": null,
   "metadata": {},
   "outputs": [],
   "source": [
    "## Define a few channel groups of interest and plot the data\n",
    "#frontal = [\"E19\", \"E11\", \"E4\", \"E12\", \"E5\"]\n",
    "#occipital = [\"E61\", \"E62\", \"E78\", \"E67\", \"E72\", \"E77\"]\n",
    "#din = [\"DIN\"]\n",
    "#pupil = [\"pupil_left\"]\n",
    "#x_pos = [\"xpos_left\"]\n",
    "#y_pos = [\"ypos_left\"]\n",
    "\n",
    "#scale_dict = dict(eeg=1e-4, eyegaze=30, pupil=30)\n",
    "\n",
    "## picks must be numeric (not string) when passed to `raw.plot(..., order=)`\n",
    "#picks_idx = mne.pick_channels(raw.ch_names, din + frontal + occipital + pupil + x_pos + y_pos, ordered=True)\n",
    "#raw.plot(start=0,duration=4,order=picks_idx, scalings=scale_dict)"
   ]
  },
  {
   "cell_type": "code",
   "execution_count": null,
   "metadata": {},
   "outputs": [],
   "source": []
  }
 ],
 "metadata": {
  "kernelspec": {
   "display_name": "q1k_env",
   "language": "python",
   "name": "q1k_env"
  },
  "language_info": {
   "codemirror_mode": {
    "name": "ipython",
    "version": 3
   },
   "file_extension": ".py",
   "mimetype": "text/x-python",
   "name": "python",
   "nbconvert_exporter": "python",
   "pygments_lexer": "ipython3",
   "version": "3.11.5"
  }
 },
 "nbformat": 4,
 "nbformat_minor": 4
}
