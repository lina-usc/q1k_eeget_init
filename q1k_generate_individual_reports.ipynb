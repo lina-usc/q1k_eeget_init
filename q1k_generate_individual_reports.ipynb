{
 "cells": [
  {
   "cell_type": "markdown",
   "metadata": {},
   "source": [
    "## Set up the run parameters parameters"
   ]
  },
  {
   "cell_type": "code",
   "execution_count": null,
   "metadata": {
    "tags": [
     "parameters"
    ]
   },
   "outputs": [],
   "source": [
    "#use these parameters for testing this notebook outside of the automated loop of q1k_automated_reports.ipynb\n",
    "subject_id_in = \"100134_F1\"\n",
    "subject_id_out = \"100134F1\"\n",
    "task_id_in = \"VEP\"\n",
    "task_id_in_et = \"VEP\" \n",
    "task_id_out = \"VEP\"\n",
    "run_id = \"1\"\n",
    "session_id = \"01\"\n",
    "project_path = \"/project/def-emayada/q1k/experimental/HSJ/\"\n",
    "dataset_group = \"experimental\"\n",
    "site_code = \"HSJ\" #'MHC' or 'HSJ'\n",
    "et_sync = True\n",
    "\n",
    "#use these empty parameters when executing this notebook from an automation script.\n",
    "#subject_id_in = \"\"\n",
    "#subject_id_out = \"\"\n",
    "#task_id_in = \"\"\n",
    "#task_id_in_et = \"\" \n",
    "#task_id_out = \"\"\n",
    "#run_id = \"\"\n",
    "#session_id = \"\"\n",
    "#project_path = \"\"\n",
    "#dataset_group = \"\"\n",
    "#site_code = \"\"\n",
    "#et_sync = True\n",
    "\n",
    "print('subject_id_in: ' + subject_id_in)\n",
    "print('subject_id_out: ' + subject_id_out)\n",
    "print('task_id_in: ' + task_id_in)\n",
    "print('task_id_in_et: ' + task_id_in_et)\n",
    "print('task_id_out: ' + task_id_out)\n",
    "print('run_id: ' + run_id)\n",
    "print('session_id: ' + session_id)\n",
    "print('project_path: ' + project_path)\n",
    "print('dataset_group: ' + dataset_group)\n",
    "print('site_code: ' + site_code)\n"
   ]
  },
  {
   "cell_type": "code",
   "execution_count": null,
   "metadata": {
    "tags": []
   },
   "outputs": [],
   "source": [
    "# import packages\n",
    "import pandas as pd\n",
    "import numpy as np\n",
    "import mne\n",
    "import mne_bids\n",
    "from matplotlib import pyplot as plt\n",
    "import plotly.express as px\n",
    "import plotly.graph_objects as go\n",
    "import plotly.offline as py\n",
    "import plotly.io as pio\n",
    "pio.renderers.default = \"plotly_mimetype+notebook\"\n",
    "import q1k_init_tools as qit\n",
    "import glob\n",
    "import re\n",
    "import warnings\n",
    "warnings.filterwarnings('ignore')\n",
    "import seaborn as sns"
   ]
  },
  {
   "cell_type": "code",
   "execution_count": null,
   "metadata": {
    "tags": []
   },
   "outputs": [],
   "source": [
    "#define the DIN events associated with events of interest based on the task_id..\n",
    "din_str, event_dict_offset = qit.set_din_str(task_id_out)"
   ]
  },
  {
   "cell_type": "markdown",
   "metadata": {},
   "source": [
    "## Read the EEG file"
   ]
  },
  {
   "cell_type": "code",
   "execution_count": null,
   "metadata": {},
   "outputs": [],
   "source": [
    "subject_id_in"
   ]
  },
  {
   "cell_type": "code",
   "execution_count": null,
   "metadata": {},
   "outputs": [],
   "source": [
    "# generate the input paths\n",
    "session_file_name_eeg, session_file_name_et = qit.generate_session_ids(dataset_group, project_path, site_code, task_id_in, subject_id_in, run_id)"
   ]
  },
  {
   "cell_type": "code",
   "execution_count": null,
   "metadata": {},
   "outputs": [],
   "source": [
    "session_file_name_eeg[0]"
   ]
  },
  {
   "cell_type": "code",
   "execution_count": null,
   "metadata": {},
   "outputs": [],
   "source": [
    "# read the input EEG session\n",
    "print('Reading: ' + session_file_name_eeg[0])\n",
    "eeg_raw = mne.io.read_raw_egi(session_file_name_eeg[0])\n",
    "eeg_raw_fresh=eeg_raw.copy() #make a fresh copy for later\n",
    "device_info=eeg_raw.info['device_info']"
   ]
  },
  {
   "cell_type": "code",
   "execution_count": null,
   "metadata": {},
   "outputs": [],
   "source": [
    "# peak... at the EEG channel types\n",
    "channel_types = eeg_raw.get_channel_types()\n",
    "print(\"EEG Channel Types:\", channel_types)\n",
    "print(\"EEG Channel Names:\", eeg_raw.info['ch_names'])\n"
   ]
  },
  {
   "cell_type": "code",
   "execution_count": null,
   "metadata": {},
   "outputs": [],
   "source": [
    "# show the sensor topography\n",
    "fig = eeg_raw.plot_sensors(show_names=True)"
   ]
  },
  {
   "cell_type": "markdown",
   "metadata": {},
   "source": [
    "## Get and modify the EEG event structures"
   ]
  },
  {
   "cell_type": "code",
   "execution_count": null,
   "metadata": {},
   "outputs": [],
   "source": [
    "# create the EEG event structures\n",
    "eeg_events = mne.find_events(eeg_raw, shortest_event = 1)\n",
    "eeg_event_dict = qit.get_event_dict(eeg_raw, eeg_events, event_dict_offset)"
   ]
  },
  {
   "cell_type": "code",
   "execution_count": null,
   "metadata": {},
   "outputs": [],
   "source": [
    "print('EEG event dict:')\n",
    "eeg_event_dict"
   ]
  },
  {
   "cell_type": "code",
   "execution_count": null,
   "metadata": {},
   "outputs": [],
   "source": [
    "# peak... at the EEG event scatter plot.. event time stamp by label index\n",
    "fig=px.scatter(x=eeg_events[:,0],y=eeg_events[:,2])\n",
    "fig.update_layout(title='Original EEG event times')\n",
    "fig.update_xaxes(title_text='Time of event(ms)')\n",
    "fig.update_yaxes(title_text='Event index')\n",
    "py.iplot(fig)\n",
    "# print the scatterplot to an html file for easy exploration.\n",
    "fig.write_html(\"eeg_event_times.html\")"
   ]
  },
  {
   "cell_type": "code",
   "execution_count": null,
   "metadata": {},
   "outputs": [],
   "source": [
    "if not din_str:\n",
    "    print('Required EEG DIN events are missing... skipping EEG DIN check and DIN distance display')\n",
    "else:\n",
    "    #check that the din_str events exist in the eeg_event_dict..\n",
    "    din_str = qit.din_check(eeg_event_dict, din_str)\n",
    "    #get the distance between the DIN events of interest..\n",
    "    din_diffs, din_diffs_time = qit.get_din_diff(eeg_events, eeg_event_dict, din_str)\n",
    "    #build the figure...\n",
    "    fig=px.scatter(x=din_diffs_time, y=din_diffs)\n",
    "    fig.update_layout(title='Time between EEG DIN events of interest')\n",
    "    fig.update_xaxes(title_text='Time of event(ms)')\n",
    "    fig.update_yaxes(title_text='Inter event interval')\n",
    "    # print the scatterplot to an html file for easy exploration.\n",
    "    fig.write_html(\"eeg_din_diffs.html\")"
   ]
  },
  {
   "cell_type": "code",
   "execution_count": null,
   "metadata": {},
   "outputs": [],
   "source": [
    "if not din_str:\n",
    "    print('Required EEG DIN events are missing... skipping EEG stimulus onset DIN process')\n",
    "else:\n",
    "    # handle task specific EEG event interpretation..\n",
    "    eeg_events, eeg_stims, eeg_iti, eeg_din_offset, eeg_event_dict, new_events = qit.eeg_event_test(eeg_events, eeg_event_dict, din_str, task_name=task_id_out)"
   ]
  },
  {
   "cell_type": "code",
   "execution_count": null,
   "metadata": {},
   "outputs": [],
   "source": [
    "# print some stim event summaries\n",
    "column_values = eeg_events[:, 2]\n",
    "\n",
    "# Get unique values and their counts\n",
    "unique_values, counts = np.unique(column_values, return_counts=True)\n",
    "\n",
    "# Print the counts of each unique value\n",
    "print(\"Counts of each event ID value:\")\n",
    "for value, count in zip(unique_values, counts):\n",
    "    print(f\"Event ID: {value}, Count: {count}\")\n",
    "\n",
    "# Print the event labels\n",
    "print(\"Label\\tValue\")\n",
    "for label, value in eeg_event_dict.items():\n",
    "    print(f\"{label}\\t{value}\")"
   ]
  },
  {
   "cell_type": "code",
   "execution_count": null,
   "metadata": {},
   "outputs": [],
   "source": [
    "# peak... at the EEG event scatter plot.. event time stamp by label index... including new *_d DIN events if generated\n",
    "fig=px.scatter(x=eeg_events[:,0],y=eeg_events[:,2])\n",
    "fig.update_layout(title='DIN updated EEG event times')\n",
    "fig.update_xaxes(title_text='Time of event(ms)')\n",
    "fig.update_yaxes(title_text='Event index')\n",
    "fig.show()\n",
    "fig.write_html(\"eeg_update_event_times.html\")"
   ]
  },
  {
   "cell_type": "code",
   "execution_count": null,
   "metadata": {},
   "outputs": [],
   "source": [
    "if not din_str:\n",
    "    print('Required DIN events are missing... skipping stimulus DIN ITI display')\n",
    "else:\n",
    "    # peak... at the distance between *_d stim DIN events\n",
    "    fig=px.scatter(x=eeg_stims[1:,0],y=eeg_iti)\n",
    "    fig.update_layout(title='Stim DIN event Inter Trial Intervals (ITI)')\n",
    "    fig.update_xaxes(title_text='Time of event(ms)')\n",
    "    fig.update_yaxes(title_text='Stim DIN event ITI (ms)')\n",
    "    fig.show()\n",
    "    fig.write_html(\"eeg_din_iti.html\")"
   ]
  },
  {
   "cell_type": "code",
   "execution_count": null,
   "metadata": {},
   "outputs": [],
   "source": [
    "if not din_str:\n",
    "    print('Required DIN events are missing... skipping stimulus DIN event offset display')\n",
    "else:\n",
    "    # peak... at the distance between stim events and *_d stim DIN events\n",
    "    fig=px.scatter(x=eeg_stims[:,0],y=eeg_din_offset)\n",
    "    fig.update_layout(title='Stim DIN offsets')\n",
    "    fig.update_xaxes(title_text='Time of event(ms)')\n",
    "    fig.update_yaxes(title_text='Stim DIN offset (ms)')\n",
    "    fig.show()\n",
    "    fig.write_html(\"eeg_stim_din_offset.html\")"
   ]
  },
  {
   "cell_type": "markdown",
   "metadata": {},
   "source": [
    "## Read the eye-tracking data"
   ]
  },
  {
   "cell_type": "code",
   "execution_count": null,
   "metadata": {},
   "outputs": [],
   "source": [
    "    ##read the asc eye tracking data and convert it to a dataframe...\n",
    "    #et_raw = mne.io.read_raw_eyelink(session_file_name_et[0])\n",
    "    #et_raw.load_data()\n",
    "    #data = et_raw.get_data()\n",
    "    #data[np.isnan(data)] = 0\n",
    "    #et_raw._data = data\n",
    "    #et_raw.resample(1000, npad=\"auto\")\n",
    "    ##et_raw_fresh=et_raw.copy() #make a fresh copy for later\n",
    "    #et_raw_df = et_raw.to_data_frame()\n",
    "    ##get the events from the annotation structure\n",
    "    #et_events, et_event_dict = mne.events_from_annotations(et_raw)\n",
    "    ##et_events = mne.find_events(et_raw, min_duration=0.01, shortest_event=1, uint_cast=True)\n",
    "    \n",
    "    ##read the raw et asc file again this time with the blinks annotation enabled.. (this should be combined into a single read) \n",
    "    #et_raw = mne.io.read_raw_eyelink(session_file_name_et[0],create_annotations=[\"blinks\"])\n",
    "    #et_raw.load_data()\n",
    "    #data = et_raw.get_data()\n",
    "    #data[np.isnan(data)] = 0\n",
    "    #et_raw._data = data\n",
    "    #et_raw.resample(1000, npad=\"auto\")\n",
    "   \n",
    "    ##interpolate the signals during blinks\n",
    "    #mne.preprocessing.eyetracking.interpolate_blinks(et_raw, buffer=(0.05, 0.2), interpolate_gaze=True)\n"
   ]
  },
  {
   "cell_type": "code",
   "execution_count": null,
   "metadata": {},
   "outputs": [],
   "source": [
    "et_raw, et_raw_df, et_events, et_event_dict = qit.et_read(session_file_name_et[0])"
   ]
  },
  {
   "cell_type": "code",
   "execution_count": null,
   "metadata": {},
   "outputs": [],
   "source": [
    "if et_sync:\n",
    "    # peak... at the ET channel types\n",
    "    channel_types = et_raw.get_channel_types()\n",
    "    print(\"ET Channel Types:\", channel_types)\n",
    "    print(\"ET Channel Names:\", et_raw.info['ch_names'])\n",
    "else:\n",
    "    print(\"et_sync = False: not printing ET channle types\")"
   ]
  },
  {
   "cell_type": "code",
   "execution_count": null,
   "metadata": {},
   "outputs": [],
   "source": [
    "et_raw.plot(duration=20, scalings=dict(eyegaze=1e1,pupil=1e2))"
   ]
  },
  {
   "cell_type": "markdown",
   "metadata": {},
   "source": [
    "## Handle the Eye-Tracking events"
   ]
  },
  {
   "cell_type": "code",
   "execution_count": null,
   "metadata": {},
   "outputs": [],
   "source": [
    "if et_sync:\n",
    "    print(\"ET event dict:\", et_event_dict)\n",
    "else:\n",
    "    print(\"et_sync = False: not printing ET event dict\")"
   ]
  },
  {
   "cell_type": "code",
   "execution_count": null,
   "metadata": {},
   "outputs": [],
   "source": [
    "if et_sync:\n",
    "    # peak... at the ET event scatter plot.. event time stamp by label index\n",
    "    fig=px.scatter(x=et_events[:,0],y=et_events[:,2])\n",
    "    fig.update_layout(title='Original ET event times')\n",
    "    fig.update_xaxes(title_text='Time of event(ms)')\n",
    "    fig.update_yaxes(title_text='Event index')\n",
    "    py.iplot(fig)\n",
    "    # print the scatterplot to an html file for easy exploration.\n",
    "    fig.write_html(\"et_event_times.html\")\n",
    "else:\n",
    "    print(\"et_sync = False: not plotting the original ET events\")"
   ]
  },
  {
   "cell_type": "code",
   "execution_count": null,
   "metadata": {},
   "outputs": [],
   "source": [
    "if et_sync:\n",
    "    #do event cleaning..\n",
    "    et_event_dict, et_events = qit.et_clean_events(et_event_dict, et_events)\n",
    "    #do task specific event modifications..\n",
    "    et_event_dict, et_events, et_raw_df = qit.et_task_events(et_raw_df,et_event_dict,et_events,task_id_out)\n",
    "    print(\"updated ET event dict:\", et_event_dict)\n",
    "    # Extract the value for 'STIM_d' from the dictionary\n",
    "    stim_d_value = et_event_dict['STIM_d']\n",
    "    # Filter rows where the third column matches the 'STIM_d' value\n",
    "    et_stims = et_events[et_events[:, 2] == stim_d_value]\n",
    "    print('Number of stimulus onset DIN events: ' + str(len(et_stims)))\n",
    "else:\n",
    "    print(\"et_sync = False: not plotting the original ET events\")"
   ]
  },
  {
   "cell_type": "code",
   "execution_count": null,
   "metadata": {},
   "outputs": [],
   "source": [
    "if et_sync:\n",
    "    # peak... at the ET event scatter plot.. event time stamp by label index\n",
    "    fig=px.scatter(x=et_events[:,0],y=et_events[:,2])\n",
    "    fig.update_layout(title='Updated ET event times')\n",
    "    fig.update_xaxes(title_text='Time of event(ms)')\n",
    "    fig.update_yaxes(title_text='Event index')\n",
    "    py.iplot(fig)\n",
    "    # print the scatterplot to an html file for easy exploration.\n",
    "    fig.write_html(\"et_updated_event_times.html\")\n",
    "else:\n",
    "    print(\"et_sync = False: not plotting the updated ET events\")"
   ]
  },
  {
   "cell_type": "markdown",
   "metadata": {},
   "source": [
    "## Examine the syncronization between the EEG and ET events"
   ]
  },
  {
   "cell_type": "code",
   "execution_count": null,
   "metadata": {},
   "outputs": [],
   "source": [
    "if et_sync:\n",
    "    #eeg_stims = eeg_stims.astype(int) * 1000/eeg_raw.info['sfreq']\n",
    "    #et_stims = et_stims.astype(int) * 1000/et_raw.info['sfreq']\n",
    "    # peak... at the ET event scatter plot.. event time stamp by label index\n",
    "    fig=px.scatter(x=eeg_stims[:,0],y=et_stims[:,0])\n",
    "    fig.update_layout(title='EEG by ET stim times')\n",
    "    fig.update_xaxes(title_text='EEG stim times')\n",
    "    fig.update_yaxes(title_text='ET stim times')\n",
    "    py.iplot(fig)\n",
    "    # print the scatterplot to an html file for easy exploration.\n",
    "    fig.write_html(\"eeg_et_times.html\")\n",
    "else:\n",
    "    print(\"et_sync = False: not plotting the EEG by ET event times\")"
   ]
  },
  {
   "cell_type": "code",
   "execution_count": null,
   "metadata": {},
   "outputs": [],
   "source": [
    "if et_sync:\n",
    "    # peak... at the ET event scatter plot.. event time stamp by label index\n",
    "    eeg_stims_t = eeg_stims.astype(int) * 1000/eeg_raw.info['sfreq']\n",
    "    et_stims_t = et_stims.astype(int) * 1000/et_raw.info['sfreq']\n",
    "    eeg_et_offset = eeg_stims_t[:,0] - et_stims_t[:,0]\n",
    "    fig = px.scatter(y=eeg_et_offset)\n",
    "    fig.update_layout(title='EEG ET stim event offset times')\n",
    "    fig.update_xaxes(title_text='EEG ET stim times')\n",
    "    fig.update_yaxes(title_text='EEG ET stim event offsets')\n",
    "    fig.show()\n",
    "    fig.write_html(\"eeg_et_sync_offsets.html\")\n",
    "else:\n",
    "    print(\"et_sync = False: not plotting the EEG by ET offset times\")"
   ]
  },
  {
   "cell_type": "markdown",
   "metadata": {},
   "source": [
    "## Insert ET signals into the EEG raw object"
   ]
  },
  {
   "cell_type": "code",
   "execution_count": null,
   "metadata": {},
   "outputs": [],
   "source": [
    "    #eeg_raw.load_data()\n",
    "    #et_raw.load_data()\n",
    "\n",
    "    ##add eeg_events and eeg_event_dict back in to eeg_raw as annotations..\n",
    "    #eeg_event_dict_r = {value: key for key, value in eeg_event_dict.items()}\n",
    "    #eeg_annots = mne.annotations_from_events(\n",
    "    #    events=eeg_events,\n",
    "    #    event_desc=eeg_event_dict_r,\n",
    "    #    sfreq=eeg_raw.info[\"sfreq\"],\n",
    "    #    orig_time=eeg_raw.info[\"meas_date\"],\n",
    "    #)\n",
    "    #eeg_raw.set_annotations(eeg_annots)\n",
    "\n",
    "    ##n_eeg_event_dict = len(eeg_event_dict)\n",
    "    ##n_et_event_dict = {key: value + n_eeg_event_dict for key, value in et_event_dict.items()}\n",
    "\n",
    "    ##add et_events and et_event_dict back in to eeg_raw as annotations..\n",
    "    #et_event_dict_r = {value: key for key, value in et_event_dict.items()}\n",
    "    #et_annots = mne.annotations_from_events(\n",
    "    #    events=et_events,\n",
    "    #    event_desc=et_event_dict_r,\n",
    "    #    sfreq=et_raw.info[\"sfreq\"],\n",
    "    #    orig_time=et_raw.info[\"meas_date\"],\n",
    "    #)\n",
    "    #et_raw.set_annotations(et_annots)\n"
   ]
  },
  {
   "cell_type": "code",
   "execution_count": null,
   "metadata": {},
   "outputs": [],
   "source": [
    "#eeg_event_dict"
   ]
  },
  {
   "cell_type": "code",
   "execution_count": null,
   "metadata": {},
   "outputs": [],
   "source": [
    "#et_event_dict = {\n",
    "#    (f\"et_{key}\" if key.startswith('DIN') else key): value\n",
    "#    for key, value in et_event_dict.items()\n",
    "#}\n",
    "\n",
    "##add the eeg_event_dict row count to the values of et_event_dict\n",
    "#eeg_event_count = len(eeg_event_dict)\n",
    "#n_et_event_dict = {key: value + eeg_event_count for key, value in et_event_dict.items()}\n",
    "\n",
    "#eeg_event_dict.update(n_et_event_dict)\n",
    "#eeg_et_event_dict = eeg_event_dict\n",
    "\n",
    "##add the eeg_event_dict row count to the values of et_events[:,2]    \n",
    "#et_events[:, 2] += eeg_event_count\n",
    "##append et_events to eeg_events\n",
    "#eeg_et_events = np.vstack((eeg_events.astype(int), et_events.astype(int)))\n",
    "##sort by the first column\n",
    "#eeg_et_events_sorted = np.array(sorted(eeg_et_events, key=lambda x: x[0]))\n",
    "\n",
    "#eeg_et_event_dict_r = {value: key for key, value in eeg_et_event_dict.items()}\n",
    "\n",
    "#eeg_et_annots = mne.annotations_from_events(\n",
    "#    events=eeg_et_events_sorted,\n",
    "#    event_desc=eeg_et_event_dict_r,\n",
    "#    sfreq=et_raw.info[\"sfreq\"],\n",
    "#   orig_time=et_raw.info[\"meas_date\"],\n",
    "#)\n",
    "#eeg_raw.set_annotations(eeg_et_annots)\n",
    "\n"
   ]
  },
  {
   "cell_type": "code",
   "execution_count": null,
   "metadata": {},
   "outputs": [],
   "source": [
    "#eeg_et_event_dict_r"
   ]
  },
  {
   "cell_type": "code",
   "execution_count": null,
   "metadata": {},
   "outputs": [],
   "source": [
    "#eeg_et_events_sorted[:20,:]"
   ]
  },
  {
   "cell_type": "code",
   "execution_count": null,
   "metadata": {},
   "outputs": [],
   "source": [
    "#eeg_et_annots = mne.annotations_from_events(\n",
    "#    events=eeg_et_events_sorted,\n",
    "#    event_desc=eeg_et_event_dict_r,\n",
    "#    sfreq=et_raw.info[\"sfreq\"],\n",
    "#   orig_time=et_raw.info[\"meas_date\"],\n",
    "#)\n",
    "#eeg_raw.set_annotations(eeg_et_annots)\n"
   ]
  },
  {
   "cell_type": "code",
   "execution_count": null,
   "metadata": {},
   "outputs": [],
   "source": [
    "#eeg_raw.load_data()\n",
    "#et_raw.load_data()\n",
    "\n",
    "#eeg_event_dict_r = {value: key for key, value in eeg_event_dict.items()}\n",
    "#eeg_annots = mne.annotations_from_events(\n",
    "#    events=eeg_events,\n",
    "#    event_desc=eeg_event_dict_r,\n",
    "#    sfreq=eeg_raw.info[\"sfreq\"],\n",
    "#    orig_time=eeg_raw.info[\"meas_date\"],\n",
    "#)\n",
    "#eeg_raw.set_annotations(eeg_annots)\n",
    "\n",
    "#et_event_dict_r = {value: key for key, value in et_event_dict.items()}\n",
    "#et_annots = mne.annotations_from_events(\n",
    "#    events=et_events,\n",
    "#    event_desc=et_event_dict_r,\n",
    "#    sfreq=et_raw.info[\"sfreq\"],\n",
    "#   orig_time=et_raw.info[\"meas_date\"],\n",
    "#)\n",
    "#et_raw.set_annotations(et_annots)\n",
    "\n",
    "## Convert event onsets from samples to seconds\n",
    "#eeg_times = eeg_stims[:, 0] / eeg_raw.info[\"sfreq\"]\n",
    "#et_times = et_stims[:, 0] / et_raw.info[\"sfreq\"]\n",
    "\n",
    "## Align the data\n",
    "#mne.preprocessing.realign_raw(eeg_raw, et_raw, eeg_times, et_times, verbose=\"error\")\n",
    "\n",
    "## Add EEG channels to the eye-tracking raw object\n",
    "#eeg_raw.add_channels([et_raw], force_update_info=True)\n",
    "##del raw_eeg  # free up some memory\n",
    "\n",
    "#et_events_from_annot, et_event_dict = mne.events_from_annotations(et_raw)\n",
    "#eeg_events_from_annot, eeg_event_dict = mne.events_from_annotations(eeg_raw)\n",
    "\n",
    "#et_event_dict = {\n",
    "#    (f\"et_{key}\" if key.startswith('DIN') else key): value\n",
    "#    for key, value in et_event_dict.items()\n",
    "#}\n",
    "\n",
    "#et_event_count = len(et_event_dict)\n",
    "#n_eeg_event_dict = {key: value + et_event_count for key, value in eeg_event_dict.items()}\n",
    "\n",
    "#et_event_dict.update(n_eeg_event_dict)\n",
    "##eeg_et_event_dict = eeg_event_dict\n",
    "\n",
    "#eeg_events[:, 2] += et_event_count\n",
    "##append et_events to eeg_events\n",
    "#et_eeg_events = np.vstack((et_events.astype(int), eeg_events.astype(int)))\n",
    "##sort by the first column\n",
    "#et_eeg_events_sorted = np.array(sorted(et_eeg_events, key=lambda x: x[0]))\n",
    "\n",
    "#et_event_dict_r = {value: key for key, value in et_event_dict.items()}\n",
    "\n",
    "#eeg_et_annots = mne.annotations_from_events(\n",
    "#    events=et_eeg_events_sorted,\n",
    "#    event_desc=et_event_dict_r,\n",
    "#    sfreq=et_raw.info[\"sfreq\"],\n",
    "#    orig_time=et_raw.info[\"meas_date\"],\n",
    "#)\n",
    "#et_raw.set_annotations(eeg_et_annots)\n"
   ]
  },
  {
   "cell_type": "code",
   "execution_count": null,
   "metadata": {},
   "outputs": [],
   "source": [
    "if et_sync:\n",
    "    # combine the EEG and ET recordings given the matched event times.. then create a dataframe copy..\n",
    "    #eeg_et_raw = qit.eeg_et_combine(eeg_raw_fresh, et_raw_fresh, eeg_stims, et_stims)\n",
    "    #eeg_et_raw = qit.eeg_et_combine(eeg_raw, et_raw, eeg_stims, et_stims)\n",
    "    eeg_raw = qit.eeg_et_combine(eeg_raw, et_raw, eeg_stims, et_stims, eeg_events, eeg_event_dict, et_events, et_event_dict)\n",
    "    #eeg_raw_df = eeg_et_raw.to_data_frame()\n",
    "    #show channel types...\n",
    "    #channel_types = eeg_raw.get_channel_types()\n",
    "    #print(\"Channel Types:\", channel_types)\n",
    "    #print(\"Channel Names:\", eeg_raw.info['ch_names'])\n",
    "\n",
    "    # Identify the channels with specific types (eyegaze and pupil) and rename them to 'misc' (to be fixed after bids compliance updates)\n",
    "    channel_types = eeg_raw.get_channel_types()\n",
    "    channel_mapping = {\n",
    "        ch_name: 'misc'\n",
    "        for ch_name, ch_type in zip(eeg_raw.ch_names, channel_types)\n",
    "        if ch_type in ['eyegaze', 'pupil']\n",
    "    }\n",
    "\n",
    "    # Update the channel types\n",
    "    eeg_raw.set_channel_types(channel_mapping)\n",
    "\n",
    "    #Update the event times since the sync\n",
    "    eeg_events, eeg_event_dict = mne.events_from_annotations(eeg_raw)\n",
    "    eeg_events[:,0]=eeg_events[:,0]-eeg_raw.first_samp\n",
    "else:\n",
    "    print('et_sync = False: skipping the integration of the ET signals into the EEG structure')"
   ]
  },
  {
   "cell_type": "code",
   "execution_count": null,
   "metadata": {},
   "outputs": [],
   "source": [
    "# peak... at the eeg_raw properties\n",
    "channel_types = eeg_raw.get_channel_types()\n",
    "print(\"EEG Channel Types:\", channel_types)\n",
    "print(\"EEG Channel Names:\", eeg_raw.info['ch_names'])\n",
    "print(\"EEG sampling rate: \", eeg_raw.info[\"sfreq\"])\n",
    "print('EEG event dict:')\n",
    "eeg_event_dict"
   ]
  },
  {
   "cell_type": "code",
   "execution_count": null,
   "metadata": {},
   "outputs": [],
   "source": [
    "## Identify the channels with specific types (eyegaze and pupil)\n",
    "#channel_types = eeg_raw.get_channel_types()\n",
    "#channel_mapping = {\n",
    "#    ch_name: 'misc'\n",
    "#    for ch_name, ch_type in zip(eeg_raw.ch_names, channel_types)\n",
    "#    if ch_type in ['eyegaze', 'pupil']\n",
    "#}\n",
    "\n",
    "## Update the channel types\n",
    "#eeg_raw.set_channel_types(channel_mapping)\n"
   ]
  },
  {
   "cell_type": "code",
   "execution_count": null,
   "metadata": {},
   "outputs": [],
   "source": [
    "## peak... at the eeg_raw properties\n",
    "#channel_types = eeg_raw.get_channel_types()\n",
    "#print(\"EEG Channel Types:\", channel_types)\n",
    "#print(\"EEG Channel Names:\", eeg_raw.info['ch_names'])\n",
    "#print(\"EEG sampling rate: \", eeg_raw.info[\"sfreq\"])\n",
    "#print('EEG event dict:')"
   ]
  },
  {
   "cell_type": "code",
   "execution_count": null,
   "metadata": {},
   "outputs": [],
   "source": [
    "#eeg_event_dict"
   ]
  },
  {
   "cell_type": "code",
   "execution_count": null,
   "metadata": {},
   "outputs": [],
   "source": [
    "#eeg_events"
   ]
  },
  {
   "cell_type": "code",
   "execution_count": null,
   "metadata": {},
   "outputs": [],
   "source": [
    "# create the EEG event structures\n",
    "#eeg_events = mne.find_events(eeg_raw, shortest_event = 1)\n",
    "#eeg_event_dict = qit.get_event_dict(eeg_raw, eeg_events, event_dict_offset)\n",
    "#eeg_events, eeg_event_dict = mne.events_from_annotations(eeg_raw)"
   ]
  },
  {
   "cell_type": "code",
   "execution_count": null,
   "metadata": {},
   "outputs": [],
   "source": [
    "#eeg_events[:20,:]"
   ]
  },
  {
   "cell_type": "code",
   "execution_count": null,
   "metadata": {},
   "outputs": [],
   "source": [
    "#eeg_event_dict"
   ]
  },
  {
   "cell_type": "code",
   "execution_count": null,
   "metadata": {},
   "outputs": [],
   "source": [
    "# Define a few channel groups of interest and plot the data\n",
    "frontal = [\"E19\", \"E11\", \"E4\", \"E12\", \"E5\"]\n",
    "occipital = [\"E61\", \"E62\", \"E78\", \"E67\", \"E72\", \"E77\"]\n",
    "din = [\"DIN\"]\n",
    "pupil = [\"pupil_left\"]\n",
    "x_pos = [\"xpos_left\"]\n",
    "y_pos = [\"ypos_left\"]\n",
    "\n",
    "scale_dict = dict(eeg=1e-4, eyegaze=30, pupil=30)\n",
    "\n",
    "# picks must be numeric (not string) when passed to `raw.plot(..., order=)`\n",
    "picks_idx = mne.pick_channels(eeg_raw.ch_names, din + frontal + occipital + pupil + x_pos + y_pos, ordered=True)\n",
    "eeg_raw.plot(start=0,duration=4,order=picks_idx, scalings=scale_dict)"
   ]
  },
  {
   "cell_type": "code",
   "execution_count": null,
   "metadata": {},
   "outputs": [],
   "source": [
    "#eeg_raw.first_samp"
   ]
  },
  {
   "cell_type": "code",
   "execution_count": null,
   "metadata": {},
   "outputs": [],
   "source": [
    "#eeg_raw.times[0]"
   ]
  },
  {
   "cell_type": "code",
   "execution_count": null,
   "metadata": {},
   "outputs": [],
   "source": [
    "#eeg_events=[]\n",
    "#eeg_events"
   ]
  },
  {
   "cell_type": "code",
   "execution_count": null,
   "metadata": {},
   "outputs": [],
   "source": [
    "#eeg_event_dict={}\n",
    "#eeg_event_dict"
   ]
  },
  {
   "cell_type": "code",
   "execution_count": null,
   "metadata": {},
   "outputs": [],
   "source": [
    "#eeg_events[:20,:]"
   ]
  },
  {
   "cell_type": "code",
   "execution_count": null,
   "metadata": {},
   "outputs": [],
   "source": [
    "#eeg_events, eeg_event_dict = mne.events_from_annotations(eeg_raw)"
   ]
  },
  {
   "cell_type": "code",
   "execution_count": null,
   "metadata": {},
   "outputs": [],
   "source": [
    "#eeg_events[:,0]=eeg_events[:,0]-eeg_raw.first_samp"
   ]
  },
  {
   "cell_type": "markdown",
   "metadata": {},
   "source": [
    "## Write the raw structure to a BIDS directory in the project root."
   ]
  },
  {
   "cell_type": "code",
   "execution_count": null,
   "metadata": {},
   "outputs": [],
   "source": [
    " # write the BIDS output files\n",
    "# specify power line frequency as required by BIDS\n",
    "eeg_raw.info[\"line_freq\"] = 60\n",
    "eeg_raw.info['device_info']=device_info\n",
    "eeg_raw.info['device_info']['type'] = eeg_raw.info['device_info']['type'].replace(' ', '-')\n",
    "\n",
    "def fillna(raw, fill_val=0):\n",
    "    return mne.io.RawArray(np.nan_to_num(raw.get_data(), nan=fill_val), raw.info)\n",
    "eeg_raw=fillna(eeg_raw,fill_val=0)\n",
    "\n",
    "bids_path = mne_bids.BIDSPath(\n",
    "    subject=subject_id_out, session=session_id, task=task_id_out, run=\"1\", datatype=\"eeg\", root=project_path\n",
    ")\n",
    "\n",
    "print(bids_path)\n",
    "mne_bids.write_raw_bids(\n",
    "    raw=eeg_raw,\n",
    "    bids_path=bids_path,\n",
    "    events=eeg_events,\n",
    "    event_id=eeg_event_dict,\n",
    "    format = \"EDF\",\n",
    "    overwrite=True,\n",
    "    allow_preload=True,\n",
    ")"
   ]
  },
  {
   "cell_type": "markdown",
   "metadata": {},
   "source": [
    "## Read tests..."
   ]
  },
  {
   "cell_type": "code",
   "execution_count": null,
   "metadata": {},
   "outputs": [],
   "source": [
    "#Read test\n",
    "bids_path = mne_bids.BIDSPath(\n",
    "    subject=\"100134F1\", session=\"01\", task=\"VEP\", run=\"1\", datatype=\"eeg\", root=\"/project/def-emayada/q1k/experimental/HSJ/\"\n",
    ")\n",
    "raw = mne_bids.read_raw_bids(bids_path=bids_path)\n"
   ]
  },
  {
   "cell_type": "code",
   "execution_count": null,
   "metadata": {},
   "outputs": [],
   "source": [
    "# peak... at the eeg_raw properties\n",
    "channel_types = raw.get_channel_types()\n",
    "print(\"EEG Channel Types:\", channel_types)\n",
    "print(\"EEG Channel Names:\", raw.info['ch_names'])\n",
    "print(\"EEG sampling rate: \", raw.info[\"sfreq\"])"
   ]
  },
  {
   "cell_type": "code",
   "execution_count": null,
   "metadata": {},
   "outputs": [],
   "source": [
    "# Define a few channel groups of interest and plot the data\n",
    "frontal = [\"E19\", \"E11\", \"E4\", \"E12\", \"E5\"]\n",
    "occipital = [\"E61\", \"E62\", \"E78\", \"E67\", \"E72\", \"E77\"]\n",
    "din = [\"DIN\"]\n",
    "pupil = [\"pupil_left\"]\n",
    "x_pos = [\"xpos_left\"]\n",
    "y_pos = [\"ypos_left\"]\n",
    "\n",
    "scale_dict = dict(eeg=1e-4, eyegaze=30, pupil=30)\n",
    "\n",
    "# picks must be numeric (not string) when passed to `raw.plot(..., order=)`\n",
    "picks_idx = mne.pick_channels(raw.ch_names, din + frontal + occipital + pupil + x_pos + y_pos, ordered=True)\n",
    "raw.plot(start=0,duration=4,order=picks_idx, scalings=scale_dict)"
   ]
  },
  {
   "cell_type": "code",
   "execution_count": null,
   "metadata": {},
   "outputs": [],
   "source": [
    "## Select EEG-only channels\n",
    "#eeg_raw = raw.copy().pick_types(eeg=True)\n",
    "\n",
    "## Select all non-EEG channels\n",
    "#non_eeg_raw = raw.copy().pick_types(stim=True, misc=True)\n"
   ]
  },
  {
   "cell_type": "code",
   "execution_count": null,
   "metadata": {},
   "outputs": [],
   "source": [
    "#end_time = eeg_raw.times[-1]\n",
    "#eeg_raw.crop(tmin=0, tmax=end_time - 2)\n",
    "#non_eeg_raw.crop(tmin=0, tmax=eeg_raw.times[-1])\n",
    "\n",
    "#eeg_raw.add_channels([non_eeg_raw], force_update_info=True)"
   ]
  },
  {
   "cell_type": "code",
   "execution_count": null,
   "metadata": {},
   "outputs": [],
   "source": [
    "## peak... at the eeg_raw properties\n",
    "#channel_types = eeg_raw.get_channel_types()\n",
    "#print(\"EEG Channel Types:\", channel_types)\n",
    "#print(\"EEG Channel Names:\", eeg_raw.info['ch_names'])\n",
    "#print(\"EEG sampling rate: \", eeg_raw.info[\"sfreq\"])"
   ]
  },
  {
   "cell_type": "code",
   "execution_count": null,
   "metadata": {},
   "outputs": [],
   "source": [
    "## peak... at the eeg_raw properties\n",
    "#channel_types = non_eeg_raw.get_channel_types()\n",
    "#print(\"EEG Channel Types:\", channel_types)\n",
    "#print(\"EEG Channel Names:\", non_eeg_raw.info['ch_names'])\n",
    "#print(\"EEG sampling rate: \", non_eeg_raw.info[\"sfreq\"])"
   ]
  },
  {
   "cell_type": "code",
   "execution_count": null,
   "metadata": {},
   "outputs": [],
   "source": [
    "##alt read test\n",
    "#raw = mne.io.read_raw_edf(\"../../sub-100134F1/ses-01/eeg/sub-100134F1_ses-01_task-VEP_run-1_eeg.edf\",misc=['xpos_left', 'ypos_left', 'pupil_left', 'DIN', 'x_head', 'y_head', 'distance'])\n",
    "\n",
    "## Get chan type mapping\n",
    "#types = {\"eyegaze\": [\"xpos_left\", \"ypos_left\", \"xpos_right\", \"ypos_right\"],\n",
    "#         \"pupil\": [\"pupil_left\", \"pupil_right\"],\n",
    "#         \"misc\": [\"x_head\", \"y_head\", \"distance\"]}\n",
    "#chan_type_map = {ch_name: \"eeg\" for ch_name in raw.ch_names if ch_name[0] == \"E\"}\n",
    "#chan_type_map[\"VREF\"] = \"eeg\"\n",
    "#for type_, ch_names in types.items():\n",
    "#    for ch_name in ch_names:\n",
    "#        if ch_name in raw.ch_names:\n",
    "#            chan_type_map[ch_name] = type_\n",
    "#chan_type_map.update({ch_name: \"stim\" for ch_name in raw.ch_names if ch_name not in chan_type_map})\n",
    "\n",
    "#raw.set_channel_types(chan_type_map)"
   ]
  },
  {
   "cell_type": "code",
   "execution_count": null,
   "metadata": {},
   "outputs": [],
   "source": []
  }
 ],
 "metadata": {
  "kernelspec": {
   "display_name": "q1k_env",
   "language": "python",
   "name": "q1k_env"
  },
  "language_info": {
   "codemirror_mode": {
    "name": "ipython",
    "version": 3
   },
   "file_extension": ".py",
   "mimetype": "text/x-python",
   "name": "python",
   "nbconvert_exporter": "python",
   "pygments_lexer": "ipython3",
   "version": "3.11.5"
  }
 },
 "nbformat": 4,
 "nbformat_minor": 4
}
