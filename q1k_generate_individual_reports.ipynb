{
 "cells": [
  {
   "cell_type": "markdown",
   "metadata": {},
   "source": [
    "## Set up the run parameters parameters"
   ]
  },
  {
   "cell_type": "code",
   "execution_count": null,
   "metadata": {
    "tags": [
     "parameters"
    ]
   },
   "outputs": [],
   "source": [
    "###use these parameters for testing this notebook outside of the automated loop of q1k_automated_reports.ipynb\n",
    "#subject_id_in = \"100162_P\"\n",
    "#subject_id_out = \"100162P\"\n",
    "#task_id_in = \"PLR\"\n",
    "#task_id_in_et = \"PLR\" \n",
    "#task_id_out = \"PLR\"\n",
    "#run_id = \"1\"\n",
    "#session_id = \"01\"\n",
    "#project_path = \"/project/def-emayada/q1k/experimental/HSJ/\"\n",
    "#dataset_group = \"experimental\"\n",
    "#site_code = \"HSJ\" #'MHC' or 'HSJ'\n",
    "#et_sync = True\n",
    "#html_figures = True\n",
    "\n",
    "#use these empty parameters when executing this notebook from an automation script.\n",
    "subject_id_in = \"\"\n",
    "subject_id_out = \"\"\n",
    "task_id_in = \"\"\n",
    "task_id_in_et = \"\" \n",
    "ask_id_out = \"\"\n",
    "run_id = \"\"\n",
    "session_id = \"\"\n",
    "project_path = \"\"\n",
    "dataset_group = \"\"\n",
    "site_code = \"\"\n",
    "et_sync = True\n",
    "html_figures = False\n",
    "\n",
    "print('subject_id_in: ' + subject_id_in)\n",
    "print('subject_id_out: ' + subject_id_out)\n",
    "print('task_id_in: ' + task_id_in)\n",
    "print('task_id_in_et: ' + task_id_in_et)\n",
    "print('task_id_out: ' + task_id_out)\n",
    "print('run_id: ' + run_id)\n",
    "print('session_id: ' + session_id)\n",
    "print('project_path: ' + project_path)\n",
    "print('dataset_group: ' + dataset_group)\n",
    "print('site_code: ' + site_code)\n"
   ]
  },
  {
   "cell_type": "code",
   "execution_count": null,
   "metadata": {
    "tags": []
   },
   "outputs": [],
   "source": [
    "# import packages\n",
    "import pandas as pd\n",
    "import numpy as np\n",
    "import os\n",
    "import mne\n",
    "import mne_bids\n",
    "from matplotlib import pyplot as plt\n",
    "import plotly.express as px\n",
    "import plotly.graph_objects as go\n",
    "import plotly.offline as py\n",
    "import plotly.io as pio\n",
    "pio.renderers.default = \"plotly_mimetype+notebook\"\n",
    "import q1k_init_tools as qit\n",
    "import glob\n",
    "import re\n",
    "import warnings\n",
    "warnings.filterwarnings('ignore')\n",
    "import seaborn as sns"
   ]
  },
  {
   "cell_type": "code",
   "execution_count": null,
   "metadata": {
    "tags": []
   },
   "outputs": [],
   "source": [
    "#define the DIN events associated with events of interest based on the task_id..\n",
    "din_str, event_dict_offset = qit.set_din_str(task_id_out)\n",
    "print(\"DIN strings for \" + task_id_out)\n",
    "din_str"
   ]
  },
  {
   "cell_type": "markdown",
   "metadata": {},
   "source": [
    "## Read the EEG file"
   ]
  },
  {
   "cell_type": "code",
   "execution_count": null,
   "metadata": {},
   "outputs": [],
   "source": [
    "subject_id_in"
   ]
  },
  {
   "cell_type": "code",
   "execution_count": null,
   "metadata": {},
   "outputs": [],
   "source": [
    "# generate the input paths\n",
    "session_file_name_eeg, session_file_name_et = qit.generate_session_ids(dataset_group, project_path, site_code, task_id_in, subject_id_in, run_id)"
   ]
  },
  {
   "cell_type": "code",
   "execution_count": null,
   "metadata": {},
   "outputs": [],
   "source": [
    "print(\"EEG session file name: \" + session_file_name_eeg[0])"
   ]
  },
  {
   "cell_type": "code",
   "execution_count": null,
   "metadata": {},
   "outputs": [],
   "source": [
    "if session_file_name_et and session_file_name_et[0]:\n",
    "    print(\"ET session file name: \" + session_file_name_et[0])\n",
    "else:\n",
    "    print(\"Could not find the session ET file.. abandoning ET sync portion of the initiation process.\")\n",
    "    et_sync = False\n",
    "    "
   ]
  },
  {
   "cell_type": "code",
   "execution_count": null,
   "metadata": {},
   "outputs": [],
   "source": [
    "# read the input EEG session\n",
    "print('Reading: ' + session_file_name_eeg[0])\n",
    "eeg_raw = mne.io.read_raw_egi(session_file_name_eeg[0])\n",
    "eeg_raw_fresh=eeg_raw.copy() #make a fresh copy for later\n",
    "device_info=eeg_raw.info['device_info']"
   ]
  },
  {
   "cell_type": "code",
   "execution_count": null,
   "metadata": {},
   "outputs": [],
   "source": [
    "# peak... at the EEG channel types\n",
    "channel_types = eeg_raw.get_channel_types()\n",
    "print(\"EEG Channel Types:\", channel_types)\n",
    "print(\"EEG Channel Names:\", eeg_raw.info['ch_names'])\n"
   ]
  },
  {
   "cell_type": "code",
   "execution_count": null,
   "metadata": {},
   "outputs": [],
   "source": [
    "# show the sensor topography\n",
    "fig = eeg_raw.plot_sensors(show_names=True)"
   ]
  },
  {
   "cell_type": "markdown",
   "metadata": {},
   "source": [
    "## Get and modify the EEG event structures"
   ]
  },
  {
   "cell_type": "code",
   "execution_count": null,
   "metadata": {},
   "outputs": [],
   "source": [
    "# create the EEG event structures\n",
    "eeg_events = mne.find_events(eeg_raw, shortest_event = 1)\n",
    "eeg_event_dict = qit.get_event_dict(eeg_raw, eeg_events, event_dict_offset)"
   ]
  },
  {
   "cell_type": "code",
   "execution_count": null,
   "metadata": {},
   "outputs": [],
   "source": [
    "print('EEG event dict:')\n",
    "eeg_event_dict"
   ]
  },
  {
   "cell_type": "code",
   "execution_count": null,
   "metadata": {},
   "outputs": [],
   "source": [
    "# peak... at the EEG event scatter plot.. event time stamp by label index\n",
    "fig=px.scatter(x=eeg_events[:,0],y=eeg_events[:,2])\n",
    "fig.update_layout(title='Original EEG event times')\n",
    "fig.update_xaxes(title_text='Time of event(ms)')\n",
    "fig.update_yaxes(title_text='Event index')\n",
    "py.iplot(fig)\n",
    "# print the scatterplot to an html file for easy exploration.\n",
    "if html_figures:\n",
    "    fig.write_html(\"html_figures/eeg_event_times.html\")"
   ]
  },
  {
   "cell_type": "code",
   "execution_count": null,
   "metadata": {},
   "outputs": [],
   "source": [
    "if not din_str:\n",
    "    print('Required EEG DIN events are missing... skipping EEG DIN check and DIN distance display')\n",
    "else:\n",
    "    #check that the din_str events exist in the eeg_event_dict..\n",
    "    din_str = qit.din_check(eeg_event_dict, din_str)\n",
    "    #get the distance between the DIN events of interest..\n",
    "    din_diffs, din_diffs_time = qit.get_din_diff(eeg_events, eeg_event_dict, din_str)\n",
    "    #build the figure...\n",
    "    fig=px.scatter(x=din_diffs_time, y=din_diffs)\n",
    "    fig.update_layout(title='Time between EEG DIN events of interest')\n",
    "    fig.update_xaxes(title_text='Time of event(ms)')\n",
    "    fig.update_yaxes(title_text='Inter event interval')\n",
    "    # print the scatterplot to an html file for easy exploration.\n",
    "    if html_figures:\n",
    "        fig.write_html(\"html_figures/eeg_din_diffs.html\")"
   ]
  },
  {
   "cell_type": "code",
   "execution_count": null,
   "metadata": {},
   "outputs": [],
   "source": [
    "if not din_str:\n",
    "    print('Required EEG DIN events are missing... skipping EEG stimulus onset DIN process')\n",
    "else:\n",
    "    # handle task specific EEG event interpretation..\n",
    "    eeg_events, eeg_stims, eeg_iti, eeg_din_offset, eeg_event_dict, new_events = qit.eeg_event_test(eeg_events, eeg_event_dict, din_str, task_name=task_id_out)"
   ]
  },
  {
   "cell_type": "code",
   "execution_count": null,
   "metadata": {},
   "outputs": [],
   "source": [
    "# print some stim event summaries\n",
    "column_values = eeg_events[:, 2]\n",
    "\n",
    "# Get unique values and their counts\n",
    "unique_values, counts = np.unique(column_values, return_counts=True)\n",
    "\n",
    "# Print the counts of each unique value\n",
    "print(\"Counts of each event ID value:\")\n",
    "for value, count in zip(unique_values, counts):\n",
    "    print(f\"Event ID: {value}, Count: {count}\")\n",
    "\n",
    "# Print the event labels\n",
    "print(\"Label\\tValue\")\n",
    "for label, value in eeg_event_dict.items():\n",
    "    print(f\"{label}\\t{value}\")"
   ]
  },
  {
   "cell_type": "code",
   "execution_count": null,
   "metadata": {},
   "outputs": [],
   "source": [
    "# peak... at the EEG event scatter plot.. event time stamp by label index... including new *_d DIN events if generated\n",
    "fig=px.scatter(x=eeg_events[:,0],y=eeg_events[:,2])\n",
    "fig.update_layout(title='DIN updated EEG event times')\n",
    "fig.update_xaxes(title_text='Time of event(ms)')\n",
    "fig.update_yaxes(title_text='Event index')\n",
    "fig.show()\n",
    "if html_figures:\n",
    "    fig.write_html(\"html_figures/eeg_update_event_times.html\")"
   ]
  },
  {
   "cell_type": "code",
   "execution_count": null,
   "metadata": {},
   "outputs": [],
   "source": [
    "if not din_str:\n",
    "    print('Required DIN events are missing... skipping stimulus DIN ITI display')\n",
    "else:\n",
    "    # peak... at the distance between *_d stim DIN events\n",
    "    fig=px.scatter(x=eeg_stims[1:,0],y=eeg_iti)\n",
    "    fig.update_layout(title='Stim DIN event Inter Trial Intervals (ITI)')\n",
    "    fig.update_xaxes(title_text='Time of event(ms)')\n",
    "    fig.update_yaxes(title_text='Stim DIN event ITI (ms)')\n",
    "    fig.show()\n",
    "    if html_figures:\n",
    "        fig.write_html(\"html_figures/eeg_din_iti.html\")"
   ]
  },
  {
   "cell_type": "code",
   "execution_count": null,
   "metadata": {},
   "outputs": [],
   "source": [
    "if not din_str:\n",
    "    print('Required DIN events are missing... skipping stimulus DIN event offset display')\n",
    "else:\n",
    "    # peak... at the distance between stim events and *_d stim DIN events\n",
    "    fig=px.scatter(x=eeg_stims[:,0],y=eeg_din_offset)\n",
    "    fig.update_layout(title='Stim DIN offsets')\n",
    "    fig.update_xaxes(title_text='Time of event(ms)')\n",
    "    fig.update_yaxes(title_text='Stim DIN offset (ms)')\n",
    "    fig.show()\n",
    "    if html_figures:\n",
    "        fig.write_html(\"html_figures/eeg_stim_din_offset.html\")"
   ]
  },
  {
   "cell_type": "markdown",
   "metadata": {},
   "source": [
    "## Read the eye-tracking data"
   ]
  },
  {
   "cell_type": "code",
   "execution_count": null,
   "metadata": {},
   "outputs": [],
   "source": [
    "et_raw, et_raw_df, et_events, et_event_dict = qit.et_read(session_file_name_et[0], blink_interp=False, fill_nans=False, resamp=False)"
   ]
  },
  {
   "cell_type": "code",
   "execution_count": null,
   "metadata": {},
   "outputs": [],
   "source": [
    "if et_sync:\n",
    "    # peak... at the ET channel types\n",
    "    channel_types = et_raw.get_channel_types()\n",
    "    print(\"ET Channel Types:\", channel_types)\n",
    "    print(\"ET Channel Names:\", et_raw.info['ch_names'])\n",
    "else:\n",
    "    print(\"et_sync = False: not printing ET channle types\")"
   ]
  },
  {
   "cell_type": "code",
   "execution_count": null,
   "metadata": {},
   "outputs": [],
   "source": [
    "et_raw.plot(duration=20, scalings=dict(eyegaze=1e2,pupil=1e3))"
   ]
  },
  {
   "cell_type": "markdown",
   "metadata": {},
   "source": [
    "## Handle the Eye-Tracking events"
   ]
  },
  {
   "cell_type": "code",
   "execution_count": null,
   "metadata": {},
   "outputs": [],
   "source": [
    "if et_sync:\n",
    "    print(\"ET event dict:\", et_event_dict)\n",
    "else:\n",
    "    print(\"et_sync = False: not printing ET event dict\")"
   ]
  },
  {
   "cell_type": "code",
   "execution_count": null,
   "metadata": {},
   "outputs": [],
   "source": [
    "if et_sync:\n",
    "    # peak... at the ET event scatter plot.. event time stamp by label index\n",
    "    fig=px.scatter(x=et_events[:,0],y=et_events[:,2])\n",
    "    fig.update_layout(title='Original ET event times')\n",
    "    fig.update_xaxes(title_text='Time of event(ms)')\n",
    "    fig.update_yaxes(title_text='Event index')\n",
    "    py.iplot(fig)\n",
    "    # print the scatterplot to an html file for easy exploration.\n",
    "    if html_figures:\n",
    "        fig.write_html(\"html_figures/et_event_times.html\")\n",
    "else:\n",
    "    print(\"et_sync = False: not plotting the original ET events\")"
   ]
  },
  {
   "cell_type": "code",
   "execution_count": null,
   "metadata": {},
   "outputs": [],
   "source": [
    "if et_sync:\n",
    "    #do event cleaning..\n",
    "    et_event_dict, et_events = qit.et_clean_events(et_event_dict, et_events)\n",
    "    #do task specific event modifications..\n",
    "    et_event_dict, et_events, et_raw_df = qit.et_task_events(et_raw_df,et_event_dict,et_events,task_id_out)\n",
    "    print(\"updated ET event dict:\", et_event_dict)\n",
    "    # Extract the value for 'STIM_d' from the dictionary\n",
    "    stim_d_value = et_event_dict['STIM_d']\n",
    "    # Filter rows where the third column matches the 'STIM_d' value\n",
    "    et_stims = et_events[et_events[:, 2] == stim_d_value]\n",
    "    print('Number of stimulus onset DIN events: ' + str(len(et_stims)))\n",
    "else:\n",
    "    print(\"et_sync = False: not plotting the original ET events\")"
   ]
  },
  {
   "cell_type": "code",
   "execution_count": null,
   "metadata": {},
   "outputs": [],
   "source": [
    "if et_sync:\n",
    "    # peak... at the ET event scatter plot.. event time stamp by label index\n",
    "    fig=px.scatter(x=et_events[:,0],y=et_events[:,2])\n",
    "    fig.update_layout(title='Updated ET event times')\n",
    "    fig.update_xaxes(title_text='Time of event(ms)')\n",
    "    fig.update_yaxes(title_text='Event index')\n",
    "    py.iplot(fig)\n",
    "    # print the scatterplot to an html file for easy exploration.\n",
    "    if html_figures:\n",
    "        fig.write_html(\"html_figures/et_updated_event_times.html\")\n",
    "else:\n",
    "    print(\"et_sync = False: not plotting the updated ET events\")"
   ]
  },
  {
   "cell_type": "markdown",
   "metadata": {},
   "source": [
    "## Examine the syncronization between the EEG and ET events"
   ]
  },
  {
   "cell_type": "code",
   "execution_count": null,
   "metadata": {},
   "outputs": [],
   "source": [
    "if et_sync:\n",
    "    eeg_event_dict, et_event_dict, eeg_events, et_events, eeg_times, et_times = qit.eeg_et_align(\n",
    "        eeg_event_dict, et_event_dict, \n",
    "        eeg_events, et_events, \n",
    "        eeg_stims, et_stims, \n",
    "        eeg_raw.info[\"sfreq\"], et_raw.info[\"sfreq\"])\n",
    "else:\n",
    "    print(\"et_sync = False: not checking eeg_times and et_times alignment\")"
   ]
  },
  {
   "cell_type": "code",
   "execution_count": null,
   "metadata": {},
   "outputs": [],
   "source": [
    "et_event_dict"
   ]
  },
  {
   "cell_type": "code",
   "execution_count": null,
   "metadata": {},
   "outputs": [],
   "source": [
    "if et_sync:\n",
    "    # peak... at the ET event scatter plot.. event time stamp by label index\n",
    "    fig=px.scatter(x=eeg_times,y=et_times)\n",
    "    fig.update_layout(title='EEG by ET stim times')\n",
    "    fig.update_xaxes(title_text='EEG stim times')\n",
    "    fig.update_yaxes(title_text='ET stim times')\n",
    "    py.iplot(fig)\n",
    "    # print the scatterplot to an html file for easy exploration.\n",
    "    if html_figures:\n",
    "        fig.write_html(\"html_figures/eeg_et_times.html\")\n",
    "else:\n",
    "    print(\"et_sync = False: not plotting the EEG by ET event times\")"
   ]
  },
  {
   "cell_type": "code",
   "execution_count": null,
   "metadata": {},
   "outputs": [],
   "source": [
    "if et_sync:\n",
    "    # peak... at the ET event scatter plot.. event time stamp by label index\n",
    "    eeg_et_offset = eeg_times - et_times\n",
    "    fig = px.scatter(y=eeg_et_offset)\n",
    "    fig.update_layout(title='EEG ET stim event offset times')\n",
    "    fig.update_xaxes(title_text='EEG ET stim times')\n",
    "    fig.update_yaxes(title_text='EEG ET stim event offsets')\n",
    "    fig.show()\n",
    "    if html_figures:\n",
    "        fig.write_html(\"html_figures/eeg_et_sync_offsets.html\")\n",
    "else:\n",
    "    print(\"et_sync = False: not plotting the EEG by ET offset times\")"
   ]
  },
  {
   "cell_type": "markdown",
   "metadata": {},
   "source": [
    "## Insert ET signals into the EEG raw object"
   ]
  },
  {
   "cell_type": "code",
   "execution_count": null,
   "metadata": {},
   "outputs": [],
   "source": [
    "# peak... at the eeg_raw properties now that ET signals have been synced..\n",
    "channel_types = eeg_raw.get_channel_types()\n",
    "print(\"EEG Channel Types:\", channel_types)\n",
    "print(\"EEG Channel Names:\", eeg_raw.info['ch_names'])\n",
    "print(\"EEG sampling rate: \", eeg_raw.info[\"sfreq\"])\n",
    "print('EEG event dict:')\n",
    "eeg_event_dict"
   ]
  },
  {
   "cell_type": "markdown",
   "metadata": {},
   "source": [
    "## Write the raw structure to a BIDS directory in the project root."
   ]
  },
  {
   "cell_type": "code",
   "execution_count": null,
   "metadata": {},
   "outputs": [],
   "source": [
    "eeg_bids_path = qit.write_eeg(eeg_raw, \n",
    "              eeg_event_dict, \n",
    "              eeg_events, \n",
    "              subject_id_out, \n",
    "              session_id, \n",
    "              task_id_out, \n",
    "              project_path, \n",
    "              device_info)\n"
   ]
  },
  {
   "cell_type": "code",
   "execution_count": null,
   "metadata": {},
   "outputs": [],
   "source": [
    "et_out_path = qit.write_et(et_raw, et_event_dict, et_events, eeg_bids_path)\n"
   ]
  }
 ],
 "metadata": {
  "kernelspec": {
   "display_name": "q1k_env",
   "language": "python",
   "name": "q1k_env"
  },
  "language_info": {
   "codemirror_mode": {
    "name": "ipython",
    "version": 3
   },
   "file_extension": ".py",
   "mimetype": "text/x-python",
   "name": "python",
   "nbconvert_exporter": "python",
   "pygments_lexer": "ipython3",
   "version": "3.11.5"
  }
 },
 "nbformat": 4,
 "nbformat_minor": 4
}
