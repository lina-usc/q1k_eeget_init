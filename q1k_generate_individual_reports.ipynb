{
 "cells": [
  {
   "cell_type": "markdown",
   "metadata": {},
   "source": [
    "## Data parameters"
   ]
  },
  {
   "cell_type": "code",
   "execution_count": null,
   "metadata": {
    "tags": [
     "parameters"
    ]
   },
   "outputs": [],
   "source": [
    "#use these parameters for testing this notebook outside of the automated loop of q1k_automated_reports.ipynb\n",
    "#subject_id_in = \"10086_F1\"\n",
    "#subject_id_out = \"10086F1\"\n",
    "#task_id_in = \"AS\"\n",
    "#task_id_in_et = \"AS\" \n",
    "#task_id_out = \"AS\"\n",
    "#run_id = \"1\"\n",
    "#session_id = \"01\"\n",
    "#project_path = \"/project/def-emayada/q1k/experimental/hsj/\"\n",
    "#dataset_group = \"experimental\"\n",
    "\n",
    "#use these empty parameters when executing this notebook from an automation script.\n",
    "subject_id_in = \"\"\n",
    "subject_id_out = \"\"\n",
    "task_id_in = \"\"\n",
    "task_id_in_et = \"\" \n",
    "task_id_out = \"\"\n",
    "run_id = \"\"\n",
    "session_id = \"\"\n",
    "project_path = \"\"\n",
    "dataset_group = \"\"\n",
    "\n",
    "print(dataset_group)\n"
   ]
  },
  {
   "cell_type": "code",
   "execution_count": null,
   "metadata": {
    "tags": []
   },
   "outputs": [],
   "source": [
    "# Create the task specific event string list\n",
    "if task_id_out == 'AEP':\n",
    "    event_dict_offset = 1\n",
    "    din_str = ('DIN4','DIN5')\n",
    "if task_id_out == 'AS':\n",
    "    event_dict_offset = 1\n",
    "    din_str = ('DIN2','DIN2')\n",
    "if task_id_out == 'GO':\n",
    "    event_dict_offset = 1\n",
    "    din_str = ('DIN2','DIN3')\n",
    "if task_id_out == 'TO':\n",
    "    event_dict_offset = 1\n",
    "    din_str = ('DIN4','DIN5')\n",
    "if task_id_out == 'VEP':\n",
    "    event_dict_offset = 1\n",
    "    din_str = ('DIN2','DIN3')\n",
    "    \n",
    "print(dataset_group)"
   ]
  },
  {
   "cell_type": "code",
   "execution_count": null,
   "metadata": {
    "tags": []
   },
   "outputs": [],
   "source": [
    "# import packages\n",
    "import pandas as pd\n",
    "import numpy as np\n",
    "import mne\n",
    "import mne_bids\n",
    "from matplotlib import pyplot as plt\n",
    "import plotly.express as px\n",
    "import plotly.graph_objects as go\n",
    "import plotly.offline as py\n",
    "import plotly.io as pio\n",
    "pio.renderers.default = \"plotly_mimetype+notebook\"\n",
    "import q1k_init_tools as qit\n",
    "import glob\n",
    "import warnings\n",
    "warnings.filterwarnings('ignore')\n",
    "import seaborn as sns"
   ]
  },
  {
   "cell_type": "code",
   "execution_count": null,
   "metadata": {},
   "outputs": [],
   "source": [
    "# define the function for generating the input path and file name\n",
    "def generate_session_ids (dataset_group, path, task, subject_id_in,  run_id):\n",
    "    if dataset_group == \"control\": \n",
    "        #session_path_eeg = project_path + 'sourcefiles/' + subject_id + '_' + session_id[1] + '/' + subject_id + '_' + session_id[1] + '_eeg/'\n",
    "        session_path_eeg = project_path + 'sourcefiles/' + subject_id_in + '/' + subject_id_in + '_eeg/'\n",
    "        #session_file_name_eeg = glob.glob(session_path_eeg + '*_' + task_id_in + '_*.mff')\n",
    "        session_file_name_eeg = glob.glob(session_path_eeg + '*_' + task_id_in + '_*.mff')\n",
    "\n",
    "        #session_path_et = project_path + 'sourcefiles/' + subject_id + '_' + session_id[1] + '/' + subject_id + '_' + session_id[1] + '_et/'\n",
    "        #session_file_name_et = glob.glob(session_path_et + '*_' + task_id_in_et + '_*.asc')\n",
    "\n",
    "    elif dataset_group == \"experimental\":\n",
    "        #session_path_eeg = project_path + '/sourcedata/eeg/Q1K_HSJ_' + subject_id + '_' + session_id +'/'\n",
    "        session_path_eeg = project_path + '/sourcedata/eeg/Q1K_HSJ_' + subject_id_in + '/'\n",
    "        session_file_name_eeg = glob.glob(session_path_eeg + '*' + task_id_in + '*.mff')\n",
    "        print(session_path_eeg)\n",
    "        print(session_file_name_eeg)\n",
    "\n",
    "        #session_path_et = project_path + 'sourcedata/' + subject_id + '_' + session_id[1] + '/' + subject_id + '_'  + '_et/'\n",
    "        session_path_et = project_path + 'sourcedata/' + subject_id_in + '/' + subject_id_in + '_'  + '_et/'\n",
    "        session_file_name_et = glob.glob(session_path_et + '*_' + task_id_in_et + '_*.asc')\n",
    "    return session_file_name_eeg, session_file_name_et"
   ]
  },
  {
   "cell_type": "code",
   "execution_count": null,
   "metadata": {},
   "outputs": [],
   "source": [
    "subject_id_in"
   ]
  },
  {
   "cell_type": "code",
   "execution_count": null,
   "metadata": {},
   "outputs": [],
   "source": [
    "# generate the input paths\n",
    "session_file_name_eeg, session_file_name_et = generate_session_ids(dataset_group, project_path, task_id_in, subject_id_in, run_id)"
   ]
  },
  {
   "cell_type": "code",
   "execution_count": null,
   "metadata": {},
   "outputs": [],
   "source": [
    "# read the input EEG session\n",
    "print('Reading: ' + session_file_name_eeg[0])\n",
    "\n",
    "# Read the EEG data\n",
    "raw = mne.io.read_raw_egi(session_file_name_eeg[0])"
   ]
  },
  {
   "cell_type": "code",
   "execution_count": null,
   "metadata": {},
   "outputs": [],
   "source": [
    "# create the EEG event structures\n",
    "eeg_events = mne.find_events(raw, shortest_event = 1)\n",
    "#eeg_events = mne.find_events(raw, stim_channel=\"STI 014\", shortest_event = 1)\n",
    "\n",
    "eeg_event_dict = qit.get_event_dict(raw, eeg_events, event_dict_offset)"
   ]
  },
  {
   "cell_type": "code",
   "execution_count": null,
   "metadata": {},
   "outputs": [],
   "source": [
    "eeg_event_dict"
   ]
  },
  {
   "cell_type": "code",
   "execution_count": null,
   "metadata": {},
   "outputs": [],
   "source": [
    "# this is a patch that will become obsolete... accounting for missing DIN types in the recording..\n",
    "exists_in_dict = [din in eeg_event_dict for din in din_str]\n",
    "print(din_str)\n",
    "print(exists_in_dict)\n",
    "if all(exists_in_dict):\n",
    "    print(\"Both strings exist in eeg_event_dict.\")\n",
    "elif any(exists_in_dict):\n",
    "    existing_string = din_str[exists_in_dict.index(True)]\n",
    "    din_str = (existing_string, existing_string)\n",
    "    print(f\"Only one string exists. din_str updated to: {din_str}\")\n",
    "else:\n",
    "    print(\"Neither string exists in eeg_event_dict.\")\n",
    "print(din_str)"
   ]
  },
  {
   "cell_type": "code",
   "execution_count": null,
   "metadata": {},
   "outputs": [],
   "source": [
    "# peak... at the EEG event scatter plot.. event time stamp by label index\n",
    "fig=px.scatter(x=eeg_events[:,0],y=eeg_events[:,2])\n",
    "fig.update_layout(title='Original event times')\n",
    "fig.update_xaxes(title_text='Time of event(ms)')\n",
    "fig.update_yaxes(title_text='Event index')\n",
    "py.iplot(fig)\n"
   ]
  },
  {
   "cell_type": "code",
   "execution_count": null,
   "metadata": {},
   "outputs": [],
   "source": [
    "# print the scatterplot to an html file for easy exploration.\n",
    "fig.write_html(\"event_test.html\")"
   ]
  },
  {
   "cell_type": "code",
   "execution_count": null,
   "metadata": {},
   "outputs": [],
   "source": [
    "# get the distance between DIN events of interest\n",
    "din_diffs = []\n",
    "din_diffs_time = []\n",
    "last_din = 0\n",
    "# Iterate over the array\n",
    "for row in eeg_events:\n",
    "    # Check if the third column corresponds to e1 or e2 values\n",
    "    if row[2] == eeg_event_dict[din_str[0]] or row[2] == eeg_event_dict[din_str[0]]:\n",
    "        # Calculate the sequential difference between values in the first column\n",
    "        if last_din > 0:\n",
    "            din_diffs.append(row[0] - last_din)\n",
    "            din_diffs_time.append(row[0])\n",
    "            last_din = row[0]\n",
    "        else:\n",
    "            last_din = row[0]\n",
    "            #print(last_din)\n"
   ]
  },
  {
   "cell_type": "code",
   "execution_count": null,
   "metadata": {},
   "outputs": [],
   "source": [
    "# peak... at distances between DIN events of interest\n",
    "fig=px.scatter(x=din_diffs_time, y=din_diffs)\n",
    "fig.update_layout(title='Time between DIN events')\n",
    "fig.update_xaxes(title_text='Time of event(ms)')\n",
    "fig.update_yaxes(title_text='Inter event interval')"
   ]
  },
  {
   "cell_type": "code",
   "execution_count": null,
   "metadata": {},
   "outputs": [],
   "source": [
    "# handle task specific EEG event interpretation..\n",
    "eeg_events, eeg_stims, eeg_iti, eeg_din_offset, eeg_event_dict, new_events = qit.eeg_event_test(eeg_events, eeg_event_dict, din_str, task_name=task_id_out)"
   ]
  },
  {
   "cell_type": "code",
   "execution_count": null,
   "metadata": {},
   "outputs": [],
   "source": [
    "# print some stim DIN event summaries\n",
    "column_values = eeg_events[:, 2]\n",
    "\n",
    "# Get unique values and their counts\n",
    "unique_values, counts = np.unique(column_values, return_counts=True)\n",
    "\n",
    "# Print the counts of each unique value\n",
    "print(\"Counts of each event ID value:\")\n",
    "for value, count in zip(unique_values, counts):\n",
    "    print(f\"Event ID: {value}, Count: {count}\")\n",
    "\n",
    "# Print the event labels\n",
    "print(\"Label\\tValue\")\n",
    "for label, value in eeg_event_dict.items():\n",
    "    print(f\"{label}\\t{value}\")"
   ]
  },
  {
   "cell_type": "code",
   "execution_count": null,
   "metadata": {},
   "outputs": [],
   "source": [
    "# peak... at the EEG event scatter plot.. event time stamp by label index... including new *_d DIN events\n",
    "fig=px.scatter(x=eeg_events[:,0],y=eeg_events[:,2])\n",
    "fig.update_layout(title='DIN updated event times')\n",
    "fig.update_xaxes(title_text='Time of event(ms)')\n",
    "fig.update_yaxes(title_text='Event index')\n",
    "\n",
    "fig.show()"
   ]
  },
  {
   "cell_type": "code",
   "execution_count": null,
   "metadata": {},
   "outputs": [],
   "source": [
    "# peak... at the distance between *_d stim DIN events\n",
    "fig=px.scatter(x=eeg_stims[1:,0],y=eeg_iti)\n",
    "fig.update_layout(title='Stim DIN event Inter Trial Intervals (ITI)')\n",
    "fig.update_xaxes(title_text='Time of event(ms)')\n",
    "fig.update_yaxes(title_text='Stim DIBN event ITI (ms)')\n",
    "fig.show()"
   ]
  },
  {
   "cell_type": "code",
   "execution_count": null,
   "metadata": {},
   "outputs": [],
   "source": [
    "# peak... at the distance between stim events and *_d stim DIN events\n",
    "fig=px.scatter(x=eeg_stims[:,0],y=eeg_din_offset)\n",
    "fig.update_layout(title='Stim DIN offsets')\n",
    "fig.update_xaxes(title_text='Time of event(ms)')\n",
    "fig.update_yaxes(title_text='Stim DIN offset (ms)')\n",
    "\n",
    "fig.show()"
   ]
  },
  {
   "cell_type": "code",
   "execution_count": null,
   "metadata": {},
   "outputs": [],
   "source": [
    "# show the snsor topography\n",
    "fig = raw.plot_sensors(show_names=True)"
   ]
  },
  {
   "cell_type": "code",
   "execution_count": null,
   "metadata": {},
   "outputs": [],
   "source": [
    "# print the updated event dictionary\n",
    "eeg_event_dict"
   ]
  },
  {
   "cell_type": "code",
   "execution_count": null,
   "metadata": {},
   "outputs": [],
   "source": [
    "# write the BIDS output files\n",
    "# specify power line frequency as required by BIDS\n",
    "raw.info[\"line_freq\"] = 60\n",
    "raw.info['device_info']['type'] = raw.info['device_info']['type'].replace(' ', '-')\n",
    "\n",
    "bids_path = mne_bids.BIDSPath(\n",
    "    subject=subject_id_out, session=session_id, task=task_id_out, run=\"1\", datatype=\"eeg\", root=project_path\n",
    ")\n",
    "\n",
    "print(bids_path)\n",
    "mne_bids.write_raw_bids(\n",
    "    raw=raw,\n",
    "    bids_path=bids_path,\n",
    "    events=eeg_events,\n",
    "    event_id=eeg_event_dict,\n",
    "    format = \"EDF\",\n",
    "    overwrite=True,\n",
    ")"
   ]
  },
  {
   "cell_type": "code",
   "execution_count": null,
   "metadata": {},
   "outputs": [],
   "source": [
    "# write the last saved verion of this notebook\n",
    "#!jupyter nbconvert --output {\"./../session_reports/\" + bids_path.basename + \".html\"} --no-input --to html q1k_eeget_init.ipynb\n",
    "#!jupyter nbconvert --output {\"./../session_reports/\"  + task_id_in + \"/\" + subject_id + \".html\"} --TagRemovePreprocessor.remove_all_outputs_tags='{'exclude'}' --no-input --to html q1k_generate_individual_reports.ipynb\n",
    "#f'Total of {len(outlier_accum)} outliers out of {all_accounts.size} accounts'"
   ]
  }
 ],
 "metadata": {
  "kernelspec": {
   "display_name": "q1k_init",
   "language": "python",
   "name": "q1k_init"
  },
  "language_info": {
   "codemirror_mode": {
    "name": "ipython",
    "version": 3
   },
   "file_extension": ".py",
   "mimetype": "text/x-python",
   "name": "python",
   "nbconvert_exporter": "python",
   "pygments_lexer": "ipython3",
   "version": "3.11.5"
  }
 },
 "nbformat": 4,
 "nbformat_minor": 4
}
