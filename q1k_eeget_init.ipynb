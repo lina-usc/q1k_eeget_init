{
 "cells": [
  {
   "cell_type": "code",
   "execution_count": 1,
   "metadata": {},
   "outputs": [],
   "source": [
    "import pandas as pd\n",
    "import numpy as np\n",
    "import mne\n",
    "import mne_bids\n",
    "from matplotlib import pyplot as plt\n",
    "import plotly.express as px\n",
    "import plotly.graph_objects as go\n",
    "import plotly.offline as py\n",
    "import plotly.io as pio\n",
    "pio.renderers.default = \"plotly_mimetype+notebook\"\n",
    "\n",
    "import q1k_init_tools as qit\n",
    "\n",
    "import glob\n",
    "\n",
    "import warnings\n",
    "warnings.filterwarnings('ignore')\n"
   ]
  },
  {
   "cell_type": "code",
   "execution_count": null,
   "metadata": {},
   "outputs": [],
   "source": [
    "project_path = \"/home/james/q1k/pilot/q1k-external-pilot/\"\n",
    "task_id_in = \"ap\"\n",
    "task_id_in_et = \"ap\"\n",
    "task_id_out = \"as\"\n",
    "subject_id = '002'\n",
    "session_id = '01'\n",
    "run_id = '1'\n",
    "\n",
    "session_path_eeg = project_path + 'sourcefiles/' + subject_id + '_' + session_id[1] + '/' + subject_id + '_' + session_id[1] + '_eeg/'\n",
    "session_file_name_eeg = glob.glob(session_path_eeg + '*_' + task_id_in + '_*.mff')\n",
    "\n",
    "session_path_et = project_path + 'sourcefiles/' + subject_id + '_' + session_id[1] + '/' + subject_id + '_' + session_id[1] + '_et/'\n",
    "session_file_name_et = glob.glob(session_path_et + '*_' + task_id_in_et + '_*.asc')\n",
    "\n",
    "\n",
    "if task_id_out == 'ap':\n",
    "    event_dict_offset = 1\n",
    "if task_id_out == 'as':\n",
    "    event_dict_offset = 1\n",
    "    din_str = ('DIN2','DIN2')\n",
    "if task_id_out == 'go':\n",
    "    event_dict_offset = 1\n",
    "    din_str = ('DIN2','DIN2')\n",
    "if task_id_out == 'mn':\n",
    "    event_dict_offset = 1\n",
    "if task_id_out == 'vp':\n",
    "    event_dict_offset = 0\n",
    "    din_str = ('DIN2','DIN3')"
   ]
  },
  {
   "cell_type": "code",
   "execution_count": null,
   "metadata": {},
   "outputs": [],
   "source": [
    "print(session_path_eeg)\n",
    "print(session_file_name_eeg[0])\n",
    "raw = mne.io.read_raw_egi(session_file_name_eeg[0])"
   ]
  },
  {
   "cell_type": "code",
   "execution_count": null,
   "metadata": {},
   "outputs": [],
   "source": [
    "eeg_events = mne.find_events(raw, shortest_event = 1)\n",
    "#eeg_events = mne.find_events(raw, stim_channel=\"STI 014\", shortest_event = 1)\n",
    "eeg_event_dict = qit.get_event_dict(raw, eeg_events, event_dict_offset)"
   ]
  },
  {
   "cell_type": "code",
   "execution_count": null,
   "metadata": {},
   "outputs": [],
   "source": [
    "eeg_event_dict"
   ]
  },
  {
   "cell_type": "code",
   "execution_count": null,
   "metadata": {},
   "outputs": [],
   "source": [
    "# peak... at the EEG event scatter plot.. event time stamp by label index\n",
    "fig=px.scatter(x=eeg_events[:,0],y=eeg_events[:,2])\n",
    "fig.update_layout(title='Original event times')\n",
    "fig.update_xaxes(title_text='Time of event(ms)')\n",
    "fig.update_yaxes(title_text='Event index')\n",
    "py.iplot(fig)\n"
   ]
  },
  {
   "cell_type": "code",
   "execution_count": null,
   "metadata": {},
   "outputs": [],
   "source": [
    "din_diffs = []\n",
    "din_diffs_time = []\n",
    "last_din = 0\n",
    "# Iterate over the array\n",
    "for row in eeg_events:\n",
    "    # Check if the third column corresponds to e1 or e2 values\n",
    "    if row[2] == eeg_event_dict[din_str[0]] or row[2] == eeg_event_dict[din_str[0]]:\n",
    "        # Calculate the sequential difference between values in the first column\n",
    "        if last_din > 0:\n",
    "            din_diffs.append(row[0] - last_din)\n",
    "            din_diffs_time.append(row[0])\n",
    "            last_din = row[0]\n",
    "        else:\n",
    "            last_din = row[0]\n",
    "            #print(last_din)\n"
   ]
  },
  {
   "cell_type": "code",
   "execution_count": null,
   "metadata": {},
   "outputs": [],
   "source": [
    "# peak... at the EEG event scatter plot.. event time stamp by label index\n",
    "fig=px.scatter(x=din_diffs_time, y=din_diffs)\n",
    "fig.update_layout(title='Time between DIN events')\n",
    "fig.update_xaxes(title_text='Time of event(ms)')\n",
    "fig.update_yaxes(title_text='Inter event interval')"
   ]
  },
  {
   "cell_type": "code",
   "execution_count": null,
   "metadata": {},
   "outputs": [],
   "source": [
    "# handle task specific EEG event interpretation..\n",
    "eeg_events, eeg_stims, eeg_iti, eeg_din_offset, eeg_event_dict, new_events = qit.eeg_event_test(eeg_events, eeg_event_dict, din_str, task_name=task_id_out)"
   ]
  },
  {
   "cell_type": "code",
   "execution_count": null,
   "metadata": {},
   "outputs": [],
   "source": [
    "column_values = eeg_events[:, 2]\n",
    "\n",
    "# Get unique values and their counts\n",
    "unique_values, counts = np.unique(column_values, return_counts=True)\n",
    "\n",
    "# Print the counts of each unique value\n",
    "print(\"Counts of each event ID value:\")\n",
    "for value, count in zip(unique_values, counts):\n",
    "    print(f\"Event ID: {value}, Count: {count}\")\n",
    "\n",
    "# Print the event labels\n",
    "print(\"Label\\tValue\")\n",
    "for label, value in eeg_event_dict.items():\n",
    "    print(f\"{label}\\t{value}\")"
   ]
  },
  {
   "cell_type": "code",
   "execution_count": null,
   "metadata": {},
   "outputs": [],
   "source": [
    "# peak... at the EEG event scatter plot.. event time stamp by label index\n",
    "fig=px.scatter(x=eeg_events[:,0],y=eeg_events[:,2])\n",
    "fig.update_layout(title='DIN updated event times')\n",
    "fig.update_xaxes(title_text='Time of event(ms)')\n",
    "fig.update_yaxes(title_text='Event index')\n",
    "\n",
    "fig.show()"
   ]
  },
  {
   "cell_type": "code",
   "execution_count": null,
   "metadata": {},
   "outputs": [],
   "source": [
    "# peak... at the EEG event scatter plot.. event time stamp by label index\n",
    "fig=px.scatter(x=eeg_stims[1:,0],y=eeg_iti)\n",
    "fig.update_layout(title='Stim DIN event Inter Trial Intervals (ITI)')\n",
    "fig.update_xaxes(title_text='Time of event(ms)')\n",
    "fig.update_yaxes(title_text='Stim DIBN event ITI (ms)')\n",
    "fig.show()"
   ]
  },
  {
   "cell_type": "code",
   "execution_count": null,
   "metadata": {},
   "outputs": [],
   "source": [
    "# peak... at the EEG event scatter plot.. event time stamp by label index\n",
    "fig=px.scatter(x=eeg_stims[:,0],y=eeg_din_offset)\n",
    "fig.update_layout(title='Stim DIN offsets')\n",
    "fig.update_xaxes(title_text='Time of event(ms)')\n",
    "fig.update_yaxes(title_text='Stim DIN offset (ms)')\n",
    "\n",
    "fig.show()"
   ]
  },
  {
   "cell_type": "code",
   "execution_count": null,
   "metadata": {},
   "outputs": [],
   "source": [
    "fig = raw.plot_sensors(show_names=True)"
   ]
  },
  {
   "cell_type": "code",
   "execution_count": null,
   "metadata": {},
   "outputs": [],
   "source": [
    "# specify power line frequency as required by BIDS\n",
    "raw.info[\"line_freq\"] = 60\n",
    "\n",
    "bids_path = mne_bids.BIDSPath(\n",
    "    subject=subject_id, session=session_id, task=task_id_out, run=\"1\", datatype=\"eeg\", root=project_path\n",
    ")\n",
    "\n",
    "print(bids_path)\n",
    "mne_bids.write_raw_bids(\n",
    "    raw=raw,\n",
    "    bids_path=bids_path,\n",
    "    events=eeg_events,\n",
    "    event_id=eeg_event_dict,\n",
    "    format = \"EDF\",\n",
    "    overwrite=True,\n",
    ")"
   ]
  },
  {
   "cell_type": "markdown",
   "metadata": {},
   "source": [
    "# The following code blocks are for eyelink syncing..."
   ]
  },
  {
   "cell_type": "code",
   "execution_count": null,
   "metadata": {},
   "outputs": [],
   "source": [
    "#read the asc eye tracking data and convert it to a dataframe...\n",
    "et_raw = mne.io.read_raw_eyelink(session_file_name_et[0])\n",
    "et_raw_fresh=et_raw.copy() #make a fresh copy for later\n",
    "et_raw_df = et_raw.to_data_frame()\n",
    "\n",
    "#get the events from the annotation structure\n",
    "et_annot_events, et_annot_event_dict = mne.events_from_annotations(et_raw)\n"
   ]
  },
  {
   "cell_type": "code",
   "execution_count": null,
   "metadata": {},
   "outputs": [],
   "source": [
    "et_annot_event_dict"
   ]
  },
  {
   "cell_type": "code",
   "execution_count": null,
   "metadata": {},
   "outputs": [],
   "source": [
    "# peak... at the ET event scatter plot.. event time stamp by label index\n",
    "fig=px.scatter(x=et_annot_events[:,0],y=et_annot_events[:,2])\n",
    "fig.update_layout(title='Original event times')\n",
    "fig.update_xaxes(title_text='Time of event(ms)')\n",
    "fig.update_yaxes(title_text='Event index')\n",
    "py.iplot(fig)"
   ]
  },
  {
   "cell_type": "code",
   "execution_count": null,
   "metadata": {},
   "outputs": [],
   "source": [
    "#handle task specific ET event interpretation..\n",
    "et_event_raw_df, et_events, et_stims, et_iti = qit.et_event_test(et_raw_df,task_name=task_id_in_et)"
   ]
  },
  {
   "cell_type": "code",
   "execution_count": null,
   "metadata": {},
   "outputs": [],
   "source": [
    "# peak... at the EEG event scatter plot.. event time stamp by label index\n",
    "fig=px.scatter(x=et_stims.index[1:],y=et_iti[1:])\n",
    "fig.update_layout(title='ET Stim DIN event Inter Trial Intervals (ITI)')\n",
    "fig.update_xaxes(title_text='Time of event(ms)')\n",
    "fig.update_yaxes(title_text='Stim DIBN event ITI (ms)')\n",
    "fig.show()"
   ]
  },
  {
   "cell_type": "code",
   "execution_count": null,
   "metadata": {},
   "outputs": [],
   "source": [
    "# peak... at the time offset between the matched events in the EEG and ET recording \n",
    "qit.show_sync_offsets(eeg_stims,et_stims)"
   ]
  },
  {
   "cell_type": "code",
   "execution_count": null,
   "metadata": {},
   "outputs": [],
   "source": [
    "#!jupyter nbconvert --output {\"session_reports/\" + bids_path.basename + \".html\"} --no-input --to html q1k_eeget_init.ipynb\n",
    "!jupyter nbconvert --output {\"session_reports/\" + bids_path.basename + \".html\"} --TagRemovePreprocessor.remove_all_outputs_tags='{\"exclude\"}' --no-input --to html q1k_eeget_init.ipynb\n",
    "#f'Total of {len(outlier_accum)} outliers out of {all_accounts.size} accounts'"
   ]
  },
  {
   "cell_type": "code",
   "execution_count": null,
   "metadata": {},
   "outputs": [],
   "source": []
  }
 ],
 "metadata": {
  "kernelspec": {
   "display_name": "env",
   "language": "python",
   "name": "python3"
  },
  "language_info": {
   "codemirror_mode": {
    "name": "ipython",
    "version": 3
   },
   "file_extension": ".py",
   "mimetype": "text/x-python",
   "name": "python",
   "nbconvert_exporter": "python",
   "pygments_lexer": "ipython3",
   "version": "3.8.10"
  },
  "orig_nbformat": 4
 },
 "nbformat": 4,
 "nbformat_minor": 2
}
